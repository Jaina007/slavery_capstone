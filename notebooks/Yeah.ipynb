{
 "cells": [
  {
   "cell_type": "code",
   "execution_count": 3,
   "id": "a263a247-32a5-4a9c-8cbf-760ac1b6e7ee",
   "metadata": {},
   "outputs": [],
   "source": [
    "import pandas as pd\n",
    "import os"
   ]
  },
  {
   "cell_type": "markdown",
   "id": "dd298b3f-2833-499c-887b-f051ab7d3ef4",
   "metadata": {},
   "source": [
    "### Slavery data PreProcessing"
   ]
  },
  {
   "cell_type": "code",
   "execution_count": 4,
   "id": "b4b5b940-c641-4f2b-8acd-10461cf5bf09",
   "metadata": {},
   "outputs": [],
   "source": [
    "slavery_2016 = pd.read_csv(\"../datasets/slavery_2016.csv\")[[\"Country\", \"POPULATION\", \"ESTIMATED NUMBER IN MODERN SLAVERY\"]]\n",
    "slavery_2018 = pd.read_csv(\"../datasets/slavery_2018.csv\")[[\"Country \", \"Est. prevalence of population in modern slavery (victims per 1,000 population)\"]]\n",
    "slavery_2023 = pd.read_csv(\"../datasets/slavery_2023.csv\")[[\"Country\", \"Estimated prevalence of modern slavery per 1,000 population\"]]"
   ]
  },
  {
   "cell_type": "code",
   "execution_count": 5,
   "id": "05abff8e-f4f1-441b-ae32-8ed3f1d45f4b",
   "metadata": {},
   "outputs": [],
   "source": [
    "slavery_2016[\"Estimated prevalence of modern slavery per 1,000 population\"] = (slavery_2016[\"ESTIMATED NUMBER IN MODERN SLAVERY\"]/slavery_2016[\"POPULATION\"])*1000\n",
    "slavery_2016 = slavery_2016[[\"Country\", \"Estimated prevalence of modern slavery per 1,000 population\"]]"
   ]
  },
  {
   "cell_type": "code",
   "execution_count": 6,
   "id": "2357c2e4-e3df-4ac1-a023-c6bcf5fee71e",
   "metadata": {},
   "outputs": [],
   "source": [
    "slavery_2016.columns = [\"Country\", \"2016\"]\n",
    "slavery_2018.columns = [\"Country\", \"2018\"]\n",
    "slavery_2023.columns = [\"Country\", \"2023\"]"
   ]
  },
  {
   "cell_type": "code",
   "execution_count": 7,
   "id": "ded3ad70-93bc-4c86-b3ca-00321aa47cb5",
   "metadata": {},
   "outputs": [],
   "source": [
    "# Find common entries in the common column  \n",
    "# NOTE: I HAVE GIVEN MORE IMPORTANCE TO COUNTRIES IN THE SLAVERY DATASET. (Since slavery data is the main comparing data here)\n",
    "common_entries = set(slavery_2016['Country']).intersection(slavery_2018['Country']).intersection(slavery_2023['Country'])"
   ]
  },
  {
   "cell_type": "code",
   "execution_count": 8,
   "id": "45dd64ad-3ec9-4d6a-b270-07599869d858",
   "metadata": {},
   "outputs": [],
   "source": [
    "# Filter the DataFrames to keep only rows with common entries\n",
    "slavery_2016_filtered = slavery_2016[slavery_2016['Country'].isin(common_entries)]\n",
    "slavery_2018_filtered = slavery_2018[slavery_2018['Country'].isin(common_entries)]\n",
    "slavery_2023_filtered = slavery_2023[slavery_2023['Country'].isin(common_entries)]"
   ]
  },
  {
   "cell_type": "code",
   "execution_count": 9,
   "id": "45c0e59a-5a82-4255-a297-f6df9e8229e1",
   "metadata": {},
   "outputs": [],
   "source": [
    "# Merge the filtered DataFrames on the common column\n",
    "temp1 = pd.merge(slavery_2016_filtered, slavery_2018_filtered, on='Country', how='inner')\n",
    "slavery = pd.merge(temp1, slavery_2023_filtered, on='Country', how='inner')"
   ]
  },
  {
   "cell_type": "code",
   "execution_count": 10,
   "id": "6be2deab-8822-4bfa-8ba5-28f6834d190d",
   "metadata": {},
   "outputs": [
    {
     "data": {
      "text/html": [
       "<div>\n",
       "<style scoped>\n",
       "    .dataframe tbody tr th:only-of-type {\n",
       "        vertical-align: middle;\n",
       "    }\n",
       "\n",
       "    .dataframe tbody tr th {\n",
       "        vertical-align: top;\n",
       "    }\n",
       "\n",
       "    .dataframe thead th {\n",
       "        text-align: right;\n",
       "    }\n",
       "</style>\n",
       "<table border=\"1\" class=\"dataframe\">\n",
       "  <thead>\n",
       "    <tr style=\"text-align: right;\">\n",
       "      <th></th>\n",
       "      <th>Country</th>\n",
       "      <th>2016</th>\n",
       "      <th>2018</th>\n",
       "      <th>2023</th>\n",
       "    </tr>\n",
       "  </thead>\n",
       "  <tbody>\n",
       "    <tr>\n",
       "      <th>0</th>\n",
       "      <td>Afghanistan</td>\n",
       "      <td>11.301380</td>\n",
       "      <td>22.2</td>\n",
       "      <td>13.0</td>\n",
       "    </tr>\n",
       "    <tr>\n",
       "      <th>1</th>\n",
       "      <td>Albania</td>\n",
       "      <td>2.959394</td>\n",
       "      <td>6.9</td>\n",
       "      <td>11.8</td>\n",
       "    </tr>\n",
       "    <tr>\n",
       "      <th>2</th>\n",
       "      <td>Algeria</td>\n",
       "      <td>6.259611</td>\n",
       "      <td>2.7</td>\n",
       "      <td>1.9</td>\n",
       "    </tr>\n",
       "    <tr>\n",
       "      <th>3</th>\n",
       "      <td>Angola</td>\n",
       "      <td>6.382384</td>\n",
       "      <td>7.2</td>\n",
       "      <td>4.1</td>\n",
       "    </tr>\n",
       "    <tr>\n",
       "      <th>4</th>\n",
       "      <td>Armenia</td>\n",
       "      <td>4.671968</td>\n",
       "      <td>5.3</td>\n",
       "      <td>8.9</td>\n",
       "    </tr>\n",
       "  </tbody>\n",
       "</table>\n",
       "</div>"
      ],
      "text/plain": [
       "       Country       2016  2018  2023\n",
       "0  Afghanistan  11.301380  22.2  13.0\n",
       "1      Albania   2.959394   6.9  11.8\n",
       "2      Algeria   6.259611   2.7   1.9\n",
       "3       Angola   6.382384   7.2   4.1\n",
       "4      Armenia   4.671968   5.3   8.9"
      ]
     },
     "execution_count": 10,
     "metadata": {},
     "output_type": "execute_result"
    }
   ],
   "source": [
    "slavery.head()"
   ]
  },
  {
   "cell_type": "code",
   "execution_count": 11,
   "id": "675dc138-9b6e-41b2-b1a7-7e9e78243dfe",
   "metadata": {},
   "outputs": [
    {
     "name": "stdout",
     "output_type": "stream",
     "text": [
      "<class 'pandas.core.frame.DataFrame'>\n",
      "RangeIndex: 145 entries, 0 to 144\n",
      "Data columns (total 4 columns):\n",
      " #   Column   Non-Null Count  Dtype  \n",
      "---  ------   --------------  -----  \n",
      " 0   Country  145 non-null    object \n",
      " 1   2016     145 non-null    float64\n",
      " 2   2018     145 non-null    float64\n",
      " 3   2023     139 non-null    float64\n",
      "dtypes: float64(3), object(1)\n",
      "memory usage: 4.7+ KB\n"
     ]
    }
   ],
   "source": [
    "slavery.info()"
   ]
  },
  {
   "cell_type": "code",
   "execution_count": 12,
   "id": "01eb88e8-6bad-4140-82d9-1755d716afd1",
   "metadata": {},
   "outputs": [
    {
     "data": {
      "text/html": [
       "<div>\n",
       "<style scoped>\n",
       "    .dataframe tbody tr th:only-of-type {\n",
       "        vertical-align: middle;\n",
       "    }\n",
       "\n",
       "    .dataframe tbody tr th {\n",
       "        vertical-align: top;\n",
       "    }\n",
       "\n",
       "    .dataframe thead th {\n",
       "        text-align: right;\n",
       "    }\n",
       "</style>\n",
       "<table border=\"1\" class=\"dataframe\">\n",
       "  <thead>\n",
       "    <tr style=\"text-align: right;\">\n",
       "      <th></th>\n",
       "      <th>Country</th>\n",
       "      <th>2016</th>\n",
       "      <th>2018</th>\n",
       "      <th>2023</th>\n",
       "    </tr>\n",
       "  </thead>\n",
       "  <tbody>\n",
       "    <tr>\n",
       "      <th>20</th>\n",
       "      <td>Cape Verde</td>\n",
       "      <td>4.606526</td>\n",
       "      <td>4.1</td>\n",
       "      <td>NaN</td>\n",
       "    </tr>\n",
       "    <tr>\n",
       "      <th>44</th>\n",
       "      <td>Iceland</td>\n",
       "      <td>1.208459</td>\n",
       "      <td>2.1</td>\n",
       "      <td>NaN</td>\n",
       "    </tr>\n",
       "    <tr>\n",
       "      <th>64</th>\n",
       "      <td>Luxembourg</td>\n",
       "      <td>0.177936</td>\n",
       "      <td>1.5</td>\n",
       "      <td>NaN</td>\n",
       "    </tr>\n",
       "    <tr>\n",
       "      <th>72</th>\n",
       "      <td>Montenegro</td>\n",
       "      <td>4.019293</td>\n",
       "      <td>5.9</td>\n",
       "      <td>NaN</td>\n",
       "    </tr>\n",
       "    <tr>\n",
       "      <th>122</th>\n",
       "      <td>Barbados</td>\n",
       "      <td>2.112676</td>\n",
       "      <td>2.7</td>\n",
       "      <td>NaN</td>\n",
       "    </tr>\n",
       "    <tr>\n",
       "      <th>142</th>\n",
       "      <td>Suriname</td>\n",
       "      <td>4.604052</td>\n",
       "      <td>2.3</td>\n",
       "      <td>NaN</td>\n",
       "    </tr>\n",
       "  </tbody>\n",
       "</table>\n",
       "</div>"
      ],
      "text/plain": [
       "        Country      2016  2018  2023\n",
       "20   Cape Verde  4.606526   4.1   NaN\n",
       "44      Iceland  1.208459   2.1   NaN\n",
       "64   Luxembourg  0.177936   1.5   NaN\n",
       "72   Montenegro  4.019293   5.9   NaN\n",
       "122    Barbados  2.112676   2.7   NaN\n",
       "142    Suriname  4.604052   2.3   NaN"
      ]
     },
     "execution_count": 12,
     "metadata": {},
     "output_type": "execute_result"
    }
   ],
   "source": [
    "slavery[slavery.isnull().any(axis=1)]"
   ]
  },
  {
   "cell_type": "markdown",
   "id": "6542e9dd-7847-46ef-b86d-674f6fbe3dcb",
   "metadata": {
    "jp-MarkdownHeadingCollapsed": true
   },
   "source": [
    "### Other parameters data preprocessing"
   ]
  },
  {
   "cell_type": "code",
   "execution_count": 13,
   "id": "cf84572b-0837-4906-8744-d39689c9d348",
   "metadata": {},
   "outputs": [],
   "source": [
    "corruption = pd.read_csv(\"../Datasets/corruption.csv\")\n",
    "democracy = pd.read_csv(\"../Datasets/democracy.csv\")\n",
    "gdppercapita = pd.read_csv(\"../Datasets/gdppercapita.csv\")\n",
    "lfpr = pd.read_csv(\"../Datasets/lfpr.csv\")\n",
    "migration = pd.read_csv(\"../Datasets/migration.csv\")"
   ]
  },
  {
   "cell_type": "code",
   "execution_count": 14,
   "id": "53fd7d8d-5303-4c98-b6ea-1aef863d27a3",
   "metadata": {},
   "outputs": [],
   "source": [
    "lfpr = lfpr[lfpr['Type_LFPR'].isin(['Total'])]  # removing male, female entries\n",
    "lfpr = lfpr[[\"Country\", \"Year\", \"LFPR\"]]"
   ]
  },
  {
   "cell_type": "code",
   "execution_count": 15,
   "id": "f7187cd2-fac5-4a77-aa37-d0b447a6d764",
   "metadata": {},
   "outputs": [
    {
     "name": "stdout",
     "output_type": "stream",
     "text": [
      "<class 'pandas.core.frame.DataFrame'>\n",
      "Index: 6079 entries, 2 to 18172\n",
      "Data columns (total 3 columns):\n",
      " #   Column   Non-Null Count  Dtype  \n",
      "---  ------   --------------  -----  \n",
      " 0   Country  6079 non-null   object \n",
      " 1   Year     6079 non-null   int64  \n",
      " 2   LFPR     6079 non-null   float64\n",
      "dtypes: float64(1), int64(1), object(1)\n",
      "memory usage: 190.0+ KB\n"
     ]
    }
   ],
   "source": [
    "lfpr.info()"
   ]
  },
  {
   "cell_type": "code",
   "execution_count": 16,
   "id": "e39067c6-ff13-44dc-b2e0-38949438d975",
   "metadata": {},
   "outputs": [],
   "source": [
    "years = [2016, 2018, 2023]"
   ]
  },
  {
   "cell_type": "code",
   "execution_count": 17,
   "id": "0a6efb4f-bd34-4d94-a85d-b3ea31ec11d7",
   "metadata": {},
   "outputs": [],
   "source": [
    "corruption = corruption[corruption['Year'].isin(years)]\n",
    "democracy = democracy[democracy['Year'].isin(years)]\n",
    "gdppercapita = gdppercapita[gdppercapita['Year'].isin(years)]\n",
    "lfpr = lfpr[lfpr['Year'].isin(years)]\n",
    "migration = migration[migration['Year'].isin(years)]"
   ]
  },
  {
   "cell_type": "code",
   "execution_count": 18,
   "id": "4933686d-1862-447b-98b0-498f608e1c0f",
   "metadata": {},
   "outputs": [],
   "source": [
    "# Find common entries in the common column\n",
    "# common_entries = set(corruption['Country']).intersection(democracy['Country']).intersection(gdppercapita['Country']).intersection(lfpr['Country']).intersection(migration['Country'])"
   ]
  },
  {
   "cell_type": "code",
   "execution_count": 19,
   "id": "e4065d8b-0f3c-4163-9894-31542540568a",
   "metadata": {},
   "outputs": [],
   "source": [
    "# Filter the DataFrames to keep only rows with common countries\n",
    "corruption_filtered = corruption[corruption['Country'].isin(common_entries)]\n",
    "democracy_filtered = democracy[democracy['Country'].isin(common_entries)]\n",
    "gdppercapita_filtered = gdppercapita[gdppercapita['Country'].isin(common_entries)]\n",
    "lfpr_filtered = lfpr[lfpr['Country'].isin(common_entries)]\n",
    "migration_filtered = migration[migration['Country'].isin(common_entries)]"
   ]
  },
  {
   "cell_type": "code",
   "execution_count": 20,
   "id": "a1099286-5cbb-4246-adf6-db4595c1fa2d",
   "metadata": {},
   "outputs": [],
   "source": [
    "# Create a complete DataFrame with all combinations of Country and Year\n",
    "all_combinations = pd.DataFrame([(country, year) for country in common_entries for year in years], columns=['Country', 'Year'])"
   ]
  },
  {
   "cell_type": "code",
   "execution_count": 21,
   "id": "960d190d-69e4-4849-b032-757ef21ec43c",
   "metadata": {},
   "outputs": [
    {
     "name": "stdout",
     "output_type": "stream",
     "text": [
      "<class 'pandas.core.frame.DataFrame'>\n",
      "RangeIndex: 435 entries, 0 to 434\n",
      "Data columns (total 2 columns):\n",
      " #   Column   Non-Null Count  Dtype \n",
      "---  ------   --------------  ----- \n",
      " 0   Country  435 non-null    object\n",
      " 1   Year     435 non-null    int64 \n",
      "dtypes: int64(1), object(1)\n",
      "memory usage: 6.9+ KB\n"
     ]
    }
   ],
   "source": [
    "all_combinations.info()"
   ]
  },
  {
   "cell_type": "code",
   "execution_count": 22,
   "id": "4f569d80-95ac-49a4-bcec-3b1a9319b181",
   "metadata": {},
   "outputs": [],
   "source": [
    "# Merge each DataFrame with the complete combinations to fill missing rows with NaN\n",
    "corruption_complete = pd.merge(all_combinations, corruption_filtered, on=['Country', 'Year'], how='left')\n",
    "democracy_complete = pd.merge(all_combinations, democracy_filtered, on=['Country', 'Year'], how='left')\n",
    "gdppercapita_complete = pd.merge(all_combinations, gdppercapita_filtered, on=['Country', 'Year'], how='left')\n",
    "lfpr_complete = pd.merge(all_combinations, lfpr_filtered, on=['Country', 'Year'], how='left')\n",
    "migration_complete = pd.merge(all_combinations, migration_filtered, on=['Country', 'Year'], how='left')"
   ]
  },
  {
   "cell_type": "code",
   "execution_count": 23,
   "id": "e6349f3e-104c-43e4-a594-ab9d16b7bfe3",
   "metadata": {},
   "outputs": [],
   "source": [
    "# Merge the filtered DataFrames on the common column\n",
    "temp2 = pd.merge(corruption_complete, democracy_complete, on=['Country', 'Year'], how='inner')\n",
    "temp3 = pd.merge(temp2, gdppercapita_complete, on=['Country', 'Year'], how='inner')\n",
    "temp4 = pd.merge(temp3, lfpr_complete, on=['Country', 'Year'], how='inner')\n",
    "comparing_data = pd.merge(temp4, migration_complete, on=['Country', 'Year'], how='inner')"
   ]
  },
  {
   "cell_type": "code",
   "execution_count": 24,
   "id": "11dd5dff-80bd-45f0-a281-756403ba1be9",
   "metadata": {},
   "outputs": [
    {
     "data": {
      "text/html": [
       "<div>\n",
       "<style scoped>\n",
       "    .dataframe tbody tr th:only-of-type {\n",
       "        vertical-align: middle;\n",
       "    }\n",
       "\n",
       "    .dataframe tbody tr th {\n",
       "        vertical-align: top;\n",
       "    }\n",
       "\n",
       "    .dataframe thead th {\n",
       "        text-align: right;\n",
       "    }\n",
       "</style>\n",
       "<table border=\"1\" class=\"dataframe\">\n",
       "  <thead>\n",
       "    <tr style=\"text-align: right;\">\n",
       "      <th></th>\n",
       "      <th>Country</th>\n",
       "      <th>Year</th>\n",
       "      <th>Corruption</th>\n",
       "      <th>Democracy score</th>\n",
       "      <th>GDP per capita</th>\n",
       "      <th>LFPR</th>\n",
       "      <th>Migration</th>\n",
       "    </tr>\n",
       "  </thead>\n",
       "  <tbody>\n",
       "    <tr>\n",
       "      <th>0</th>\n",
       "      <td>Pakistan</td>\n",
       "      <td>2016</td>\n",
       "      <td>32.0</td>\n",
       "      <td>4.33</td>\n",
       "      <td>4746.7180</td>\n",
       "      <td>53.389</td>\n",
       "      <td>-2290411.0</td>\n",
       "    </tr>\n",
       "    <tr>\n",
       "      <th>1</th>\n",
       "      <td>Pakistan</td>\n",
       "      <td>2018</td>\n",
       "      <td>33.0</td>\n",
       "      <td>4.17</td>\n",
       "      <td>5113.4340</td>\n",
       "      <td>52.689</td>\n",
       "      <td>-1309609.0</td>\n",
       "    </tr>\n",
       "    <tr>\n",
       "      <th>2</th>\n",
       "      <td>Pakistan</td>\n",
       "      <td>2023</td>\n",
       "      <td>29.0</td>\n",
       "      <td>3.25</td>\n",
       "      <td>NaN</td>\n",
       "      <td>NaN</td>\n",
       "      <td>-165988.0</td>\n",
       "    </tr>\n",
       "    <tr>\n",
       "      <th>3</th>\n",
       "      <td>Haiti</td>\n",
       "      <td>2016</td>\n",
       "      <td>20.0</td>\n",
       "      <td>4.02</td>\n",
       "      <td>3165.2957</td>\n",
       "      <td>67.149</td>\n",
       "      <td>-33902.0</td>\n",
       "    </tr>\n",
       "    <tr>\n",
       "      <th>4</th>\n",
       "      <td>Haiti</td>\n",
       "      <td>2018</td>\n",
       "      <td>20.0</td>\n",
       "      <td>4.91</td>\n",
       "      <td>3209.4297</td>\n",
       "      <td>67.254</td>\n",
       "      <td>-35007.0</td>\n",
       "    </tr>\n",
       "  </tbody>\n",
       "</table>\n",
       "</div>"
      ],
      "text/plain": [
       "    Country  Year  Corruption  Democracy score  GDP per capita    LFPR  \\\n",
       "0  Pakistan  2016        32.0             4.33       4746.7180  53.389   \n",
       "1  Pakistan  2018        33.0             4.17       5113.4340  52.689   \n",
       "2  Pakistan  2023        29.0             3.25             NaN     NaN   \n",
       "3     Haiti  2016        20.0             4.02       3165.2957  67.149   \n",
       "4     Haiti  2018        20.0             4.91       3209.4297  67.254   \n",
       "\n",
       "   Migration  \n",
       "0 -2290411.0  \n",
       "1 -1309609.0  \n",
       "2  -165988.0  \n",
       "3   -33902.0  \n",
       "4   -35007.0  "
      ]
     },
     "execution_count": 24,
     "metadata": {},
     "output_type": "execute_result"
    }
   ],
   "source": [
    "comparing_data.head()"
   ]
  },
  {
   "cell_type": "code",
   "execution_count": 25,
   "id": "9c214f60-dd2f-44ba-aa1a-dba48d9b3efc",
   "metadata": {},
   "outputs": [
    {
     "data": {
      "text/html": [
       "<div>\n",
       "<style scoped>\n",
       "    .dataframe tbody tr th:only-of-type {\n",
       "        vertical-align: middle;\n",
       "    }\n",
       "\n",
       "    .dataframe tbody tr th {\n",
       "        vertical-align: top;\n",
       "    }\n",
       "\n",
       "    .dataframe thead th {\n",
       "        text-align: right;\n",
       "    }\n",
       "</style>\n",
       "<table border=\"1\" class=\"dataframe\">\n",
       "  <thead>\n",
       "    <tr style=\"text-align: right;\">\n",
       "      <th></th>\n",
       "      <th>Country</th>\n",
       "      <th>Year</th>\n",
       "      <th>Corruption</th>\n",
       "      <th>Democracy score</th>\n",
       "      <th>GDP per capita</th>\n",
       "      <th>LFPR</th>\n",
       "      <th>Migration</th>\n",
       "    </tr>\n",
       "  </thead>\n",
       "  <tbody>\n",
       "    <tr>\n",
       "      <th>0</th>\n",
       "      <td>Pakistan</td>\n",
       "      <td>2016</td>\n",
       "      <td>32.0</td>\n",
       "      <td>4.33</td>\n",
       "      <td>4746.7180</td>\n",
       "      <td>53.389</td>\n",
       "      <td>-2290411.0</td>\n",
       "    </tr>\n",
       "    <tr>\n",
       "      <th>1</th>\n",
       "      <td>Pakistan</td>\n",
       "      <td>2018</td>\n",
       "      <td>33.0</td>\n",
       "      <td>4.17</td>\n",
       "      <td>5113.4340</td>\n",
       "      <td>52.689</td>\n",
       "      <td>-1309609.0</td>\n",
       "    </tr>\n",
       "    <tr>\n",
       "      <th>2</th>\n",
       "      <td>Pakistan</td>\n",
       "      <td>2023</td>\n",
       "      <td>29.0</td>\n",
       "      <td>3.25</td>\n",
       "      <td>NaN</td>\n",
       "      <td>NaN</td>\n",
       "      <td>-165988.0</td>\n",
       "    </tr>\n",
       "    <tr>\n",
       "      <th>3</th>\n",
       "      <td>Haiti</td>\n",
       "      <td>2016</td>\n",
       "      <td>20.0</td>\n",
       "      <td>4.02</td>\n",
       "      <td>3165.2957</td>\n",
       "      <td>67.149</td>\n",
       "      <td>-33902.0</td>\n",
       "    </tr>\n",
       "    <tr>\n",
       "      <th>4</th>\n",
       "      <td>Haiti</td>\n",
       "      <td>2018</td>\n",
       "      <td>20.0</td>\n",
       "      <td>4.91</td>\n",
       "      <td>3209.4297</td>\n",
       "      <td>67.254</td>\n",
       "      <td>-35007.0</td>\n",
       "    </tr>\n",
       "  </tbody>\n",
       "</table>\n",
       "</div>"
      ],
      "text/plain": [
       "    Country  Year  Corruption  Democracy score  GDP per capita    LFPR  \\\n",
       "0  Pakistan  2016        32.0             4.33       4746.7180  53.389   \n",
       "1  Pakistan  2018        33.0             4.17       5113.4340  52.689   \n",
       "2  Pakistan  2023        29.0             3.25             NaN     NaN   \n",
       "3     Haiti  2016        20.0             4.02       3165.2957  67.149   \n",
       "4     Haiti  2018        20.0             4.91       3209.4297  67.254   \n",
       "\n",
       "   Migration  \n",
       "0 -2290411.0  \n",
       "1 -1309609.0  \n",
       "2  -165988.0  \n",
       "3   -33902.0  \n",
       "4   -35007.0  "
      ]
     },
     "execution_count": 25,
     "metadata": {},
     "output_type": "execute_result"
    }
   ],
   "source": [
    "comparing_data.head()"
   ]
  },
  {
   "cell_type": "code",
   "execution_count": 26,
   "id": "aff92c7b-60ea-4829-a153-dbb4feee11e9",
   "metadata": {},
   "outputs": [
    {
     "data": {
      "text/html": [
       "<div>\n",
       "<style scoped>\n",
       "    .dataframe tbody tr th:only-of-type {\n",
       "        vertical-align: middle;\n",
       "    }\n",
       "\n",
       "    .dataframe tbody tr th {\n",
       "        vertical-align: top;\n",
       "    }\n",
       "\n",
       "    .dataframe thead th {\n",
       "        text-align: right;\n",
       "    }\n",
       "</style>\n",
       "<table border=\"1\" class=\"dataframe\">\n",
       "  <thead>\n",
       "    <tr style=\"text-align: right;\">\n",
       "      <th></th>\n",
       "      <th>Country</th>\n",
       "      <th>Year</th>\n",
       "      <th>Corruption</th>\n",
       "      <th>Democracy score</th>\n",
       "      <th>GDP per capita</th>\n",
       "      <th>LFPR</th>\n",
       "      <th>Migration</th>\n",
       "    </tr>\n",
       "  </thead>\n",
       "  <tbody>\n",
       "    <tr>\n",
       "      <th>2</th>\n",
       "      <td>Pakistan</td>\n",
       "      <td>2023</td>\n",
       "      <td>29.0</td>\n",
       "      <td>3.25</td>\n",
       "      <td>NaN</td>\n",
       "      <td>NaN</td>\n",
       "      <td>-165988.0</td>\n",
       "    </tr>\n",
       "    <tr>\n",
       "      <th>5</th>\n",
       "      <td>Haiti</td>\n",
       "      <td>2023</td>\n",
       "      <td>17.0</td>\n",
       "      <td>2.81</td>\n",
       "      <td>NaN</td>\n",
       "      <td>NaN</td>\n",
       "      <td>-31811.0</td>\n",
       "    </tr>\n",
       "    <tr>\n",
       "      <th>6</th>\n",
       "      <td>Egypt</td>\n",
       "      <td>2016</td>\n",
       "      <td>34.0</td>\n",
       "      <td>3.31</td>\n",
       "      <td>10765.829</td>\n",
       "      <td>NaN</td>\n",
       "      <td>NaN</td>\n",
       "    </tr>\n",
       "    <tr>\n",
       "      <th>7</th>\n",
       "      <td>Egypt</td>\n",
       "      <td>2018</td>\n",
       "      <td>35.0</td>\n",
       "      <td>3.36</td>\n",
       "      <td>11363.318</td>\n",
       "      <td>NaN</td>\n",
       "      <td>NaN</td>\n",
       "    </tr>\n",
       "    <tr>\n",
       "      <th>8</th>\n",
       "      <td>Egypt</td>\n",
       "      <td>2023</td>\n",
       "      <td>35.0</td>\n",
       "      <td>2.93</td>\n",
       "      <td>NaN</td>\n",
       "      <td>NaN</td>\n",
       "      <td>NaN</td>\n",
       "    </tr>\n",
       "    <tr>\n",
       "      <th>...</th>\n",
       "      <td>...</td>\n",
       "      <td>...</td>\n",
       "      <td>...</td>\n",
       "      <td>...</td>\n",
       "      <td>...</td>\n",
       "      <td>...</td>\n",
       "      <td>...</td>\n",
       "    </tr>\n",
       "    <tr>\n",
       "      <th>422</th>\n",
       "      <td>Cuba</td>\n",
       "      <td>2023</td>\n",
       "      <td>42.0</td>\n",
       "      <td>2.65</td>\n",
       "      <td>NaN</td>\n",
       "      <td>NaN</td>\n",
       "      <td>-6000.0</td>\n",
       "    </tr>\n",
       "    <tr>\n",
       "      <th>425</th>\n",
       "      <td>Malawi</td>\n",
       "      <td>2023</td>\n",
       "      <td>34.0</td>\n",
       "      <td>5.85</td>\n",
       "      <td>NaN</td>\n",
       "      <td>NaN</td>\n",
       "      <td>-6000.0</td>\n",
       "    </tr>\n",
       "    <tr>\n",
       "      <th>428</th>\n",
       "      <td>Australia</td>\n",
       "      <td>2023</td>\n",
       "      <td>75.0</td>\n",
       "      <td>8.66</td>\n",
       "      <td>NaN</td>\n",
       "      <td>NaN</td>\n",
       "      <td>139991.0</td>\n",
       "    </tr>\n",
       "    <tr>\n",
       "      <th>431</th>\n",
       "      <td>Netherlands</td>\n",
       "      <td>2023</td>\n",
       "      <td>79.0</td>\n",
       "      <td>9.00</td>\n",
       "      <td>NaN</td>\n",
       "      <td>NaN</td>\n",
       "      <td>29998.0</td>\n",
       "    </tr>\n",
       "    <tr>\n",
       "      <th>434</th>\n",
       "      <td>Ireland</td>\n",
       "      <td>2023</td>\n",
       "      <td>77.0</td>\n",
       "      <td>9.19</td>\n",
       "      <td>NaN</td>\n",
       "      <td>NaN</td>\n",
       "      <td>9999.0</td>\n",
       "    </tr>\n",
       "  </tbody>\n",
       "</table>\n",
       "<p>172 rows × 7 columns</p>\n",
       "</div>"
      ],
      "text/plain": [
       "         Country  Year  Corruption  Democracy score  GDP per capita  LFPR  \\\n",
       "2       Pakistan  2023        29.0             3.25             NaN   NaN   \n",
       "5          Haiti  2023        17.0             2.81             NaN   NaN   \n",
       "6          Egypt  2016        34.0             3.31       10765.829   NaN   \n",
       "7          Egypt  2018        35.0             3.36       11363.318   NaN   \n",
       "8          Egypt  2023        35.0             2.93             NaN   NaN   \n",
       "..           ...   ...         ...              ...             ...   ...   \n",
       "422         Cuba  2023        42.0             2.65             NaN   NaN   \n",
       "425       Malawi  2023        34.0             5.85             NaN   NaN   \n",
       "428    Australia  2023        75.0             8.66             NaN   NaN   \n",
       "431  Netherlands  2023        79.0             9.00             NaN   NaN   \n",
       "434      Ireland  2023        77.0             9.19             NaN   NaN   \n",
       "\n",
       "     Migration  \n",
       "2    -165988.0  \n",
       "5     -31811.0  \n",
       "6          NaN  \n",
       "7          NaN  \n",
       "8          NaN  \n",
       "..         ...  \n",
       "422    -6000.0  \n",
       "425    -6000.0  \n",
       "428   139991.0  \n",
       "431    29998.0  \n",
       "434     9999.0  \n",
       "\n",
       "[172 rows x 7 columns]"
      ]
     },
     "execution_count": 26,
     "metadata": {},
     "output_type": "execute_result"
    }
   ],
   "source": [
    "comparing_data[comparing_data.isnull().any(axis=1)]"
   ]
  },
  {
   "cell_type": "markdown",
   "id": "0175fa39-74a5-4d3f-b84d-02ecf96ed3a4",
   "metadata": {},
   "source": [
    "### lfpr and slavery preprocess"
   ]
  },
  {
   "cell_type": "code",
   "execution_count": 27,
   "id": "c576ade5-8880-4701-a3b1-c44b58dbc3f7",
   "metadata": {},
   "outputs": [],
   "source": [
    "lfpr = pd.read_csv(\"../Datasets/lfpr.csv\")"
   ]
  },
  {
   "cell_type": "code",
   "execution_count": 28,
   "id": "d66de24f-0e85-47b2-b027-f5ce5598909f",
   "metadata": {},
   "outputs": [],
   "source": [
    "lfpr = lfpr[lfpr['Type_LFPR'].isin(['Total'])]  # removing male, female entries\n",
    "lfpr = lfpr[[\"Country\", \"Year\", \"LFPR\"]]"
   ]
  },
  {
   "cell_type": "code",
   "execution_count": 29,
   "id": "505f8bed-cf59-4892-826f-afd1f51e255a",
   "metadata": {},
   "outputs": [],
   "source": [
    "lfpr = lfpr[lfpr['Year'].isin([2016, 2018])]"
   ]
  },
  {
   "cell_type": "code",
   "execution_count": 30,
   "id": "024411c0-745a-4451-ae9a-2913682ff5a1",
   "metadata": {},
   "outputs": [],
   "source": [
    "common_lfpr_slavery = set(slavery['Country']).intersection(lfpr['Country'])"
   ]
  },
  {
   "cell_type": "code",
   "execution_count": 31,
   "id": "32cd00e7-ffa6-4af0-b15d-88c74701b8ce",
   "metadata": {},
   "outputs": [],
   "source": [
    "# Filter the DataFrames to keep only rows with common entries\n",
    "slavery_filtered = slavery[slavery['Country'].isin(common_lfpr_slavery)]\n",
    "lfpr_filtered = lfpr[lfpr['Country'].isin(common_lfpr_slavery)]"
   ]
  },
  {
   "cell_type": "code",
   "execution_count": 32,
   "id": "a13bd1ba-bdca-4e29-86e6-71d1e73f0d2d",
   "metadata": {},
   "outputs": [],
   "source": [
    "# Pivot the DataFrame\n",
    "lfpr_pivot = lfpr_filtered.pivot(index='Country', columns='Year', values='LFPR').reset_index()\n",
    "\n",
    "# Rename the columns for clarity\n",
    "lfpr_pivot.columns.name = None  # Remove the columns' name\n",
    "lfpr_pivot.columns = ['Country', 2016, 2018]"
   ]
  },
  {
   "cell_type": "code",
   "execution_count": 33,
   "id": "b21773c2-cb2d-432a-a5e3-40d6cd3c3637",
   "metadata": {},
   "outputs": [],
   "source": [
    "slavery_reduced = slavery_filtered[[\"Country\", \"2016\", \"2018\"]]\n",
    "slavery_reduced.columns = [\"Country\", 2016, 2018]"
   ]
  },
  {
   "cell_type": "code",
   "execution_count": 34,
   "id": "a29fba2c-5ad6-48f5-a561-06dcd5d1f15f",
   "metadata": {},
   "outputs": [],
   "source": [
    "slavery_reduced = slavery_reduced.sort_values(by='Country')\n",
    "lfpr_pivot = lfpr_pivot.sort_values(by='Country')"
   ]
  },
  {
   "cell_type": "code",
   "execution_count": 35,
   "id": "0edc3d64-c293-4ca1-94ce-2ca3197ddf32",
   "metadata": {},
   "outputs": [
    {
     "name": "stdout",
     "output_type": "stream",
     "text": [
      "<class 'pandas.core.frame.DataFrame'>\n",
      "Index: 138 entries, 0 to 120\n",
      "Data columns (total 3 columns):\n",
      " #   Column   Non-Null Count  Dtype  \n",
      "---  ------   --------------  -----  \n",
      " 0   Country  138 non-null    object \n",
      " 1   2016     138 non-null    float64\n",
      " 2   2018     138 non-null    float64\n",
      "dtypes: float64(2), object(1)\n",
      "memory usage: 4.3+ KB\n"
     ]
    }
   ],
   "source": [
    "slavery_reduced.info()"
   ]
  },
  {
   "cell_type": "code",
   "execution_count": 36,
   "id": "045482c8-4612-4cfc-826d-0c20eb0d1258",
   "metadata": {},
   "outputs": [
    {
     "name": "stdout",
     "output_type": "stream",
     "text": [
      "<class 'pandas.core.frame.DataFrame'>\n",
      "RangeIndex: 138 entries, 0 to 137\n",
      "Data columns (total 3 columns):\n",
      " #   Column   Non-Null Count  Dtype  \n",
      "---  ------   --------------  -----  \n",
      " 0   Country  138 non-null    object \n",
      " 1   2016     138 non-null    float64\n",
      " 2   2018     138 non-null    float64\n",
      "dtypes: float64(2), object(1)\n",
      "memory usage: 3.4+ KB\n"
     ]
    }
   ],
   "source": [
    "lfpr_pivot.info()"
   ]
  },
  {
   "cell_type": "code",
   "execution_count": 37,
   "id": "84933211-18a1-4024-9b8a-483efc6ad051",
   "metadata": {},
   "outputs": [],
   "source": [
    "# Standardize Data\n",
    "from sklearn.preprocessing import StandardScaler"
   ]
  },
  {
   "cell_type": "code",
   "execution_count": 38,
   "id": "8a0ac3d1-efb5-4bc9-92ba-75f8cd386fc4",
   "metadata": {},
   "outputs": [],
   "source": [
    "value_columns = [2016, 2018]\n",
    "scaler = StandardScaler()\n",
    "\n",
    "# Z-score normalization\n",
    "lfpr_pivot.loc[:, value_columns] = scaler.fit_transform(lfpr_pivot[value_columns])\n",
    "slavery_reduced.loc[:, value_columns] = scaler.fit_transform(slavery_reduced[value_columns])"
   ]
  },
  {
   "cell_type": "code",
   "execution_count": 39,
   "id": "cbc9c07c-bc9b-4223-9a38-c070157900c3",
   "metadata": {},
   "outputs": [
    {
     "data": {
      "text/html": [
       "<div>\n",
       "<style scoped>\n",
       "    .dataframe tbody tr th:only-of-type {\n",
       "        vertical-align: middle;\n",
       "    }\n",
       "\n",
       "    .dataframe tbody tr th {\n",
       "        vertical-align: top;\n",
       "    }\n",
       "\n",
       "    .dataframe thead th {\n",
       "        text-align: right;\n",
       "    }\n",
       "</style>\n",
       "<table border=\"1\" class=\"dataframe\">\n",
       "  <thead>\n",
       "    <tr style=\"text-align: right;\">\n",
       "      <th></th>\n",
       "      <th>Country</th>\n",
       "      <th>2016</th>\n",
       "      <th>2018</th>\n",
       "    </tr>\n",
       "  </thead>\n",
       "  <tbody>\n",
       "    <tr>\n",
       "      <th>0</th>\n",
       "      <td>Afghanistan</td>\n",
       "      <td>1.425598</td>\n",
       "      <td>1.786060</td>\n",
       "    </tr>\n",
       "    <tr>\n",
       "      <th>1</th>\n",
       "      <td>Albania</td>\n",
       "      <td>-0.479608</td>\n",
       "      <td>0.101637</td>\n",
       "    </tr>\n",
       "    <tr>\n",
       "      <th>2</th>\n",
       "      <td>Algeria</td>\n",
       "      <td>0.274121</td>\n",
       "      <td>-0.360754</td>\n",
       "    </tr>\n",
       "    <tr>\n",
       "      <th>3</th>\n",
       "      <td>Angola</td>\n",
       "      <td>0.302161</td>\n",
       "      <td>0.134665</td>\n",
       "    </tr>\n",
       "    <tr>\n",
       "      <th>121</th>\n",
       "      <td>Argentina</td>\n",
       "      <td>-0.232309</td>\n",
       "      <td>-0.514885</td>\n",
       "    </tr>\n",
       "  </tbody>\n",
       "</table>\n",
       "</div>"
      ],
      "text/plain": [
       "         Country      2016      2018\n",
       "0    Afghanistan  1.425598  1.786060\n",
       "1        Albania -0.479608  0.101637\n",
       "2        Algeria  0.274121 -0.360754\n",
       "3         Angola  0.302161  0.134665\n",
       "121    Argentina -0.232309 -0.514885"
      ]
     },
     "execution_count": 39,
     "metadata": {},
     "output_type": "execute_result"
    }
   ],
   "source": [
    "slavery_reduced.head()"
   ]
  },
  {
   "cell_type": "code",
   "execution_count": 40,
   "id": "4aabc2b9-e497-41ae-9fcb-3c9b351fccd1",
   "metadata": {},
   "outputs": [
    {
     "data": {
      "text/html": [
       "<div>\n",
       "<style scoped>\n",
       "    .dataframe tbody tr th:only-of-type {\n",
       "        vertical-align: middle;\n",
       "    }\n",
       "\n",
       "    .dataframe tbody tr th {\n",
       "        vertical-align: top;\n",
       "    }\n",
       "\n",
       "    .dataframe thead th {\n",
       "        text-align: right;\n",
       "    }\n",
       "</style>\n",
       "<table border=\"1\" class=\"dataframe\">\n",
       "  <thead>\n",
       "    <tr style=\"text-align: right;\">\n",
       "      <th></th>\n",
       "      <th>Country</th>\n",
       "      <th>2016</th>\n",
       "      <th>2018</th>\n",
       "    </tr>\n",
       "  </thead>\n",
       "  <tbody>\n",
       "    <tr>\n",
       "      <th>0</th>\n",
       "      <td>Afghanistan</td>\n",
       "      <td>-1.692985</td>\n",
       "      <td>-1.829335</td>\n",
       "    </tr>\n",
       "    <tr>\n",
       "      <th>1</th>\n",
       "      <td>Albania</td>\n",
       "      <td>0.005041</td>\n",
       "      <td>0.172467</td>\n",
       "    </tr>\n",
       "    <tr>\n",
       "      <th>2</th>\n",
       "      <td>Algeria</td>\n",
       "      <td>-2.010203</td>\n",
       "      <td>-1.972802</td>\n",
       "    </tr>\n",
       "    <tr>\n",
       "      <th>3</th>\n",
       "      <td>Angola</td>\n",
       "      <td>0.899857</td>\n",
       "      <td>0.811514</td>\n",
       "    </tr>\n",
       "    <tr>\n",
       "      <th>4</th>\n",
       "      <td>Argentina</td>\n",
       "      <td>-0.021815</td>\n",
       "      <td>0.024332</td>\n",
       "    </tr>\n",
       "  </tbody>\n",
       "</table>\n",
       "</div>"
      ],
      "text/plain": [
       "       Country      2016      2018\n",
       "0  Afghanistan -1.692985 -1.829335\n",
       "1      Albania  0.005041  0.172467\n",
       "2      Algeria -2.010203 -1.972802\n",
       "3       Angola  0.899857  0.811514\n",
       "4    Argentina -0.021815  0.024332"
      ]
     },
     "execution_count": 40,
     "metadata": {},
     "output_type": "execute_result"
    }
   ],
   "source": [
    "lfpr_pivot.head()"
   ]
  },
  {
   "cell_type": "markdown",
   "id": "73ca834d-a064-4b78-88de-5bb7a2a117fe",
   "metadata": {},
   "source": [
    "### Finding correlation between lfpr and slavery"
   ]
  },
  {
   "cell_type": "code",
   "execution_count": 41,
   "id": "6dc6bdf0-8c3f-42cd-85c5-267e489f87f9",
   "metadata": {},
   "outputs": [],
   "source": [
    "slavLfpr_2016_corr = slavery_reduced[2016].corr(lfpr_pivot[2016])"
   ]
  },
  {
   "cell_type": "code",
   "execution_count": 42,
   "id": "891780d4-b5e8-42d5-806a-5f8886acf31d",
   "metadata": {},
   "outputs": [
    {
     "data": {
      "text/plain": [
       "np.float64(0.01981696460095905)"
      ]
     },
     "execution_count": 42,
     "metadata": {},
     "output_type": "execute_result"
    }
   ],
   "source": [
    "slavLfpr_2016_corr"
   ]
  },
  {
   "cell_type": "code",
   "execution_count": 43,
   "id": "9f524726-d650-4a86-9b8c-09f2358657ae",
   "metadata": {},
   "outputs": [],
   "source": [
    "slavLfpr_2018_corr = slavery_reduced[2018].corr(lfpr_pivot[2018])"
   ]
  },
  {
   "cell_type": "code",
   "execution_count": 44,
   "id": "22a5e883-891e-46a3-8e71-0966b2ece408",
   "metadata": {},
   "outputs": [
    {
     "data": {
      "text/plain": [
       "np.float64(0.037305512020338306)"
      ]
     },
     "execution_count": 44,
     "metadata": {},
     "output_type": "execute_result"
    }
   ],
   "source": [
    "slavLfpr_2018_corr"
   ]
  },
  {
   "cell_type": "markdown",
   "id": "285f7ba9",
   "metadata": {},
   "source": [
    "Regression model"
   ]
  },
  {
   "cell_type": "code",
   "execution_count": 46,
   "id": "fabcd69b",
   "metadata": {},
   "outputs": [
    {
     "name": "stdout",
     "output_type": "stream",
     "text": [
      "Index(['Country', 'Year', 'Corruption', 'Democracy score', 'GDP per capita',\n",
      "       'LFPR', 'Migration'],\n",
      "      dtype='object')\n"
     ]
    }
   ],
   "source": [
    "print(comparing_data.columns)"
   ]
  },
  {
   "cell_type": "code",
   "execution_count": 48,
   "id": "9dac22c0-4cb2-4520-b12d-377646674807",
   "metadata": {},
   "outputs": [
    {
     "ename": "KeyError",
     "evalue": "['slavery_filtered']",
     "output_type": "error",
     "traceback": [
      "\u001b[1;31m---------------------------------------------------------------------------\u001b[0m",
      "\u001b[1;31mKeyError\u001b[0m                                  Traceback (most recent call last)",
      "\u001b[1;32m~\\AppData\\Local\\Temp\\ipykernel_31812\\553458260.py\u001b[0m in \u001b[0;36m?\u001b[1;34m()\u001b[0m\n\u001b[0;32m      4\u001b[0m \u001b[1;31m# Dependent variable\u001b[0m\u001b[1;33m\u001b[0m\u001b[1;33m\u001b[0m\u001b[0m\n\u001b[0;32m      5\u001b[0m \u001b[0mtarget_vars\u001b[0m \u001b[1;33m=\u001b[0m \u001b[1;33m[\u001b[0m\u001b[1;34m'slavery_filtered'\u001b[0m\u001b[1;33m]\u001b[0m  \u001b[1;31m# Prevalence of Modern Slavery for different years\u001b[0m\u001b[1;33m\u001b[0m\u001b[1;33m\u001b[0m\u001b[0m\n\u001b[0;32m      6\u001b[0m \u001b[1;33m\u001b[0m\u001b[0m\n\u001b[0;32m      7\u001b[0m \u001b[1;31m# Filter data for those years and drop NaNs\u001b[0m\u001b[1;33m\u001b[0m\u001b[1;33m\u001b[0m\u001b[0m\n\u001b[1;32m----> 8\u001b[1;33m \u001b[0mcomparing_data_filtered\u001b[0m \u001b[1;33m=\u001b[0m \u001b[0mcomparing_data\u001b[0m\u001b[1;33m.\u001b[0m\u001b[0mdropna\u001b[0m\u001b[1;33m(\u001b[0m\u001b[0msubset\u001b[0m\u001b[1;33m=\u001b[0m\u001b[0mindependent_vars\u001b[0m \u001b[1;33m+\u001b[0m \u001b[0mtarget_vars\u001b[0m\u001b[1;33m)\u001b[0m\u001b[1;33m\u001b[0m\u001b[1;33m\u001b[0m\u001b[0m\n\u001b[0m\u001b[0;32m      9\u001b[0m \u001b[1;33m\u001b[0m\u001b[0m\n\u001b[0;32m     10\u001b[0m \u001b[1;31m# Fit the regression models for all three years\u001b[0m\u001b[1;33m\u001b[0m\u001b[1;33m\u001b[0m\u001b[0m\n\u001b[0;32m     11\u001b[0m \u001b[1;32mfor\u001b[0m \u001b[0myear\u001b[0m \u001b[1;32min\u001b[0m \u001b[0mtarget_vars\u001b[0m\u001b[1;33m:\u001b[0m\u001b[1;33m\u001b[0m\u001b[1;33m\u001b[0m\u001b[0m\n",
      "\u001b[1;32me:\\Jaina\\Misc\\ADI\\Data for Decisions\\Capstone\\slavery_capstone\\venv\\Lib\\site-packages\\pandas\\core\\frame.py\u001b[0m in \u001b[0;36m?\u001b[1;34m(self, axis, how, thresh, subset, inplace, ignore_index)\u001b[0m\n\u001b[0;32m   6666\u001b[0m             \u001b[0max\u001b[0m \u001b[1;33m=\u001b[0m \u001b[0mself\u001b[0m\u001b[1;33m.\u001b[0m\u001b[0m_get_axis\u001b[0m\u001b[1;33m(\u001b[0m\u001b[0magg_axis\u001b[0m\u001b[1;33m)\u001b[0m\u001b[1;33m\u001b[0m\u001b[1;33m\u001b[0m\u001b[0m\n\u001b[0;32m   6667\u001b[0m             \u001b[0mindices\u001b[0m \u001b[1;33m=\u001b[0m \u001b[0max\u001b[0m\u001b[1;33m.\u001b[0m\u001b[0mget_indexer_for\u001b[0m\u001b[1;33m(\u001b[0m\u001b[0msubset\u001b[0m\u001b[1;33m)\u001b[0m\u001b[1;33m\u001b[0m\u001b[1;33m\u001b[0m\u001b[0m\n\u001b[0;32m   6668\u001b[0m             \u001b[0mcheck\u001b[0m \u001b[1;33m=\u001b[0m \u001b[0mindices\u001b[0m \u001b[1;33m==\u001b[0m \u001b[1;33m-\u001b[0m\u001b[1;36m1\u001b[0m\u001b[1;33m\u001b[0m\u001b[1;33m\u001b[0m\u001b[0m\n\u001b[0;32m   6669\u001b[0m             \u001b[1;32mif\u001b[0m \u001b[0mcheck\u001b[0m\u001b[1;33m.\u001b[0m\u001b[0many\u001b[0m\u001b[1;33m(\u001b[0m\u001b[1;33m)\u001b[0m\u001b[1;33m:\u001b[0m\u001b[1;33m\u001b[0m\u001b[1;33m\u001b[0m\u001b[0m\n\u001b[1;32m-> 6670\u001b[1;33m                 \u001b[1;32mraise\u001b[0m \u001b[0mKeyError\u001b[0m\u001b[1;33m(\u001b[0m\u001b[0mnp\u001b[0m\u001b[1;33m.\u001b[0m\u001b[0marray\u001b[0m\u001b[1;33m(\u001b[0m\u001b[0msubset\u001b[0m\u001b[1;33m)\u001b[0m\u001b[1;33m[\u001b[0m\u001b[0mcheck\u001b[0m\u001b[1;33m]\u001b[0m\u001b[1;33m.\u001b[0m\u001b[0mtolist\u001b[0m\u001b[1;33m(\u001b[0m\u001b[1;33m)\u001b[0m\u001b[1;33m)\u001b[0m\u001b[1;33m\u001b[0m\u001b[1;33m\u001b[0m\u001b[0m\n\u001b[0m\u001b[0;32m   6671\u001b[0m             \u001b[0magg_obj\u001b[0m \u001b[1;33m=\u001b[0m \u001b[0mself\u001b[0m\u001b[1;33m.\u001b[0m\u001b[0mtake\u001b[0m\u001b[1;33m(\u001b[0m\u001b[0mindices\u001b[0m\u001b[1;33m,\u001b[0m \u001b[0maxis\u001b[0m\u001b[1;33m=\u001b[0m\u001b[0magg_axis\u001b[0m\u001b[1;33m)\u001b[0m\u001b[1;33m\u001b[0m\u001b[1;33m\u001b[0m\u001b[0m\n\u001b[0;32m   6672\u001b[0m \u001b[1;33m\u001b[0m\u001b[0m\n\u001b[0;32m   6673\u001b[0m         \u001b[1;32mif\u001b[0m \u001b[0mthresh\u001b[0m \u001b[1;32mis\u001b[0m \u001b[1;32mnot\u001b[0m \u001b[0mlib\u001b[0m\u001b[1;33m.\u001b[0m\u001b[0mno_default\u001b[0m\u001b[1;33m:\u001b[0m\u001b[1;33m\u001b[0m\u001b[1;33m\u001b[0m\u001b[0m\n",
      "\u001b[1;31mKeyError\u001b[0m: ['slavery_filtered']"
     ]
    }
   ],
   "source": [
    "# Define the independent variables (economic indicators)\n",
    "independent_vars = ['Corruption', 'Democracy score', 'GDP per capita', 'LFPR', 'Migration']  # Update with actual column names from comparing_data\n",
    "\n",
    "# Dependent variable\n",
    "target_vars = ['slavery_filtered']  # Prevalence of Modern Slavery for different years\n",
    "\n",
    "# Filter data for those years and drop NaNs\n",
    "comparing_data_filtered = comparing_data.dropna(subset=independent_vars + target_vars)\n",
    "\n",
    "# Fit the regression models for all three years\n",
    "for year in target_vars:\n",
    "    # Create a formula string for the regression model for the given year\n",
    "    formula = f\"{year} ~ \" + \" + \".join(independent_vars)\n",
    "    \n",
    "    # Fit the regression model for the given year\n",
    "    model = smf.ols(formula=formula, data=comparing_data_filtered).fit()\n",
    "    \n",
    "    # Print the summary of the regression model for the given year\n",
    "    print(f\"Regression Results for {year}:\")\n",
    "    print(model.summary())\n",
    "    print(\"\\n\" + \"-\"*80 + \"\\n\")"
   ]
  },
  {
   "cell_type": "code",
   "execution_count": null,
   "id": "1403c576-b20b-4694-be13-bb9beee8a28b",
   "metadata": {},
   "outputs": [],
   "source": [
    "# Regression model 2: LFPR and Modern Slavery with Control Variables\n",
    "X2 = all_data[['LFPR'] + value_columns[1:]]\n",
    "y2 = all_data['prevalence_per_1000']\n",
    "X2 = sm.add_constant(X2)\n",
    "model2 = sm.OLS(y2, X2).fit()\n",
    "print(\"LFPR and Modern Slavery with Control Variables:\")\n",
    "print(model2.summary())\n"
   ]
  }
 ],
 "metadata": {
  "kernelspec": {
   "display_name": "venv",
   "language": "python",
   "name": "python3"
  },
  "language_info": {
   "codemirror_mode": {
    "name": "ipython",
    "version": 3
   },
   "file_extension": ".py",
   "mimetype": "text/x-python",
   "name": "python",
   "nbconvert_exporter": "python",
   "pygments_lexer": "ipython3",
   "version": "3.13.0"
  }
 },
 "nbformat": 4,
 "nbformat_minor": 5
}
