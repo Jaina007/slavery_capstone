{
 "cells": [
  {
   "cell_type": "code",
   "execution_count": 45,
   "id": "a263a247-32a5-4a9c-8cbf-760ac1b6e7ee",
   "metadata": {},
   "outputs": [],
   "source": [
    "import pandas as pd\n",
    "import os"
   ]
  },
  {
   "cell_type": "markdown",
   "id": "dd298b3f-2833-499c-887b-f051ab7d3ef4",
   "metadata": {},
   "source": [
    "### Slavery data PreProcessing"
   ]
  },
  {
   "cell_type": "code",
   "execution_count": 46,
   "id": "b4b5b940-c641-4f2b-8acd-10461cf5bf09",
   "metadata": {},
   "outputs": [],
   "source": [
    "slavery_2016 = pd.read_csv(\"../datasets/slavery_2016.csv\")[[\"Country\", \"POPULATION\", \"ESTIMATED NUMBER IN MODERN SLAVERY\"]]\n",
    "slavery_2018 = pd.read_csv(\"../datasets/slavery_2018.csv\")[[\"Country \", \"Est. prevalence of population in modern slavery (victims per 1,000 population)\"]]\n",
    "slavery_2023 = pd.read_csv(\"../datasets/slavery_2023.csv\")[[\"Country\", \"Estimated prevalence of modern slavery per 1,000 population\"]]"
   ]
  },
  {
   "cell_type": "code",
   "execution_count": 47,
   "id": "05abff8e-f4f1-441b-ae32-8ed3f1d45f4b",
   "metadata": {},
   "outputs": [],
   "source": [
    "slavery_2016[\"Estimated prevalence of modern slavery per 1,000 population\"] = (slavery_2016[\"ESTIMATED NUMBER IN MODERN SLAVERY\"]/slavery_2016[\"POPULATION\"])*1000\n",
    "slavery_2016 = slavery_2016[[\"Country\", \"Estimated prevalence of modern slavery per 1,000 population\"]]"
   ]
  },
  {
   "cell_type": "code",
   "execution_count": 48,
   "id": "2357c2e4-e3df-4ac1-a023-c6bcf5fee71e",
   "metadata": {},
   "outputs": [],
   "source": [
    "slavery_2016.columns = [\"Country\", \"2016\"]\n",
    "slavery_2018.columns = [\"Country\", \"2018\"]\n",
    "slavery_2023.columns = [\"Country\", \"2023\"]"
   ]
  },
  {
   "cell_type": "code",
   "execution_count": 49,
   "id": "ded3ad70-93bc-4c86-b3ca-00321aa47cb5",
   "metadata": {},
   "outputs": [],
   "source": [
    "# Find common entries in the common column  \n",
    "# NOTE: I HAVE GIVEN MORE IMPORTANCE TO COUNTRIES IN THE SLAVERY DATASET. (Since slavery data is the main comparing data here)\n",
    "common_entries = set(slavery_2016['Country']).intersection(slavery_2018['Country']).intersection(slavery_2023['Country'])"
   ]
  },
  {
   "cell_type": "code",
   "execution_count": 50,
   "id": "45dd64ad-3ec9-4d6a-b270-07599869d858",
   "metadata": {},
   "outputs": [],
   "source": [
    "# Filter the DataFrames to keep only rows with common entries\n",
    "slavery_2016_filtered = slavery_2016[slavery_2016['Country'].isin(common_entries)]\n",
    "slavery_2018_filtered = slavery_2018[slavery_2018['Country'].isin(common_entries)]\n",
    "slavery_2023_filtered = slavery_2023[slavery_2023['Country'].isin(common_entries)]"
   ]
  },
  {
   "cell_type": "code",
   "execution_count": 51,
   "id": "45c0e59a-5a82-4255-a297-f6df9e8229e1",
   "metadata": {},
   "outputs": [],
   "source": [
    "# Merge the filtered DataFrames on the common column\n",
    "temp1 = pd.merge(slavery_2016_filtered, slavery_2018_filtered, on='Country', how='inner')\n",
    "slavery = pd.merge(temp1, slavery_2023_filtered, on='Country', how='inner')"
   ]
  },
  {
   "cell_type": "code",
   "execution_count": 52,
   "id": "6be2deab-8822-4bfa-8ba5-28f6834d190d",
   "metadata": {},
   "outputs": [
    {
     "data": {
      "text/html": [
       "<div>\n",
       "<style scoped>\n",
       "    .dataframe tbody tr th:only-of-type {\n",
       "        vertical-align: middle;\n",
       "    }\n",
       "\n",
       "    .dataframe tbody tr th {\n",
       "        vertical-align: top;\n",
       "    }\n",
       "\n",
       "    .dataframe thead th {\n",
       "        text-align: right;\n",
       "    }\n",
       "</style>\n",
       "<table border=\"1\" class=\"dataframe\">\n",
       "  <thead>\n",
       "    <tr style=\"text-align: right;\">\n",
       "      <th></th>\n",
       "      <th>Country</th>\n",
       "      <th>2016</th>\n",
       "      <th>2018</th>\n",
       "      <th>2023</th>\n",
       "    </tr>\n",
       "  </thead>\n",
       "  <tbody>\n",
       "    <tr>\n",
       "      <th>0</th>\n",
       "      <td>Afghanistan</td>\n",
       "      <td>11.301380</td>\n",
       "      <td>22.2</td>\n",
       "      <td>13.0</td>\n",
       "    </tr>\n",
       "    <tr>\n",
       "      <th>1</th>\n",
       "      <td>Albania</td>\n",
       "      <td>2.959394</td>\n",
       "      <td>6.9</td>\n",
       "      <td>11.8</td>\n",
       "    </tr>\n",
       "    <tr>\n",
       "      <th>2</th>\n",
       "      <td>Algeria</td>\n",
       "      <td>6.259611</td>\n",
       "      <td>2.7</td>\n",
       "      <td>1.9</td>\n",
       "    </tr>\n",
       "    <tr>\n",
       "      <th>3</th>\n",
       "      <td>Angola</td>\n",
       "      <td>6.382384</td>\n",
       "      <td>7.2</td>\n",
       "      <td>4.1</td>\n",
       "    </tr>\n",
       "    <tr>\n",
       "      <th>4</th>\n",
       "      <td>Armenia</td>\n",
       "      <td>4.671968</td>\n",
       "      <td>5.3</td>\n",
       "      <td>8.9</td>\n",
       "    </tr>\n",
       "  </tbody>\n",
       "</table>\n",
       "</div>"
      ],
      "text/plain": [
       "       Country       2016  2018  2023\n",
       "0  Afghanistan  11.301380  22.2  13.0\n",
       "1      Albania   2.959394   6.9  11.8\n",
       "2      Algeria   6.259611   2.7   1.9\n",
       "3       Angola   6.382384   7.2   4.1\n",
       "4      Armenia   4.671968   5.3   8.9"
      ]
     },
     "execution_count": 52,
     "metadata": {},
     "output_type": "execute_result"
    }
   ],
   "source": [
    "slavery.head()"
   ]
  },
  {
   "cell_type": "code",
   "execution_count": 53,
   "id": "675dc138-9b6e-41b2-b1a7-7e9e78243dfe",
   "metadata": {},
   "outputs": [
    {
     "name": "stdout",
     "output_type": "stream",
     "text": [
      "<class 'pandas.core.frame.DataFrame'>\n",
      "RangeIndex: 145 entries, 0 to 144\n",
      "Data columns (total 4 columns):\n",
      " #   Column   Non-Null Count  Dtype  \n",
      "---  ------   --------------  -----  \n",
      " 0   Country  145 non-null    object \n",
      " 1   2016     145 non-null    float64\n",
      " 2   2018     145 non-null    float64\n",
      " 3   2023     139 non-null    float64\n",
      "dtypes: float64(3), object(1)\n",
      "memory usage: 4.7+ KB\n"
     ]
    }
   ],
   "source": [
    "slavery.info()"
   ]
  },
  {
   "cell_type": "code",
   "execution_count": 54,
   "id": "01eb88e8-6bad-4140-82d9-1755d716afd1",
   "metadata": {},
   "outputs": [
    {
     "data": {
      "text/html": [
       "<div>\n",
       "<style scoped>\n",
       "    .dataframe tbody tr th:only-of-type {\n",
       "        vertical-align: middle;\n",
       "    }\n",
       "\n",
       "    .dataframe tbody tr th {\n",
       "        vertical-align: top;\n",
       "    }\n",
       "\n",
       "    .dataframe thead th {\n",
       "        text-align: right;\n",
       "    }\n",
       "</style>\n",
       "<table border=\"1\" class=\"dataframe\">\n",
       "  <thead>\n",
       "    <tr style=\"text-align: right;\">\n",
       "      <th></th>\n",
       "      <th>Country</th>\n",
       "      <th>2016</th>\n",
       "      <th>2018</th>\n",
       "      <th>2023</th>\n",
       "    </tr>\n",
       "  </thead>\n",
       "  <tbody>\n",
       "    <tr>\n",
       "      <th>20</th>\n",
       "      <td>Cape Verde</td>\n",
       "      <td>4.606526</td>\n",
       "      <td>4.1</td>\n",
       "      <td>NaN</td>\n",
       "    </tr>\n",
       "    <tr>\n",
       "      <th>44</th>\n",
       "      <td>Iceland</td>\n",
       "      <td>1.208459</td>\n",
       "      <td>2.1</td>\n",
       "      <td>NaN</td>\n",
       "    </tr>\n",
       "    <tr>\n",
       "      <th>64</th>\n",
       "      <td>Luxembourg</td>\n",
       "      <td>0.177936</td>\n",
       "      <td>1.5</td>\n",
       "      <td>NaN</td>\n",
       "    </tr>\n",
       "    <tr>\n",
       "      <th>72</th>\n",
       "      <td>Montenegro</td>\n",
       "      <td>4.019293</td>\n",
       "      <td>5.9</td>\n",
       "      <td>NaN</td>\n",
       "    </tr>\n",
       "    <tr>\n",
       "      <th>122</th>\n",
       "      <td>Barbados</td>\n",
       "      <td>2.112676</td>\n",
       "      <td>2.7</td>\n",
       "      <td>NaN</td>\n",
       "    </tr>\n",
       "    <tr>\n",
       "      <th>142</th>\n",
       "      <td>Suriname</td>\n",
       "      <td>4.604052</td>\n",
       "      <td>2.3</td>\n",
       "      <td>NaN</td>\n",
       "    </tr>\n",
       "  </tbody>\n",
       "</table>\n",
       "</div>"
      ],
      "text/plain": [
       "        Country      2016  2018  2023\n",
       "20   Cape Verde  4.606526   4.1   NaN\n",
       "44      Iceland  1.208459   2.1   NaN\n",
       "64   Luxembourg  0.177936   1.5   NaN\n",
       "72   Montenegro  4.019293   5.9   NaN\n",
       "122    Barbados  2.112676   2.7   NaN\n",
       "142    Suriname  4.604052   2.3   NaN"
      ]
     },
     "execution_count": 54,
     "metadata": {},
     "output_type": "execute_result"
    }
   ],
   "source": [
    "slavery[slavery.isnull().any(axis=1)]"
   ]
  },
  {
   "cell_type": "markdown",
   "id": "6542e9dd-7847-46ef-b86d-674f6fbe3dcb",
   "metadata": {
    "jp-MarkdownHeadingCollapsed": true
   },
   "source": [
    "### Other parameters data preprocessing"
   ]
  },
  {
   "cell_type": "code",
   "execution_count": 55,
   "id": "cf84572b-0837-4906-8744-d39689c9d348",
   "metadata": {},
   "outputs": [],
   "source": [
    "corruption = pd.read_csv(\"../Datasets/corruption.csv\")\n",
    "democracy = pd.read_csv(\"../Datasets/democracy.csv\")\n",
    "gdppercapita = pd.read_csv(\"../Datasets/gdppercapita.csv\")\n",
    "lfpr = pd.read_csv(\"../Datasets/lfpr.csv\")\n",
    "migration = pd.read_csv(\"../Datasets/migration.csv\")"
   ]
  },
  {
   "cell_type": "code",
   "execution_count": 56,
   "id": "53fd7d8d-5303-4c98-b6ea-1aef863d27a3",
   "metadata": {},
   "outputs": [],
   "source": [
    "lfpr = lfpr[lfpr['Type_LFPR'].isin(['Total'])]  # removing male, female entries\n",
    "lfpr = lfpr[[\"Country\", \"Year\", \"LFPR\"]]"
   ]
  },
  {
   "cell_type": "code",
   "execution_count": 57,
   "id": "f7187cd2-fac5-4a77-aa37-d0b447a6d764",
   "metadata": {},
   "outputs": [
    {
     "name": "stdout",
     "output_type": "stream",
     "text": [
      "<class 'pandas.core.frame.DataFrame'>\n",
      "Index: 6079 entries, 2 to 18172\n",
      "Data columns (total 3 columns):\n",
      " #   Column   Non-Null Count  Dtype  \n",
      "---  ------   --------------  -----  \n",
      " 0   Country  6079 non-null   object \n",
      " 1   Year     6079 non-null   int64  \n",
      " 2   LFPR     6079 non-null   float64\n",
      "dtypes: float64(1), int64(1), object(1)\n",
      "memory usage: 190.0+ KB\n"
     ]
    }
   ],
   "source": [
    "lfpr.info()"
   ]
  },
  {
   "cell_type": "code",
   "execution_count": 58,
   "id": "e39067c6-ff13-44dc-b2e0-38949438d975",
   "metadata": {},
   "outputs": [],
   "source": [
    "years = [2016, 2018, 2023]"
   ]
  },
  {
   "cell_type": "code",
   "execution_count": 59,
   "id": "0a6efb4f-bd34-4d94-a85d-b3ea31ec11d7",
   "metadata": {},
   "outputs": [],
   "source": [
    "corruption = corruption[corruption['Year'].isin(years)]\n",
    "democracy = democracy[democracy['Year'].isin(years)]\n",
    "gdppercapita = gdppercapita[gdppercapita['Year'].isin(years)]\n",
    "lfpr = lfpr[lfpr['Year'].isin(years)]\n",
    "migration = migration[migration['Year'].isin(years)]"
   ]
  },
  {
   "cell_type": "code",
   "execution_count": 60,
   "id": "4933686d-1862-447b-98b0-498f608e1c0f",
   "metadata": {},
   "outputs": [],
   "source": [
    "# Find common entries in the common column\n",
    "# common_entries = set(corruption['Country']).intersection(democracy['Country']).intersection(gdppercapita['Country']).intersection(lfpr['Country']).intersection(migration['Country'])"
   ]
  },
  {
   "cell_type": "code",
   "execution_count": 61,
   "id": "e4065d8b-0f3c-4163-9894-31542540568a",
   "metadata": {},
   "outputs": [],
   "source": [
    "# Filter the DataFrames to keep only rows with common countries\n",
    "corruption_filtered = corruption[corruption['Country'].isin(common_entries)]\n",
    "democracy_filtered = democracy[democracy['Country'].isin(common_entries)]\n",
    "gdppercapita_filtered = gdppercapita[gdppercapita['Country'].isin(common_entries)]\n",
    "lfpr_filtered = lfpr[lfpr['Country'].isin(common_entries)]\n",
    "migration_filtered = migration[migration['Country'].isin(common_entries)]"
   ]
  },
  {
   "cell_type": "code",
   "execution_count": 62,
   "id": "a1099286-5cbb-4246-adf6-db4595c1fa2d",
   "metadata": {},
   "outputs": [],
   "source": [
    "# Create a complete DataFrame with all combinations of Country and Year\n",
    "all_combinations = pd.DataFrame([(country, year) for country in common_entries for year in years], columns=['Country', 'Year'])"
   ]
  },
  {
   "cell_type": "code",
   "execution_count": 63,
   "id": "960d190d-69e4-4849-b032-757ef21ec43c",
   "metadata": {},
   "outputs": [
    {
     "name": "stdout",
     "output_type": "stream",
     "text": [
      "<class 'pandas.core.frame.DataFrame'>\n",
      "RangeIndex: 435 entries, 0 to 434\n",
      "Data columns (total 2 columns):\n",
      " #   Column   Non-Null Count  Dtype \n",
      "---  ------   --------------  ----- \n",
      " 0   Country  435 non-null    object\n",
      " 1   Year     435 non-null    int64 \n",
      "dtypes: int64(1), object(1)\n",
      "memory usage: 6.9+ KB\n"
     ]
    }
   ],
   "source": [
    "all_combinations.info()"
   ]
  },
  {
   "cell_type": "code",
   "execution_count": 64,
   "id": "4f569d80-95ac-49a4-bcec-3b1a9319b181",
   "metadata": {},
   "outputs": [],
   "source": [
    "# Merge each DataFrame with the complete combinations to fill missing rows with NaN\n",
    "corruption_complete = pd.merge(all_combinations, corruption_filtered, on=['Country', 'Year'], how='left')\n",
    "democracy_complete = pd.merge(all_combinations, democracy_filtered, on=['Country', 'Year'], how='left')\n",
    "gdppercapita_complete = pd.merge(all_combinations, gdppercapita_filtered, on=['Country', 'Year'], how='left')\n",
    "lfpr_complete = pd.merge(all_combinations, lfpr_filtered, on=['Country', 'Year'], how='left')\n",
    "migration_complete = pd.merge(all_combinations, migration_filtered, on=['Country', 'Year'], how='left')"
   ]
  },
  {
   "cell_type": "code",
   "execution_count": 65,
   "id": "e6349f3e-104c-43e4-a594-ab9d16b7bfe3",
   "metadata": {},
   "outputs": [],
   "source": [
    "# Merge the filtered DataFrames on the common column\n",
    "temp2 = pd.merge(corruption_complete, democracy_complete, on=['Country', 'Year'], how='inner')\n",
    "temp3 = pd.merge(temp2, gdppercapita_complete, on=['Country', 'Year'], how='inner')\n",
    "temp4 = pd.merge(temp3, lfpr_complete, on=['Country', 'Year'], how='inner')\n",
    "comparing_data = pd.merge(temp4, migration_complete, on=['Country', 'Year'], how='inner')"
   ]
  },
  {
   "cell_type": "code",
   "execution_count": 66,
   "id": "11dd5dff-80bd-45f0-a281-756403ba1be9",
   "metadata": {},
   "outputs": [
    {
     "data": {
      "text/html": [
       "<div>\n",
       "<style scoped>\n",
       "    .dataframe tbody tr th:only-of-type {\n",
       "        vertical-align: middle;\n",
       "    }\n",
       "\n",
       "    .dataframe tbody tr th {\n",
       "        vertical-align: top;\n",
       "    }\n",
       "\n",
       "    .dataframe thead th {\n",
       "        text-align: right;\n",
       "    }\n",
       "</style>\n",
       "<table border=\"1\" class=\"dataframe\">\n",
       "  <thead>\n",
       "    <tr style=\"text-align: right;\">\n",
       "      <th></th>\n",
       "      <th>Country</th>\n",
       "      <th>Year</th>\n",
       "      <th>Corruption</th>\n",
       "      <th>Democracy score</th>\n",
       "      <th>GDP per capita</th>\n",
       "      <th>LFPR</th>\n",
       "      <th>Migration</th>\n",
       "    </tr>\n",
       "  </thead>\n",
       "  <tbody>\n",
       "    <tr>\n",
       "      <th>0</th>\n",
       "      <td>Rwanda</td>\n",
       "      <td>2016</td>\n",
       "      <td>54.0</td>\n",
       "      <td>3.07</td>\n",
       "      <td>1908.5520</td>\n",
       "      <td>62.294</td>\n",
       "      <td>-2605.0</td>\n",
       "    </tr>\n",
       "    <tr>\n",
       "      <th>1</th>\n",
       "      <td>Rwanda</td>\n",
       "      <td>2018</td>\n",
       "      <td>56.0</td>\n",
       "      <td>3.35</td>\n",
       "      <td>2049.6235</td>\n",
       "      <td>62.081</td>\n",
       "      <td>-10794.0</td>\n",
       "    </tr>\n",
       "    <tr>\n",
       "      <th>2</th>\n",
       "      <td>Rwanda</td>\n",
       "      <td>2023</td>\n",
       "      <td>53.0</td>\n",
       "      <td>3.30</td>\n",
       "      <td>NaN</td>\n",
       "      <td>NaN</td>\n",
       "      <td>-8999.0</td>\n",
       "    </tr>\n",
       "    <tr>\n",
       "      <th>3</th>\n",
       "      <td>Malawi</td>\n",
       "      <td>2016</td>\n",
       "      <td>31.0</td>\n",
       "      <td>5.55</td>\n",
       "      <td>1437.0421</td>\n",
       "      <td>69.281</td>\n",
       "      <td>-5498.0</td>\n",
       "    </tr>\n",
       "    <tr>\n",
       "      <th>4</th>\n",
       "      <td>Malawi</td>\n",
       "      <td>2018</td>\n",
       "      <td>32.0</td>\n",
       "      <td>5.49</td>\n",
       "      <td>1478.4248</td>\n",
       "      <td>68.716</td>\n",
       "      <td>-3706.0</td>\n",
       "    </tr>\n",
       "  </tbody>\n",
       "</table>\n",
       "</div>"
      ],
      "text/plain": [
       "  Country  Year  Corruption  Democracy score  GDP per capita    LFPR  \\\n",
       "0  Rwanda  2016        54.0             3.07       1908.5520  62.294   \n",
       "1  Rwanda  2018        56.0             3.35       2049.6235  62.081   \n",
       "2  Rwanda  2023        53.0             3.30             NaN     NaN   \n",
       "3  Malawi  2016        31.0             5.55       1437.0421  69.281   \n",
       "4  Malawi  2018        32.0             5.49       1478.4248  68.716   \n",
       "\n",
       "   Migration  \n",
       "0    -2605.0  \n",
       "1   -10794.0  \n",
       "2    -8999.0  \n",
       "3    -5498.0  \n",
       "4    -3706.0  "
      ]
     },
     "execution_count": 66,
     "metadata": {},
     "output_type": "execute_result"
    }
   ],
   "source": [
    "comparing_data.head()"
   ]
  },
  {
   "cell_type": "code",
   "execution_count": 67,
   "id": "9c214f60-dd2f-44ba-aa1a-dba48d9b3efc",
   "metadata": {},
   "outputs": [
    {
     "data": {
      "text/html": [
       "<div>\n",
       "<style scoped>\n",
       "    .dataframe tbody tr th:only-of-type {\n",
       "        vertical-align: middle;\n",
       "    }\n",
       "\n",
       "    .dataframe tbody tr th {\n",
       "        vertical-align: top;\n",
       "    }\n",
       "\n",
       "    .dataframe thead th {\n",
       "        text-align: right;\n",
       "    }\n",
       "</style>\n",
       "<table border=\"1\" class=\"dataframe\">\n",
       "  <thead>\n",
       "    <tr style=\"text-align: right;\">\n",
       "      <th></th>\n",
       "      <th>Country</th>\n",
       "      <th>Year</th>\n",
       "      <th>Corruption</th>\n",
       "      <th>Democracy score</th>\n",
       "      <th>GDP per capita</th>\n",
       "      <th>LFPR</th>\n",
       "      <th>Migration</th>\n",
       "    </tr>\n",
       "  </thead>\n",
       "  <tbody>\n",
       "    <tr>\n",
       "      <th>0</th>\n",
       "      <td>Rwanda</td>\n",
       "      <td>2016</td>\n",
       "      <td>54.0</td>\n",
       "      <td>3.07</td>\n",
       "      <td>1908.5520</td>\n",
       "      <td>62.294</td>\n",
       "      <td>-2605.0</td>\n",
       "    </tr>\n",
       "    <tr>\n",
       "      <th>1</th>\n",
       "      <td>Rwanda</td>\n",
       "      <td>2018</td>\n",
       "      <td>56.0</td>\n",
       "      <td>3.35</td>\n",
       "      <td>2049.6235</td>\n",
       "      <td>62.081</td>\n",
       "      <td>-10794.0</td>\n",
       "    </tr>\n",
       "    <tr>\n",
       "      <th>2</th>\n",
       "      <td>Rwanda</td>\n",
       "      <td>2023</td>\n",
       "      <td>53.0</td>\n",
       "      <td>3.30</td>\n",
       "      <td>NaN</td>\n",
       "      <td>NaN</td>\n",
       "      <td>-8999.0</td>\n",
       "    </tr>\n",
       "    <tr>\n",
       "      <th>3</th>\n",
       "      <td>Malawi</td>\n",
       "      <td>2016</td>\n",
       "      <td>31.0</td>\n",
       "      <td>5.55</td>\n",
       "      <td>1437.0421</td>\n",
       "      <td>69.281</td>\n",
       "      <td>-5498.0</td>\n",
       "    </tr>\n",
       "    <tr>\n",
       "      <th>4</th>\n",
       "      <td>Malawi</td>\n",
       "      <td>2018</td>\n",
       "      <td>32.0</td>\n",
       "      <td>5.49</td>\n",
       "      <td>1478.4248</td>\n",
       "      <td>68.716</td>\n",
       "      <td>-3706.0</td>\n",
       "    </tr>\n",
       "  </tbody>\n",
       "</table>\n",
       "</div>"
      ],
      "text/plain": [
       "  Country  Year  Corruption  Democracy score  GDP per capita    LFPR  \\\n",
       "0  Rwanda  2016        54.0             3.07       1908.5520  62.294   \n",
       "1  Rwanda  2018        56.0             3.35       2049.6235  62.081   \n",
       "2  Rwanda  2023        53.0             3.30             NaN     NaN   \n",
       "3  Malawi  2016        31.0             5.55       1437.0421  69.281   \n",
       "4  Malawi  2018        32.0             5.49       1478.4248  68.716   \n",
       "\n",
       "   Migration  \n",
       "0    -2605.0  \n",
       "1   -10794.0  \n",
       "2    -8999.0  \n",
       "3    -5498.0  \n",
       "4    -3706.0  "
      ]
     },
     "execution_count": 67,
     "metadata": {},
     "output_type": "execute_result"
    }
   ],
   "source": [
    "comparing_data.head()"
   ]
  },
  {
   "cell_type": "code",
   "execution_count": 68,
   "id": "aff92c7b-60ea-4829-a153-dbb4feee11e9",
   "metadata": {},
   "outputs": [
    {
     "data": {
      "text/html": [
       "<div>\n",
       "<style scoped>\n",
       "    .dataframe tbody tr th:only-of-type {\n",
       "        vertical-align: middle;\n",
       "    }\n",
       "\n",
       "    .dataframe tbody tr th {\n",
       "        vertical-align: top;\n",
       "    }\n",
       "\n",
       "    .dataframe thead th {\n",
       "        text-align: right;\n",
       "    }\n",
       "</style>\n",
       "<table border=\"1\" class=\"dataframe\">\n",
       "  <thead>\n",
       "    <tr style=\"text-align: right;\">\n",
       "      <th></th>\n",
       "      <th>Country</th>\n",
       "      <th>Year</th>\n",
       "      <th>Corruption</th>\n",
       "      <th>Democracy score</th>\n",
       "      <th>GDP per capita</th>\n",
       "      <th>LFPR</th>\n",
       "      <th>Migration</th>\n",
       "    </tr>\n",
       "  </thead>\n",
       "  <tbody>\n",
       "    <tr>\n",
       "      <th>2</th>\n",
       "      <td>Rwanda</td>\n",
       "      <td>2023</td>\n",
       "      <td>53.0</td>\n",
       "      <td>3.30</td>\n",
       "      <td>NaN</td>\n",
       "      <td>NaN</td>\n",
       "      <td>-8999.0</td>\n",
       "    </tr>\n",
       "    <tr>\n",
       "      <th>5</th>\n",
       "      <td>Malawi</td>\n",
       "      <td>2023</td>\n",
       "      <td>34.0</td>\n",
       "      <td>5.85</td>\n",
       "      <td>NaN</td>\n",
       "      <td>NaN</td>\n",
       "      <td>-6000.0</td>\n",
       "    </tr>\n",
       "    <tr>\n",
       "      <th>8</th>\n",
       "      <td>Belgium</td>\n",
       "      <td>2023</td>\n",
       "      <td>73.0</td>\n",
       "      <td>7.64</td>\n",
       "      <td>NaN</td>\n",
       "      <td>NaN</td>\n",
       "      <td>23999.0</td>\n",
       "    </tr>\n",
       "    <tr>\n",
       "      <th>11</th>\n",
       "      <td>Armenia</td>\n",
       "      <td>2023</td>\n",
       "      <td>47.0</td>\n",
       "      <td>5.42</td>\n",
       "      <td>NaN</td>\n",
       "      <td>NaN</td>\n",
       "      <td>-5000.0</td>\n",
       "    </tr>\n",
       "    <tr>\n",
       "      <th>14</th>\n",
       "      <td>Morocco</td>\n",
       "      <td>2023</td>\n",
       "      <td>38.0</td>\n",
       "      <td>5.04</td>\n",
       "      <td>NaN</td>\n",
       "      <td>NaN</td>\n",
       "      <td>-39998.0</td>\n",
       "    </tr>\n",
       "    <tr>\n",
       "      <th>...</th>\n",
       "      <td>...</td>\n",
       "      <td>...</td>\n",
       "      <td>...</td>\n",
       "      <td>...</td>\n",
       "      <td>...</td>\n",
       "      <td>...</td>\n",
       "      <td>...</td>\n",
       "    </tr>\n",
       "    <tr>\n",
       "      <th>430</th>\n",
       "      <td>Kyrgyzstan</td>\n",
       "      <td>2018</td>\n",
       "      <td>29.0</td>\n",
       "      <td>5.11</td>\n",
       "      <td>5133.152</td>\n",
       "      <td>NaN</td>\n",
       "      <td>NaN</td>\n",
       "    </tr>\n",
       "    <tr>\n",
       "      <th>431</th>\n",
       "      <td>Kyrgyzstan</td>\n",
       "      <td>2023</td>\n",
       "      <td>26.0</td>\n",
       "      <td>3.70</td>\n",
       "      <td>NaN</td>\n",
       "      <td>NaN</td>\n",
       "      <td>NaN</td>\n",
       "    </tr>\n",
       "    <tr>\n",
       "      <th>432</th>\n",
       "      <td>Cuba</td>\n",
       "      <td>2016</td>\n",
       "      <td>47.0</td>\n",
       "      <td>3.46</td>\n",
       "      <td>NaN</td>\n",
       "      <td>66.418</td>\n",
       "      <td>-14454.0</td>\n",
       "    </tr>\n",
       "    <tr>\n",
       "      <th>433</th>\n",
       "      <td>Cuba</td>\n",
       "      <td>2018</td>\n",
       "      <td>47.0</td>\n",
       "      <td>3.00</td>\n",
       "      <td>NaN</td>\n",
       "      <td>67.063</td>\n",
       "      <td>-14219.0</td>\n",
       "    </tr>\n",
       "    <tr>\n",
       "      <th>434</th>\n",
       "      <td>Cuba</td>\n",
       "      <td>2023</td>\n",
       "      <td>42.0</td>\n",
       "      <td>2.65</td>\n",
       "      <td>NaN</td>\n",
       "      <td>NaN</td>\n",
       "      <td>-6000.0</td>\n",
       "    </tr>\n",
       "  </tbody>\n",
       "</table>\n",
       "<p>172 rows × 7 columns</p>\n",
       "</div>"
      ],
      "text/plain": [
       "        Country  Year  Corruption  Democracy score  GDP per capita    LFPR  \\\n",
       "2        Rwanda  2023        53.0             3.30             NaN     NaN   \n",
       "5        Malawi  2023        34.0             5.85             NaN     NaN   \n",
       "8       Belgium  2023        73.0             7.64             NaN     NaN   \n",
       "11      Armenia  2023        47.0             5.42             NaN     NaN   \n",
       "14      Morocco  2023        38.0             5.04             NaN     NaN   \n",
       "..          ...   ...         ...              ...             ...     ...   \n",
       "430  Kyrgyzstan  2018        29.0             5.11        5133.152     NaN   \n",
       "431  Kyrgyzstan  2023        26.0             3.70             NaN     NaN   \n",
       "432        Cuba  2016        47.0             3.46             NaN  66.418   \n",
       "433        Cuba  2018        47.0             3.00             NaN  67.063   \n",
       "434        Cuba  2023        42.0             2.65             NaN     NaN   \n",
       "\n",
       "     Migration  \n",
       "2      -8999.0  \n",
       "5      -6000.0  \n",
       "8      23999.0  \n",
       "11     -5000.0  \n",
       "14    -39998.0  \n",
       "..         ...  \n",
       "430        NaN  \n",
       "431        NaN  \n",
       "432   -14454.0  \n",
       "433   -14219.0  \n",
       "434    -6000.0  \n",
       "\n",
       "[172 rows x 7 columns]"
      ]
     },
     "execution_count": 68,
     "metadata": {},
     "output_type": "execute_result"
    }
   ],
   "source": [
    "comparing_data[comparing_data.isnull().any(axis=1)]"
   ]
  },
  {
   "cell_type": "markdown",
   "id": "0175fa39-74a5-4d3f-b84d-02ecf96ed3a4",
   "metadata": {},
   "source": [
    "### lfpr and slavery preprocess"
   ]
  },
  {
   "cell_type": "code",
   "execution_count": 69,
   "id": "c576ade5-8880-4701-a3b1-c44b58dbc3f7",
   "metadata": {},
   "outputs": [],
   "source": [
    "lfpr = pd.read_csv(\"../Datasets/lfpr.csv\")"
   ]
  },
  {
   "cell_type": "code",
   "execution_count": 70,
   "id": "d66de24f-0e85-47b2-b027-f5ce5598909f",
   "metadata": {},
   "outputs": [],
   "source": [
    "lfpr = lfpr[lfpr['Type_LFPR'].isin(['Total'])]  # removing male, female entries\n",
    "lfpr = lfpr[[\"Country\", \"Year\", \"LFPR\"]]"
   ]
  },
  {
   "cell_type": "code",
   "execution_count": 71,
   "id": "505f8bed-cf59-4892-826f-afd1f51e255a",
   "metadata": {},
   "outputs": [],
   "source": [
    "lfpr = lfpr[lfpr['Year'].isin([2016, 2018])]"
   ]
  },
  {
   "cell_type": "code",
   "execution_count": 72,
   "id": "024411c0-745a-4451-ae9a-2913682ff5a1",
   "metadata": {},
   "outputs": [],
   "source": [
    "common_lfpr_slavery = set(slavery['Country']).intersection(lfpr['Country'])"
   ]
  },
  {
   "cell_type": "code",
   "execution_count": 73,
   "id": "32cd00e7-ffa6-4af0-b15d-88c74701b8ce",
   "metadata": {},
   "outputs": [],
   "source": [
    "# Filter the DataFrames to keep only rows with common entries\n",
    "slavery_filtered = slavery[slavery['Country'].isin(common_lfpr_slavery)]\n",
    "lfpr_filtered = lfpr[lfpr['Country'].isin(common_lfpr_slavery)]"
   ]
  },
  {
   "cell_type": "code",
   "execution_count": 74,
   "id": "a13bd1ba-bdca-4e29-86e6-71d1e73f0d2d",
   "metadata": {},
   "outputs": [],
   "source": [
    "# Pivot the DataFrame\n",
    "lfpr_pivot = lfpr_filtered.pivot(index='Country', columns='Year', values='LFPR').reset_index()\n",
    "\n",
    "# Rename the columns for clarity\n",
    "lfpr_pivot.columns.name = None  # Remove the columns' name\n",
    "lfpr_pivot.columns = ['Country', 2016, 2018]"
   ]
  },
  {
   "cell_type": "code",
   "execution_count": 75,
   "id": "b21773c2-cb2d-432a-a5e3-40d6cd3c3637",
   "metadata": {},
   "outputs": [],
   "source": [
    "slavery_reduced = slavery_filtered[[\"Country\", \"2016\", \"2018\"]]\n",
    "slavery_reduced.columns = [\"Country\", 2016, 2018]"
   ]
  },
  {
   "cell_type": "code",
   "execution_count": 76,
   "id": "a29fba2c-5ad6-48f5-a561-06dcd5d1f15f",
   "metadata": {},
   "outputs": [],
   "source": [
    "slavery_reduced = slavery_reduced.sort_values(by='Country')\n",
    "lfpr_pivot = lfpr_pivot.sort_values(by='Country')"
   ]
  },
  {
   "cell_type": "code",
   "execution_count": 77,
   "id": "0edc3d64-c293-4ca1-94ce-2ca3197ddf32",
   "metadata": {},
   "outputs": [
    {
     "name": "stdout",
     "output_type": "stream",
     "text": [
      "<class 'pandas.core.frame.DataFrame'>\n",
      "Index: 138 entries, 0 to 120\n",
      "Data columns (total 3 columns):\n",
      " #   Column   Non-Null Count  Dtype  \n",
      "---  ------   --------------  -----  \n",
      " 0   Country  138 non-null    object \n",
      " 1   2016     138 non-null    float64\n",
      " 2   2018     138 non-null    float64\n",
      "dtypes: float64(2), object(1)\n",
      "memory usage: 4.3+ KB\n"
     ]
    }
   ],
   "source": [
    "slavery_reduced.info()"
   ]
  },
  {
   "cell_type": "code",
   "execution_count": 78,
   "id": "045482c8-4612-4cfc-826d-0c20eb0d1258",
   "metadata": {},
   "outputs": [
    {
     "name": "stdout",
     "output_type": "stream",
     "text": [
      "<class 'pandas.core.frame.DataFrame'>\n",
      "RangeIndex: 138 entries, 0 to 137\n",
      "Data columns (total 3 columns):\n",
      " #   Column   Non-Null Count  Dtype  \n",
      "---  ------   --------------  -----  \n",
      " 0   Country  138 non-null    object \n",
      " 1   2016     138 non-null    float64\n",
      " 2   2018     138 non-null    float64\n",
      "dtypes: float64(2), object(1)\n",
      "memory usage: 3.4+ KB\n"
     ]
    }
   ],
   "source": [
    "lfpr_pivot.info()"
   ]
  },
  {
   "cell_type": "code",
   "execution_count": 79,
   "id": "84933211-18a1-4024-9b8a-483efc6ad051",
   "metadata": {},
   "outputs": [],
   "source": [
    "# Standardize Data\n",
    "from sklearn.preprocessing import StandardScaler"
   ]
  },
  {
   "cell_type": "code",
   "execution_count": 80,
   "id": "8a0ac3d1-efb5-4bc9-92ba-75f8cd386fc4",
   "metadata": {},
   "outputs": [],
   "source": [
    "value_columns = [2016, 2018]\n",
    "scaler = StandardScaler()\n",
    "\n",
    "# Z-score normalization\n",
    "lfpr_pivot.loc[:, value_columns] = scaler.fit_transform(lfpr_pivot[value_columns])\n",
    "slavery_reduced.loc[:, value_columns] = scaler.fit_transform(slavery_reduced[value_columns])"
   ]
  },
  {
   "cell_type": "code",
   "execution_count": 81,
   "id": "cbc9c07c-bc9b-4223-9a38-c070157900c3",
   "metadata": {},
   "outputs": [
    {
     "data": {
      "text/html": [
       "<div>\n",
       "<style scoped>\n",
       "    .dataframe tbody tr th:only-of-type {\n",
       "        vertical-align: middle;\n",
       "    }\n",
       "\n",
       "    .dataframe tbody tr th {\n",
       "        vertical-align: top;\n",
       "    }\n",
       "\n",
       "    .dataframe thead th {\n",
       "        text-align: right;\n",
       "    }\n",
       "</style>\n",
       "<table border=\"1\" class=\"dataframe\">\n",
       "  <thead>\n",
       "    <tr style=\"text-align: right;\">\n",
       "      <th></th>\n",
       "      <th>Country</th>\n",
       "      <th>2016</th>\n",
       "      <th>2018</th>\n",
       "    </tr>\n",
       "  </thead>\n",
       "  <tbody>\n",
       "    <tr>\n",
       "      <th>0</th>\n",
       "      <td>Afghanistan</td>\n",
       "      <td>1.425598</td>\n",
       "      <td>1.786060</td>\n",
       "    </tr>\n",
       "    <tr>\n",
       "      <th>1</th>\n",
       "      <td>Albania</td>\n",
       "      <td>-0.479608</td>\n",
       "      <td>0.101637</td>\n",
       "    </tr>\n",
       "    <tr>\n",
       "      <th>2</th>\n",
       "      <td>Algeria</td>\n",
       "      <td>0.274121</td>\n",
       "      <td>-0.360754</td>\n",
       "    </tr>\n",
       "    <tr>\n",
       "      <th>3</th>\n",
       "      <td>Angola</td>\n",
       "      <td>0.302161</td>\n",
       "      <td>0.134665</td>\n",
       "    </tr>\n",
       "    <tr>\n",
       "      <th>121</th>\n",
       "      <td>Argentina</td>\n",
       "      <td>-0.232309</td>\n",
       "      <td>-0.514885</td>\n",
       "    </tr>\n",
       "  </tbody>\n",
       "</table>\n",
       "</div>"
      ],
      "text/plain": [
       "         Country      2016      2018\n",
       "0    Afghanistan  1.425598  1.786060\n",
       "1        Albania -0.479608  0.101637\n",
       "2        Algeria  0.274121 -0.360754\n",
       "3         Angola  0.302161  0.134665\n",
       "121    Argentina -0.232309 -0.514885"
      ]
     },
     "execution_count": 81,
     "metadata": {},
     "output_type": "execute_result"
    }
   ],
   "source": [
    "slavery_reduced.head()"
   ]
  },
  {
   "cell_type": "code",
   "execution_count": 82,
   "id": "4aabc2b9-e497-41ae-9fcb-3c9b351fccd1",
   "metadata": {},
   "outputs": [
    {
     "data": {
      "text/html": [
       "<div>\n",
       "<style scoped>\n",
       "    .dataframe tbody tr th:only-of-type {\n",
       "        vertical-align: middle;\n",
       "    }\n",
       "\n",
       "    .dataframe tbody tr th {\n",
       "        vertical-align: top;\n",
       "    }\n",
       "\n",
       "    .dataframe thead th {\n",
       "        text-align: right;\n",
       "    }\n",
       "</style>\n",
       "<table border=\"1\" class=\"dataframe\">\n",
       "  <thead>\n",
       "    <tr style=\"text-align: right;\">\n",
       "      <th></th>\n",
       "      <th>Country</th>\n",
       "      <th>2016</th>\n",
       "      <th>2018</th>\n",
       "    </tr>\n",
       "  </thead>\n",
       "  <tbody>\n",
       "    <tr>\n",
       "      <th>0</th>\n",
       "      <td>Afghanistan</td>\n",
       "      <td>-1.692985</td>\n",
       "      <td>-1.829335</td>\n",
       "    </tr>\n",
       "    <tr>\n",
       "      <th>1</th>\n",
       "      <td>Albania</td>\n",
       "      <td>0.005041</td>\n",
       "      <td>0.172467</td>\n",
       "    </tr>\n",
       "    <tr>\n",
       "      <th>2</th>\n",
       "      <td>Algeria</td>\n",
       "      <td>-2.010203</td>\n",
       "      <td>-1.972802</td>\n",
       "    </tr>\n",
       "    <tr>\n",
       "      <th>3</th>\n",
       "      <td>Angola</td>\n",
       "      <td>0.899857</td>\n",
       "      <td>0.811514</td>\n",
       "    </tr>\n",
       "    <tr>\n",
       "      <th>4</th>\n",
       "      <td>Argentina</td>\n",
       "      <td>-0.021815</td>\n",
       "      <td>0.024332</td>\n",
       "    </tr>\n",
       "  </tbody>\n",
       "</table>\n",
       "</div>"
      ],
      "text/plain": [
       "       Country      2016      2018\n",
       "0  Afghanistan -1.692985 -1.829335\n",
       "1      Albania  0.005041  0.172467\n",
       "2      Algeria -2.010203 -1.972802\n",
       "3       Angola  0.899857  0.811514\n",
       "4    Argentina -0.021815  0.024332"
      ]
     },
     "execution_count": 82,
     "metadata": {},
     "output_type": "execute_result"
    }
   ],
   "source": [
    "lfpr_pivot.head()"
   ]
  },
  {
   "cell_type": "markdown",
   "id": "73ca834d-a064-4b78-88de-5bb7a2a117fe",
   "metadata": {},
   "source": [
    "### Finding correlation between lfpr and slavery"
   ]
  },
  {
   "cell_type": "code",
   "execution_count": 83,
   "id": "6dc6bdf0-8c3f-42cd-85c5-267e489f87f9",
   "metadata": {},
   "outputs": [],
   "source": [
    "slavLfpr_2016_corr = slavery_reduced[2016].corr(lfpr_pivot[2016])"
   ]
  },
  {
   "cell_type": "code",
   "execution_count": 84,
   "id": "891780d4-b5e8-42d5-806a-5f8886acf31d",
   "metadata": {},
   "outputs": [
    {
     "data": {
      "text/plain": [
       "np.float64(0.01981696460095905)"
      ]
     },
     "execution_count": 84,
     "metadata": {},
     "output_type": "execute_result"
    }
   ],
   "source": [
    "slavLfpr_2016_corr"
   ]
  },
  {
   "cell_type": "code",
   "execution_count": 85,
   "id": "9f524726-d650-4a86-9b8c-09f2358657ae",
   "metadata": {},
   "outputs": [],
   "source": [
    "slavLfpr_2018_corr = slavery_reduced[2018].corr(lfpr_pivot[2018])"
   ]
  },
  {
   "cell_type": "code",
   "execution_count": 86,
   "id": "22a5e883-891e-46a3-8e71-0966b2ece408",
   "metadata": {},
   "outputs": [
    {
     "data": {
      "text/plain": [
       "np.float64(0.037305512020338306)"
      ]
     },
     "execution_count": 86,
     "metadata": {},
     "output_type": "execute_result"
    }
   ],
   "source": [
    "slavLfpr_2018_corr"
   ]
  },
  {
   "cell_type": "markdown",
   "id": "285f7ba9",
   "metadata": {},
   "source": [
    "Regression model"
   ]
  },
  {
   "cell_type": "code",
   "execution_count": null,
   "id": "9dac22c0-4cb2-4520-b12d-377646674807",
   "metadata": {},
   "outputs": [],
   "source": []
  },
  {
   "cell_type": "code",
   "execution_count": null,
   "id": "1403c576-b20b-4694-be13-bb9beee8a28b",
   "metadata": {},
   "outputs": [],
   "source": []
  }
 ],
 "metadata": {
  "kernelspec": {
   "display_name": "venv",
   "language": "python",
   "name": "python3"
  },
  "language_info": {
   "codemirror_mode": {
    "name": "ipython",
    "version": 3
   },
   "file_extension": ".py",
   "mimetype": "text/x-python",
   "name": "python",
   "nbconvert_exporter": "python",
   "pygments_lexer": "ipython3",
   "version": "3.13.0"
  }
 },
 "nbformat": 4,
 "nbformat_minor": 5
}
