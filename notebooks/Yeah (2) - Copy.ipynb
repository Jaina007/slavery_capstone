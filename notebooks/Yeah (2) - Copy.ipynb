{
 "cells": [
  {
   "cell_type": "code",
   "execution_count": 191,
   "id": "a263a247-32a5-4a9c-8cbf-760ac1b6e7ee",
   "metadata": {},
   "outputs": [],
   "source": [
    "import pandas as pd"
   ]
  },
  {
   "cell_type": "markdown",
   "id": "dd298b3f-2833-499c-887b-f051ab7d3ef4",
   "metadata": {},
   "source": [
    "### Slavery data PreProcessing"
   ]
  },
  {
   "cell_type": "code",
   "execution_count": 192,
   "id": "b4b5b940-c641-4f2b-8acd-10461cf5bf09",
   "metadata": {},
   "outputs": [],
   "source": [
    "slavery_2016 = pd.read_csv(\"../Datasets/slavery_2016.csv\")[[\"Country\", \"POPULATION\", \"ESTIMATED NUMBER IN MODERN SLAVERY\"]]\n",
    "slavery_2018 = pd.read_csv(\"../Datasets/slavery_2018.csv\")[[\"Country \", \"Est. prevalence of population in modern slavery (victims per 1,000 population)\"]]\n",
    "slavery_2023 = pd.read_csv(\"../Datasets/slavery_2023.csv\")[[\"Country\", \"Estimated prevalence of modern slavery per 1,000 population\"]]"
   ]
  },
  {
   "cell_type": "code",
   "execution_count": 193,
   "id": "05abff8e-f4f1-441b-ae32-8ed3f1d45f4b",
   "metadata": {},
   "outputs": [],
   "source": [
    "slavery_2016[\"Estimated prevalence of modern slavery per 1,000 population\"] = (slavery_2016[\"ESTIMATED NUMBER IN MODERN SLAVERY\"]/slavery_2016[\"POPULATION\"])*1000\n",
    "slavery_2016 = slavery_2016[[\"Country\", \"Estimated prevalence of modern slavery per 1,000 population\"]]"
   ]
  },
  {
   "cell_type": "code",
   "execution_count": 194,
   "id": "2357c2e4-e3df-4ac1-a023-c6bcf5fee71e",
   "metadata": {},
   "outputs": [],
   "source": [
    "slavery_2016.columns = [\"Country\", \"2016\"]\n",
    "slavery_2018.columns = [\"Country\", \"2018\"]\n",
    "slavery_2023.columns = [\"Country\", \"2023\"]"
   ]
  },
  {
   "cell_type": "code",
   "execution_count": 195,
   "id": "ded3ad70-93bc-4c86-b3ca-00321aa47cb5",
   "metadata": {},
   "outputs": [],
   "source": [
    "# Find common entries in the common column  \n",
    "# NOTE: I HAVE GIVEN MORE IMPORTANCE TO COUNTRIES IN THE SALVERY DATASET. (Since slavery data is the main comparing data here)\n",
    "common_entries = set(slavery_2016['Country']).intersection(slavery_2018['Country']).intersection(slavery_2023['Country'])"
   ]
  },
  {
   "cell_type": "code",
   "execution_count": 196,
   "id": "45dd64ad-3ec9-4d6a-b270-07599869d858",
   "metadata": {},
   "outputs": [],
   "source": [
    "# Filter the DataFrames to keep only rows with common entries\n",
    "slavery_2016_filtered = slavery_2016[slavery_2016['Country'].isin(common_entries)]\n",
    "slavery_2018_filtered = slavery_2018[slavery_2018['Country'].isin(common_entries)]\n",
    "slavery_2023_filtered = slavery_2023[slavery_2023['Country'].isin(common_entries)]"
   ]
  },
  {
   "cell_type": "code",
   "execution_count": 197,
   "id": "45c0e59a-5a82-4255-a297-f6df9e8229e1",
   "metadata": {},
   "outputs": [],
   "source": [
    "# Merge the filtered DataFrames on the common column\n",
    "temp1 = pd.merge(slavery_2016_filtered, slavery_2018_filtered, on='Country', how='inner')\n",
    "slavery = pd.merge(temp1, slavery_2023_filtered, on='Country', how='inner')"
   ]
  },
  {
   "cell_type": "code",
   "execution_count": 198,
   "id": "6be2deab-8822-4bfa-8ba5-28f6834d190d",
   "metadata": {},
   "outputs": [
    {
     "data": {
      "text/html": [
       "<div>\n",
       "<style scoped>\n",
       "    .dataframe tbody tr th:only-of-type {\n",
       "        vertical-align: middle;\n",
       "    }\n",
       "\n",
       "    .dataframe tbody tr th {\n",
       "        vertical-align: top;\n",
       "    }\n",
       "\n",
       "    .dataframe thead th {\n",
       "        text-align: right;\n",
       "    }\n",
       "</style>\n",
       "<table border=\"1\" class=\"dataframe\">\n",
       "  <thead>\n",
       "    <tr style=\"text-align: right;\">\n",
       "      <th></th>\n",
       "      <th>Country</th>\n",
       "      <th>2016</th>\n",
       "      <th>2018</th>\n",
       "      <th>2023</th>\n",
       "    </tr>\n",
       "  </thead>\n",
       "  <tbody>\n",
       "    <tr>\n",
       "      <th>0</th>\n",
       "      <td>Afghanistan</td>\n",
       "      <td>11.301380</td>\n",
       "      <td>22.2</td>\n",
       "      <td>13.0</td>\n",
       "    </tr>\n",
       "    <tr>\n",
       "      <th>1</th>\n",
       "      <td>Albania</td>\n",
       "      <td>2.959394</td>\n",
       "      <td>6.9</td>\n",
       "      <td>11.8</td>\n",
       "    </tr>\n",
       "    <tr>\n",
       "      <th>2</th>\n",
       "      <td>Algeria</td>\n",
       "      <td>6.259611</td>\n",
       "      <td>2.7</td>\n",
       "      <td>1.9</td>\n",
       "    </tr>\n",
       "    <tr>\n",
       "      <th>3</th>\n",
       "      <td>Angola</td>\n",
       "      <td>6.382384</td>\n",
       "      <td>7.2</td>\n",
       "      <td>4.1</td>\n",
       "    </tr>\n",
       "    <tr>\n",
       "      <th>4</th>\n",
       "      <td>Armenia</td>\n",
       "      <td>4.671968</td>\n",
       "      <td>5.3</td>\n",
       "      <td>8.9</td>\n",
       "    </tr>\n",
       "  </tbody>\n",
       "</table>\n",
       "</div>"
      ],
      "text/plain": [
       "       Country       2016  2018  2023\n",
       "0  Afghanistan  11.301380  22.2  13.0\n",
       "1      Albania   2.959394   6.9  11.8\n",
       "2      Algeria   6.259611   2.7   1.9\n",
       "3       Angola   6.382384   7.2   4.1\n",
       "4      Armenia   4.671968   5.3   8.9"
      ]
     },
     "execution_count": 198,
     "metadata": {},
     "output_type": "execute_result"
    }
   ],
   "source": [
    "slavery.head()"
   ]
  },
  {
   "cell_type": "code",
   "execution_count": 199,
   "id": "675dc138-9b6e-41b2-b1a7-7e9e78243dfe",
   "metadata": {},
   "outputs": [
    {
     "name": "stdout",
     "output_type": "stream",
     "text": [
      "<class 'pandas.core.frame.DataFrame'>\n",
      "RangeIndex: 145 entries, 0 to 144\n",
      "Data columns (total 4 columns):\n",
      " #   Column   Non-Null Count  Dtype  \n",
      "---  ------   --------------  -----  \n",
      " 0   Country  145 non-null    object \n",
      " 1   2016     145 non-null    float64\n",
      " 2   2018     145 non-null    float64\n",
      " 3   2023     139 non-null    float64\n",
      "dtypes: float64(3), object(1)\n",
      "memory usage: 4.7+ KB\n"
     ]
    }
   ],
   "source": [
    "slavery.info()"
   ]
  },
  {
   "cell_type": "code",
   "execution_count": 200,
   "id": "01eb88e8-6bad-4140-82d9-1755d716afd1",
   "metadata": {},
   "outputs": [
    {
     "data": {
      "text/html": [
       "<div>\n",
       "<style scoped>\n",
       "    .dataframe tbody tr th:only-of-type {\n",
       "        vertical-align: middle;\n",
       "    }\n",
       "\n",
       "    .dataframe tbody tr th {\n",
       "        vertical-align: top;\n",
       "    }\n",
       "\n",
       "    .dataframe thead th {\n",
       "        text-align: right;\n",
       "    }\n",
       "</style>\n",
       "<table border=\"1\" class=\"dataframe\">\n",
       "  <thead>\n",
       "    <tr style=\"text-align: right;\">\n",
       "      <th></th>\n",
       "      <th>Country</th>\n",
       "      <th>2016</th>\n",
       "      <th>2018</th>\n",
       "      <th>2023</th>\n",
       "    </tr>\n",
       "  </thead>\n",
       "  <tbody>\n",
       "    <tr>\n",
       "      <th>20</th>\n",
       "      <td>Cape Verde</td>\n",
       "      <td>4.606526</td>\n",
       "      <td>4.1</td>\n",
       "      <td>NaN</td>\n",
       "    </tr>\n",
       "    <tr>\n",
       "      <th>44</th>\n",
       "      <td>Iceland</td>\n",
       "      <td>1.208459</td>\n",
       "      <td>2.1</td>\n",
       "      <td>NaN</td>\n",
       "    </tr>\n",
       "    <tr>\n",
       "      <th>64</th>\n",
       "      <td>Luxembourg</td>\n",
       "      <td>0.177936</td>\n",
       "      <td>1.5</td>\n",
       "      <td>NaN</td>\n",
       "    </tr>\n",
       "    <tr>\n",
       "      <th>72</th>\n",
       "      <td>Montenegro</td>\n",
       "      <td>4.019293</td>\n",
       "      <td>5.9</td>\n",
       "      <td>NaN</td>\n",
       "    </tr>\n",
       "    <tr>\n",
       "      <th>122</th>\n",
       "      <td>Barbados</td>\n",
       "      <td>2.112676</td>\n",
       "      <td>2.7</td>\n",
       "      <td>NaN</td>\n",
       "    </tr>\n",
       "    <tr>\n",
       "      <th>142</th>\n",
       "      <td>Suriname</td>\n",
       "      <td>4.604052</td>\n",
       "      <td>2.3</td>\n",
       "      <td>NaN</td>\n",
       "    </tr>\n",
       "  </tbody>\n",
       "</table>\n",
       "</div>"
      ],
      "text/plain": [
       "        Country      2016  2018  2023\n",
       "20   Cape Verde  4.606526   4.1   NaN\n",
       "44      Iceland  1.208459   2.1   NaN\n",
       "64   Luxembourg  0.177936   1.5   NaN\n",
       "72   Montenegro  4.019293   5.9   NaN\n",
       "122    Barbados  2.112676   2.7   NaN\n",
       "142    Suriname  4.604052   2.3   NaN"
      ]
     },
     "execution_count": 200,
     "metadata": {},
     "output_type": "execute_result"
    }
   ],
   "source": [
    "slavery[slavery.isnull().any(axis=1)]"
   ]
  },
  {
   "cell_type": "markdown",
   "id": "6542e9dd-7847-46ef-b86d-674f6fbe3dcb",
   "metadata": {
    "jp-MarkdownHeadingCollapsed": true
   },
   "source": [
    "### Other parameters data preprocessing"
   ]
  },
  {
   "cell_type": "code",
   "execution_count": 201,
   "id": "cf84572b-0837-4906-8744-d39689c9d348",
   "metadata": {},
   "outputs": [],
   "source": [
    "corruption = pd.read_csv(\"../Datasets/corruption.csv\")\n",
    "democracy = pd.read_csv(\"../Datasets/democracy.csv\")\n",
    "gdppercapita = pd.read_csv(\"../Datasets/gdppercapita.csv\")\n",
    "lfpr = pd.read_csv(\"../Datasets/lfpr.csv\")\n",
    "migration = pd.read_csv(\"../Datasets/migration.csv\")"
   ]
  },
  {
   "cell_type": "code",
   "execution_count": 202,
   "id": "53fd7d8d-5303-4c98-b6ea-1aef863d27a3",
   "metadata": {},
   "outputs": [],
   "source": [
    "lfpr = lfpr[lfpr['Type_LFPR'].isin(['Total'])]  # removing male, female entries\n",
    "lfpr = lfpr[[\"Country\", \"Year\", \"LFPR\"]]"
   ]
  },
  {
   "cell_type": "code",
   "execution_count": 203,
   "id": "f7187cd2-fac5-4a77-aa37-d0b447a6d764",
   "metadata": {},
   "outputs": [
    {
     "name": "stdout",
     "output_type": "stream",
     "text": [
      "<class 'pandas.core.frame.DataFrame'>\n",
      "Index: 6079 entries, 2 to 18172\n",
      "Data columns (total 3 columns):\n",
      " #   Column   Non-Null Count  Dtype  \n",
      "---  ------   --------------  -----  \n",
      " 0   Country  6079 non-null   object \n",
      " 1   Year     6079 non-null   int64  \n",
      " 2   LFPR     6079 non-null   float64\n",
      "dtypes: float64(1), int64(1), object(1)\n",
      "memory usage: 190.0+ KB\n"
     ]
    }
   ],
   "source": [
    "lfpr.info()"
   ]
  },
  {
   "cell_type": "code",
   "execution_count": 204,
   "id": "e39067c6-ff13-44dc-b2e0-38949438d975",
   "metadata": {},
   "outputs": [],
   "source": [
    "years = [2016, 2018, 2023]"
   ]
  },
  {
   "cell_type": "code",
   "execution_count": 205,
   "id": "0a6efb4f-bd34-4d94-a85d-b3ea31ec11d7",
   "metadata": {},
   "outputs": [],
   "source": [
    "corruption = corruption[corruption['Year'].isin(years)]\n",
    "democracy = democracy[democracy['Year'].isin(years)]\n",
    "gdppercapita = gdppercapita[gdppercapita['Year'].isin(years)]\n",
    "lfpr = lfpr[lfpr['Year'].isin(years)]\n",
    "migration = migration[migration['Year'].isin(years)]"
   ]
  },
  {
   "cell_type": "code",
   "execution_count": 206,
   "id": "4933686d-1862-447b-98b0-498f608e1c0f",
   "metadata": {},
   "outputs": [],
   "source": [
    "# Find common entries in the common column\n",
    "# common_entries = set(corruption['Country']).intersection(democracy['Country']).intersection(gdppercapita['Country']).intersection(lfpr['Country']).intersection(migration['Country'])"
   ]
  },
  {
   "cell_type": "code",
   "execution_count": 207,
   "id": "e4065d8b-0f3c-4163-9894-31542540568a",
   "metadata": {},
   "outputs": [],
   "source": [
    "# Filter the DataFrames to keep only rows with common countries\n",
    "corruption_filtered = corruption[corruption['Country'].isin(common_entries)]\n",
    "democracy_filtered = democracy[democracy['Country'].isin(common_entries)]\n",
    "gdppercapita_filtered = gdppercapita[gdppercapita['Country'].isin(common_entries)]\n",
    "lfpr_filtered = lfpr[lfpr['Country'].isin(common_entries)]\n",
    "migration_filtered = migration[migration['Country'].isin(common_entries)]"
   ]
  },
  {
   "cell_type": "code",
   "execution_count": 208,
   "id": "a1099286-5cbb-4246-adf6-db4595c1fa2d",
   "metadata": {},
   "outputs": [],
   "source": [
    "# Create a complete DataFrame with all combinations of Country and Year\n",
    "all_combinations = pd.DataFrame([(country, year) for country in common_entries for year in years], columns=['Country', 'Year'])"
   ]
  },
  {
   "cell_type": "code",
   "execution_count": 209,
   "id": "960d190d-69e4-4849-b032-757ef21ec43c",
   "metadata": {},
   "outputs": [
    {
     "name": "stdout",
     "output_type": "stream",
     "text": [
      "<class 'pandas.core.frame.DataFrame'>\n",
      "RangeIndex: 435 entries, 0 to 434\n",
      "Data columns (total 2 columns):\n",
      " #   Column   Non-Null Count  Dtype \n",
      "---  ------   --------------  ----- \n",
      " 0   Country  435 non-null    object\n",
      " 1   Year     435 non-null    int64 \n",
      "dtypes: int64(1), object(1)\n",
      "memory usage: 6.9+ KB\n"
     ]
    }
   ],
   "source": [
    "all_combinations.info()"
   ]
  },
  {
   "cell_type": "code",
   "execution_count": 210,
   "id": "4f569d80-95ac-49a4-bcec-3b1a9319b181",
   "metadata": {},
   "outputs": [],
   "source": [
    "# Merge each DataFrame with the complete combinations to fill missing rows with NaN\n",
    "corruption_complete = pd.merge(all_combinations, corruption_filtered, on=['Country', 'Year'], how='left')\n",
    "democracy_complete = pd.merge(all_combinations, democracy_filtered, on=['Country', 'Year'], how='left')\n",
    "gdppercapita_complete = pd.merge(all_combinations, gdppercapita_filtered, on=['Country', 'Year'], how='left')\n",
    "lfpr_complete = pd.merge(all_combinations, lfpr_filtered, on=['Country', 'Year'], how='left')\n",
    "migration_complete = pd.merge(all_combinations, migration_filtered, on=['Country', 'Year'], how='left')"
   ]
  },
  {
   "cell_type": "code",
   "execution_count": 211,
   "id": "e6349f3e-104c-43e4-a594-ab9d16b7bfe3",
   "metadata": {},
   "outputs": [],
   "source": [
    "# Merge the filtered DataFrames on the common column\n",
    "temp2 = pd.merge(corruption_complete, democracy_complete, on=['Country', 'Year'], how='inner')\n",
    "temp3 = pd.merge(temp2, gdppercapita_complete, on=['Country', 'Year'], how='inner')\n",
    "temp4 = pd.merge(temp3, lfpr_complete, on=['Country', 'Year'], how='inner')\n",
    "comparing_data = pd.merge(temp4, migration_complete, on=['Country', 'Year'], how='inner')"
   ]
  },
  {
   "cell_type": "code",
   "execution_count": 212,
   "id": "11dd5dff-80bd-45f0-a281-756403ba1be9",
   "metadata": {},
   "outputs": [
    {
     "data": {
      "text/html": [
       "<div>\n",
       "<style scoped>\n",
       "    .dataframe tbody tr th:only-of-type {\n",
       "        vertical-align: middle;\n",
       "    }\n",
       "\n",
       "    .dataframe tbody tr th {\n",
       "        vertical-align: top;\n",
       "    }\n",
       "\n",
       "    .dataframe thead th {\n",
       "        text-align: right;\n",
       "    }\n",
       "</style>\n",
       "<table border=\"1\" class=\"dataframe\">\n",
       "  <thead>\n",
       "    <tr style=\"text-align: right;\">\n",
       "      <th></th>\n",
       "      <th>Country</th>\n",
       "      <th>Year</th>\n",
       "      <th>Corruption</th>\n",
       "      <th>Democracy score</th>\n",
       "      <th>GDP per capita</th>\n",
       "      <th>LFPR</th>\n",
       "      <th>Migration</th>\n",
       "    </tr>\n",
       "  </thead>\n",
       "  <tbody>\n",
       "    <tr>\n",
       "      <th>0</th>\n",
       "      <td>Namibia</td>\n",
       "      <td>2016</td>\n",
       "      <td>52.0</td>\n",
       "      <td>6.31</td>\n",
       "      <td>10627.6350</td>\n",
       "      <td>62.596</td>\n",
       "      <td>-8596.0</td>\n",
       "    </tr>\n",
       "    <tr>\n",
       "      <th>1</th>\n",
       "      <td>Namibia</td>\n",
       "      <td>2018</td>\n",
       "      <td>53.0</td>\n",
       "      <td>6.25</td>\n",
       "      <td>10266.1710</td>\n",
       "      <td>60.150</td>\n",
       "      <td>-8596.0</td>\n",
       "    </tr>\n",
       "    <tr>\n",
       "      <th>2</th>\n",
       "      <td>Namibia</td>\n",
       "      <td>2023</td>\n",
       "      <td>49.0</td>\n",
       "      <td>6.52</td>\n",
       "      <td>NaN</td>\n",
       "      <td>NaN</td>\n",
       "      <td>-3916.0</td>\n",
       "    </tr>\n",
       "    <tr>\n",
       "      <th>3</th>\n",
       "      <td>Liberia</td>\n",
       "      <td>2016</td>\n",
       "      <td>37.0</td>\n",
       "      <td>5.31</td>\n",
       "      <td>1525.4580</td>\n",
       "      <td>77.982</td>\n",
       "      <td>-26822.0</td>\n",
       "    </tr>\n",
       "    <tr>\n",
       "      <th>4</th>\n",
       "      <td>Liberia</td>\n",
       "      <td>2018</td>\n",
       "      <td>32.0</td>\n",
       "      <td>5.35</td>\n",
       "      <td>1521.7335</td>\n",
       "      <td>77.776</td>\n",
       "      <td>-23226.0</td>\n",
       "    </tr>\n",
       "  </tbody>\n",
       "</table>\n",
       "</div>"
      ],
      "text/plain": [
       "   Country  Year  Corruption  Democracy score  GDP per capita    LFPR  \\\n",
       "0  Namibia  2016        52.0             6.31      10627.6350  62.596   \n",
       "1  Namibia  2018        53.0             6.25      10266.1710  60.150   \n",
       "2  Namibia  2023        49.0             6.52             NaN     NaN   \n",
       "3  Liberia  2016        37.0             5.31       1525.4580  77.982   \n",
       "4  Liberia  2018        32.0             5.35       1521.7335  77.776   \n",
       "\n",
       "   Migration  \n",
       "0    -8596.0  \n",
       "1    -8596.0  \n",
       "2    -3916.0  \n",
       "3   -26822.0  \n",
       "4   -23226.0  "
      ]
     },
     "execution_count": 212,
     "metadata": {},
     "output_type": "execute_result"
    }
   ],
   "source": [
    "comparing_data.head()"
   ]
  },
  {
   "cell_type": "code",
   "execution_count": 213,
   "id": "9c214f60-dd2f-44ba-aa1a-dba48d9b3efc",
   "metadata": {},
   "outputs": [
    {
     "data": {
      "text/html": [
       "<div>\n",
       "<style scoped>\n",
       "    .dataframe tbody tr th:only-of-type {\n",
       "        vertical-align: middle;\n",
       "    }\n",
       "\n",
       "    .dataframe tbody tr th {\n",
       "        vertical-align: top;\n",
       "    }\n",
       "\n",
       "    .dataframe thead th {\n",
       "        text-align: right;\n",
       "    }\n",
       "</style>\n",
       "<table border=\"1\" class=\"dataframe\">\n",
       "  <thead>\n",
       "    <tr style=\"text-align: right;\">\n",
       "      <th></th>\n",
       "      <th>Country</th>\n",
       "      <th>Year</th>\n",
       "      <th>Corruption</th>\n",
       "      <th>Democracy score</th>\n",
       "      <th>GDP per capita</th>\n",
       "      <th>LFPR</th>\n",
       "      <th>Migration</th>\n",
       "    </tr>\n",
       "  </thead>\n",
       "  <tbody>\n",
       "    <tr>\n",
       "      <th>0</th>\n",
       "      <td>Namibia</td>\n",
       "      <td>2016</td>\n",
       "      <td>52.0</td>\n",
       "      <td>6.31</td>\n",
       "      <td>10627.6350</td>\n",
       "      <td>62.596</td>\n",
       "      <td>-8596.0</td>\n",
       "    </tr>\n",
       "    <tr>\n",
       "      <th>1</th>\n",
       "      <td>Namibia</td>\n",
       "      <td>2018</td>\n",
       "      <td>53.0</td>\n",
       "      <td>6.25</td>\n",
       "      <td>10266.1710</td>\n",
       "      <td>60.150</td>\n",
       "      <td>-8596.0</td>\n",
       "    </tr>\n",
       "    <tr>\n",
       "      <th>2</th>\n",
       "      <td>Namibia</td>\n",
       "      <td>2023</td>\n",
       "      <td>49.0</td>\n",
       "      <td>6.52</td>\n",
       "      <td>NaN</td>\n",
       "      <td>NaN</td>\n",
       "      <td>-3916.0</td>\n",
       "    </tr>\n",
       "    <tr>\n",
       "      <th>3</th>\n",
       "      <td>Liberia</td>\n",
       "      <td>2016</td>\n",
       "      <td>37.0</td>\n",
       "      <td>5.31</td>\n",
       "      <td>1525.4580</td>\n",
       "      <td>77.982</td>\n",
       "      <td>-26822.0</td>\n",
       "    </tr>\n",
       "    <tr>\n",
       "      <th>4</th>\n",
       "      <td>Liberia</td>\n",
       "      <td>2018</td>\n",
       "      <td>32.0</td>\n",
       "      <td>5.35</td>\n",
       "      <td>1521.7335</td>\n",
       "      <td>77.776</td>\n",
       "      <td>-23226.0</td>\n",
       "    </tr>\n",
       "  </tbody>\n",
       "</table>\n",
       "</div>"
      ],
      "text/plain": [
       "   Country  Year  Corruption  Democracy score  GDP per capita    LFPR  \\\n",
       "0  Namibia  2016        52.0             6.31      10627.6350  62.596   \n",
       "1  Namibia  2018        53.0             6.25      10266.1710  60.150   \n",
       "2  Namibia  2023        49.0             6.52             NaN     NaN   \n",
       "3  Liberia  2016        37.0             5.31       1525.4580  77.982   \n",
       "4  Liberia  2018        32.0             5.35       1521.7335  77.776   \n",
       "\n",
       "   Migration  \n",
       "0    -8596.0  \n",
       "1    -8596.0  \n",
       "2    -3916.0  \n",
       "3   -26822.0  \n",
       "4   -23226.0  "
      ]
     },
     "execution_count": 213,
     "metadata": {},
     "output_type": "execute_result"
    }
   ],
   "source": [
    "comparing_data.head()"
   ]
  },
  {
   "cell_type": "code",
   "execution_count": 214,
   "id": "aff92c7b-60ea-4829-a153-dbb4feee11e9",
   "metadata": {},
   "outputs": [
    {
     "data": {
      "text/html": [
       "<div>\n",
       "<style scoped>\n",
       "    .dataframe tbody tr th:only-of-type {\n",
       "        vertical-align: middle;\n",
       "    }\n",
       "\n",
       "    .dataframe tbody tr th {\n",
       "        vertical-align: top;\n",
       "    }\n",
       "\n",
       "    .dataframe thead th {\n",
       "        text-align: right;\n",
       "    }\n",
       "</style>\n",
       "<table border=\"1\" class=\"dataframe\">\n",
       "  <thead>\n",
       "    <tr style=\"text-align: right;\">\n",
       "      <th></th>\n",
       "      <th>Country</th>\n",
       "      <th>Year</th>\n",
       "      <th>Corruption</th>\n",
       "      <th>Democracy score</th>\n",
       "      <th>GDP per capita</th>\n",
       "      <th>LFPR</th>\n",
       "      <th>Migration</th>\n",
       "    </tr>\n",
       "  </thead>\n",
       "  <tbody>\n",
       "    <tr>\n",
       "      <th>2</th>\n",
       "      <td>Namibia</td>\n",
       "      <td>2023</td>\n",
       "      <td>49.0</td>\n",
       "      <td>6.52</td>\n",
       "      <td>NaN</td>\n",
       "      <td>NaN</td>\n",
       "      <td>-3916.0</td>\n",
       "    </tr>\n",
       "    <tr>\n",
       "      <th>5</th>\n",
       "      <td>Liberia</td>\n",
       "      <td>2023</td>\n",
       "      <td>25.0</td>\n",
       "      <td>5.57</td>\n",
       "      <td>NaN</td>\n",
       "      <td>NaN</td>\n",
       "      <td>-5000.0</td>\n",
       "    </tr>\n",
       "    <tr>\n",
       "      <th>8</th>\n",
       "      <td>Australia</td>\n",
       "      <td>2023</td>\n",
       "      <td>75.0</td>\n",
       "      <td>8.66</td>\n",
       "      <td>NaN</td>\n",
       "      <td>NaN</td>\n",
       "      <td>139991.0</td>\n",
       "    </tr>\n",
       "    <tr>\n",
       "      <th>9</th>\n",
       "      <td>Kosovo</td>\n",
       "      <td>2016</td>\n",
       "      <td>36.0</td>\n",
       "      <td>NaN</td>\n",
       "      <td>10031.048</td>\n",
       "      <td>NaN</td>\n",
       "      <td>-31383.0</td>\n",
       "    </tr>\n",
       "    <tr>\n",
       "      <th>10</th>\n",
       "      <td>Kosovo</td>\n",
       "      <td>2018</td>\n",
       "      <td>37.0</td>\n",
       "      <td>NaN</td>\n",
       "      <td>10755.168</td>\n",
       "      <td>NaN</td>\n",
       "      <td>-34137.0</td>\n",
       "    </tr>\n",
       "    <tr>\n",
       "      <th>...</th>\n",
       "      <td>...</td>\n",
       "      <td>...</td>\n",
       "      <td>...</td>\n",
       "      <td>...</td>\n",
       "      <td>...</td>\n",
       "      <td>...</td>\n",
       "      <td>...</td>\n",
       "    </tr>\n",
       "    <tr>\n",
       "      <th>422</th>\n",
       "      <td>Bangladesh</td>\n",
       "      <td>2023</td>\n",
       "      <td>24.0</td>\n",
       "      <td>5.87</td>\n",
       "      <td>NaN</td>\n",
       "      <td>NaN</td>\n",
       "      <td>-309977.0</td>\n",
       "    </tr>\n",
       "    <tr>\n",
       "      <th>425</th>\n",
       "      <td>Belarus</td>\n",
       "      <td>2023</td>\n",
       "      <td>37.0</td>\n",
       "      <td>NaN</td>\n",
       "      <td>NaN</td>\n",
       "      <td>NaN</td>\n",
       "      <td>-4282.0</td>\n",
       "    </tr>\n",
       "    <tr>\n",
       "      <th>428</th>\n",
       "      <td>Mozambique</td>\n",
       "      <td>2023</td>\n",
       "      <td>25.0</td>\n",
       "      <td>3.51</td>\n",
       "      <td>NaN</td>\n",
       "      <td>NaN</td>\n",
       "      <td>-5000.0</td>\n",
       "    </tr>\n",
       "    <tr>\n",
       "      <th>431</th>\n",
       "      <td>Luxembourg</td>\n",
       "      <td>2023</td>\n",
       "      <td>78.0</td>\n",
       "      <td>8.81</td>\n",
       "      <td>NaN</td>\n",
       "      <td>NaN</td>\n",
       "      <td>4883.0</td>\n",
       "    </tr>\n",
       "    <tr>\n",
       "      <th>434</th>\n",
       "      <td>Mauritius</td>\n",
       "      <td>2023</td>\n",
       "      <td>51.0</td>\n",
       "      <td>8.14</td>\n",
       "      <td>NaN</td>\n",
       "      <td>NaN</td>\n",
       "      <td>0.0</td>\n",
       "    </tr>\n",
       "  </tbody>\n",
       "</table>\n",
       "<p>172 rows × 7 columns</p>\n",
       "</div>"
      ],
      "text/plain": [
       "        Country  Year  Corruption  Democracy score  GDP per capita  LFPR  \\\n",
       "2       Namibia  2023        49.0             6.52             NaN   NaN   \n",
       "5       Liberia  2023        25.0             5.57             NaN   NaN   \n",
       "8     Australia  2023        75.0             8.66             NaN   NaN   \n",
       "9        Kosovo  2016        36.0              NaN       10031.048   NaN   \n",
       "10       Kosovo  2018        37.0              NaN       10755.168   NaN   \n",
       "..          ...   ...         ...              ...             ...   ...   \n",
       "422  Bangladesh  2023        24.0             5.87             NaN   NaN   \n",
       "425     Belarus  2023        37.0              NaN             NaN   NaN   \n",
       "428  Mozambique  2023        25.0             3.51             NaN   NaN   \n",
       "431  Luxembourg  2023        78.0             8.81             NaN   NaN   \n",
       "434   Mauritius  2023        51.0             8.14             NaN   NaN   \n",
       "\n",
       "     Migration  \n",
       "2      -3916.0  \n",
       "5      -5000.0  \n",
       "8     139991.0  \n",
       "9     -31383.0  \n",
       "10    -34137.0  \n",
       "..         ...  \n",
       "422  -309977.0  \n",
       "425    -4282.0  \n",
       "428    -5000.0  \n",
       "431     4883.0  \n",
       "434        0.0  \n",
       "\n",
       "[172 rows x 7 columns]"
      ]
     },
     "execution_count": 214,
     "metadata": {},
     "output_type": "execute_result"
    }
   ],
   "source": [
    "comparing_data[comparing_data.isnull().any(axis=1)]"
   ]
  },
  {
   "cell_type": "markdown",
   "id": "0175fa39-74a5-4d3f-b84d-02ecf96ed3a4",
   "metadata": {},
   "source": [
    "### lfpr (male, female, both) and slavery preprocess"
   ]
  },
  {
   "cell_type": "code",
   "execution_count": 215,
   "id": "c576ade5-8880-4701-a3b1-c44b58dbc3f7",
   "metadata": {},
   "outputs": [],
   "source": [
    "lfpr = pd.read_csv(\"../Datasets/lfpr.csv\")"
   ]
  },
  {
   "cell_type": "code",
   "execution_count": 216,
   "id": "75a9976e-3ab8-48f9-8476-971716d4dac5",
   "metadata": {},
   "outputs": [
    {
     "data": {
      "text/html": [
       "<div>\n",
       "<style scoped>\n",
       "    .dataframe tbody tr th:only-of-type {\n",
       "        vertical-align: middle;\n",
       "    }\n",
       "\n",
       "    .dataframe tbody tr th {\n",
       "        vertical-align: top;\n",
       "    }\n",
       "\n",
       "    .dataframe thead th {\n",
       "        text-align: right;\n",
       "    }\n",
       "</style>\n",
       "<table border=\"1\" class=\"dataframe\">\n",
       "  <thead>\n",
       "    <tr style=\"text-align: right;\">\n",
       "      <th></th>\n",
       "      <th>Country</th>\n",
       "      <th>Year</th>\n",
       "      <th>LFPR</th>\n",
       "      <th>Type_LFPR</th>\n",
       "    </tr>\n",
       "  </thead>\n",
       "  <tbody>\n",
       "    <tr>\n",
       "      <th>0</th>\n",
       "      <td>Afghanistan</td>\n",
       "      <td>1991</td>\n",
       "      <td>16.101</td>\n",
       "      <td>Female</td>\n",
       "    </tr>\n",
       "    <tr>\n",
       "      <th>1</th>\n",
       "      <td>Afghanistan</td>\n",
       "      <td>1991</td>\n",
       "      <td>80.990</td>\n",
       "      <td>Male</td>\n",
       "    </tr>\n",
       "    <tr>\n",
       "      <th>2</th>\n",
       "      <td>Afghanistan</td>\n",
       "      <td>1991</td>\n",
       "      <td>48.039</td>\n",
       "      <td>Total</td>\n",
       "    </tr>\n",
       "    <tr>\n",
       "      <th>3</th>\n",
       "      <td>Afghanistan</td>\n",
       "      <td>1992</td>\n",
       "      <td>16.170</td>\n",
       "      <td>Female</td>\n",
       "    </tr>\n",
       "    <tr>\n",
       "      <th>4</th>\n",
       "      <td>Afghanistan</td>\n",
       "      <td>1992</td>\n",
       "      <td>80.940</td>\n",
       "      <td>Male</td>\n",
       "    </tr>\n",
       "  </tbody>\n",
       "</table>\n",
       "</div>"
      ],
      "text/plain": [
       "       Country  Year    LFPR Type_LFPR\n",
       "0  Afghanistan  1991  16.101    Female\n",
       "1  Afghanistan  1991  80.990      Male\n",
       "2  Afghanistan  1991  48.039     Total\n",
       "3  Afghanistan  1992  16.170    Female\n",
       "4  Afghanistan  1992  80.940      Male"
      ]
     },
     "execution_count": 216,
     "metadata": {},
     "output_type": "execute_result"
    }
   ],
   "source": [
    "lfpr.head()"
   ]
  },
  {
   "cell_type": "code",
   "execution_count": 217,
   "id": "d66de24f-0e85-47b2-b027-f5ce5598909f",
   "metadata": {},
   "outputs": [],
   "source": [
    "lfpr_total = lfpr[lfpr['Type_LFPR'].isin(['Total'])]  # removing male, female entries\n",
    "lfpr_male = lfpr[lfpr['Type_LFPR'].isin(['Male'])]\n",
    "lfpr_female = lfpr[lfpr['Type_LFPR'].isin(['Female'])]"
   ]
  },
  {
   "cell_type": "code",
   "execution_count": 218,
   "id": "0f4ca19f-e41d-46e1-9c07-64137ada6258",
   "metadata": {},
   "outputs": [],
   "source": [
    "lfpr_total = lfpr_total[[\"Country\", \"Year\", \"LFPR\"]]\n",
    "lfpr_male = lfpr_male[[\"Country\", \"Year\", \"LFPR\"]]\n",
    "lfpr_female = lfpr_female[[\"Country\", \"Year\", \"LFPR\"]]"
   ]
  },
  {
   "cell_type": "code",
   "execution_count": 219,
   "id": "505f8bed-cf59-4892-826f-afd1f51e255a",
   "metadata": {},
   "outputs": [],
   "source": [
    "lfpr_total = lfpr_total[lfpr_total['Year'].isin([2016, 2018])]\n",
    "lfpr_male = lfpr_male[lfpr_male['Year'].isin([2016, 2018])]\n",
    "lfpr_female = lfpr_female[lfpr_female['Year'].isin([2016, 2018])]"
   ]
  },
  {
   "cell_type": "code",
   "execution_count": 220,
   "id": "024411c0-745a-4451-ae9a-2913682ff5a1",
   "metadata": {},
   "outputs": [],
   "source": [
    "common_lfpr_slavery = set(slavery['Country']).intersection(lfpr_total['Country'])"
   ]
  },
  {
   "cell_type": "code",
   "execution_count": 221,
   "id": "32cd00e7-ffa6-4af0-b15d-88c74701b8ce",
   "metadata": {},
   "outputs": [],
   "source": [
    "# Filter the DataFrames to keep only rows with common entries\n",
    "slavery_filtered = slavery[slavery['Country'].isin(common_lfpr_slavery)]\n",
    "\n",
    "lfpr_total_filtered = lfpr_total[lfpr_total['Country'].isin(common_lfpr_slavery)]\n",
    "lfpr_male_filtered = lfpr_male[lfpr_male['Country'].isin(common_lfpr_slavery)]\n",
    "lfpr_female_filtered = lfpr_female[lfpr_female['Country'].isin(common_lfpr_slavery)]"
   ]
  },
  {
   "cell_type": "code",
   "execution_count": 222,
   "id": "a13bd1ba-bdca-4e29-86e6-71d1e73f0d2d",
   "metadata": {},
   "outputs": [],
   "source": [
    "# Pivot the DataFrame\n",
    "lfpr_total_pivot = lfpr_total_filtered.pivot(index='Country', columns='Year', values='LFPR').reset_index()\n",
    "lfpr_male_pivot = lfpr_male_filtered.pivot(index='Country', columns='Year', values='LFPR').reset_index()\n",
    "lfpr_female_pivot = lfpr_female_filtered.pivot(index='Country', columns='Year', values='LFPR').reset_index()\n",
    "\n",
    "# Rename the columns for clarity\n",
    "lfpr_total_pivot.columns.name = None\n",
    "lfpr_total_pivot.columns = ['Country', 2016, 2018]\n",
    "\n",
    "lfpr_male_pivot.columns.name = None\n",
    "lfpr_male_pivot.columns = ['Country', 2016, 2018]\n",
    "\n",
    "lfpr_female_pivot.columns.name = None\n",
    "lfpr_female_pivot.columns = ['Country', 2016, 2018]"
   ]
  },
  {
   "cell_type": "code",
   "execution_count": 223,
   "id": "b21773c2-cb2d-432a-a5e3-40d6cd3c3637",
   "metadata": {},
   "outputs": [],
   "source": [
    "slavery_reduced = slavery_filtered[[\"Country\", \"2016\", \"2018\"]]\n",
    "slavery_reduced.columns = [\"Country\", 2016, 2018]"
   ]
  },
  {
   "cell_type": "code",
   "execution_count": 224,
   "id": "a29fba2c-5ad6-48f5-a561-06dcd5d1f15f",
   "metadata": {},
   "outputs": [],
   "source": [
    "slavery_reduced = slavery_reduced.sort_values(by='Country')\n",
    "\n",
    "lfpr_total_pivot = lfpr_total_pivot.sort_values(by='Country')\n",
    "lfpr_male_pivot = lfpr_male_pivot.sort_values(by='Country')\n",
    "lfpr_female_pivot = lfpr_female_pivot.sort_values(by='Country')"
   ]
  },
  {
   "cell_type": "code",
   "execution_count": 225,
   "id": "0edc3d64-c293-4ca1-94ce-2ca3197ddf32",
   "metadata": {},
   "outputs": [
    {
     "name": "stdout",
     "output_type": "stream",
     "text": [
      "<class 'pandas.core.frame.DataFrame'>\n",
      "Index: 138 entries, 0 to 120\n",
      "Data columns (total 3 columns):\n",
      " #   Column   Non-Null Count  Dtype  \n",
      "---  ------   --------------  -----  \n",
      " 0   Country  138 non-null    object \n",
      " 1   2016     138 non-null    float64\n",
      " 2   2018     138 non-null    float64\n",
      "dtypes: float64(2), object(1)\n",
      "memory usage: 4.3+ KB\n"
     ]
    }
   ],
   "source": [
    "slavery_reduced.info()"
   ]
  },
  {
   "cell_type": "code",
   "execution_count": 226,
   "id": "045482c8-4612-4cfc-826d-0c20eb0d1258",
   "metadata": {},
   "outputs": [
    {
     "name": "stdout",
     "output_type": "stream",
     "text": [
      "<class 'pandas.core.frame.DataFrame'>\n",
      "RangeIndex: 138 entries, 0 to 137\n",
      "Data columns (total 3 columns):\n",
      " #   Column   Non-Null Count  Dtype  \n",
      "---  ------   --------------  -----  \n",
      " 0   Country  138 non-null    object \n",
      " 1   2016     138 non-null    float64\n",
      " 2   2018     138 non-null    float64\n",
      "dtypes: float64(2), object(1)\n",
      "memory usage: 3.4+ KB\n"
     ]
    }
   ],
   "source": [
    "lfpr_total_pivot.info()"
   ]
  },
  {
   "cell_type": "code",
   "execution_count": 227,
   "id": "65c0d913-b421-4ed2-89aa-07577dfd72b6",
   "metadata": {},
   "outputs": [
    {
     "name": "stdout",
     "output_type": "stream",
     "text": [
      "<class 'pandas.core.frame.DataFrame'>\n",
      "RangeIndex: 138 entries, 0 to 137\n",
      "Data columns (total 3 columns):\n",
      " #   Column   Non-Null Count  Dtype  \n",
      "---  ------   --------------  -----  \n",
      " 0   Country  138 non-null    object \n",
      " 1   2016     138 non-null    float64\n",
      " 2   2018     138 non-null    float64\n",
      "dtypes: float64(2), object(1)\n",
      "memory usage: 3.4+ KB\n"
     ]
    }
   ],
   "source": [
    "lfpr_male_pivot.info()"
   ]
  },
  {
   "cell_type": "code",
   "execution_count": 228,
   "id": "ea9b206b-4a98-4e25-99d3-a919fce9dae7",
   "metadata": {},
   "outputs": [
    {
     "name": "stdout",
     "output_type": "stream",
     "text": [
      "<class 'pandas.core.frame.DataFrame'>\n",
      "RangeIndex: 138 entries, 0 to 137\n",
      "Data columns (total 3 columns):\n",
      " #   Column   Non-Null Count  Dtype  \n",
      "---  ------   --------------  -----  \n",
      " 0   Country  138 non-null    object \n",
      " 1   2016     138 non-null    float64\n",
      " 2   2018     138 non-null    float64\n",
      "dtypes: float64(2), object(1)\n",
      "memory usage: 3.4+ KB\n"
     ]
    }
   ],
   "source": [
    "lfpr_female_pivot.info()"
   ]
  },
  {
   "cell_type": "code",
   "execution_count": 229,
   "id": "84933211-18a1-4024-9b8a-483efc6ad051",
   "metadata": {},
   "outputs": [],
   "source": [
    "# Standardize Data\n",
    "from sklearn.preprocessing import StandardScaler, MinMaxScaler"
   ]
  },
  {
   "cell_type": "code",
   "execution_count": 230,
   "id": "8a0ac3d1-efb5-4bc9-92ba-75f8cd386fc4",
   "metadata": {},
   "outputs": [],
   "source": [
    "value_columns = [2016, 2018]\n",
    "scaler = StandardScaler()\n",
    "\n",
    "# Z-score normalization\n",
    "lfpr_total_pivot.loc[:, value_columns] = scaler.fit_transform(lfpr_total_pivot[value_columns])\n",
    "lfpr_male_pivot.loc[:, value_columns] = scaler.fit_transform(lfpr_male_pivot[value_columns])\n",
    "lfpr_female_pivot.loc[:, value_columns] = scaler.fit_transform(lfpr_female_pivot[value_columns])\n",
    "\n",
    "slavery_reduced.loc[:, value_columns] = scaler.fit_transform(slavery_reduced[value_columns])"
   ]
  },
  {
   "cell_type": "code",
   "execution_count": 231,
   "id": "cbc9c07c-bc9b-4223-9a38-c070157900c3",
   "metadata": {},
   "outputs": [
    {
     "data": {
      "text/html": [
       "<div>\n",
       "<style scoped>\n",
       "    .dataframe tbody tr th:only-of-type {\n",
       "        vertical-align: middle;\n",
       "    }\n",
       "\n",
       "    .dataframe tbody tr th {\n",
       "        vertical-align: top;\n",
       "    }\n",
       "\n",
       "    .dataframe thead th {\n",
       "        text-align: right;\n",
       "    }\n",
       "</style>\n",
       "<table border=\"1\" class=\"dataframe\">\n",
       "  <thead>\n",
       "    <tr style=\"text-align: right;\">\n",
       "      <th></th>\n",
       "      <th>Country</th>\n",
       "      <th>2016</th>\n",
       "      <th>2018</th>\n",
       "    </tr>\n",
       "  </thead>\n",
       "  <tbody>\n",
       "    <tr>\n",
       "      <th>0</th>\n",
       "      <td>Afghanistan</td>\n",
       "      <td>1.425598</td>\n",
       "      <td>1.786060</td>\n",
       "    </tr>\n",
       "    <tr>\n",
       "      <th>1</th>\n",
       "      <td>Albania</td>\n",
       "      <td>-0.479608</td>\n",
       "      <td>0.101637</td>\n",
       "    </tr>\n",
       "    <tr>\n",
       "      <th>2</th>\n",
       "      <td>Algeria</td>\n",
       "      <td>0.274121</td>\n",
       "      <td>-0.360754</td>\n",
       "    </tr>\n",
       "    <tr>\n",
       "      <th>3</th>\n",
       "      <td>Angola</td>\n",
       "      <td>0.302161</td>\n",
       "      <td>0.134665</td>\n",
       "    </tr>\n",
       "    <tr>\n",
       "      <th>121</th>\n",
       "      <td>Argentina</td>\n",
       "      <td>-0.232309</td>\n",
       "      <td>-0.514885</td>\n",
       "    </tr>\n",
       "  </tbody>\n",
       "</table>\n",
       "</div>"
      ],
      "text/plain": [
       "         Country      2016      2018\n",
       "0    Afghanistan  1.425598  1.786060\n",
       "1        Albania -0.479608  0.101637\n",
       "2        Algeria  0.274121 -0.360754\n",
       "3         Angola  0.302161  0.134665\n",
       "121    Argentina -0.232309 -0.514885"
      ]
     },
     "execution_count": 231,
     "metadata": {},
     "output_type": "execute_result"
    }
   ],
   "source": [
    "slavery_reduced.head()"
   ]
  },
  {
   "cell_type": "code",
   "execution_count": 232,
   "id": "4aabc2b9-e497-41ae-9fcb-3c9b351fccd1",
   "metadata": {},
   "outputs": [
    {
     "data": {
      "text/html": [
       "<div>\n",
       "<style scoped>\n",
       "    .dataframe tbody tr th:only-of-type {\n",
       "        vertical-align: middle;\n",
       "    }\n",
       "\n",
       "    .dataframe tbody tr th {\n",
       "        vertical-align: top;\n",
       "    }\n",
       "\n",
       "    .dataframe thead th {\n",
       "        text-align: right;\n",
       "    }\n",
       "</style>\n",
       "<table border=\"1\" class=\"dataframe\">\n",
       "  <thead>\n",
       "    <tr style=\"text-align: right;\">\n",
       "      <th></th>\n",
       "      <th>Country</th>\n",
       "      <th>2016</th>\n",
       "      <th>2018</th>\n",
       "    </tr>\n",
       "  </thead>\n",
       "  <tbody>\n",
       "    <tr>\n",
       "      <th>0</th>\n",
       "      <td>Afghanistan</td>\n",
       "      <td>-1.692985</td>\n",
       "      <td>-1.829335</td>\n",
       "    </tr>\n",
       "    <tr>\n",
       "      <th>1</th>\n",
       "      <td>Albania</td>\n",
       "      <td>0.005041</td>\n",
       "      <td>0.172467</td>\n",
       "    </tr>\n",
       "    <tr>\n",
       "      <th>2</th>\n",
       "      <td>Algeria</td>\n",
       "      <td>-2.010203</td>\n",
       "      <td>-1.972802</td>\n",
       "    </tr>\n",
       "    <tr>\n",
       "      <th>3</th>\n",
       "      <td>Angola</td>\n",
       "      <td>0.899857</td>\n",
       "      <td>0.811514</td>\n",
       "    </tr>\n",
       "    <tr>\n",
       "      <th>4</th>\n",
       "      <td>Argentina</td>\n",
       "      <td>-0.021815</td>\n",
       "      <td>0.024332</td>\n",
       "    </tr>\n",
       "  </tbody>\n",
       "</table>\n",
       "</div>"
      ],
      "text/plain": [
       "       Country      2016      2018\n",
       "0  Afghanistan -1.692985 -1.829335\n",
       "1      Albania  0.005041  0.172467\n",
       "2      Algeria -2.010203 -1.972802\n",
       "3       Angola  0.899857  0.811514\n",
       "4    Argentina -0.021815  0.024332"
      ]
     },
     "execution_count": 232,
     "metadata": {},
     "output_type": "execute_result"
    }
   ],
   "source": [
    "lfpr_total_pivot.head()"
   ]
  },
  {
   "cell_type": "code",
   "execution_count": 233,
   "id": "9dac22c0-4cb2-4520-b12d-377646674807",
   "metadata": {},
   "outputs": [
    {
     "data": {
      "text/html": [
       "<div>\n",
       "<style scoped>\n",
       "    .dataframe tbody tr th:only-of-type {\n",
       "        vertical-align: middle;\n",
       "    }\n",
       "\n",
       "    .dataframe tbody tr th {\n",
       "        vertical-align: top;\n",
       "    }\n",
       "\n",
       "    .dataframe thead th {\n",
       "        text-align: right;\n",
       "    }\n",
       "</style>\n",
       "<table border=\"1\" class=\"dataframe\">\n",
       "  <thead>\n",
       "    <tr style=\"text-align: right;\">\n",
       "      <th></th>\n",
       "      <th>2016</th>\n",
       "      <th>2018</th>\n",
       "    </tr>\n",
       "  </thead>\n",
       "  <tbody>\n",
       "    <tr>\n",
       "      <th>count</th>\n",
       "      <td>1.380000e+02</td>\n",
       "      <td>1.380000e+02</td>\n",
       "    </tr>\n",
       "    <tr>\n",
       "      <th>mean</th>\n",
       "      <td>-1.415937e-16</td>\n",
       "      <td>5.792468e-17</td>\n",
       "    </tr>\n",
       "    <tr>\n",
       "      <th>std</th>\n",
       "      <td>1.003643e+00</td>\n",
       "      <td>1.003643e+00</td>\n",
       "    </tr>\n",
       "    <tr>\n",
       "      <th>min</th>\n",
       "      <td>-1.116280e+00</td>\n",
       "      <td>-6.249776e-01</td>\n",
       "    </tr>\n",
       "    <tr>\n",
       "      <th>25%</th>\n",
       "      <td>-4.992309e-01</td>\n",
       "      <td>-4.240577e-01</td>\n",
       "    </tr>\n",
       "    <tr>\n",
       "      <th>50%</th>\n",
       "      <td>-1.537790e-01</td>\n",
       "      <td>-2.341472e-01</td>\n",
       "    </tr>\n",
       "    <tr>\n",
       "      <th>75%</th>\n",
       "      <td>3.023753e-01</td>\n",
       "      <td>9.888431e-02</td>\n",
       "    </tr>\n",
       "    <tr>\n",
       "      <th>max</th>\n",
       "      <td>7.918369e+00</td>\n",
       "      <td>9.580649e+00</td>\n",
       "    </tr>\n",
       "  </tbody>\n",
       "</table>\n",
       "</div>"
      ],
      "text/plain": [
       "               2016          2018\n",
       "count  1.380000e+02  1.380000e+02\n",
       "mean  -1.415937e-16  5.792468e-17\n",
       "std    1.003643e+00  1.003643e+00\n",
       "min   -1.116280e+00 -6.249776e-01\n",
       "25%   -4.992309e-01 -4.240577e-01\n",
       "50%   -1.537790e-01 -2.341472e-01\n",
       "75%    3.023753e-01  9.888431e-02\n",
       "max    7.918369e+00  9.580649e+00"
      ]
     },
     "execution_count": 233,
     "metadata": {},
     "output_type": "execute_result"
    }
   ],
   "source": [
    "slavery_reduced.describe()"
   ]
  },
  {
   "cell_type": "code",
   "execution_count": 234,
   "id": "1403c576-b20b-4694-be13-bb9beee8a28b",
   "metadata": {},
   "outputs": [
    {
     "data": {
      "text/html": [
       "<div>\n",
       "<style scoped>\n",
       "    .dataframe tbody tr th:only-of-type {\n",
       "        vertical-align: middle;\n",
       "    }\n",
       "\n",
       "    .dataframe tbody tr th {\n",
       "        vertical-align: top;\n",
       "    }\n",
       "\n",
       "    .dataframe thead th {\n",
       "        text-align: right;\n",
       "    }\n",
       "</style>\n",
       "<table border=\"1\" class=\"dataframe\">\n",
       "  <thead>\n",
       "    <tr style=\"text-align: right;\">\n",
       "      <th></th>\n",
       "      <th>2016</th>\n",
       "      <th>2018</th>\n",
       "    </tr>\n",
       "  </thead>\n",
       "  <tbody>\n",
       "    <tr>\n",
       "      <th>count</th>\n",
       "      <td>1.380000e+02</td>\n",
       "      <td>1.380000e+02</td>\n",
       "    </tr>\n",
       "    <tr>\n",
       "      <th>mean</th>\n",
       "      <td>-1.016900e-15</td>\n",
       "      <td>6.307354e-16</td>\n",
       "    </tr>\n",
       "    <tr>\n",
       "      <th>std</th>\n",
       "      <td>1.003643e+00</td>\n",
       "      <td>1.003643e+00</td>\n",
       "    </tr>\n",
       "    <tr>\n",
       "      <th>min</th>\n",
       "      <td>-3.049879e+00</td>\n",
       "      <td>-3.019356e+00</td>\n",
       "    </tr>\n",
       "    <tr>\n",
       "      <th>25%</th>\n",
       "      <td>-5.025409e-01</td>\n",
       "      <td>-5.712169e-01</td>\n",
       "    </tr>\n",
       "    <tr>\n",
       "      <th>50%</th>\n",
       "      <td>8.579451e-02</td>\n",
       "      <td>1.581477e-01</td>\n",
       "    </tr>\n",
       "    <tr>\n",
       "      <th>75%</th>\n",
       "      <td>7.554580e-01</td>\n",
       "      <td>7.120841e-01</td>\n",
       "    </tr>\n",
       "    <tr>\n",
       "      <th>max</th>\n",
       "      <td>2.055512e+00</td>\n",
       "      <td>1.895326e+00</td>\n",
       "    </tr>\n",
       "  </tbody>\n",
       "</table>\n",
       "</div>"
      ],
      "text/plain": [
       "               2016          2018\n",
       "count  1.380000e+02  1.380000e+02\n",
       "mean  -1.016900e-15  6.307354e-16\n",
       "std    1.003643e+00  1.003643e+00\n",
       "min   -3.049879e+00 -3.019356e+00\n",
       "25%   -5.025409e-01 -5.712169e-01\n",
       "50%    8.579451e-02  1.581477e-01\n",
       "75%    7.554580e-01  7.120841e-01\n",
       "max    2.055512e+00  1.895326e+00"
      ]
     },
     "execution_count": 234,
     "metadata": {},
     "output_type": "execute_result"
    }
   ],
   "source": [
    "lfpr_total_pivot.describe()"
   ]
  },
  {
   "cell_type": "markdown",
   "id": "73ca834d-a064-4b78-88de-5bb7a2a117fe",
   "metadata": {},
   "source": [
    "### Finding correlation between lfpr and slavery"
   ]
  },
  {
   "cell_type": "code",
   "execution_count": 235,
   "id": "6dc6bdf0-8c3f-42cd-85c5-267e489f87f9",
   "metadata": {},
   "outputs": [],
   "source": [
    "slavLfpr_total_2016_corr = slavery_reduced[2016].corr(lfpr_total_pivot[2016])\n",
    "slavLfpr_male_2016_corr = slavery_reduced[2016].corr(lfpr_male_pivot[2016])\n",
    "slavLfpr_female_2016_corr = slavery_reduced[2016].corr(lfpr_female_pivot[2016])"
   ]
  },
  {
   "cell_type": "code",
   "execution_count": 236,
   "id": "891780d4-b5e8-42d5-806a-5f8886acf31d",
   "metadata": {},
   "outputs": [
    {
     "name": "stdout",
     "output_type": "stream",
     "text": [
      "slavLfpr_total_2016_corr:  0.01981696460095905\n",
      "slavLfpr_male_2016_corr:  -0.022584362727162906\n",
      "slavLfpr_female_2016_corr:  0.046248767279351725\n"
     ]
    }
   ],
   "source": [
    "print(\"slavLfpr_total_2016_corr: \", slavLfpr_total_2016_corr)\n",
    "print(\"slavLfpr_male_2016_corr: \", slavLfpr_male_2016_corr)\n",
    "print(\"slavLfpr_female_2016_corr: \", slavLfpr_female_2016_corr)"
   ]
  },
  {
   "cell_type": "code",
   "execution_count": 237,
   "id": "9f524726-d650-4a86-9b8c-09f2358657ae",
   "metadata": {},
   "outputs": [],
   "source": [
    "slavLfpr_total_2018_corr = slavery_reduced[2018].corr(lfpr_total_pivot[2018])\n",
    "slavLfpr_male_2018_corr = slavery_reduced[2018].corr(lfpr_male_pivot[2018])\n",
    "slavLfpr_female_2018_corr = slavery_reduced[2018].corr(lfpr_female_pivot[2018])"
   ]
  },
  {
   "cell_type": "code",
   "execution_count": 238,
   "id": "22a5e883-891e-46a3-8e71-0966b2ece408",
   "metadata": {},
   "outputs": [
    {
     "name": "stdout",
     "output_type": "stream",
     "text": [
      "slavLfpr_total_2016_corr:  0.037305512020338306\n",
      "slavLfpr_male_2016_corr:  0.005393190619142592\n",
      "slavLfpr_female_2016_corr:  0.05980669007914195\n"
     ]
    }
   ],
   "source": [
    "print(\"slavLfpr_total_2016_corr: \", slavLfpr_total_2018_corr)\n",
    "print(\"slavLfpr_male_2016_corr: \", slavLfpr_male_2018_corr)\n",
    "print(\"slavLfpr_female_2016_corr: \", slavLfpr_female_2018_corr)"
   ]
  },
  {
   "cell_type": "markdown",
   "id": "b41e1c85-da7f-4ba1-94f8-8633e4348765",
   "metadata": {},
   "source": [
    "### gdppercapita and slavery preprocess"
   ]
  },
  {
   "cell_type": "code",
   "execution_count": 239,
   "id": "efe4341e-74e2-47fb-bcee-6bf0dbf42db2",
   "metadata": {},
   "outputs": [],
   "source": [
    "gdppercapita = pd.read_csv(\"../Datasets/gdppercapita.csv\")"
   ]
  },
  {
   "cell_type": "code",
   "execution_count": 240,
   "id": "8e8a22ed-8fff-41c5-900b-010732f6dd9e",
   "metadata": {},
   "outputs": [
    {
     "data": {
      "text/html": [
       "<div>\n",
       "<style scoped>\n",
       "    .dataframe tbody tr th:only-of-type {\n",
       "        vertical-align: middle;\n",
       "    }\n",
       "\n",
       "    .dataframe tbody tr th {\n",
       "        vertical-align: top;\n",
       "    }\n",
       "\n",
       "    .dataframe thead th {\n",
       "        text-align: right;\n",
       "    }\n",
       "</style>\n",
       "<table border=\"1\" class=\"dataframe\">\n",
       "  <thead>\n",
       "    <tr style=\"text-align: right;\">\n",
       "      <th></th>\n",
       "      <th>Country</th>\n",
       "      <th>Year</th>\n",
       "      <th>GDP per capita</th>\n",
       "    </tr>\n",
       "  </thead>\n",
       "  <tbody>\n",
       "    <tr>\n",
       "      <th>0</th>\n",
       "      <td>Afghanistan</td>\n",
       "      <td>2002.0</td>\n",
       "      <td>1280.4631</td>\n",
       "    </tr>\n",
       "    <tr>\n",
       "      <th>1</th>\n",
       "      <td>Afghanistan</td>\n",
       "      <td>2003.0</td>\n",
       "      <td>1292.3335</td>\n",
       "    </tr>\n",
       "    <tr>\n",
       "      <th>2</th>\n",
       "      <td>Afghanistan</td>\n",
       "      <td>2004.0</td>\n",
       "      <td>1260.0605</td>\n",
       "    </tr>\n",
       "    <tr>\n",
       "      <th>3</th>\n",
       "      <td>Afghanistan</td>\n",
       "      <td>2005.0</td>\n",
       "      <td>1352.3207</td>\n",
       "    </tr>\n",
       "    <tr>\n",
       "      <th>4</th>\n",
       "      <td>Afghanistan</td>\n",
       "      <td>2006.0</td>\n",
       "      <td>1366.9932</td>\n",
       "    </tr>\n",
       "  </tbody>\n",
       "</table>\n",
       "</div>"
      ],
      "text/plain": [
       "       Country    Year  GDP per capita\n",
       "0  Afghanistan  2002.0       1280.4631\n",
       "1  Afghanistan  2003.0       1292.3335\n",
       "2  Afghanistan  2004.0       1260.0605\n",
       "3  Afghanistan  2005.0       1352.3207\n",
       "4  Afghanistan  2006.0       1366.9932"
      ]
     },
     "execution_count": 240,
     "metadata": {},
     "output_type": "execute_result"
    }
   ],
   "source": [
    "gdppercapita.head()"
   ]
  },
  {
   "cell_type": "code",
   "execution_count": 241,
   "id": "8ebfb652-76eb-4253-bee4-c1dcf9b6e3c5",
   "metadata": {},
   "outputs": [],
   "source": [
    "gdppercapita = gdppercapita[gdppercapita['Year'].isin([2016, 2018])]"
   ]
  },
  {
   "cell_type": "code",
   "execution_count": 242,
   "id": "c1afa6a5-7ae2-40a3-b593-fef20caa46f7",
   "metadata": {},
   "outputs": [],
   "source": [
    "common_gdppercapita_slavery = set(slavery['Country']).intersection(gdppercapita['Country'])"
   ]
  },
  {
   "cell_type": "code",
   "execution_count": 243,
   "id": "fc28a6b3-c737-40d6-90b0-fcdbaf7be79f",
   "metadata": {},
   "outputs": [
    {
     "name": "stdout",
     "output_type": "stream",
     "text": [
      "Countries in set1 but not in set2: {'Eritrea', 'Timor-Leste', 'South Sudan', 'Cuba'}\n",
      "Countries in set2 but not in set1: {'Slovakia', 'Kyrgyzstan', 'Cape Verde', 'Kosovo', 'Gambia', 'Egypt'}\n"
     ]
    }
   ],
   "source": [
    "diff_set1 = common_lfpr_slavery - common_gdppercapita_slavery\n",
    "diff_set2 = common_gdppercapita_slavery - common_lfpr_slavery\n",
    "print(\"Countries in set1 but not in set2:\", diff_set1)\n",
    "print(\"Countries in set2 but not in set1:\", diff_set2)"
   ]
  },
  {
   "cell_type": "code",
   "execution_count": 244,
   "id": "1273a960-d863-4ec1-a840-f39b2debbe8d",
   "metadata": {},
   "outputs": [],
   "source": [
    "# Filter the DataFrames to keep only rows with common entries\n",
    "slavery_filtered = slavery[slavery['Country'].isin(common_gdppercapita_slavery)]\n",
    "\n",
    "gdppercapita_filtered = gdppercapita[gdppercapita['Country'].isin(common_gdppercapita_slavery)]"
   ]
  },
  {
   "cell_type": "code",
   "execution_count": 245,
   "id": "05a520e6-8903-496e-85cd-16cbb3cbdcfe",
   "metadata": {},
   "outputs": [],
   "source": [
    "# Pivot the DataFrame\n",
    "gdppercapita_pivot = gdppercapita_filtered.pivot(index='Country', columns='Year', values='GDP per capita').reset_index()"
   ]
  },
  {
   "cell_type": "code",
   "execution_count": 246,
   "id": "47159b61-6d8a-4f6d-be7f-d8e1d8c569b5",
   "metadata": {},
   "outputs": [],
   "source": [
    "slavery_reduced = slavery_filtered[[\"Country\", \"2016\", \"2018\"]]\n",
    "\n",
    "slavery_reduced.columns = [\"Country\", 2016, 2018]\n",
    "gdppercapita_pivot.columns = [\"Country\", 2016, 2018]\n",
    "\n",
    "slavery_reduced = slavery_reduced.sort_values(by='Country')\n",
    "gdppercapita_pivot = gdppercapita_pivot.sort_values(by='Country')"
   ]
  },
  {
   "cell_type": "code",
   "execution_count": 247,
   "id": "4ad90cfa-a1f9-455b-a169-67ea5b2d3ab8",
   "metadata": {},
   "outputs": [
    {
     "data": {
      "text/html": [
       "<div>\n",
       "<style scoped>\n",
       "    .dataframe tbody tr th:only-of-type {\n",
       "        vertical-align: middle;\n",
       "    }\n",
       "\n",
       "    .dataframe tbody tr th {\n",
       "        vertical-align: top;\n",
       "    }\n",
       "\n",
       "    .dataframe thead th {\n",
       "        text-align: right;\n",
       "    }\n",
       "</style>\n",
       "<table border=\"1\" class=\"dataframe\">\n",
       "  <thead>\n",
       "    <tr style=\"text-align: right;\">\n",
       "      <th></th>\n",
       "      <th>2016</th>\n",
       "      <th>2018</th>\n",
       "    </tr>\n",
       "  </thead>\n",
       "  <tbody>\n",
       "    <tr>\n",
       "      <th>count</th>\n",
       "      <td>140.000000</td>\n",
       "      <td>140.000000</td>\n",
       "    </tr>\n",
       "    <tr>\n",
       "      <th>mean</th>\n",
       "      <td>20634.994686</td>\n",
       "      <td>21413.408378</td>\n",
       "    </tr>\n",
       "    <tr>\n",
       "      <th>std</th>\n",
       "      <td>21319.948995</td>\n",
       "      <td>21759.560787</td>\n",
       "    </tr>\n",
       "    <tr>\n",
       "      <th>min</th>\n",
       "      <td>764.336600</td>\n",
       "      <td>740.448240</td>\n",
       "    </tr>\n",
       "    <tr>\n",
       "      <th>25%</th>\n",
       "      <td>4643.781700</td>\n",
       "      <td>5049.146600</td>\n",
       "    </tr>\n",
       "    <tr>\n",
       "      <th>50%</th>\n",
       "      <td>13043.354500</td>\n",
       "      <td>14102.327750</td>\n",
       "    </tr>\n",
       "    <tr>\n",
       "      <th>75%</th>\n",
       "      <td>28704.707000</td>\n",
       "      <td>31420.179500</td>\n",
       "    </tr>\n",
       "    <tr>\n",
       "      <th>max</th>\n",
       "      <td>116283.700000</td>\n",
       "      <td>114164.470000</td>\n",
       "    </tr>\n",
       "  </tbody>\n",
       "</table>\n",
       "</div>"
      ],
      "text/plain": [
       "                2016           2018\n",
       "count     140.000000     140.000000\n",
       "mean    20634.994686   21413.408378\n",
       "std     21319.948995   21759.560787\n",
       "min       764.336600     740.448240\n",
       "25%      4643.781700    5049.146600\n",
       "50%     13043.354500   14102.327750\n",
       "75%     28704.707000   31420.179500\n",
       "max    116283.700000  114164.470000"
      ]
     },
     "execution_count": 247,
     "metadata": {},
     "output_type": "execute_result"
    }
   ],
   "source": [
    "gdppercapita_pivot.describe()"
   ]
  },
  {
   "cell_type": "code",
   "execution_count": 248,
   "id": "a610eef7-eb22-4f23-b90f-e1e45402aac5",
   "metadata": {},
   "outputs": [
    {
     "data": {
      "text/html": [
       "<div>\n",
       "<style scoped>\n",
       "    .dataframe tbody tr th:only-of-type {\n",
       "        vertical-align: middle;\n",
       "    }\n",
       "\n",
       "    .dataframe tbody tr th {\n",
       "        vertical-align: top;\n",
       "    }\n",
       "\n",
       "    .dataframe thead th {\n",
       "        text-align: right;\n",
       "    }\n",
       "</style>\n",
       "<table border=\"1\" class=\"dataframe\">\n",
       "  <thead>\n",
       "    <tr style=\"text-align: right;\">\n",
       "      <th></th>\n",
       "      <th>2016</th>\n",
       "      <th>2018</th>\n",
       "    </tr>\n",
       "  </thead>\n",
       "  <tbody>\n",
       "    <tr>\n",
       "      <th>count</th>\n",
       "      <td>140.000000</td>\n",
       "      <td>140.000000</td>\n",
       "    </tr>\n",
       "    <tr>\n",
       "      <th>mean</th>\n",
       "      <td>5.025200</td>\n",
       "      <td>5.187143</td>\n",
       "    </tr>\n",
       "    <tr>\n",
       "      <th>std</th>\n",
       "      <td>4.344604</td>\n",
       "      <td>5.037555</td>\n",
       "    </tr>\n",
       "    <tr>\n",
       "      <th>min</th>\n",
       "      <td>0.171711</td>\n",
       "      <td>0.300000</td>\n",
       "    </tr>\n",
       "    <tr>\n",
       "      <th>25%</th>\n",
       "      <td>2.904559</td>\n",
       "      <td>2.175000</td>\n",
       "    </tr>\n",
       "    <tr>\n",
       "      <th>50%</th>\n",
       "      <td>4.542213</td>\n",
       "      <td>3.900000</td>\n",
       "    </tr>\n",
       "    <tr>\n",
       "      <th>75%</th>\n",
       "      <td>6.382604</td>\n",
       "      <td>6.475000</td>\n",
       "    </tr>\n",
       "    <tr>\n",
       "      <th>max</th>\n",
       "      <td>39.730120</td>\n",
       "      <td>40.000000</td>\n",
       "    </tr>\n",
       "  </tbody>\n",
       "</table>\n",
       "</div>"
      ],
      "text/plain": [
       "             2016        2018\n",
       "count  140.000000  140.000000\n",
       "mean     5.025200    5.187143\n",
       "std      4.344604    5.037555\n",
       "min      0.171711    0.300000\n",
       "25%      2.904559    2.175000\n",
       "50%      4.542213    3.900000\n",
       "75%      6.382604    6.475000\n",
       "max     39.730120   40.000000"
      ]
     },
     "execution_count": 248,
     "metadata": {},
     "output_type": "execute_result"
    }
   ],
   "source": [
    "slavery_reduced.describe()"
   ]
  },
  {
   "cell_type": "code",
   "execution_count": 249,
   "id": "d2484e48-099b-40be-a61f-db151dc488ca",
   "metadata": {},
   "outputs": [],
   "source": [
    "value_columns = [2016, 2018]\n",
    "scaler = StandardScaler()\n",
    "\n",
    "# Z-score normalization\n",
    "gdppercapita_pivot.loc[:, value_columns] = scaler.fit_transform(gdppercapita_pivot[value_columns])\n",
    "slavery_reduced.loc[:, value_columns] = scaler.fit_transform(slavery_reduced[value_columns])"
   ]
  },
  {
   "cell_type": "markdown",
   "id": "59018e22-f6a6-4e50-90dd-2cdca13fa14f",
   "metadata": {},
   "source": [
    "### Finding correlation between gdppercapita and slavery"
   ]
  },
  {
   "cell_type": "code",
   "execution_count": 250,
   "id": "dfcdd1d1-ec58-413a-8384-0cf48e58c43c",
   "metadata": {},
   "outputs": [
    {
     "name": "stdout",
     "output_type": "stream",
     "text": [
      "slavGdp_2016_corr:  0.02820868460160493\n",
      "slavGdp_2018_corr:  -0.09580752609885806\n"
     ]
    }
   ],
   "source": [
    "slavGdp_2016_corr = slavery_reduced[2016].corr(gdppercapita_pivot[2016])\n",
    "slavGdp_2018_corr = slavery_reduced[2018].corr(gdppercapita_pivot[2018])\n",
    "\n",
    "print(\"slavGdp_2016_corr: \", slavGdp_2016_corr)\n",
    "print(\"slavGdp_2018_corr: \", slavGdp_2018_corr)"
   ]
  },
  {
   "cell_type": "markdown",
   "id": "aafbd391-64e8-4dd8-9f54-844bd9b99feb",
   "metadata": {},
   "source": [
    "### migration and slavery preprocess"
   ]
  },
  {
   "cell_type": "code",
   "execution_count": 251,
   "id": "326ac1fb-1e31-4e4d-a3c0-e29f2aa4bc88",
   "metadata": {},
   "outputs": [],
   "source": [
    "migration = pd.read_csv(\"../Datasets/migration.csv\")"
   ]
  },
  {
   "cell_type": "code",
   "execution_count": 252,
   "id": "f76a43f1-54de-4a51-85bf-1f41716f21a9",
   "metadata": {},
   "outputs": [
    {
     "data": {
      "text/html": [
       "<div>\n",
       "<style scoped>\n",
       "    .dataframe tbody tr th:only-of-type {\n",
       "        vertical-align: middle;\n",
       "    }\n",
       "\n",
       "    .dataframe tbody tr th {\n",
       "        vertical-align: top;\n",
       "    }\n",
       "\n",
       "    .dataframe thead th {\n",
       "        text-align: right;\n",
       "    }\n",
       "</style>\n",
       "<table border=\"1\" class=\"dataframe\">\n",
       "  <thead>\n",
       "    <tr style=\"text-align: right;\">\n",
       "      <th></th>\n",
       "      <th>Country</th>\n",
       "      <th>Year</th>\n",
       "      <th>Migration</th>\n",
       "    </tr>\n",
       "  </thead>\n",
       "  <tbody>\n",
       "    <tr>\n",
       "      <th>0</th>\n",
       "      <td>Afghanistan</td>\n",
       "      <td>1960</td>\n",
       "      <td>2606</td>\n",
       "    </tr>\n",
       "    <tr>\n",
       "      <th>1</th>\n",
       "      <td>Afghanistan</td>\n",
       "      <td>1961</td>\n",
       "      <td>6109</td>\n",
       "    </tr>\n",
       "    <tr>\n",
       "      <th>2</th>\n",
       "      <td>Afghanistan</td>\n",
       "      <td>1962</td>\n",
       "      <td>7016</td>\n",
       "    </tr>\n",
       "    <tr>\n",
       "      <th>3</th>\n",
       "      <td>Afghanistan</td>\n",
       "      <td>1963</td>\n",
       "      <td>6681</td>\n",
       "    </tr>\n",
       "    <tr>\n",
       "      <th>4</th>\n",
       "      <td>Afghanistan</td>\n",
       "      <td>1964</td>\n",
       "      <td>7079</td>\n",
       "    </tr>\n",
       "  </tbody>\n",
       "</table>\n",
       "</div>"
      ],
      "text/plain": [
       "       Country  Year  Migration\n",
       "0  Afghanistan  1960       2606\n",
       "1  Afghanistan  1961       6109\n",
       "2  Afghanistan  1962       7016\n",
       "3  Afghanistan  1963       6681\n",
       "4  Afghanistan  1964       7079"
      ]
     },
     "execution_count": 252,
     "metadata": {},
     "output_type": "execute_result"
    }
   ],
   "source": [
    "migration.head()"
   ]
  },
  {
   "cell_type": "code",
   "execution_count": 253,
   "id": "e52ed5bb-db6d-4da0-8777-5b43888bac60",
   "metadata": {},
   "outputs": [],
   "source": [
    "migration = migration[migration['Year'].isin([2016, 2018, 2023])]"
   ]
  },
  {
   "cell_type": "code",
   "execution_count": 254,
   "id": "05d644d9-fc10-4fd8-9490-1ba17caaee66",
   "metadata": {},
   "outputs": [],
   "source": [
    "common_migration_slavery = set(slavery['Country']).intersection(migration['Country'])"
   ]
  },
  {
   "cell_type": "code",
   "execution_count": 255,
   "id": "dbba1b50-ed98-4bb6-8621-df50a32e0317",
   "metadata": {},
   "outputs": [
    {
     "name": "stdout",
     "output_type": "stream",
     "text": [
      "Countries in set1 but not in set2: set()\n",
      "Countries in set2 but not in set1: {'Kosovo'}\n"
     ]
    }
   ],
   "source": [
    "diff_set1 = common_lfpr_slavery - common_migration_slavery\n",
    "diff_set2 = common_migration_slavery - common_lfpr_slavery\n",
    "print(\"Countries in set1 but not in set2:\", diff_set1)\n",
    "print(\"Countries in set2 but not in set1:\", diff_set2)"
   ]
  },
  {
   "cell_type": "code",
   "execution_count": 256,
   "id": "fbb0bf89-c048-4441-8fff-44044fea014d",
   "metadata": {},
   "outputs": [],
   "source": [
    "# Filter the DataFrames to keep only rows with common entries\n",
    "slavery_filtered = slavery[slavery['Country'].isin(common_migration_slavery)]\n",
    "\n",
    "migration_filtered = migration[migration['Country'].isin(common_migration_slavery)]"
   ]
  },
  {
   "cell_type": "code",
   "execution_count": 257,
   "id": "39977cc8-e945-4a54-af5f-71f37b6bf8c0",
   "metadata": {},
   "outputs": [],
   "source": [
    "# Pivot the DataFrame\n",
    "migration_pivot = migration_filtered.pivot(index='Country', columns='Year', values='Migration').reset_index()"
   ]
  },
  {
   "cell_type": "code",
   "execution_count": 258,
   "id": "2038f92a-8a31-48fe-8c94-a34d27f83f6d",
   "metadata": {},
   "outputs": [],
   "source": [
    "slavery_reduced = slavery_filtered[[\"Country\", \"2016\", \"2018\", \"2023\"]]\n",
    "\n",
    "slavery_reduced.columns = [\"Country\", 2016, 2018, 2023]\n",
    "migration_pivot.columns = [\"Country\", 2016, 2018, 2023]\n",
    "\n",
    "slavery_reduced = slavery_reduced.sort_values(by='Country')\n",
    "migration_pivot = migration_pivot.sort_values(by='Country')"
   ]
  },
  {
   "cell_type": "code",
   "execution_count": 259,
   "id": "6f052b7f-ac7c-4c16-9c9f-e581ede994f3",
   "metadata": {},
   "outputs": [
    {
     "data": {
      "text/html": [
       "<div>\n",
       "<style scoped>\n",
       "    .dataframe tbody tr th:only-of-type {\n",
       "        vertical-align: middle;\n",
       "    }\n",
       "\n",
       "    .dataframe tbody tr th {\n",
       "        vertical-align: top;\n",
       "    }\n",
       "\n",
       "    .dataframe thead th {\n",
       "        text-align: right;\n",
       "    }\n",
       "</style>\n",
       "<table border=\"1\" class=\"dataframe\">\n",
       "  <thead>\n",
       "    <tr style=\"text-align: right;\">\n",
       "      <th></th>\n",
       "      <th>2016</th>\n",
       "      <th>2018</th>\n",
       "      <th>2023</th>\n",
       "    </tr>\n",
       "  </thead>\n",
       "  <tbody>\n",
       "    <tr>\n",
       "      <th>count</th>\n",
       "      <td>1.390000e+02</td>\n",
       "      <td>1.390000e+02</td>\n",
       "      <td>1.390000e+02</td>\n",
       "    </tr>\n",
       "    <tr>\n",
       "      <th>mean</th>\n",
       "      <td>-1.407324e+04</td>\n",
       "      <td>-9.391439e+02</td>\n",
       "      <td>-8.797396e+03</td>\n",
       "    </tr>\n",
       "    <tr>\n",
       "      <th>std</th>\n",
       "      <td>2.293148e+05</td>\n",
       "      <td>1.624201e+05</td>\n",
       "      <td>1.878706e+05</td>\n",
       "    </tr>\n",
       "    <tr>\n",
       "      <th>min</th>\n",
       "      <td>-2.290411e+06</td>\n",
       "      <td>-1.309609e+06</td>\n",
       "      <td>-9.104750e+05</td>\n",
       "    </tr>\n",
       "    <tr>\n",
       "      <th>25%</th>\n",
       "      <td>-2.576200e+04</td>\n",
       "      <td>-2.233050e+04</td>\n",
       "      <td>-1.500650e+04</td>\n",
       "    </tr>\n",
       "    <tr>\n",
       "      <th>50%</th>\n",
       "      <td>-9.820000e+02</td>\n",
       "      <td>-2.024000e+03</td>\n",
       "      <td>-4.000000e+03</td>\n",
       "    </tr>\n",
       "    <tr>\n",
       "      <th>75%</th>\n",
       "      <td>2.776850e+04</td>\n",
       "      <td>2.401250e+04</td>\n",
       "      <td>3.359000e+03</td>\n",
       "    </tr>\n",
       "    <tr>\n",
       "      <th>max</th>\n",
       "      <td>4.320170e+05</td>\n",
       "      <td>4.943640e+05</td>\n",
       "      <td>1.784718e+06</td>\n",
       "    </tr>\n",
       "  </tbody>\n",
       "</table>\n",
       "</div>"
      ],
      "text/plain": [
       "               2016          2018          2023\n",
       "count  1.390000e+02  1.390000e+02  1.390000e+02\n",
       "mean  -1.407324e+04 -9.391439e+02 -8.797396e+03\n",
       "std    2.293148e+05  1.624201e+05  1.878706e+05\n",
       "min   -2.290411e+06 -1.309609e+06 -9.104750e+05\n",
       "25%   -2.576200e+04 -2.233050e+04 -1.500650e+04\n",
       "50%   -9.820000e+02 -2.024000e+03 -4.000000e+03\n",
       "75%    2.776850e+04  2.401250e+04  3.359000e+03\n",
       "max    4.320170e+05  4.943640e+05  1.784718e+06"
      ]
     },
     "execution_count": 259,
     "metadata": {},
     "output_type": "execute_result"
    }
   ],
   "source": [
    "migration_pivot.describe()"
   ]
  },
  {
   "cell_type": "code",
   "execution_count": 260,
   "id": "8f1d0e56-9f9d-4bad-9c06-70b80a7ff935",
   "metadata": {},
   "outputs": [
    {
     "name": "stderr",
     "output_type": "stream",
     "text": [
      "C:\\Users\\msepr\\AppData\\Local\\Temp\\ipykernel_63900\\1396973260.py:5: FutureWarning: Setting an item of incompatible dtype is deprecated and will raise in a future error of pandas. Value '[-3.33341846e-01  1.39448509e-02 -9.69579091e-02  4.62588968e-01\n",
      "  8.44166837e-02 -5.57173129e-02  1.12153255e+00  3.51681832e-01\n",
      "  6.80876309e-02  1.88741431e-01 -1.79176506e-01  6.13082949e-02\n",
      "  1.28370765e-01  3.10099861e-01  7.83419785e-02 -7.93115031e-02\n",
      "  7.52871195e-02  4.23050865e-01 -3.82409956e-03  2.83175685e-02\n",
      " -4.17599934e-01 -1.15996070e-01  1.19586951e-01  1.46426322e+00\n",
      " -1.69307298e-01  1.55890755e-01  6.15340670e-01 -6.08261648e-01\n",
      "  4.11623592e-01  7.97556166e-02  2.20683980e-03 -1.66644128e-03\n",
      "  8.29417733e-02  1.61637216e-01  6.86959768e-02 -7.04970533e-02\n",
      "  1.80036396e-01 -1.46290818e-01  1.36471831e-01 -1.81439203e-01\n",
      "  6.66871225e-02  5.68454275e-01  1.36913866e-01  1.26055550e-01\n",
      "  9.39576473e-02  1.52403212e-02  1.95235353e+00  9.22901670e-02\n",
      " -5.75992461e-02 -1.10258362e-01 -5.37281375e-04  5.55005615e-02\n",
      "  3.39721213e-02 -8.67823402e-02  3.23352771e-02  5.72949630e-02\n",
      "  7.95936829e-02  3.59721625e-01 -1.07575514e-01 -2.69189808e-01\n",
      "  1.44651675e-01  1.19639470e-01  2.78632188e-01  1.20103987e-02\n",
      "  7.48686578e-01  2.76885929e-01  2.90090696e-02 -6.85100819e-02\n",
      " -7.57577130e-02 -3.35735841e-01  1.63388450e-02 -9.37026622e-01\n",
      "  4.46947638e-02 -5.57960915e-02  3.93553255e-02 -1.42710170e-02\n",
      "  1.16453314e-01  6.37154187e-02  3.75302880e-02  4.89347432e-01\n",
      " -7.09916078e-02  4.84236175e-02  5.03974590e-02  2.06431603e-01\n",
      "  9.42858914e-02  5.23537942e-02 -1.88993195e-01  3.99325377e-01\n",
      " -3.23262562e-01  2.39716159e-02 -3.67382954e-01  3.22122351e-01\n",
      "  2.80474732e-01 -3.94232728e-02  1.26510715e-01 -1.76121647e-01\n",
      "  1.77244132e-01  5.80096001e-01 -9.96259434e+00  1.05835709e-01\n",
      "  1.86211762e-01 -1.16450637e-02  4.14892904e-01  4.07566494e-01\n",
      "  5.29840230e-02  2.60198594e-02  6.67553375e-01 -2.18517663e-01\n",
      "  5.01917593e-02  8.11867014e-01 -4.65965018e-02  8.74190236e-02\n",
      "  8.19745472e-02  2.21329511e-01  9.52224814e-02  6.04364186e-01\n",
      " -3.72897516e+00 -2.80888052e+00  4.51201084e-01 -3.71234352e-01\n",
      "  4.88949163e-01  5.76100773e-02  4.10262473e-01  3.70741876e-01\n",
      " -8.55956864e-03  3.97246498e-01  3.76309495e-02  5.28921146e-02\n",
      "  6.11419845e-02 -4.26838315e-02  1.95074953e-02  6.01580675e-01\n",
      " -1.76200426e-01  2.42129265e-03  1.14234761e+00  4.62484528e-02\n",
      " -9.25025417e-02  1.37242110e-01 -2.00643674e-01]' has dtype incompatible with int64, please explicitly cast to a compatible dtype first.\n",
      "  migration_pivot.loc[:, value_columns] = scaler.fit_transform(migration_pivot[value_columns])\n",
      "C:\\Users\\msepr\\AppData\\Local\\Temp\\ipykernel_63900\\1396973260.py:5: FutureWarning: Setting an item of incompatible dtype is deprecated and will raise in a future error of pandas. Value '[-2.85883301e-01 -5.04641648e-02 -2.18048679e-01  3.86635992e-01\n",
      "  3.47832802e-02 -1.53835034e-01  1.36711137e+00  2.24569452e-01\n",
      "  1.55846856e-02 -1.64479873e-02 -1.99240788e+00  5.40145932e-03\n",
      "  1.03007189e-01  3.48368565e-01  2.66144543e-02 -1.74343607e-01\n",
      "  2.94012474e-02  4.25576946e-01 -6.90572035e-02 -1.42317113e-01\n",
      "  4.26880745e-01 -3.13565858e-01 -5.09523170e-02  2.58852386e+00\n",
      " -3.22204299e-01  2.94146593e-01  1.47247192e+00 -1.82738771e+00\n",
      "  3.06054853e+00  3.17431423e-02 -7.55823776e-02 -8.20581186e-02\n",
      "  3.65566940e-02  1.50005744e-01  1.46701725e-02 -1.79225129e-01\n",
      "  9.53510493e-01 -3.28846877e-01  1.02092676e-01 -1.26646808e-01\n",
      "  5.04721221e-02  6.33247378e-02  7.77653930e-02  9.47271382e-02\n",
      "  2.36793618e-02 -2.61677779e-02  2.43165398e+00 -1.13911596e-01\n",
      " -1.40024651e-01 -3.45691218e-01 -5.10141085e-02 -2.82297887e-03\n",
      "  1.91671699e-01 -2.10510126e-01 -3.60173305e-02  2.03387353e-01\n",
      "  4.66534123e-02 -3.46417450e+00 -2.40608727e-01  4.69561902e-02\n",
      "  2.13712699e-01  1.02290408e-01  4.74571364e-01 -6.42003978e-02\n",
      "  1.10241546e+00  2.13138039e-01 -1.90446451e-01 -7.07479991e-01\n",
      " -2.05134272e-01  9.01574803e-01 -4.75352514e-02 -1.43715017e+00\n",
      " -1.41802421e-02 -1.37713652e-01  4.18583980e-02 -8.34916796e-02\n",
      "  6.81877227e-02  8.79998750e-03 -1.70967972e-02  3.80283834e-01\n",
      " -2.46064909e-01 -1.26539940e-02 -7.84662144e-03 -6.08589000e-01\n",
      "  7.64059817e-02 -6.70348014e-03 -5.44183801e-01 -7.30736459e-02\n",
      " -7.02536677e-01 -4.73128023e-02 -4.95510699e-01  3.81235422e-01\n",
      "  5.02723536e-01 -1.22346125e-01 -1.77765029e-02 -4.97080201e-01\n",
      "  1.19425169e-01 -3.10426854e-01 -8.08645706e+00  7.45769556e-02\n",
      "  1.58353765e-01 -9.59673676e-02  2.02533831e+00 -8.91764903e-02\n",
      " -4.81778822e-02  6.86882332e-02  7.78642593e-02 -3.51752957e-01\n",
      " -6.08945568e-02  1.57063996e+00 -1.17612902e-01  2.64785132e-02\n",
      " -1.11339251e-02  2.26559136e-01  5.25112390e-02  2.58183985e-01\n",
      "  1.74277414e-01 -1.82965546e+00  2.10092776e+00 -5.94191599e-01\n",
      "  4.64283092e-01  4.76683030e-04  5.09353755e-01  2.58523838e-01\n",
      " -5.68225021e-02  6.32938421e-02 -2.72676652e-02 -6.53664330e-03\n",
      "  2.25175008e-01 -1.24039210e-01 -5.36031690e-02  3.81019152e-01\n",
      " -1.99795493e-01 -4.72262943e-02  1.43057116e+00 -1.25056946e-02\n",
      " -3.65353249e-01  1.17145066e-01 -3.64438735e-01]' has dtype incompatible with int64, please explicitly cast to a compatible dtype first.\n",
      "  migration_pivot.loc[:, value_columns] = scaler.fit_transform(migration_pivot[value_columns])\n",
      "C:\\Users\\msepr\\AppData\\Local\\Temp\\ipykernel_63900\\1396973260.py:5: FutureWarning: Setting an item of incompatible dtype is deprecated and will raise in a future error of pandas. Value '[-3.04757229e-01  4.25973785e-03 -6.41904577e-03  4.16541777e-02\n",
      "  6.68580302e-02  2.02859264e-02  7.94836960e-01  1.53832155e-01\n",
      "  4.69962406e-02  4.69962406e-02 -1.60892037e+00  4.65688756e-02\n",
      "  2.41215275e-02  1.75200407e-01  4.59278280e-02  4.43252092e-02\n",
      "  6.30224291e-02  7.90486176e-02  2.13543389e-02 -8.65446463e-02\n",
      "  5.76803663e-02 -1.13254961e-01  2.13543389e-02  1.38115507e+00\n",
      " -3.16175562e-02  3.63121149e-02 -3.33385344e-01 -1.61021849e+00\n",
      " -8.88137202e-01  6.70289762e-02  3.63121149e-02  1.49438635e-02\n",
      "  7.37065548e-02  1.53832155e-01  5.18040971e-02 -1.08452446e-01\n",
      " -6.79916621e-02 -7.72013784e-02  6.83644919e-02 -3.47212947e-02\n",
      "  4.16541777e-02 -1.71031715e-02  1.21779778e-01  4.08979761e-01\n",
      "  5.23383034e-02 -6.41904577e-03  8.79027870e-01 -6.41904577e-03\n",
      "  7.37065548e-02 -1.66995190e-03  2.56279892e-02  3.95173526e-02\n",
      "  2.61621955e-02 -1.22940120e-01  2.01042962e-02 -7.89982139e-01\n",
      "  4.90262245e-02 -2.54997282e+00 -2.20090875e-01  1.49438635e-02\n",
      "  1.00411527e-01  1.00411527e-01  3.59485549e-01 -1.17611086e-02\n",
      "  5.81170472e-01 -7.93801714e-01  4.69962406e-02 -6.42438783e-03\n",
      "  2.02859264e-02  1.11095653e-01  6.23630110e-03 -9.00317105e-01\n",
      "  2.56279892e-02  2.02859264e-02  3.63121149e-02 -2.31343604e-02\n",
      "  7.30815334e-02  3.89831463e-02  1.49438635e-02  3.08741294e-01\n",
      " -1.66675589e-01  6.30224291e-02  4.69962406e-02 -2.21383655e-01\n",
      "  4.24554872e-02  4.44320504e-02 -1.66675589e-01  2.02859264e-02\n",
      " -1.39965275e-01  2.60767225e-02 -2.84275760e-01  2.07247442e-01\n",
      "  1.16437715e-01  4.25973785e-03  5.23383034e-02 -2.73506162e-01\n",
      "  1.96563316e-01  4.69962406e-02 -8.39722086e-01  8.57903009e-02\n",
      "  4.27225903e-02 -1.97742029e-02 -2.81230785e-01 -3.26926790e-01\n",
      " -4.81681843e+00  1.00411527e-01  4.69962406e-02 -1.31317843e+00\n",
      " -1.07698293e-03  2.01905379e-01 -5.98396742e-02 -6.41904577e-03\n",
      "  2.56279892e-02  1.91221253e-01  5.76803663e-02 -1.13265645e-01\n",
      "  3.59485549e-01 -7.74257451e-02  2.60668070e-01 -3.66986919e-01\n",
      " -6.41904577e-03  4.16541777e-02  2.60668070e-01  2.60668070e-01\n",
      " -5.98396742e-02  1.48490093e-01  2.02859264e-02  3.63121149e-02\n",
      "  4.27225903e-02  2.56279892e-02  2.56279892e-02 -6.27070591e-01\n",
      "  9.58107195e+00  4.69962406e-02  9.32656839e-01  3.89831463e-02\n",
      " -5.98396742e-02  2.02859264e-02 -6.41904577e-03]' has dtype incompatible with int64, please explicitly cast to a compatible dtype first.\n",
      "  migration_pivot.loc[:, value_columns] = scaler.fit_transform(migration_pivot[value_columns])\n"
     ]
    }
   ],
   "source": [
    "value_columns = [2016, 2018, 2023]\n",
    "scaler = StandardScaler()\n",
    "\n",
    "# Z-score normalization\n",
    "migration_pivot.loc[:, value_columns] = scaler.fit_transform(migration_pivot[value_columns])\n",
    "slavery_reduced.loc[:, value_columns] = scaler.fit_transform(slavery_reduced[value_columns])"
   ]
  },
  {
   "cell_type": "markdown",
   "id": "f0073958-a36f-45c4-ad04-108228161cdd",
   "metadata": {},
   "source": [
    "### Finding correlation between migration and slavery"
   ]
  },
  {
   "cell_type": "code",
   "execution_count": 261,
   "id": "5ebb7ff7-7725-4215-95fc-92d60110763f",
   "metadata": {},
   "outputs": [
    {
     "name": "stdout",
     "output_type": "stream",
     "text": [
      "slavMigration_2016_corr:  -0.1345895732639958\n",
      "slavMigration_2018_corr:  -0.008146733551690358\n",
      "slavMigration_2023_corr:  0.0040715348807804945\n"
     ]
    }
   ],
   "source": [
    "slavMigration_2016_corr = slavery_reduced[2016].corr(migration_pivot[2016])\n",
    "slavMigration_2018_corr = slavery_reduced[2018].corr(migration_pivot[2018])\n",
    "slavMigration_2023_corr = slavery_reduced[2023].corr(migration_pivot[2023])\n",
    "\n",
    "print(\"slavMigration_2016_corr: \", slavMigration_2016_corr)\n",
    "print(\"slavMigration_2018_corr: \", slavMigration_2018_corr)\n",
    "print(\"slavMigration_2023_corr: \", slavMigration_2023_corr)"
   ]
  },
  {
   "cell_type": "markdown",
   "id": "c897cc3b-6d22-4e21-ae6e-9b703256e7d1",
   "metadata": {},
   "source": [
    "### corruption and slavery preprocess"
   ]
  },
  {
   "cell_type": "code",
   "execution_count": 262,
   "id": "f2117399-66c6-435b-b93f-3ffc406d896e",
   "metadata": {},
   "outputs": [],
   "source": [
    "corruption = pd.read_csv(\"../Datasets/corruption.csv\")"
   ]
  },
  {
   "cell_type": "code",
   "execution_count": 263,
   "id": "a6d29b95-b8ae-41ce-8745-c37caa8d61e0",
   "metadata": {},
   "outputs": [
    {
     "data": {
      "text/html": [
       "<div>\n",
       "<style scoped>\n",
       "    .dataframe tbody tr th:only-of-type {\n",
       "        vertical-align: middle;\n",
       "    }\n",
       "\n",
       "    .dataframe tbody tr th {\n",
       "        vertical-align: top;\n",
       "    }\n",
       "\n",
       "    .dataframe thead th {\n",
       "        text-align: right;\n",
       "    }\n",
       "</style>\n",
       "<table border=\"1\" class=\"dataframe\">\n",
       "  <thead>\n",
       "    <tr style=\"text-align: right;\">\n",
       "      <th></th>\n",
       "      <th>Country</th>\n",
       "      <th>Year</th>\n",
       "      <th>Corruption</th>\n",
       "    </tr>\n",
       "  </thead>\n",
       "  <tbody>\n",
       "    <tr>\n",
       "      <th>0</th>\n",
       "      <td>Afghanistan</td>\n",
       "      <td>2012</td>\n",
       "      <td>8.0</td>\n",
       "    </tr>\n",
       "    <tr>\n",
       "      <th>1</th>\n",
       "      <td>Afghanistan</td>\n",
       "      <td>2013</td>\n",
       "      <td>8.0</td>\n",
       "    </tr>\n",
       "    <tr>\n",
       "      <th>2</th>\n",
       "      <td>Afghanistan</td>\n",
       "      <td>2014</td>\n",
       "      <td>12.0</td>\n",
       "    </tr>\n",
       "    <tr>\n",
       "      <th>3</th>\n",
       "      <td>Afghanistan</td>\n",
       "      <td>2015</td>\n",
       "      <td>11.0</td>\n",
       "    </tr>\n",
       "    <tr>\n",
       "      <th>4</th>\n",
       "      <td>Afghanistan</td>\n",
       "      <td>2016</td>\n",
       "      <td>15.0</td>\n",
       "    </tr>\n",
       "  </tbody>\n",
       "</table>\n",
       "</div>"
      ],
      "text/plain": [
       "       Country  Year  Corruption\n",
       "0  Afghanistan  2012         8.0\n",
       "1  Afghanistan  2013         8.0\n",
       "2  Afghanistan  2014        12.0\n",
       "3  Afghanistan  2015        11.0\n",
       "4  Afghanistan  2016        15.0"
      ]
     },
     "execution_count": 263,
     "metadata": {},
     "output_type": "execute_result"
    }
   ],
   "source": [
    "corruption.head()"
   ]
  },
  {
   "cell_type": "code",
   "execution_count": 264,
   "id": "0a4eb61f-5731-4106-b95b-dbe992f33432",
   "metadata": {},
   "outputs": [],
   "source": [
    "corruption = corruption[corruption['Year'].isin([2016, 2018, 2023])]"
   ]
  },
  {
   "cell_type": "code",
   "execution_count": 265,
   "id": "c4282139-1330-4286-a09f-5c08eaf7e8e3",
   "metadata": {},
   "outputs": [],
   "source": [
    "common_corruption_slavery = set(slavery['Country']).intersection(corruption['Country'])"
   ]
  },
  {
   "cell_type": "code",
   "execution_count": 266,
   "id": "76694e41-753e-4637-917f-724f456d6f26",
   "metadata": {},
   "outputs": [
    {
     "name": "stdout",
     "output_type": "stream",
     "text": [
      "Countries in set1 but not in set2: set()\n",
      "Countries in set2 but not in set1: {'Yemen', 'Kyrgyzstan', 'Kosovo', 'Gambia', 'Egypt'}\n"
     ]
    }
   ],
   "source": [
    "diff_set1 = common_lfpr_slavery - common_corruption_slavery\n",
    "diff_set2 = common_corruption_slavery - common_lfpr_slavery\n",
    "print(\"Countries in set1 but not in set2:\", diff_set1)\n",
    "print(\"Countries in set2 but not in set1:\", diff_set2)"
   ]
  },
  {
   "cell_type": "code",
   "execution_count": 267,
   "id": "05045c1b-38b2-477e-abdc-c95a375c1e3e",
   "metadata": {},
   "outputs": [],
   "source": [
    "# Equatorial Guinea has Nan values\n",
    "common_corruption_slavery.remove(\"Equatorial Guinea\")"
   ]
  },
  {
   "cell_type": "code",
   "execution_count": 268,
   "id": "87e58c5d-be71-47df-957c-74988dd40023",
   "metadata": {},
   "outputs": [],
   "source": [
    "# Filter the DataFrames to keep only rows with common entries\n",
    "slavery_filtered = slavery[slavery['Country'].isin(common_corruption_slavery)]\n",
    "\n",
    "corruption_filtered = corruption[corruption['Country'].isin(common_corruption_slavery)]"
   ]
  },
  {
   "cell_type": "code",
   "execution_count": 269,
   "id": "561ad337-28c1-40dd-9113-c73ce868f334",
   "metadata": {},
   "outputs": [],
   "source": [
    "# Pivot the DataFrame\n",
    "corruption_pivot = corruption_filtered.pivot(index='Country', columns='Year', values='Corruption').reset_index()"
   ]
  },
  {
   "cell_type": "code",
   "execution_count": 270,
   "id": "b0ed78b8-aec0-442e-ae9a-c5a21d103297",
   "metadata": {},
   "outputs": [],
   "source": [
    "slavery_reduced = slavery_filtered[[\"Country\", \"2016\", \"2018\", \"2023\"]]\n",
    "\n",
    "slavery_reduced.columns = [\"Country\", 2016, 2018, 2023]\n",
    "corruption_pivot.columns = [\"Country\", 2016, 2018, 2023]\n",
    "\n",
    "slavery_reduced = slavery_reduced.sort_values(by='Country')\n",
    "corruption_pivot = corruption_pivot.sort_values(by='Country')"
   ]
  },
  {
   "cell_type": "code",
   "execution_count": 271,
   "id": "91bca53e-18a3-4483-83d0-5ef5f826a343",
   "metadata": {},
   "outputs": [],
   "source": [
    "# Providing new rankings\n",
    "\n",
    "# Replace the values with ranks (1 for the lowest, etc.)\n",
    "slavery_ranked = slavery_reduced.copy()\n",
    "slavery_ranked.iloc[:, 1:] = slavery_reduced.iloc[:, 1:].rank(axis=0, method='min')\n",
    "\n",
    "corruption_ranked = corruption_pivot.copy()\n",
    "corruption_ranked.iloc[:, 1:] = corruption_pivot.iloc[:, 1:].rank(axis=0, method='min')"
   ]
  },
  {
   "cell_type": "code",
   "execution_count": 272,
   "id": "591457d5-d197-4871-a013-ca3f456a1d0a",
   "metadata": {},
   "outputs": [
    {
     "data": {
      "text/html": [
       "<div>\n",
       "<style scoped>\n",
       "    .dataframe tbody tr th:only-of-type {\n",
       "        vertical-align: middle;\n",
       "    }\n",
       "\n",
       "    .dataframe tbody tr th {\n",
       "        vertical-align: top;\n",
       "    }\n",
       "\n",
       "    .dataframe thead th {\n",
       "        text-align: right;\n",
       "    }\n",
       "</style>\n",
       "<table border=\"1\" class=\"dataframe\">\n",
       "  <thead>\n",
       "    <tr style=\"text-align: right;\">\n",
       "      <th></th>\n",
       "      <th>2016</th>\n",
       "      <th>2018</th>\n",
       "      <th>2023</th>\n",
       "    </tr>\n",
       "  </thead>\n",
       "  <tbody>\n",
       "    <tr>\n",
       "      <th>count</th>\n",
       "      <td>142.000000</td>\n",
       "      <td>142.000000</td>\n",
       "      <td>142.000000</td>\n",
       "    </tr>\n",
       "    <tr>\n",
       "      <th>mean</th>\n",
       "      <td>70.373239</td>\n",
       "      <td>70.366197</td>\n",
       "      <td>70.352113</td>\n",
       "    </tr>\n",
       "    <tr>\n",
       "      <th>std</th>\n",
       "      <td>41.520500</td>\n",
       "      <td>41.358231</td>\n",
       "      <td>41.466076</td>\n",
       "    </tr>\n",
       "    <tr>\n",
       "      <th>min</th>\n",
       "      <td>1.000000</td>\n",
       "      <td>1.000000</td>\n",
       "      <td>1.000000</td>\n",
       "    </tr>\n",
       "    <tr>\n",
       "      <th>25%</th>\n",
       "      <td>36.000000</td>\n",
       "      <td>35.000000</td>\n",
       "      <td>36.000000</td>\n",
       "    </tr>\n",
       "    <tr>\n",
       "      <th>50%</th>\n",
       "      <td>70.000000</td>\n",
       "      <td>69.500000</td>\n",
       "      <td>71.500000</td>\n",
       "    </tr>\n",
       "    <tr>\n",
       "      <th>75%</th>\n",
       "      <td>106.500000</td>\n",
       "      <td>106.000000</td>\n",
       "      <td>105.000000</td>\n",
       "    </tr>\n",
       "    <tr>\n",
       "      <th>max</th>\n",
       "      <td>141.000000</td>\n",
       "      <td>142.000000</td>\n",
       "      <td>142.000000</td>\n",
       "    </tr>\n",
       "  </tbody>\n",
       "</table>\n",
       "</div>"
      ],
      "text/plain": [
       "             2016        2018        2023\n",
       "count  142.000000  142.000000  142.000000\n",
       "mean    70.373239   70.366197   70.352113\n",
       "std     41.520500   41.358231   41.466076\n",
       "min      1.000000    1.000000    1.000000\n",
       "25%     36.000000   35.000000   36.000000\n",
       "50%     70.000000   69.500000   71.500000\n",
       "75%    106.500000  106.000000  105.000000\n",
       "max    141.000000  142.000000  142.000000"
      ]
     },
     "execution_count": 272,
     "metadata": {},
     "output_type": "execute_result"
    }
   ],
   "source": [
    "corruption_ranked.describe()"
   ]
  },
  {
   "cell_type": "code",
   "execution_count": 273,
   "id": "a3b04035-996a-451d-aef4-9e0505c22815",
   "metadata": {},
   "outputs": [
    {
     "data": {
      "text/html": [
       "<div>\n",
       "<style scoped>\n",
       "    .dataframe tbody tr th:only-of-type {\n",
       "        vertical-align: middle;\n",
       "    }\n",
       "\n",
       "    .dataframe tbody tr th {\n",
       "        vertical-align: top;\n",
       "    }\n",
       "\n",
       "    .dataframe thead th {\n",
       "        text-align: right;\n",
       "    }\n",
       "</style>\n",
       "<table border=\"1\" class=\"dataframe\">\n",
       "  <thead>\n",
       "    <tr style=\"text-align: right;\">\n",
       "      <th></th>\n",
       "      <th>2016</th>\n",
       "      <th>2018</th>\n",
       "      <th>2023</th>\n",
       "    </tr>\n",
       "  </thead>\n",
       "  <tbody>\n",
       "    <tr>\n",
       "      <th>count</th>\n",
       "      <td>142.000000</td>\n",
       "      <td>142.000000</td>\n",
       "      <td>137.000000</td>\n",
       "    </tr>\n",
       "    <tr>\n",
       "      <th>mean</th>\n",
       "      <td>71.500000</td>\n",
       "      <td>70.704225</td>\n",
       "      <td>68.357664</td>\n",
       "    </tr>\n",
       "    <tr>\n",
       "      <th>std</th>\n",
       "      <td>41.135953</td>\n",
       "      <td>41.426135</td>\n",
       "      <td>39.805360</td>\n",
       "    </tr>\n",
       "    <tr>\n",
       "      <th>min</th>\n",
       "      <td>1.000000</td>\n",
       "      <td>1.000000</td>\n",
       "      <td>1.000000</td>\n",
       "    </tr>\n",
       "    <tr>\n",
       "      <th>25%</th>\n",
       "      <td>36.250000</td>\n",
       "      <td>36.000000</td>\n",
       "      <td>35.000000</td>\n",
       "    </tr>\n",
       "    <tr>\n",
       "      <th>50%</th>\n",
       "      <td>71.500000</td>\n",
       "      <td>71.000000</td>\n",
       "      <td>69.000000</td>\n",
       "    </tr>\n",
       "    <tr>\n",
       "      <th>75%</th>\n",
       "      <td>106.750000</td>\n",
       "      <td>106.500000</td>\n",
       "      <td>103.000000</td>\n",
       "    </tr>\n",
       "    <tr>\n",
       "      <th>max</th>\n",
       "      <td>142.000000</td>\n",
       "      <td>142.000000</td>\n",
       "      <td>137.000000</td>\n",
       "    </tr>\n",
       "  </tbody>\n",
       "</table>\n",
       "</div>"
      ],
      "text/plain": [
       "             2016        2018        2023\n",
       "count  142.000000  142.000000  137.000000\n",
       "mean    71.500000   70.704225   68.357664\n",
       "std     41.135953   41.426135   39.805360\n",
       "min      1.000000    1.000000    1.000000\n",
       "25%     36.250000   36.000000   35.000000\n",
       "50%     71.500000   71.000000   69.000000\n",
       "75%    106.750000  106.500000  103.000000\n",
       "max    142.000000  142.000000  137.000000"
      ]
     },
     "execution_count": 273,
     "metadata": {},
     "output_type": "execute_result"
    }
   ],
   "source": [
    "slavery_ranked.describe()"
   ]
  },
  {
   "cell_type": "markdown",
   "id": "e03d83dc-2c67-459b-b0ed-a26779752ae9",
   "metadata": {},
   "source": [
    "### Finding correlation between migration and slavery"
   ]
  },
  {
   "cell_type": "code",
   "execution_count": 274,
   "id": "d564aeae-94a8-4e6c-a696-02947575bfef",
   "metadata": {},
   "outputs": [
    {
     "name": "stdout",
     "output_type": "stream",
     "text": [
      "slavCorruption_2016_corr:  -0.17703288868372158\n",
      "slavCorruption_2018_corr:  -0.026178850810978035\n",
      "slavCorruption_2023_corr:  -0.08792134500974737\n"
     ]
    }
   ],
   "source": [
    "slavCorruption_2016_corr = slavery_ranked[2016].corr(corruption_ranked[2016])\n",
    "slavCorruption_2018_corr = slavery_ranked[2018].corr(corruption_ranked[2018])\n",
    "slavCorruption_2023_corr = slavery_ranked[2023].corr(corruption_ranked[2023])\n",
    "\n",
    "print(\"slavCorruption_2016_corr: \", slavCorruption_2016_corr)\n",
    "print(\"slavCorruption_2018_corr: \", slavCorruption_2018_corr)\n",
    "print(\"slavCorruption_2023_corr: \", slavCorruption_2023_corr)"
   ]
  },
  {
   "cell_type": "markdown",
   "id": "e841777d-60a6-447a-9763-9951ccf37e49",
   "metadata": {},
   "source": [
    "### Democracy and slavery preprocess"
   ]
  },
  {
   "cell_type": "code",
   "execution_count": 275,
   "id": "956177b1-8e46-470c-a3ee-2b970e70fd07",
   "metadata": {},
   "outputs": [],
   "source": [
    "democracy = pd.read_csv(\"../Datasets/democracy.csv\")"
   ]
  },
  {
   "cell_type": "code",
   "execution_count": 276,
   "id": "29544b78-26eb-4748-b0b1-c063962a6bdc",
   "metadata": {},
   "outputs": [
    {
     "data": {
      "text/html": [
       "<div>\n",
       "<style scoped>\n",
       "    .dataframe tbody tr th:only-of-type {\n",
       "        vertical-align: middle;\n",
       "    }\n",
       "\n",
       "    .dataframe tbody tr th {\n",
       "        vertical-align: top;\n",
       "    }\n",
       "\n",
       "    .dataframe thead th {\n",
       "        text-align: right;\n",
       "    }\n",
       "</style>\n",
       "<table border=\"1\" class=\"dataframe\">\n",
       "  <thead>\n",
       "    <tr style=\"text-align: right;\">\n",
       "      <th></th>\n",
       "      <th>Country</th>\n",
       "      <th>Year</th>\n",
       "      <th>Democracy score</th>\n",
       "    </tr>\n",
       "  </thead>\n",
       "  <tbody>\n",
       "    <tr>\n",
       "      <th>0</th>\n",
       "      <td>Afghanistan</td>\n",
       "      <td>2006</td>\n",
       "      <td>3.06</td>\n",
       "    </tr>\n",
       "    <tr>\n",
       "      <th>1</th>\n",
       "      <td>Afghanistan</td>\n",
       "      <td>2008</td>\n",
       "      <td>3.02</td>\n",
       "    </tr>\n",
       "    <tr>\n",
       "      <th>2</th>\n",
       "      <td>Afghanistan</td>\n",
       "      <td>2010</td>\n",
       "      <td>2.48</td>\n",
       "    </tr>\n",
       "    <tr>\n",
       "      <th>3</th>\n",
       "      <td>Afghanistan</td>\n",
       "      <td>2011</td>\n",
       "      <td>2.48</td>\n",
       "    </tr>\n",
       "    <tr>\n",
       "      <th>4</th>\n",
       "      <td>Afghanistan</td>\n",
       "      <td>2012</td>\n",
       "      <td>2.48</td>\n",
       "    </tr>\n",
       "  </tbody>\n",
       "</table>\n",
       "</div>"
      ],
      "text/plain": [
       "       Country  Year  Democracy score\n",
       "0  Afghanistan  2006             3.06\n",
       "1  Afghanistan  2008             3.02\n",
       "2  Afghanistan  2010             2.48\n",
       "3  Afghanistan  2011             2.48\n",
       "4  Afghanistan  2012             2.48"
      ]
     },
     "execution_count": 276,
     "metadata": {},
     "output_type": "execute_result"
    }
   ],
   "source": [
    "democracy.head()"
   ]
  },
  {
   "cell_type": "code",
   "execution_count": 277,
   "id": "195548df-3b97-4923-a383-bb6a8c746f1f",
   "metadata": {},
   "outputs": [],
   "source": [
    "democracy = democracy[democracy['Year'].isin([2016, 2018, 2023])]"
   ]
  },
  {
   "cell_type": "code",
   "execution_count": 278,
   "id": "7d15f386-22cf-44b8-a0d8-5edd1aa64e6c",
   "metadata": {},
   "outputs": [],
   "source": [
    "common_democracy_slavery = set(slavery['Country']).intersection(democracy['Country'])"
   ]
  },
  {
   "cell_type": "code",
   "execution_count": 279,
   "id": "bbf8d359-b161-471c-a695-ab7d058301ce",
   "metadata": {},
   "outputs": [
    {
     "name": "stdout",
     "output_type": "stream",
     "text": [
      "Countries in set1 but not in set2: {'Timor-Leste', 'Somalia', 'Barbados', 'South Sudan'}\n",
      "Countries in set2 but not in set1: {'Yemen', 'Slovakia', 'Kyrgyzstan', 'Cape Verde', 'Gambia', 'Egypt'}\n"
     ]
    }
   ],
   "source": [
    "diff_set1 = common_lfpr_slavery - common_democracy_slavery\n",
    "diff_set2 = common_democracy_slavery - common_lfpr_slavery\n",
    "print(\"Countries in set1 but not in set2:\", diff_set1)\n",
    "print(\"Countries in set2 but not in set1:\", diff_set2)"
   ]
  },
  {
   "cell_type": "code",
   "execution_count": 280,
   "id": "1eebf4a5-35ea-4b6f-841d-699c6ec2d087",
   "metadata": {},
   "outputs": [],
   "source": [
    "# Filter the DataFrames to keep only rows with common entries\n",
    "slavery_filtered = slavery[slavery['Country'].isin(common_democracy_slavery)]\n",
    "\n",
    "democracy_filtered = democracy[democracy['Country'].isin(common_democracy_slavery)]"
   ]
  },
  {
   "cell_type": "code",
   "execution_count": 281,
   "id": "d136edff-29c3-4556-8660-97243dc1d400",
   "metadata": {},
   "outputs": [],
   "source": [
    "# Pivot the DataFrame\n",
    "democracy_pivot = democracy_filtered.pivot(index='Country', columns='Year', values='Democracy score').reset_index()\n",
    "\n",
    "democracy_final = democracy_pivot.dropna()"
   ]
  },
  {
   "cell_type": "code",
   "execution_count": 282,
   "id": "0ea7a07a-2667-4537-89a3-7dce1b65d218",
   "metadata": {},
   "outputs": [],
   "source": [
    "slavery_reduced = slavery_filtered[[\"Country\", \"2016\", \"2018\", \"2023\"]]\n",
    "\n",
    "slavery_reduced.columns = [\"Country\", 2016, 2018, 2023]\n",
    "democracy_final.columns = [\"Country\", 2016, 2018, 2023]\n",
    "\n",
    "slavery_reduced = slavery_reduced.sort_values(by='Country')\n",
    "democracy_final = democracy_final.sort_values(by='Country')"
   ]
  },
  {
   "cell_type": "code",
   "execution_count": 283,
   "id": "831d951e-70fb-46d5-aab4-721430dc7409",
   "metadata": {},
   "outputs": [
    {
     "data": {
      "text/html": [
       "<div>\n",
       "<style scoped>\n",
       "    .dataframe tbody tr th:only-of-type {\n",
       "        vertical-align: middle;\n",
       "    }\n",
       "\n",
       "    .dataframe tbody tr th {\n",
       "        vertical-align: top;\n",
       "    }\n",
       "\n",
       "    .dataframe thead th {\n",
       "        text-align: right;\n",
       "    }\n",
       "</style>\n",
       "<table border=\"1\" class=\"dataframe\">\n",
       "  <thead>\n",
       "    <tr style=\"text-align: right;\">\n",
       "      <th></th>\n",
       "      <th>2016</th>\n",
       "      <th>2018</th>\n",
       "      <th>2023</th>\n",
       "    </tr>\n",
       "  </thead>\n",
       "  <tbody>\n",
       "    <tr>\n",
       "      <th>count</th>\n",
       "      <td>126.000000</td>\n",
       "      <td>126.000000</td>\n",
       "      <td>126.000000</td>\n",
       "    </tr>\n",
       "    <tr>\n",
       "      <th>mean</th>\n",
       "      <td>6.030873</td>\n",
       "      <td>5.998571</td>\n",
       "      <td>5.776984</td>\n",
       "    </tr>\n",
       "    <tr>\n",
       "      <th>std</th>\n",
       "      <td>1.954127</td>\n",
       "      <td>1.951131</td>\n",
       "      <td>2.151253</td>\n",
       "    </tr>\n",
       "    <tr>\n",
       "      <th>min</th>\n",
       "      <td>1.980000</td>\n",
       "      <td>1.980000</td>\n",
       "      <td>2.120000</td>\n",
       "    </tr>\n",
       "    <tr>\n",
       "      <th>25%</th>\n",
       "      <td>4.372500</td>\n",
       "      <td>4.487500</td>\n",
       "      <td>3.670000</td>\n",
       "    </tr>\n",
       "    <tr>\n",
       "      <th>50%</th>\n",
       "      <td>6.345000</td>\n",
       "      <td>6.245000</td>\n",
       "      <td>6.115000</td>\n",
       "    </tr>\n",
       "    <tr>\n",
       "      <th>75%</th>\n",
       "      <td>7.500000</td>\n",
       "      <td>7.470000</td>\n",
       "      <td>7.380000</td>\n",
       "    </tr>\n",
       "    <tr>\n",
       "      <th>max</th>\n",
       "      <td>9.930000</td>\n",
       "      <td>9.870000</td>\n",
       "      <td>9.810000</td>\n",
       "    </tr>\n",
       "  </tbody>\n",
       "</table>\n",
       "</div>"
      ],
      "text/plain": [
       "             2016        2018        2023\n",
       "count  126.000000  126.000000  126.000000\n",
       "mean     6.030873    5.998571    5.776984\n",
       "std      1.954127    1.951131    2.151253\n",
       "min      1.980000    1.980000    2.120000\n",
       "25%      4.372500    4.487500    3.670000\n",
       "50%      6.345000    6.245000    6.115000\n",
       "75%      7.500000    7.470000    7.380000\n",
       "max      9.930000    9.870000    9.810000"
      ]
     },
     "execution_count": 283,
     "metadata": {},
     "output_type": "execute_result"
    }
   ],
   "source": [
    "democracy_final.describe()"
   ]
  },
  {
   "cell_type": "code",
   "execution_count": 284,
   "id": "d08c19d7-2675-4df0-a537-771c756d8594",
   "metadata": {},
   "outputs": [],
   "source": [
    "value_columns = [2016, 2018, 2023]\n",
    "scaler = StandardScaler()\n",
    "\n",
    "# Z-score normalization\n",
    "democracy_final.loc[:, value_columns] = scaler.fit_transform(democracy_final[value_columns])\n",
    "slavery_reduced.loc[:, value_columns] = scaler.fit_transform(slavery_reduced[value_columns])"
   ]
  },
  {
   "cell_type": "markdown",
   "id": "ce8f7023-d6cd-4e2b-9143-ca18aad73c7f",
   "metadata": {},
   "source": [
    "### Finding correlation between democracy and slavery"
   ]
  },
  {
   "cell_type": "code",
   "execution_count": 285,
   "id": "5709a87c-f8d4-48d4-84ed-5e13c2f3340d",
   "metadata": {},
   "outputs": [
    {
     "name": "stdout",
     "output_type": "stream",
     "text": [
      "slavDemocracy_2016_corr:  -0.07872211202444274\n",
      "slavDemocracy_2018_corr:  0.018214079821583018\n",
      "slavDemocracy_2023_corr:  0.004806334640026755\n"
     ]
    }
   ],
   "source": [
    "slavDemocracy_2016_corr = slavery_reduced[2016].corr(democracy_final[2016])\n",
    "slavDemocracy_2018_corr = slavery_reduced[2018].corr(democracy_final[2018])\n",
    "slavDemocracy_2023_corr = slavery_reduced[2023].corr(democracy_final[2023])\n",
    "\n",
    "print(\"slavDemocracy_2016_corr: \", slavDemocracy_2016_corr)\n",
    "print(\"slavDemocracy_2018_corr: \", slavDemocracy_2018_corr)\n",
    "print(\"slavDemocracy_2023_corr: \", slavDemocracy_2023_corr)"
   ]
  },
  {
   "cell_type": "code",
   "execution_count": null,
   "id": "0cd54689-97a5-43d2-af9c-2d7fc1039ca4",
   "metadata": {},
   "outputs": [],
   "source": []
  },
  {
   "cell_type": "code",
   "execution_count": null,
   "id": "520a2b6a-1493-4d06-ab98-effe43796c15",
   "metadata": {},
   "outputs": [],
   "source": []
  },
  {
   "cell_type": "code",
   "execution_count": null,
   "id": "f32d6d11-0639-4e97-a206-65d396aa6ed3",
   "metadata": {},
   "outputs": [],
   "source": []
  },
  {
   "cell_type": "code",
   "execution_count": null,
   "id": "c2dd294a-7e84-45e0-9530-91ccbcda3862",
   "metadata": {},
   "outputs": [],
   "source": []
  }
 ],
 "metadata": {
  "kernelspec": {
   "display_name": "venv",
   "language": "python",
   "name": "python3"
  },
  "language_info": {
   "codemirror_mode": {
    "name": "ipython",
    "version": 3
   },
   "file_extension": ".py",
   "mimetype": "text/x-python",
   "name": "python",
   "nbconvert_exporter": "python",
   "pygments_lexer": "ipython3",
   "version": "3.13.0"
  }
 },
 "nbformat": 4,
 "nbformat_minor": 5
}
