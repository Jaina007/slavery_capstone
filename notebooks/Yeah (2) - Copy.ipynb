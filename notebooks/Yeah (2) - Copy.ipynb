{
 "cells": [
  {
   "cell_type": "code",
   "execution_count": 42,
   "id": "a263a247-32a5-4a9c-8cbf-760ac1b6e7ee",
   "metadata": {},
   "outputs": [],
   "source": [
    "import pandas as pd"
   ]
  },
  {
   "cell_type": "markdown",
   "id": "dd298b3f-2833-499c-887b-f051ab7d3ef4",
   "metadata": {},
   "source": [
    "### Slavery data PreProcessing"
   ]
  },
  {
   "cell_type": "code",
   "execution_count": 43,
   "id": "b4b5b940-c641-4f2b-8acd-10461cf5bf09",
   "metadata": {},
   "outputs": [],
   "source": [
    "slavery_2015 = pd.read_csv(\"../Datasets/slavery_2016.csv\")[[\"Country\", \"POPULATION\", \"ESTIMATED NUMBER IN MODERN SLAVERY\"]]\n",
    "slavery_2017 = pd.read_csv(\"../Datasets/slavery_2018.csv\")[[\"Country \", \"Est. prevalence of population in modern slavery (victims per 1,000 population)\"]]\n",
    "slavery_2021 = pd.read_csv(\"../Datasets/slavery_2023.csv\")[[\"Country\", \"Estimated prevalence of modern slavery per 1,000 population\"]]\n",
    "\n",
    "slavery_2015.columns = slavery_2015.columns.str.strip()\n",
    "slavery_2017.columns = slavery_2017.columns.str.strip()\n",
    "slavery_2021.columns = slavery_2021.columns.str.strip()"
   ]
  },
  {
   "cell_type": "code",
   "execution_count": 44,
   "id": "05abff8e-f4f1-441b-ae32-8ed3f1d45f4b",
   "metadata": {},
   "outputs": [],
   "source": [
    "slavery_2015[\"Estimated prevalence of modern slavery per 1,000 population\"] = (slavery_2015[\"ESTIMATED NUMBER IN MODERN SLAVERY\"]/slavery_2015[\"POPULATION\"])*1000\n",
    "slavery_2015 = slavery_2015[[\"Country\", \"Estimated prevalence of modern slavery per 1,000 population\"]]"
   ]
  },
  {
   "cell_type": "code",
   "execution_count": 45,
   "id": "2357c2e4-e3df-4ac1-a023-c6bcf5fee71e",
   "metadata": {},
   "outputs": [],
   "source": [
    "slavery_2015.columns = [\"Country\", \"2015\"]\n",
    "slavery_2017.columns = [\"Country\", \"2017\"]\n",
    "slavery_2021.columns = [\"Country\", \"2021\"]"
   ]
  },
  {
   "cell_type": "code",
   "execution_count": 46,
   "id": "ded3ad70-93bc-4c86-b3ca-00321aa47cb5",
   "metadata": {},
   "outputs": [],
   "source": [
    "# Find common entries in the common column  \n",
    "# NOTE: I HAVE GIVEN MORE IMPORTANCE TO COUNTRIES IN THE SALVERY DATASET. (Since slavery data is the main comparing data here)\n",
    "common_entries = set(slavery_2015['Country']).intersection(slavery_2017['Country']).intersection(slavery_2021['Country'])"
   ]
  },
  {
   "cell_type": "code",
   "execution_count": 47,
   "id": "45dd64ad-3ec9-4d6a-b270-07599869d858",
   "metadata": {},
   "outputs": [],
   "source": [
    "# Filter the DataFrames to keep only rows with common entries\n",
    "slavery_2015_filtered = slavery_2015[slavery_2015['Country'].isin(common_entries)]\n",
    "slavery_2017_filtered = slavery_2017[slavery_2017['Country'].isin(common_entries)]\n",
    "slavery_2021_filtered = slavery_2021[slavery_2021['Country'].isin(common_entries)]"
   ]
  },
  {
   "cell_type": "code",
   "execution_count": 48,
   "id": "45c0e59a-5a82-4255-a297-f6df9e8229e1",
   "metadata": {},
   "outputs": [],
   "source": [
    "# Merge the filtered DataFrames on the common column\n",
    "temp1 = pd.merge(slavery_2015_filtered, slavery_2017_filtered, on='Country', how='inner')\n",
    "slavery = pd.merge(temp1, slavery_2021_filtered, on='Country', how='inner')"
   ]
  },
  {
   "cell_type": "code",
   "execution_count": 49,
   "id": "6be2deab-8822-4bfa-8ba5-28f6834d190d",
   "metadata": {},
   "outputs": [
    {
     "data": {
      "text/html": [
       "<div>\n",
       "<style scoped>\n",
       "    .dataframe tbody tr th:only-of-type {\n",
       "        vertical-align: middle;\n",
       "    }\n",
       "\n",
       "    .dataframe tbody tr th {\n",
       "        vertical-align: top;\n",
       "    }\n",
       "\n",
       "    .dataframe thead th {\n",
       "        text-align: right;\n",
       "    }\n",
       "</style>\n",
       "<table border=\"1\" class=\"dataframe\">\n",
       "  <thead>\n",
       "    <tr style=\"text-align: right;\">\n",
       "      <th></th>\n",
       "      <th>Country</th>\n",
       "      <th>2015</th>\n",
       "      <th>2017</th>\n",
       "      <th>2021</th>\n",
       "    </tr>\n",
       "  </thead>\n",
       "  <tbody>\n",
       "    <tr>\n",
       "      <th>0</th>\n",
       "      <td>Afghanistan</td>\n",
       "      <td>11.301380</td>\n",
       "      <td>22.2</td>\n",
       "      <td>13.0</td>\n",
       "    </tr>\n",
       "    <tr>\n",
       "      <th>1</th>\n",
       "      <td>Albania</td>\n",
       "      <td>2.959394</td>\n",
       "      <td>6.9</td>\n",
       "      <td>11.8</td>\n",
       "    </tr>\n",
       "    <tr>\n",
       "      <th>2</th>\n",
       "      <td>Algeria</td>\n",
       "      <td>6.259611</td>\n",
       "      <td>2.7</td>\n",
       "      <td>1.9</td>\n",
       "    </tr>\n",
       "    <tr>\n",
       "      <th>3</th>\n",
       "      <td>Angola</td>\n",
       "      <td>6.382384</td>\n",
       "      <td>7.2</td>\n",
       "      <td>4.1</td>\n",
       "    </tr>\n",
       "    <tr>\n",
       "      <th>4</th>\n",
       "      <td>Armenia</td>\n",
       "      <td>4.671968</td>\n",
       "      <td>5.3</td>\n",
       "      <td>8.9</td>\n",
       "    </tr>\n",
       "  </tbody>\n",
       "</table>\n",
       "</div>"
      ],
      "text/plain": [
       "       Country       2015  2017  2021\n",
       "0  Afghanistan  11.301380  22.2  13.0\n",
       "1      Albania   2.959394   6.9  11.8\n",
       "2      Algeria   6.259611   2.7   1.9\n",
       "3       Angola   6.382384   7.2   4.1\n",
       "4      Armenia   4.671968   5.3   8.9"
      ]
     },
     "execution_count": 49,
     "metadata": {},
     "output_type": "execute_result"
    }
   ],
   "source": [
    "slavery.head()"
   ]
  },
  {
   "cell_type": "code",
   "execution_count": 50,
   "id": "675dc138-9b6e-41b2-b1a7-7e9e78243dfe",
   "metadata": {},
   "outputs": [
    {
     "name": "stdout",
     "output_type": "stream",
     "text": [
      "<class 'pandas.core.frame.DataFrame'>\n",
      "RangeIndex: 145 entries, 0 to 144\n",
      "Data columns (total 4 columns):\n",
      " #   Column   Non-Null Count  Dtype  \n",
      "---  ------   --------------  -----  \n",
      " 0   Country  145 non-null    object \n",
      " 1   2015     145 non-null    float64\n",
      " 2   2017     145 non-null    float64\n",
      " 3   2021     139 non-null    float64\n",
      "dtypes: float64(3), object(1)\n",
      "memory usage: 4.7+ KB\n"
     ]
    }
   ],
   "source": [
    "slavery.info()"
   ]
  },
  {
   "cell_type": "code",
   "execution_count": 51,
   "id": "01eb88e8-6bad-4140-82d9-1755d716afd1",
   "metadata": {},
   "outputs": [
    {
     "data": {
      "text/html": [
       "<div>\n",
       "<style scoped>\n",
       "    .dataframe tbody tr th:only-of-type {\n",
       "        vertical-align: middle;\n",
       "    }\n",
       "\n",
       "    .dataframe tbody tr th {\n",
       "        vertical-align: top;\n",
       "    }\n",
       "\n",
       "    .dataframe thead th {\n",
       "        text-align: right;\n",
       "    }\n",
       "</style>\n",
       "<table border=\"1\" class=\"dataframe\">\n",
       "  <thead>\n",
       "    <tr style=\"text-align: right;\">\n",
       "      <th></th>\n",
       "      <th>Country</th>\n",
       "      <th>2015</th>\n",
       "      <th>2017</th>\n",
       "      <th>2021</th>\n",
       "    </tr>\n",
       "  </thead>\n",
       "  <tbody>\n",
       "    <tr>\n",
       "      <th>20</th>\n",
       "      <td>Cape Verde</td>\n",
       "      <td>4.606526</td>\n",
       "      <td>4.1</td>\n",
       "      <td>NaN</td>\n",
       "    </tr>\n",
       "    <tr>\n",
       "      <th>44</th>\n",
       "      <td>Iceland</td>\n",
       "      <td>1.208459</td>\n",
       "      <td>2.1</td>\n",
       "      <td>NaN</td>\n",
       "    </tr>\n",
       "    <tr>\n",
       "      <th>64</th>\n",
       "      <td>Luxembourg</td>\n",
       "      <td>0.177936</td>\n",
       "      <td>1.5</td>\n",
       "      <td>NaN</td>\n",
       "    </tr>\n",
       "    <tr>\n",
       "      <th>72</th>\n",
       "      <td>Montenegro</td>\n",
       "      <td>4.019293</td>\n",
       "      <td>5.9</td>\n",
       "      <td>NaN</td>\n",
       "    </tr>\n",
       "    <tr>\n",
       "      <th>122</th>\n",
       "      <td>Barbados</td>\n",
       "      <td>2.112676</td>\n",
       "      <td>2.7</td>\n",
       "      <td>NaN</td>\n",
       "    </tr>\n",
       "    <tr>\n",
       "      <th>142</th>\n",
       "      <td>Suriname</td>\n",
       "      <td>4.604052</td>\n",
       "      <td>2.3</td>\n",
       "      <td>NaN</td>\n",
       "    </tr>\n",
       "  </tbody>\n",
       "</table>\n",
       "</div>"
      ],
      "text/plain": [
       "        Country      2015  2017  2021\n",
       "20   Cape Verde  4.606526   4.1   NaN\n",
       "44      Iceland  1.208459   2.1   NaN\n",
       "64   Luxembourg  0.177936   1.5   NaN\n",
       "72   Montenegro  4.019293   5.9   NaN\n",
       "122    Barbados  2.112676   2.7   NaN\n",
       "142    Suriname  4.604052   2.3   NaN"
      ]
     },
     "execution_count": 51,
     "metadata": {},
     "output_type": "execute_result"
    }
   ],
   "source": [
    "slavery[slavery.isnull().any(axis=1)]"
   ]
  },
  {
   "cell_type": "markdown",
   "id": "6542e9dd-7847-46ef-b86d-674f6fbe3dcb",
   "metadata": {
    "jp-MarkdownHeadingCollapsed": true
   },
   "source": [
    "### Other parameters data preprocessing"
   ]
  },
  {
   "cell_type": "code",
   "execution_count": 52,
   "id": "cf84572b-0837-4906-8744-d39689c9d348",
   "metadata": {},
   "outputs": [],
   "source": [
    "corruption = pd.read_csv(\"../Datasets/corruption.csv\")\n",
    "democracy = pd.read_csv(\"../Datasets/democracy.csv\")\n",
    "gdppercapita = pd.read_csv(\"../Datasets/gdppercapita.csv\")\n",
    "lfpr = pd.read_csv(\"../Datasets/lfpr.csv\")\n",
    "migration = pd.read_csv(\"../Datasets/migration.csv\")\n",
    "\n",
    "corruption.columns = corruption.columns.str.strip()\n",
    "democracy.columns = democracy.columns.str.strip()\n",
    "gdppercapita.columns = gdppercapita.columns.str.strip()\n",
    "lfpr.columns = lfpr.columns.str.strip()\n",
    "migration.columns = migration.columns.str.strip()"
   ]
  },
  {
   "cell_type": "code",
   "execution_count": 53,
   "id": "53fd7d8d-5303-4c98-b6ea-1aef863d27a3",
   "metadata": {},
   "outputs": [],
   "source": [
    "lfpr = lfpr[lfpr['Type_LFPR'].isin(['Total'])]  # removing male, female entries\n",
    "lfpr = lfpr[[\"Country\", \"Year\", \"LFPR\"]]"
   ]
  },
  {
   "cell_type": "code",
   "execution_count": 54,
   "id": "f7187cd2-fac5-4a77-aa37-d0b447a6d764",
   "metadata": {},
   "outputs": [
    {
     "name": "stdout",
     "output_type": "stream",
     "text": [
      "<class 'pandas.core.frame.DataFrame'>\n",
      "Index: 6079 entries, 2 to 18172\n",
      "Data columns (total 3 columns):\n",
      " #   Column   Non-Null Count  Dtype  \n",
      "---  ------   --------------  -----  \n",
      " 0   Country  6079 non-null   object \n",
      " 1   Year     6079 non-null   int64  \n",
      " 2   LFPR     6079 non-null   float64\n",
      "dtypes: float64(1), int64(1), object(1)\n",
      "memory usage: 190.0+ KB\n"
     ]
    }
   ],
   "source": [
    "lfpr.info()"
   ]
  },
  {
   "cell_type": "code",
   "execution_count": 55,
   "id": "e39067c6-ff13-44dc-b2e0-38949438d975",
   "metadata": {},
   "outputs": [],
   "source": [
    "years = [2015, 2017, 2021]"
   ]
  },
  {
   "cell_type": "code",
   "execution_count": 56,
   "id": "0a6efb4f-bd34-4d94-a85d-b3ea31ec11d7",
   "metadata": {},
   "outputs": [],
   "source": [
    "corruption = corruption[corruption['Year'].isin(years)]\n",
    "democracy = democracy[democracy['Year'].isin(years)]\n",
    "gdppercapita = gdppercapita[gdppercapita['Year'].isin(years)]\n",
    "lfpr = lfpr[lfpr['Year'].isin(years)]\n",
    "migration = migration[migration['Year'].isin(years)]"
   ]
  },
  {
   "cell_type": "code",
   "execution_count": 57,
   "id": "4933686d-1862-447b-98b0-498f608e1c0f",
   "metadata": {},
   "outputs": [],
   "source": [
    "# Find common entries in the common column\n",
    "common_entries = set(corruption['Country']).intersection(democracy['Country']).intersection(gdppercapita['Country']).intersection(lfpr['Country']).intersection(migration['Country'])"
   ]
  },
  {
   "cell_type": "code",
   "execution_count": 58,
   "id": "e4065d8b-0f3c-4163-9894-31542540568a",
   "metadata": {},
   "outputs": [],
   "source": [
    "# Filter the DataFrames to keep only rows with common countries\n",
    "corruption_filtered = corruption[corruption['Country'].isin(common_entries)]\n",
    "democracy_filtered = democracy[democracy['Country'].isin(common_entries)]\n",
    "gdppercapita_filtered = gdppercapita[gdppercapita['Country'].isin(common_entries)]\n",
    "lfpr_filtered = lfpr[lfpr['Country'].isin(common_entries)]\n",
    "migration_filtered = migration[migration['Country'].isin(common_entries)]"
   ]
  },
  {
   "cell_type": "code",
   "execution_count": 59,
   "id": "a1099286-5cbb-4246-adf6-db4595c1fa2d",
   "metadata": {},
   "outputs": [],
   "source": [
    "# Create a complete DataFrame with all combinations of Country and Year\n",
    "all_combinations = pd.DataFrame([(country, year) for country in common_entries for year in years], columns=['Country', 'Year'])"
   ]
  },
  {
   "cell_type": "code",
   "execution_count": 60,
   "id": "960d190d-69e4-4849-b032-757ef21ec43c",
   "metadata": {},
   "outputs": [
    {
     "name": "stdout",
     "output_type": "stream",
     "text": [
      "<class 'pandas.core.frame.DataFrame'>\n",
      "RangeIndex: 429 entries, 0 to 428\n",
      "Data columns (total 2 columns):\n",
      " #   Column   Non-Null Count  Dtype \n",
      "---  ------   --------------  ----- \n",
      " 0   Country  429 non-null    object\n",
      " 1   Year     429 non-null    int64 \n",
      "dtypes: int64(1), object(1)\n",
      "memory usage: 6.8+ KB\n"
     ]
    }
   ],
   "source": [
    "all_combinations.info()"
   ]
  },
  {
   "cell_type": "code",
   "execution_count": 61,
   "id": "4f569d80-95ac-49a4-bcec-3b1a9319b181",
   "metadata": {},
   "outputs": [],
   "source": [
    "# Merge each DataFrame with the complete combinations to fill missing rows with NaN\n",
    "corruption_complete = pd.merge(all_combinations, corruption_filtered, on=['Country', 'Year'], how='left')\n",
    "democracy_complete = pd.merge(all_combinations, democracy_filtered, on=['Country', 'Year'], how='left')\n",
    "gdppercapita_complete = pd.merge(all_combinations, gdppercapita_filtered, on=['Country', 'Year'], how='left')\n",
    "lfpr_complete = pd.merge(all_combinations, lfpr_filtered, on=['Country', 'Year'], how='left')\n",
    "migration_complete = pd.merge(all_combinations, migration_filtered, on=['Country', 'Year'], how='left')"
   ]
  },
  {
   "cell_type": "code",
   "execution_count": 62,
   "id": "e6349f3e-104c-43e4-a594-ab9d16b7bfe3",
   "metadata": {},
   "outputs": [],
   "source": [
    "# Merge the filtered DataFrames on the common column\n",
    "temp2 = pd.merge(corruption_complete, democracy_complete, on=['Country', 'Year'], how='inner')\n",
    "temp3 = pd.merge(temp2, gdppercapita_complete, on=['Country', 'Year'], how='inner')\n",
    "temp4 = pd.merge(temp3, lfpr_complete, on=['Country', 'Year'], how='inner')\n",
    "comparing_data = pd.merge(temp4, migration_complete, on=['Country', 'Year'], how='inner')"
   ]
  },
  {
   "cell_type": "code",
   "execution_count": 63,
   "id": "11dd5dff-80bd-45f0-a281-756403ba1be9",
   "metadata": {},
   "outputs": [
    {
     "data": {
      "text/html": [
       "<div>\n",
       "<style scoped>\n",
       "    .dataframe tbody tr th:only-of-type {\n",
       "        vertical-align: middle;\n",
       "    }\n",
       "\n",
       "    .dataframe tbody tr th {\n",
       "        vertical-align: top;\n",
       "    }\n",
       "\n",
       "    .dataframe thead th {\n",
       "        text-align: right;\n",
       "    }\n",
       "</style>\n",
       "<table border=\"1\" class=\"dataframe\">\n",
       "  <thead>\n",
       "    <tr style=\"text-align: right;\">\n",
       "      <th></th>\n",
       "      <th>Country</th>\n",
       "      <th>Year</th>\n",
       "      <th>Corruption</th>\n",
       "      <th>Democracy score</th>\n",
       "      <th>GDP per capita</th>\n",
       "      <th>LFPR</th>\n",
       "      <th>Migration</th>\n",
       "    </tr>\n",
       "  </thead>\n",
       "  <tbody>\n",
       "    <tr>\n",
       "      <th>0</th>\n",
       "      <td>Albania</td>\n",
       "      <td>2015</td>\n",
       "      <td>36.0</td>\n",
       "      <td>5.91</td>\n",
       "      <td>11878.4950</td>\n",
       "      <td>64.775</td>\n",
       "      <td>-12240</td>\n",
       "    </tr>\n",
       "    <tr>\n",
       "      <th>1</th>\n",
       "      <td>Albania</td>\n",
       "      <td>2017</td>\n",
       "      <td>38.0</td>\n",
       "      <td>5.98</td>\n",
       "      <td>12771.0540</td>\n",
       "      <td>67.665</td>\n",
       "      <td>-9768</td>\n",
       "    </tr>\n",
       "    <tr>\n",
       "      <th>2</th>\n",
       "      <td>Albania</td>\n",
       "      <td>2021</td>\n",
       "      <td>35.0</td>\n",
       "      <td>6.11</td>\n",
       "      <td>14596.0160</td>\n",
       "      <td>68.684</td>\n",
       "      <td>-10612</td>\n",
       "    </tr>\n",
       "    <tr>\n",
       "      <th>3</th>\n",
       "      <td>Ethiopia</td>\n",
       "      <td>2015</td>\n",
       "      <td>33.0</td>\n",
       "      <td>3.83</td>\n",
       "      <td>1750.6727</td>\n",
       "      <td>82.588</td>\n",
       "      <td>62784</td>\n",
       "    </tr>\n",
       "    <tr>\n",
       "      <th>4</th>\n",
       "      <td>Ethiopia</td>\n",
       "      <td>2017</td>\n",
       "      <td>35.0</td>\n",
       "      <td>3.42</td>\n",
       "      <td>1987.9688</td>\n",
       "      <td>82.437</td>\n",
       "      <td>71769</td>\n",
       "    </tr>\n",
       "  </tbody>\n",
       "</table>\n",
       "</div>"
      ],
      "text/plain": [
       "    Country  Year  Corruption  Democracy score  GDP per capita    LFPR  \\\n",
       "0   Albania  2015        36.0             5.91      11878.4950  64.775   \n",
       "1   Albania  2017        38.0             5.98      12771.0540  67.665   \n",
       "2   Albania  2021        35.0             6.11      14596.0160  68.684   \n",
       "3  Ethiopia  2015        33.0             3.83       1750.6727  82.588   \n",
       "4  Ethiopia  2017        35.0             3.42       1987.9688  82.437   \n",
       "\n",
       "   Migration  \n",
       "0     -12240  \n",
       "1      -9768  \n",
       "2     -10612  \n",
       "3      62784  \n",
       "4      71769  "
      ]
     },
     "execution_count": 63,
     "metadata": {},
     "output_type": "execute_result"
    }
   ],
   "source": [
    "comparing_data.head()"
   ]
  },
  {
   "cell_type": "code",
   "execution_count": 64,
   "id": "9c214f60-dd2f-44ba-aa1a-dba48d9b3efc",
   "metadata": {},
   "outputs": [
    {
     "data": {
      "text/html": [
       "<div>\n",
       "<style scoped>\n",
       "    .dataframe tbody tr th:only-of-type {\n",
       "        vertical-align: middle;\n",
       "    }\n",
       "\n",
       "    .dataframe tbody tr th {\n",
       "        vertical-align: top;\n",
       "    }\n",
       "\n",
       "    .dataframe thead th {\n",
       "        text-align: right;\n",
       "    }\n",
       "</style>\n",
       "<table border=\"1\" class=\"dataframe\">\n",
       "  <thead>\n",
       "    <tr style=\"text-align: right;\">\n",
       "      <th></th>\n",
       "      <th>Country</th>\n",
       "      <th>Year</th>\n",
       "      <th>Corruption</th>\n",
       "      <th>Democracy score</th>\n",
       "      <th>GDP per capita</th>\n",
       "      <th>LFPR</th>\n",
       "      <th>Migration</th>\n",
       "    </tr>\n",
       "  </thead>\n",
       "  <tbody>\n",
       "    <tr>\n",
       "      <th>0</th>\n",
       "      <td>Albania</td>\n",
       "      <td>2015</td>\n",
       "      <td>36.0</td>\n",
       "      <td>5.91</td>\n",
       "      <td>11878.4950</td>\n",
       "      <td>64.775</td>\n",
       "      <td>-12240</td>\n",
       "    </tr>\n",
       "    <tr>\n",
       "      <th>1</th>\n",
       "      <td>Albania</td>\n",
       "      <td>2017</td>\n",
       "      <td>38.0</td>\n",
       "      <td>5.98</td>\n",
       "      <td>12771.0540</td>\n",
       "      <td>67.665</td>\n",
       "      <td>-9768</td>\n",
       "    </tr>\n",
       "    <tr>\n",
       "      <th>2</th>\n",
       "      <td>Albania</td>\n",
       "      <td>2021</td>\n",
       "      <td>35.0</td>\n",
       "      <td>6.11</td>\n",
       "      <td>14596.0160</td>\n",
       "      <td>68.684</td>\n",
       "      <td>-10612</td>\n",
       "    </tr>\n",
       "    <tr>\n",
       "      <th>3</th>\n",
       "      <td>Ethiopia</td>\n",
       "      <td>2015</td>\n",
       "      <td>33.0</td>\n",
       "      <td>3.83</td>\n",
       "      <td>1750.6727</td>\n",
       "      <td>82.588</td>\n",
       "      <td>62784</td>\n",
       "    </tr>\n",
       "    <tr>\n",
       "      <th>4</th>\n",
       "      <td>Ethiopia</td>\n",
       "      <td>2017</td>\n",
       "      <td>35.0</td>\n",
       "      <td>3.42</td>\n",
       "      <td>1987.9688</td>\n",
       "      <td>82.437</td>\n",
       "      <td>71769</td>\n",
       "    </tr>\n",
       "  </tbody>\n",
       "</table>\n",
       "</div>"
      ],
      "text/plain": [
       "    Country  Year  Corruption  Democracy score  GDP per capita    LFPR  \\\n",
       "0   Albania  2015        36.0             5.91      11878.4950  64.775   \n",
       "1   Albania  2017        38.0             5.98      12771.0540  67.665   \n",
       "2   Albania  2021        35.0             6.11      14596.0160  68.684   \n",
       "3  Ethiopia  2015        33.0             3.83       1750.6727  82.588   \n",
       "4  Ethiopia  2017        35.0             3.42       1987.9688  82.437   \n",
       "\n",
       "   Migration  \n",
       "0     -12240  \n",
       "1      -9768  \n",
       "2     -10612  \n",
       "3      62784  \n",
       "4      71769  "
      ]
     },
     "execution_count": 64,
     "metadata": {},
     "output_type": "execute_result"
    }
   ],
   "source": [
    "comparing_data.head()"
   ]
  },
  {
   "cell_type": "code",
   "execution_count": 65,
   "id": "aff92c7b-60ea-4829-a153-dbb4feee11e9",
   "metadata": {},
   "outputs": [
    {
     "data": {
      "text/html": [
       "<div>\n",
       "<style scoped>\n",
       "    .dataframe tbody tr th:only-of-type {\n",
       "        vertical-align: middle;\n",
       "    }\n",
       "\n",
       "    .dataframe tbody tr th {\n",
       "        vertical-align: top;\n",
       "    }\n",
       "\n",
       "    .dataframe thead th {\n",
       "        text-align: right;\n",
       "    }\n",
       "</style>\n",
       "<table border=\"1\" class=\"dataframe\">\n",
       "  <thead>\n",
       "    <tr style=\"text-align: right;\">\n",
       "      <th></th>\n",
       "      <th>Country</th>\n",
       "      <th>Year</th>\n",
       "      <th>Corruption</th>\n",
       "      <th>Democracy score</th>\n",
       "      <th>GDP per capita</th>\n",
       "      <th>LFPR</th>\n",
       "      <th>Migration</th>\n",
       "    </tr>\n",
       "  </thead>\n",
       "  <tbody>\n",
       "    <tr>\n",
       "      <th>165</th>\n",
       "      <td>Fiji</td>\n",
       "      <td>2015</td>\n",
       "      <td>NaN</td>\n",
       "      <td>5.69</td>\n",
       "      <td>11903.5020</td>\n",
       "      <td>60.660</td>\n",
       "      <td>-11047</td>\n",
       "    </tr>\n",
       "    <tr>\n",
       "      <th>166</th>\n",
       "      <td>Fiji</td>\n",
       "      <td>2017</td>\n",
       "      <td>NaN</td>\n",
       "      <td>5.85</td>\n",
       "      <td>12822.0140</td>\n",
       "      <td>59.878</td>\n",
       "      <td>-11605</td>\n",
       "    </tr>\n",
       "    <tr>\n",
       "      <th>258</th>\n",
       "      <td>Equatorial Guinea</td>\n",
       "      <td>2015</td>\n",
       "      <td>NaN</td>\n",
       "      <td>1.77</td>\n",
       "      <td>24563.5000</td>\n",
       "      <td>57.210</td>\n",
       "      <td>17694</td>\n",
       "    </tr>\n",
       "    <tr>\n",
       "      <th>264</th>\n",
       "      <td>Eswatini</td>\n",
       "      <td>2015</td>\n",
       "      <td>NaN</td>\n",
       "      <td>3.09</td>\n",
       "      <td>8088.7344</td>\n",
       "      <td>53.082</td>\n",
       "      <td>-10464</td>\n",
       "    </tr>\n",
       "  </tbody>\n",
       "</table>\n",
       "</div>"
      ],
      "text/plain": [
       "               Country  Year  Corruption  Democracy score  GDP per capita  \\\n",
       "165               Fiji  2015         NaN             5.69      11903.5020   \n",
       "166               Fiji  2017         NaN             5.85      12822.0140   \n",
       "258  Equatorial Guinea  2015         NaN             1.77      24563.5000   \n",
       "264           Eswatini  2015         NaN             3.09       8088.7344   \n",
       "\n",
       "       LFPR  Migration  \n",
       "165  60.660     -11047  \n",
       "166  59.878     -11605  \n",
       "258  57.210      17694  \n",
       "264  53.082     -10464  "
      ]
     },
     "execution_count": 65,
     "metadata": {},
     "output_type": "execute_result"
    }
   ],
   "source": [
    "comparing_data[comparing_data.isnull().any(axis=1)]"
   ]
  },
  {
   "cell_type": "markdown",
   "id": "0175fa39-74a5-4d3f-b84d-02ecf96ed3a4",
   "metadata": {},
   "source": [
    "### lfpr (male, female, both) and slavery preprocess"
   ]
  },
  {
   "cell_type": "code",
   "execution_count": 66,
   "id": "c576ade5-8880-4701-a3b1-c44b58dbc3f7",
   "metadata": {},
   "outputs": [],
   "source": [
    "lfpr = pd.read_csv(\"../Datasets/lfpr.csv\")"
   ]
  },
  {
   "cell_type": "code",
   "execution_count": 67,
   "id": "75a9976e-3ab8-48f9-8476-971716d4dac5",
   "metadata": {},
   "outputs": [
    {
     "data": {
      "text/html": [
       "<div>\n",
       "<style scoped>\n",
       "    .dataframe tbody tr th:only-of-type {\n",
       "        vertical-align: middle;\n",
       "    }\n",
       "\n",
       "    .dataframe tbody tr th {\n",
       "        vertical-align: top;\n",
       "    }\n",
       "\n",
       "    .dataframe thead th {\n",
       "        text-align: right;\n",
       "    }\n",
       "</style>\n",
       "<table border=\"1\" class=\"dataframe\">\n",
       "  <thead>\n",
       "    <tr style=\"text-align: right;\">\n",
       "      <th></th>\n",
       "      <th>Country</th>\n",
       "      <th>Year</th>\n",
       "      <th>LFPR</th>\n",
       "      <th>Type_LFPR</th>\n",
       "    </tr>\n",
       "  </thead>\n",
       "  <tbody>\n",
       "    <tr>\n",
       "      <th>0</th>\n",
       "      <td>Afghanistan</td>\n",
       "      <td>1991</td>\n",
       "      <td>16.101</td>\n",
       "      <td>Female</td>\n",
       "    </tr>\n",
       "    <tr>\n",
       "      <th>1</th>\n",
       "      <td>Afghanistan</td>\n",
       "      <td>1991</td>\n",
       "      <td>80.990</td>\n",
       "      <td>Male</td>\n",
       "    </tr>\n",
       "    <tr>\n",
       "      <th>2</th>\n",
       "      <td>Afghanistan</td>\n",
       "      <td>1991</td>\n",
       "      <td>48.039</td>\n",
       "      <td>Total</td>\n",
       "    </tr>\n",
       "    <tr>\n",
       "      <th>3</th>\n",
       "      <td>Afghanistan</td>\n",
       "      <td>1992</td>\n",
       "      <td>16.170</td>\n",
       "      <td>Female</td>\n",
       "    </tr>\n",
       "    <tr>\n",
       "      <th>4</th>\n",
       "      <td>Afghanistan</td>\n",
       "      <td>1992</td>\n",
       "      <td>80.940</td>\n",
       "      <td>Male</td>\n",
       "    </tr>\n",
       "  </tbody>\n",
       "</table>\n",
       "</div>"
      ],
      "text/plain": [
       "       Country  Year    LFPR Type_LFPR\n",
       "0  Afghanistan  1991  16.101    Female\n",
       "1  Afghanistan  1991  80.990      Male\n",
       "2  Afghanistan  1991  48.039     Total\n",
       "3  Afghanistan  1992  16.170    Female\n",
       "4  Afghanistan  1992  80.940      Male"
      ]
     },
     "execution_count": 67,
     "metadata": {},
     "output_type": "execute_result"
    }
   ],
   "source": [
    "lfpr.head()"
   ]
  },
  {
   "cell_type": "code",
   "execution_count": 68,
   "id": "d66de24f-0e85-47b2-b027-f5ce5598909f",
   "metadata": {},
   "outputs": [],
   "source": [
    "lfpr_total = lfpr[lfpr['Type_LFPR'].isin(['Total'])]  # removing male, female entries\n",
    "lfpr_male = lfpr[lfpr['Type_LFPR'].isin(['Male'])]\n",
    "lfpr_female = lfpr[lfpr['Type_LFPR'].isin(['Female'])]"
   ]
  },
  {
   "cell_type": "code",
   "execution_count": 69,
   "id": "0f4ca19f-e41d-46e1-9c07-64137ada6258",
   "metadata": {},
   "outputs": [],
   "source": [
    "lfpr_total = lfpr_total[[\"Country\", \"Year\", \"LFPR\"]]\n",
    "lfpr_male = lfpr_male[[\"Country\", \"Year\", \"LFPR\"]]\n",
    "lfpr_female = lfpr_female[[\"Country\", \"Year\", \"LFPR\"]]"
   ]
  },
  {
   "cell_type": "code",
   "execution_count": 70,
   "id": "505f8bed-cf59-4892-826f-afd1f51e255a",
   "metadata": {},
   "outputs": [],
   "source": [
    "lfpr_total = lfpr_total[lfpr_total['Year'].isin([2015, 2017, 2021])]\n",
    "lfpr_male = lfpr_male[lfpr_male['Year'].isin([2015, 2017, 2021])]\n",
    "lfpr_female = lfpr_female[lfpr_female['Year'].isin([2015, 2017, 2021])]"
   ]
  },
  {
   "cell_type": "code",
   "execution_count": 71,
   "id": "024411c0-745a-4451-ae9a-2913682ff5a1",
   "metadata": {},
   "outputs": [],
   "source": [
    "common_lfpr_slavery = set(slavery['Country']).intersection(lfpr_total['Country'])"
   ]
  },
  {
   "cell_type": "code",
   "execution_count": 72,
   "id": "32cd00e7-ffa6-4af0-b15d-88c74701b8ce",
   "metadata": {},
   "outputs": [],
   "source": [
    "# Filter the DataFrames to keep only rows with common entries\n",
    "slavery_filtered = slavery[slavery['Country'].isin(common_lfpr_slavery)]\n",
    "\n",
    "lfpr_total_filtered = lfpr_total[lfpr_total['Country'].isin(common_lfpr_slavery)]\n",
    "lfpr_male_filtered = lfpr_male[lfpr_male['Country'].isin(common_lfpr_slavery)]\n",
    "lfpr_female_filtered = lfpr_female[lfpr_female['Country'].isin(common_lfpr_slavery)]"
   ]
  },
  {
   "cell_type": "code",
   "execution_count": 73,
   "id": "a13bd1ba-bdca-4e29-86e6-71d1e73f0d2d",
   "metadata": {},
   "outputs": [],
   "source": [
    "# Pivot the DataFrame\n",
    "lfpr_total_pivot = lfpr_total_filtered.pivot(index='Country', columns='Year', values='LFPR').reset_index()\n",
    "lfpr_male_pivot = lfpr_male_filtered.pivot(index='Country', columns='Year', values='LFPR').reset_index()\n",
    "lfpr_female_pivot = lfpr_female_filtered.pivot(index='Country', columns='Year', values='LFPR').reset_index()\n",
    "\n",
    "# Rename the columns for clarity\n",
    "lfpr_total_pivot.columns.name = None\n",
    "lfpr_total_pivot.columns = ['Country', 2015, 2017, 2021]\n",
    "\n",
    "lfpr_male_pivot.columns.name = None\n",
    "lfpr_male_pivot.columns = ['Country', 2015, 2017, 2021]\n",
    "\n",
    "lfpr_female_pivot.columns.name = None\n",
    "lfpr_female_pivot.columns = ['Country', 2015, 2017, 2021]"
   ]
  },
  {
   "cell_type": "code",
   "execution_count": 74,
   "id": "b21773c2-cb2d-432a-a5e3-40d6cd3c3637",
   "metadata": {},
   "outputs": [],
   "source": [
    "slavery_reduced = slavery_filtered[[\"Country\", \"2015\", \"2017\", \"2021\"]]\n",
    "slavery_reduced.columns = [\"Country\", 2015, 2017, 2021]"
   ]
  },
  {
   "cell_type": "code",
   "execution_count": 75,
   "id": "a29fba2c-5ad6-48f5-a561-06dcd5d1f15f",
   "metadata": {},
   "outputs": [],
   "source": [
    "slavery_reduced = slavery_reduced.sort_values(by='Country')\n",
    "\n",
    "lfpr_total_pivot = lfpr_total_pivot.sort_values(by='Country')\n",
    "lfpr_male_pivot = lfpr_male_pivot.sort_values(by='Country')\n",
    "lfpr_female_pivot = lfpr_female_pivot.sort_values(by='Country')"
   ]
  },
  {
   "cell_type": "code",
   "execution_count": 76,
   "id": "0edc3d64-c293-4ca1-94ce-2ca3197ddf32",
   "metadata": {},
   "outputs": [
    {
     "name": "stdout",
     "output_type": "stream",
     "text": [
      "<class 'pandas.core.frame.DataFrame'>\n",
      "Index: 138 entries, 0 to 120\n",
      "Data columns (total 4 columns):\n",
      " #   Column   Non-Null Count  Dtype  \n",
      "---  ------   --------------  -----  \n",
      " 0   Country  138 non-null    object \n",
      " 1   2015     138 non-null    float64\n",
      " 2   2017     138 non-null    float64\n",
      " 3   2021     133 non-null    float64\n",
      "dtypes: float64(3), object(1)\n",
      "memory usage: 5.4+ KB\n"
     ]
    }
   ],
   "source": [
    "slavery_reduced.info()"
   ]
  },
  {
   "cell_type": "code",
   "execution_count": 77,
   "id": "045482c8-4612-4cfc-826d-0c20eb0d1258",
   "metadata": {},
   "outputs": [
    {
     "name": "stdout",
     "output_type": "stream",
     "text": [
      "<class 'pandas.core.frame.DataFrame'>\n",
      "RangeIndex: 138 entries, 0 to 137\n",
      "Data columns (total 4 columns):\n",
      " #   Column   Non-Null Count  Dtype  \n",
      "---  ------   --------------  -----  \n",
      " 0   Country  138 non-null    object \n",
      " 1   2015     138 non-null    float64\n",
      " 2   2017     138 non-null    float64\n",
      " 3   2021     138 non-null    float64\n",
      "dtypes: float64(3), object(1)\n",
      "memory usage: 4.4+ KB\n"
     ]
    }
   ],
   "source": [
    "lfpr_total_pivot.info()"
   ]
  },
  {
   "cell_type": "code",
   "execution_count": 78,
   "id": "65c0d913-b421-4ed2-89aa-07577dfd72b6",
   "metadata": {},
   "outputs": [
    {
     "name": "stdout",
     "output_type": "stream",
     "text": [
      "<class 'pandas.core.frame.DataFrame'>\n",
      "RangeIndex: 138 entries, 0 to 137\n",
      "Data columns (total 4 columns):\n",
      " #   Column   Non-Null Count  Dtype  \n",
      "---  ------   --------------  -----  \n",
      " 0   Country  138 non-null    object \n",
      " 1   2015     138 non-null    float64\n",
      " 2   2017     138 non-null    float64\n",
      " 3   2021     138 non-null    float64\n",
      "dtypes: float64(3), object(1)\n",
      "memory usage: 4.4+ KB\n"
     ]
    }
   ],
   "source": [
    "lfpr_male_pivot.info()"
   ]
  },
  {
   "cell_type": "code",
   "execution_count": 79,
   "id": "ea9b206b-4a98-4e25-99d3-a919fce9dae7",
   "metadata": {},
   "outputs": [
    {
     "name": "stdout",
     "output_type": "stream",
     "text": [
      "<class 'pandas.core.frame.DataFrame'>\n",
      "RangeIndex: 138 entries, 0 to 137\n",
      "Data columns (total 4 columns):\n",
      " #   Column   Non-Null Count  Dtype  \n",
      "---  ------   --------------  -----  \n",
      " 0   Country  138 non-null    object \n",
      " 1   2015     138 non-null    float64\n",
      " 2   2017     138 non-null    float64\n",
      " 3   2021     138 non-null    float64\n",
      "dtypes: float64(3), object(1)\n",
      "memory usage: 4.4+ KB\n"
     ]
    }
   ],
   "source": [
    "lfpr_female_pivot.info()"
   ]
  },
  {
   "cell_type": "code",
   "execution_count": 80,
   "id": "84933211-18a1-4024-9b8a-483efc6ad051",
   "metadata": {},
   "outputs": [],
   "source": [
    "# Standardize Data\n",
    "from sklearn.preprocessing import StandardScaler, MinMaxScaler"
   ]
  },
  {
   "cell_type": "code",
   "execution_count": 81,
   "id": "8a0ac3d1-efb5-4bc9-92ba-75f8cd386fc4",
   "metadata": {},
   "outputs": [],
   "source": [
    "value_columns = [2015, 2017, 2021]\n",
    "scaler = StandardScaler()\n",
    "\n",
    "# Z-score normalization\n",
    "lfpr_total_pivot.loc[:, value_columns] = scaler.fit_transform(lfpr_total_pivot[value_columns])\n",
    "lfpr_male_pivot.loc[:, value_columns] = scaler.fit_transform(lfpr_male_pivot[value_columns])\n",
    "lfpr_female_pivot.loc[:, value_columns] = scaler.fit_transform(lfpr_female_pivot[value_columns])\n",
    "\n",
    "slavery_reduced.loc[:, value_columns] = scaler.fit_transform(slavery_reduced[value_columns])"
   ]
  },
  {
   "cell_type": "code",
   "execution_count": 82,
   "id": "cbc9c07c-bc9b-4223-9a38-c070157900c3",
   "metadata": {},
   "outputs": [
    {
     "data": {
      "text/html": [
       "<div>\n",
       "<style scoped>\n",
       "    .dataframe tbody tr th:only-of-type {\n",
       "        vertical-align: middle;\n",
       "    }\n",
       "\n",
       "    .dataframe tbody tr th {\n",
       "        vertical-align: top;\n",
       "    }\n",
       "\n",
       "    .dataframe thead th {\n",
       "        text-align: right;\n",
       "    }\n",
       "</style>\n",
       "<table border=\"1\" class=\"dataframe\">\n",
       "  <thead>\n",
       "    <tr style=\"text-align: right;\">\n",
       "      <th></th>\n",
       "      <th>Country</th>\n",
       "      <th>2015</th>\n",
       "      <th>2017</th>\n",
       "      <th>2021</th>\n",
       "    </tr>\n",
       "  </thead>\n",
       "  <tbody>\n",
       "    <tr>\n",
       "      <th>0</th>\n",
       "      <td>Afghanistan</td>\n",
       "      <td>1.425598</td>\n",
       "      <td>1.786060</td>\n",
       "      <td>0.777161</td>\n",
       "    </tr>\n",
       "    <tr>\n",
       "      <th>1</th>\n",
       "      <td>Albania</td>\n",
       "      <td>-0.479608</td>\n",
       "      <td>0.101637</td>\n",
       "      <td>0.633768</td>\n",
       "    </tr>\n",
       "    <tr>\n",
       "      <th>2</th>\n",
       "      <td>Algeria</td>\n",
       "      <td>0.274121</td>\n",
       "      <td>-0.360754</td>\n",
       "      <td>-0.549223</td>\n",
       "    </tr>\n",
       "    <tr>\n",
       "      <th>3</th>\n",
       "      <td>Angola</td>\n",
       "      <td>0.302161</td>\n",
       "      <td>0.134665</td>\n",
       "      <td>-0.286337</td>\n",
       "    </tr>\n",
       "    <tr>\n",
       "      <th>121</th>\n",
       "      <td>Argentina</td>\n",
       "      <td>-0.232309</td>\n",
       "      <td>-0.514885</td>\n",
       "      <td>-0.274387</td>\n",
       "    </tr>\n",
       "  </tbody>\n",
       "</table>\n",
       "</div>"
      ],
      "text/plain": [
       "         Country      2015      2017      2021\n",
       "0    Afghanistan  1.425598  1.786060  0.777161\n",
       "1        Albania -0.479608  0.101637  0.633768\n",
       "2        Algeria  0.274121 -0.360754 -0.549223\n",
       "3         Angola  0.302161  0.134665 -0.286337\n",
       "121    Argentina -0.232309 -0.514885 -0.274387"
      ]
     },
     "execution_count": 82,
     "metadata": {},
     "output_type": "execute_result"
    }
   ],
   "source": [
    "slavery_reduced.head()"
   ]
  },
  {
   "cell_type": "code",
   "execution_count": 83,
   "id": "4aabc2b9-e497-41ae-9fcb-3c9b351fccd1",
   "metadata": {},
   "outputs": [
    {
     "data": {
      "text/html": [
       "<div>\n",
       "<style scoped>\n",
       "    .dataframe tbody tr th:only-of-type {\n",
       "        vertical-align: middle;\n",
       "    }\n",
       "\n",
       "    .dataframe tbody tr th {\n",
       "        vertical-align: top;\n",
       "    }\n",
       "\n",
       "    .dataframe thead th {\n",
       "        text-align: right;\n",
       "    }\n",
       "</style>\n",
       "<table border=\"1\" class=\"dataframe\">\n",
       "  <thead>\n",
       "    <tr style=\"text-align: right;\">\n",
       "      <th></th>\n",
       "      <th>Country</th>\n",
       "      <th>2015</th>\n",
       "      <th>2017</th>\n",
       "      <th>2021</th>\n",
       "    </tr>\n",
       "  </thead>\n",
       "  <tbody>\n",
       "    <tr>\n",
       "      <th>0</th>\n",
       "      <td>Afghanistan</td>\n",
       "      <td>-1.692285</td>\n",
       "      <td>-1.669052</td>\n",
       "      <td>-2.122162</td>\n",
       "    </tr>\n",
       "    <tr>\n",
       "      <th>1</th>\n",
       "      <td>Albania</td>\n",
       "      <td>-0.178399</td>\n",
       "      <td>0.063976</td>\n",
       "      <td>0.169596</td>\n",
       "    </tr>\n",
       "    <tr>\n",
       "      <th>2</th>\n",
       "      <td>Algeria</td>\n",
       "      <td>-2.028683</td>\n",
       "      <td>-1.983959</td>\n",
       "      <td>-2.019180</td>\n",
       "    </tr>\n",
       "    <tr>\n",
       "      <th>3</th>\n",
       "      <td>Angola</td>\n",
       "      <td>0.937950</td>\n",
       "      <td>0.855275</td>\n",
       "      <td>0.918185</td>\n",
       "    </tr>\n",
       "    <tr>\n",
       "      <th>4</th>\n",
       "      <td>Argentina</td>\n",
       "      <td>0.009534</td>\n",
       "      <td>-0.048575</td>\n",
       "      <td>0.170895</td>\n",
       "    </tr>\n",
       "  </tbody>\n",
       "</table>\n",
       "</div>"
      ],
      "text/plain": [
       "       Country      2015      2017      2021\n",
       "0  Afghanistan -1.692285 -1.669052 -2.122162\n",
       "1      Albania -0.178399  0.063976  0.169596\n",
       "2      Algeria -2.028683 -1.983959 -2.019180\n",
       "3       Angola  0.937950  0.855275  0.918185\n",
       "4    Argentina  0.009534 -0.048575  0.170895"
      ]
     },
     "execution_count": 83,
     "metadata": {},
     "output_type": "execute_result"
    }
   ],
   "source": [
    "lfpr_total_pivot.head()"
   ]
  },
  {
   "cell_type": "code",
   "execution_count": 84,
   "id": "9dac22c0-4cb2-4520-b12d-377646674807",
   "metadata": {},
   "outputs": [
    {
     "data": {
      "text/html": [
       "<div>\n",
       "<style scoped>\n",
       "    .dataframe tbody tr th:only-of-type {\n",
       "        vertical-align: middle;\n",
       "    }\n",
       "\n",
       "    .dataframe tbody tr th {\n",
       "        vertical-align: top;\n",
       "    }\n",
       "\n",
       "    .dataframe thead th {\n",
       "        text-align: right;\n",
       "    }\n",
       "</style>\n",
       "<table border=\"1\" class=\"dataframe\">\n",
       "  <thead>\n",
       "    <tr style=\"text-align: right;\">\n",
       "      <th></th>\n",
       "      <th>2015</th>\n",
       "      <th>2017</th>\n",
       "      <th>2021</th>\n",
       "    </tr>\n",
       "  </thead>\n",
       "  <tbody>\n",
       "    <tr>\n",
       "      <th>count</th>\n",
       "      <td>1.380000e+02</td>\n",
       "      <td>1.380000e+02</td>\n",
       "      <td>1.330000e+02</td>\n",
       "    </tr>\n",
       "    <tr>\n",
       "      <th>mean</th>\n",
       "      <td>-1.415937e-16</td>\n",
       "      <td>5.792468e-17</td>\n",
       "      <td>6.344132e-17</td>\n",
       "    </tr>\n",
       "    <tr>\n",
       "      <th>std</th>\n",
       "      <td>1.003643e+00</td>\n",
       "      <td>1.003643e+00</td>\n",
       "      <td>1.003781e+00</td>\n",
       "    </tr>\n",
       "    <tr>\n",
       "      <th>min</th>\n",
       "      <td>-1.116280e+00</td>\n",
       "      <td>-6.249776e-01</td>\n",
       "      <td>-7.165151e-01</td>\n",
       "    </tr>\n",
       "    <tr>\n",
       "      <th>25%</th>\n",
       "      <td>-4.992309e-01</td>\n",
       "      <td>-4.240577e-01</td>\n",
       "      <td>-3.938812e-01</td>\n",
       "    </tr>\n",
       "    <tr>\n",
       "      <th>50%</th>\n",
       "      <td>-1.537790e-01</td>\n",
       "      <td>-2.341472e-01</td>\n",
       "      <td>-1.548931e-01</td>\n",
       "    </tr>\n",
       "    <tr>\n",
       "      <th>75%</th>\n",
       "      <td>3.023753e-01</td>\n",
       "      <td>9.888431e-02</td>\n",
       "      <td>1.318927e-01</td>\n",
       "    </tr>\n",
       "    <tr>\n",
       "      <th>max</th>\n",
       "      <td>7.918369e+00</td>\n",
       "      <td>9.580649e+00</td>\n",
       "      <td>1.001405e+01</td>\n",
       "    </tr>\n",
       "  </tbody>\n",
       "</table>\n",
       "</div>"
      ],
      "text/plain": [
       "               2015          2017          2021\n",
       "count  1.380000e+02  1.380000e+02  1.330000e+02\n",
       "mean  -1.415937e-16  5.792468e-17  6.344132e-17\n",
       "std    1.003643e+00  1.003643e+00  1.003781e+00\n",
       "min   -1.116280e+00 -6.249776e-01 -7.165151e-01\n",
       "25%   -4.992309e-01 -4.240577e-01 -3.938812e-01\n",
       "50%   -1.537790e-01 -2.341472e-01 -1.548931e-01\n",
       "75%    3.023753e-01  9.888431e-02  1.318927e-01\n",
       "max    7.918369e+00  9.580649e+00  1.001405e+01"
      ]
     },
     "execution_count": 84,
     "metadata": {},
     "output_type": "execute_result"
    }
   ],
   "source": [
    "slavery_reduced.describe()"
   ]
  },
  {
   "cell_type": "code",
   "execution_count": 85,
   "id": "1403c576-b20b-4694-be13-bb9beee8a28b",
   "metadata": {},
   "outputs": [
    {
     "data": {
      "text/html": [
       "<div>\n",
       "<style scoped>\n",
       "    .dataframe tbody tr th:only-of-type {\n",
       "        vertical-align: middle;\n",
       "    }\n",
       "\n",
       "    .dataframe tbody tr th {\n",
       "        vertical-align: top;\n",
       "    }\n",
       "\n",
       "    .dataframe thead th {\n",
       "        text-align: right;\n",
       "    }\n",
       "</style>\n",
       "<table border=\"1\" class=\"dataframe\">\n",
       "  <thead>\n",
       "    <tr style=\"text-align: right;\">\n",
       "      <th></th>\n",
       "      <th>2015</th>\n",
       "      <th>2017</th>\n",
       "      <th>2021</th>\n",
       "    </tr>\n",
       "  </thead>\n",
       "  <tbody>\n",
       "    <tr>\n",
       "      <th>count</th>\n",
       "      <td>1.380000e+02</td>\n",
       "      <td>1.380000e+02</td>\n",
       "      <td>1.380000e+02</td>\n",
       "    </tr>\n",
       "    <tr>\n",
       "      <th>mean</th>\n",
       "      <td>8.173816e-16</td>\n",
       "      <td>-3.218038e-17</td>\n",
       "      <td>1.274343e-15</td>\n",
       "    </tr>\n",
       "    <tr>\n",
       "      <th>std</th>\n",
       "      <td>1.003643e+00</td>\n",
       "      <td>1.003643e+00</td>\n",
       "      <td>1.003643e+00</td>\n",
       "    </tr>\n",
       "    <tr>\n",
       "      <th>min</th>\n",
       "      <td>-3.039078e+00</td>\n",
       "      <td>-3.023920e+00</td>\n",
       "      <td>-2.940041e+00</td>\n",
       "    </tr>\n",
       "    <tr>\n",
       "      <th>25%</th>\n",
       "      <td>-4.944412e-01</td>\n",
       "      <td>-5.129598e-01</td>\n",
       "      <td>-5.868746e-01</td>\n",
       "    </tr>\n",
       "    <tr>\n",
       "      <th>50%</th>\n",
       "      <td>1.134599e-01</td>\n",
       "      <td>9.877447e-02</td>\n",
       "      <td>1.676040e-01</td>\n",
       "    </tr>\n",
       "    <tr>\n",
       "      <th>75%</th>\n",
       "      <td>7.187791e-01</td>\n",
       "      <td>7.009256e-01</td>\n",
       "      <td>7.449823e-01</td>\n",
       "    </tr>\n",
       "    <tr>\n",
       "      <th>max</th>\n",
       "      <td>1.982372e+00</td>\n",
       "      <td>1.954956e+00</td>\n",
       "      <td>1.898635e+00</td>\n",
       "    </tr>\n",
       "  </tbody>\n",
       "</table>\n",
       "</div>"
      ],
      "text/plain": [
       "               2015          2017          2021\n",
       "count  1.380000e+02  1.380000e+02  1.380000e+02\n",
       "mean   8.173816e-16 -3.218038e-17  1.274343e-15\n",
       "std    1.003643e+00  1.003643e+00  1.003643e+00\n",
       "min   -3.039078e+00 -3.023920e+00 -2.940041e+00\n",
       "25%   -4.944412e-01 -5.129598e-01 -5.868746e-01\n",
       "50%    1.134599e-01  9.877447e-02  1.676040e-01\n",
       "75%    7.187791e-01  7.009256e-01  7.449823e-01\n",
       "max    1.982372e+00  1.954956e+00  1.898635e+00"
      ]
     },
     "execution_count": 85,
     "metadata": {},
     "output_type": "execute_result"
    }
   ],
   "source": [
    "lfpr_total_pivot.describe()"
   ]
  },
  {
   "cell_type": "markdown",
   "id": "73ca834d-a064-4b78-88de-5bb7a2a117fe",
   "metadata": {},
   "source": [
    "### Finding correlation between lfpr and slavery"
   ]
  },
  {
   "cell_type": "code",
   "execution_count": 86,
   "id": "6dc6bdf0-8c3f-42cd-85c5-267e489f87f9",
   "metadata": {},
   "outputs": [],
   "source": [
    "slavLfpr_total_2015_corr = slavery_reduced[2015].corr(lfpr_total_pivot[2015])\n",
    "slavLfpr_male_2015_corr = slavery_reduced[2015].corr(lfpr_male_pivot[2015])\n",
    "slavLfpr_female_2015_corr = slavery_reduced[2015].corr(lfpr_female_pivot[2015])"
   ]
  },
  {
   "cell_type": "code",
   "execution_count": 87,
   "id": "891780d4-b5e8-42d5-806a-5f8886acf31d",
   "metadata": {},
   "outputs": [
    {
     "name": "stdout",
     "output_type": "stream",
     "text": [
      "slavLfpr_total_2015_corr:  0.023039783134268153\n",
      "slavLfpr_male_2015_corr:  -0.01612454755860695\n",
      "slavLfpr_female_2015_corr:  0.04696767688851087\n"
     ]
    }
   ],
   "source": [
    "print(\"slavLfpr_total_2015_corr: \", slavLfpr_total_2015_corr)\n",
    "print(\"slavLfpr_male_2015_corr: \", slavLfpr_male_2015_corr)\n",
    "print(\"slavLfpr_female_2015_corr: \", slavLfpr_female_2015_corr)"
   ]
  },
  {
   "cell_type": "code",
   "execution_count": 88,
   "id": "9f524726-d650-4a86-9b8c-09f2358657ae",
   "metadata": {},
   "outputs": [],
   "source": [
    "slavLfpr_total_2017_corr = slavery_reduced[2017].corr(lfpr_total_pivot[2017])\n",
    "slavLfpr_male_2017_corr = slavery_reduced[2017].corr(lfpr_male_pivot[2017])\n",
    "slavLfpr_female_2017_corr = slavery_reduced[2017].corr(lfpr_female_pivot[2017])"
   ]
  },
  {
   "cell_type": "code",
   "execution_count": 89,
   "id": "22a5e883-891e-46a3-8e71-0966b2ece408",
   "metadata": {},
   "outputs": [
    {
     "name": "stdout",
     "output_type": "stream",
     "text": [
      "slavLfpr_total_2017_corr:  0.03660022550745558\n",
      "slavLfpr_male_2017_corr:  0.00940518756239009\n",
      "slavLfpr_female_2017_corr:  0.056578909528607\n"
     ]
    }
   ],
   "source": [
    "print(\"slavLfpr_total_2017_corr: \", slavLfpr_total_2017_corr)\n",
    "print(\"slavLfpr_male_2017_corr: \", slavLfpr_male_2017_corr)\n",
    "print(\"slavLfpr_female_2017_corr: \", slavLfpr_female_2017_corr)"
   ]
  },
  {
   "cell_type": "code",
   "execution_count": 90,
   "id": "b614fe70",
   "metadata": {},
   "outputs": [],
   "source": [
    "slavLfpr_total_2021_corr = slavery_reduced[2021].corr(lfpr_total_pivot[2021])\n",
    "slavLfpr_male_2021_corr = slavery_reduced[2021].corr(lfpr_male_pivot[2021])\n",
    "slavLfpr_female_2021_corr = slavery_reduced[2021].corr(lfpr_female_pivot[2021])"
   ]
  },
  {
   "cell_type": "code",
   "execution_count": 91,
   "id": "c974f86e",
   "metadata": {},
   "outputs": [
    {
     "name": "stdout",
     "output_type": "stream",
     "text": [
      "slavLfpr_total_2021_corr:  0.00014366701498395978\n",
      "slavLfpr_male_2021_corr:  -0.023372178683769895\n",
      "slavLfpr_female_2021_corr:  0.02341750376760223\n"
     ]
    }
   ],
   "source": [
    "print(\"slavLfpr_total_2021_corr: \", slavLfpr_total_2021_corr)\n",
    "print(\"slavLfpr_male_2021_corr: \", slavLfpr_male_2021_corr)\n",
    "print(\"slavLfpr_female_2021_corr: \", slavLfpr_female_2021_corr)"
   ]
  },
  {
   "cell_type": "markdown",
   "id": "b41e1c85-da7f-4ba1-94f8-8633e4348765",
   "metadata": {},
   "source": [
    "### gdppercapita and slavery preprocess"
   ]
  },
  {
   "cell_type": "code",
   "execution_count": 92,
   "id": "efe4341e-74e2-47fb-bcee-6bf0dbf42db2",
   "metadata": {},
   "outputs": [],
   "source": [
    "gdppercapita = pd.read_csv(\"../Datasets/gdppercapita.csv\")"
   ]
  },
  {
   "cell_type": "code",
   "execution_count": 93,
   "id": "8e8a22ed-8fff-41c5-900b-010732f6dd9e",
   "metadata": {},
   "outputs": [
    {
     "data": {
      "text/html": [
       "<div>\n",
       "<style scoped>\n",
       "    .dataframe tbody tr th:only-of-type {\n",
       "        vertical-align: middle;\n",
       "    }\n",
       "\n",
       "    .dataframe tbody tr th {\n",
       "        vertical-align: top;\n",
       "    }\n",
       "\n",
       "    .dataframe thead th {\n",
       "        text-align: right;\n",
       "    }\n",
       "</style>\n",
       "<table border=\"1\" class=\"dataframe\">\n",
       "  <thead>\n",
       "    <tr style=\"text-align: right;\">\n",
       "      <th></th>\n",
       "      <th>Country</th>\n",
       "      <th>Year</th>\n",
       "      <th>GDP per capita</th>\n",
       "    </tr>\n",
       "  </thead>\n",
       "  <tbody>\n",
       "    <tr>\n",
       "      <th>0</th>\n",
       "      <td>Afghanistan</td>\n",
       "      <td>2002.0</td>\n",
       "      <td>1280.4631</td>\n",
       "    </tr>\n",
       "    <tr>\n",
       "      <th>1</th>\n",
       "      <td>Afghanistan</td>\n",
       "      <td>2003.0</td>\n",
       "      <td>1292.3335</td>\n",
       "    </tr>\n",
       "    <tr>\n",
       "      <th>2</th>\n",
       "      <td>Afghanistan</td>\n",
       "      <td>2004.0</td>\n",
       "      <td>1260.0605</td>\n",
       "    </tr>\n",
       "    <tr>\n",
       "      <th>3</th>\n",
       "      <td>Afghanistan</td>\n",
       "      <td>2005.0</td>\n",
       "      <td>1352.3207</td>\n",
       "    </tr>\n",
       "    <tr>\n",
       "      <th>4</th>\n",
       "      <td>Afghanistan</td>\n",
       "      <td>2006.0</td>\n",
       "      <td>1366.9932</td>\n",
       "    </tr>\n",
       "  </tbody>\n",
       "</table>\n",
       "</div>"
      ],
      "text/plain": [
       "       Country    Year  GDP per capita\n",
       "0  Afghanistan  2002.0       1280.4631\n",
       "1  Afghanistan  2003.0       1292.3335\n",
       "2  Afghanistan  2004.0       1260.0605\n",
       "3  Afghanistan  2005.0       1352.3207\n",
       "4  Afghanistan  2006.0       1366.9932"
      ]
     },
     "execution_count": 93,
     "metadata": {},
     "output_type": "execute_result"
    }
   ],
   "source": [
    "gdppercapita.head()"
   ]
  },
  {
   "cell_type": "code",
   "execution_count": 94,
   "id": "8ebfb652-76eb-4253-bee4-c1dcf9b6e3c5",
   "metadata": {},
   "outputs": [],
   "source": [
    "gdppercapita = gdppercapita[gdppercapita['Year'].isin([2015, 2017, 2021])]"
   ]
  },
  {
   "cell_type": "code",
   "execution_count": 95,
   "id": "c1afa6a5-7ae2-40a3-b593-fef20caa46f7",
   "metadata": {},
   "outputs": [],
   "source": [
    "common_gdppercapita_slavery = set(slavery['Country']).intersection(gdppercapita['Country'])"
   ]
  },
  {
   "cell_type": "code",
   "execution_count": 96,
   "id": "fc28a6b3-c737-40d6-90b0-fcdbaf7be79f",
   "metadata": {},
   "outputs": [
    {
     "name": "stdout",
     "output_type": "stream",
     "text": [
      "Countries in set1 but not in set2: {'Timor-Leste', 'South Sudan', 'Eritrea', 'Cuba'}\n",
      "Countries in set2 but not in set1: {'Slovakia', 'Kosovo', 'Kyrgyzstan', 'Cape Verde', 'Gambia', 'Egypt'}\n"
     ]
    }
   ],
   "source": [
    "diff_set1 = common_lfpr_slavery - common_gdppercapita_slavery\n",
    "diff_set2 = common_gdppercapita_slavery - common_lfpr_slavery\n",
    "print(\"Countries in set1 but not in set2:\", diff_set1)\n",
    "print(\"Countries in set2 but not in set1:\", diff_set2)"
   ]
  },
  {
   "cell_type": "code",
   "execution_count": 97,
   "id": "1273a960-d863-4ec1-a840-f39b2debbe8d",
   "metadata": {},
   "outputs": [],
   "source": [
    "# Filter the DataFrames to keep only rows with common entries\n",
    "slavery_filtered = slavery[slavery['Country'].isin(common_gdppercapita_slavery)]\n",
    "\n",
    "gdppercapita_filtered = gdppercapita[gdppercapita['Country'].isin(common_gdppercapita_slavery)]"
   ]
  },
  {
   "cell_type": "code",
   "execution_count": 98,
   "id": "05a520e6-8903-496e-85cd-16cbb3cbdcfe",
   "metadata": {},
   "outputs": [],
   "source": [
    "# Pivot the DataFrame\n",
    "gdppercapita_pivot = gdppercapita_filtered.pivot(index='Country', columns='Year', values='GDP per capita').reset_index()"
   ]
  },
  {
   "cell_type": "code",
   "execution_count": 99,
   "id": "47159b61-6d8a-4f6d-be7f-d8e1d8c569b5",
   "metadata": {},
   "outputs": [],
   "source": [
    "slavery_reduced = slavery_filtered[[\"Country\", \"2015\", \"2017\", \"2021\"]]\n",
    "\n",
    "slavery_reduced.columns = [\"Country\", 2015, 2017, 2021]\n",
    "gdppercapita_pivot.columns = [\"Country\", 2015, 2017, 2021]\n",
    "\n",
    "slavery_reduced = slavery_reduced.sort_values(by='Country')\n",
    "gdppercapita_pivot = gdppercapita_pivot.sort_values(by='Country')"
   ]
  },
  {
   "cell_type": "code",
   "execution_count": 100,
   "id": "4ad90cfa-a1f9-455b-a169-67ea5b2d3ab8",
   "metadata": {},
   "outputs": [
    {
     "data": {
      "text/html": [
       "<div>\n",
       "<style scoped>\n",
       "    .dataframe tbody tr th:only-of-type {\n",
       "        vertical-align: middle;\n",
       "    }\n",
       "\n",
       "    .dataframe tbody tr th {\n",
       "        vertical-align: top;\n",
       "    }\n",
       "\n",
       "    .dataframe thead th {\n",
       "        text-align: right;\n",
       "    }\n",
       "</style>\n",
       "<table border=\"1\" class=\"dataframe\">\n",
       "  <thead>\n",
       "    <tr style=\"text-align: right;\">\n",
       "      <th></th>\n",
       "      <th>2015</th>\n",
       "      <th>2017</th>\n",
       "      <th>2021</th>\n",
       "    </tr>\n",
       "  </thead>\n",
       "  <tbody>\n",
       "    <tr>\n",
       "      <th>count</th>\n",
       "      <td>140.000000</td>\n",
       "      <td>140.000000</td>\n",
       "      <td>140.000000</td>\n",
       "    </tr>\n",
       "    <tr>\n",
       "      <th>mean</th>\n",
       "      <td>20369.611508</td>\n",
       "      <td>21020.987877</td>\n",
       "      <td>21810.009802</td>\n",
       "    </tr>\n",
       "    <tr>\n",
       "      <th>std</th>\n",
       "      <td>21105.582828</td>\n",
       "      <td>21468.031571</td>\n",
       "      <td>22798.554487</td>\n",
       "    </tr>\n",
       "    <tr>\n",
       "      <th>min</th>\n",
       "      <td>781.579300</td>\n",
       "      <td>750.787600</td>\n",
       "      <td>714.066700</td>\n",
       "    </tr>\n",
       "    <tr>\n",
       "      <th>25%</th>\n",
       "      <td>4465.253050</td>\n",
       "      <td>4790.602450</td>\n",
       "      <td>4908.862800</td>\n",
       "    </tr>\n",
       "    <tr>\n",
       "      <th>50%</th>\n",
       "      <td>12572.712000</td>\n",
       "      <td>13596.941000</td>\n",
       "      <td>14037.893500</td>\n",
       "    </tr>\n",
       "    <tr>\n",
       "      <th>75%</th>\n",
       "      <td>28991.882000</td>\n",
       "      <td>30004.182500</td>\n",
       "      <td>32780.467500</td>\n",
       "    </tr>\n",
       "    <tr>\n",
       "      <th>max</th>\n",
       "      <td>113182.730000</td>\n",
       "      <td>114985.840000</td>\n",
       "      <td>118510.000000</td>\n",
       "    </tr>\n",
       "  </tbody>\n",
       "</table>\n",
       "</div>"
      ],
      "text/plain": [
       "                2015           2017           2021\n",
       "count     140.000000     140.000000     140.000000\n",
       "mean    20369.611508   21020.987877   21810.009802\n",
       "std     21105.582828   21468.031571   22798.554487\n",
       "min       781.579300     750.787600     714.066700\n",
       "25%      4465.253050    4790.602450    4908.862800\n",
       "50%     12572.712000   13596.941000   14037.893500\n",
       "75%     28991.882000   30004.182500   32780.467500\n",
       "max    113182.730000  114985.840000  118510.000000"
      ]
     },
     "execution_count": 100,
     "metadata": {},
     "output_type": "execute_result"
    }
   ],
   "source": [
    "gdppercapita_pivot.describe()"
   ]
  },
  {
   "cell_type": "code",
   "execution_count": 101,
   "id": "a610eef7-eb22-4f23-b90f-e1e45402aac5",
   "metadata": {},
   "outputs": [
    {
     "data": {
      "text/html": [
       "<div>\n",
       "<style scoped>\n",
       "    .dataframe tbody tr th:only-of-type {\n",
       "        vertical-align: middle;\n",
       "    }\n",
       "\n",
       "    .dataframe tbody tr th {\n",
       "        vertical-align: top;\n",
       "    }\n",
       "\n",
       "    .dataframe thead th {\n",
       "        text-align: right;\n",
       "    }\n",
       "</style>\n",
       "<table border=\"1\" class=\"dataframe\">\n",
       "  <thead>\n",
       "    <tr style=\"text-align: right;\">\n",
       "      <th></th>\n",
       "      <th>2015</th>\n",
       "      <th>2017</th>\n",
       "      <th>2021</th>\n",
       "    </tr>\n",
       "  </thead>\n",
       "  <tbody>\n",
       "    <tr>\n",
       "      <th>count</th>\n",
       "      <td>140.000000</td>\n",
       "      <td>140.000000</td>\n",
       "      <td>134.000000</td>\n",
       "    </tr>\n",
       "    <tr>\n",
       "      <th>mean</th>\n",
       "      <td>5.025200</td>\n",
       "      <td>5.187143</td>\n",
       "      <td>5.873881</td>\n",
       "    </tr>\n",
       "    <tr>\n",
       "      <th>std</th>\n",
       "      <td>4.344604</td>\n",
       "      <td>5.037555</td>\n",
       "      <td>4.101236</td>\n",
       "    </tr>\n",
       "    <tr>\n",
       "      <th>min</th>\n",
       "      <td>0.171711</td>\n",
       "      <td>0.300000</td>\n",
       "      <td>0.500000</td>\n",
       "    </tr>\n",
       "    <tr>\n",
       "      <th>25%</th>\n",
       "      <td>2.904559</td>\n",
       "      <td>2.175000</td>\n",
       "      <td>3.225000</td>\n",
       "    </tr>\n",
       "    <tr>\n",
       "      <th>50%</th>\n",
       "      <td>4.542213</td>\n",
       "      <td>3.900000</td>\n",
       "      <td>5.200000</td>\n",
       "    </tr>\n",
       "    <tr>\n",
       "      <th>75%</th>\n",
       "      <td>6.382604</td>\n",
       "      <td>6.475000</td>\n",
       "      <td>7.600000</td>\n",
       "    </tr>\n",
       "    <tr>\n",
       "      <th>max</th>\n",
       "      <td>39.730120</td>\n",
       "      <td>40.000000</td>\n",
       "      <td>32.000000</td>\n",
       "    </tr>\n",
       "  </tbody>\n",
       "</table>\n",
       "</div>"
      ],
      "text/plain": [
       "             2015        2017        2021\n",
       "count  140.000000  140.000000  134.000000\n",
       "mean     5.025200    5.187143    5.873881\n",
       "std      4.344604    5.037555    4.101236\n",
       "min      0.171711    0.300000    0.500000\n",
       "25%      2.904559    2.175000    3.225000\n",
       "50%      4.542213    3.900000    5.200000\n",
       "75%      6.382604    6.475000    7.600000\n",
       "max     39.730120   40.000000   32.000000"
      ]
     },
     "execution_count": 101,
     "metadata": {},
     "output_type": "execute_result"
    }
   ],
   "source": [
    "slavery_reduced.describe()"
   ]
  },
  {
   "cell_type": "code",
   "execution_count": 102,
   "id": "d2484e48-099b-40be-a61f-db151dc488ca",
   "metadata": {},
   "outputs": [],
   "source": [
    "value_columns = [2015, 2017, 2021]\n",
    "scaler = StandardScaler()\n",
    "\n",
    "# Z-score normalization\n",
    "gdppercapita_pivot.loc[:, value_columns] = scaler.fit_transform(gdppercapita_pivot[value_columns])\n",
    "slavery_reduced.loc[:, value_columns] = scaler.fit_transform(slavery_reduced[value_columns])"
   ]
  },
  {
   "cell_type": "markdown",
   "id": "59018e22-f6a6-4e50-90dd-2cdca13fa14f",
   "metadata": {},
   "source": [
    "### Finding correlation between gdppercapita and slavery"
   ]
  },
  {
   "cell_type": "code",
   "execution_count": 103,
   "id": "dfcdd1d1-ec58-413a-8384-0cf48e58c43c",
   "metadata": {},
   "outputs": [
    {
     "name": "stdout",
     "output_type": "stream",
     "text": [
      "slavGdp_2015_corr:  0.02623128277039244\n",
      "slavGdp_2017_corr:  -0.09641837328440842\n",
      "slavGdp_2021_corr:  -0.04043755971998401\n"
     ]
    }
   ],
   "source": [
    "slavGdp_2015_corr = slavery_reduced[2015].corr(gdppercapita_pivot[2015])\n",
    "slavGdp_2017_corr = slavery_reduced[2017].corr(gdppercapita_pivot[2017])\n",
    "slavGdp_2021_corr = slavery_reduced[2021].corr(gdppercapita_pivot[2021])\n",
    "\n",
    "print(\"slavGdp_2015_corr: \", slavGdp_2015_corr)\n",
    "print(\"slavGdp_2017_corr: \", slavGdp_2017_corr)\n",
    "print(\"slavGdp_2021_corr: \", slavGdp_2021_corr)"
   ]
  },
  {
   "cell_type": "markdown",
   "id": "aafbd391-64e8-4dd8-9f54-844bd9b99feb",
   "metadata": {},
   "source": [
    "### migration and slavery preprocess"
   ]
  },
  {
   "cell_type": "code",
   "execution_count": 104,
   "id": "326ac1fb-1e31-4e4d-a3c0-e29f2aa4bc88",
   "metadata": {},
   "outputs": [],
   "source": [
    "migration = pd.read_csv(\"../Datasets/migration.csv\")"
   ]
  },
  {
   "cell_type": "code",
   "execution_count": 105,
   "id": "f76a43f1-54de-4a51-85bf-1f41716f21a9",
   "metadata": {},
   "outputs": [
    {
     "data": {
      "text/html": [
       "<div>\n",
       "<style scoped>\n",
       "    .dataframe tbody tr th:only-of-type {\n",
       "        vertical-align: middle;\n",
       "    }\n",
       "\n",
       "    .dataframe tbody tr th {\n",
       "        vertical-align: top;\n",
       "    }\n",
       "\n",
       "    .dataframe thead th {\n",
       "        text-align: right;\n",
       "    }\n",
       "</style>\n",
       "<table border=\"1\" class=\"dataframe\">\n",
       "  <thead>\n",
       "    <tr style=\"text-align: right;\">\n",
       "      <th></th>\n",
       "      <th>Country</th>\n",
       "      <th>Year</th>\n",
       "      <th>Migration</th>\n",
       "    </tr>\n",
       "  </thead>\n",
       "  <tbody>\n",
       "    <tr>\n",
       "      <th>0</th>\n",
       "      <td>Afghanistan</td>\n",
       "      <td>1960</td>\n",
       "      <td>2606</td>\n",
       "    </tr>\n",
       "    <tr>\n",
       "      <th>1</th>\n",
       "      <td>Afghanistan</td>\n",
       "      <td>1961</td>\n",
       "      <td>6109</td>\n",
       "    </tr>\n",
       "    <tr>\n",
       "      <th>2</th>\n",
       "      <td>Afghanistan</td>\n",
       "      <td>1962</td>\n",
       "      <td>7016</td>\n",
       "    </tr>\n",
       "    <tr>\n",
       "      <th>3</th>\n",
       "      <td>Afghanistan</td>\n",
       "      <td>1963</td>\n",
       "      <td>6681</td>\n",
       "    </tr>\n",
       "    <tr>\n",
       "      <th>4</th>\n",
       "      <td>Afghanistan</td>\n",
       "      <td>1964</td>\n",
       "      <td>7079</td>\n",
       "    </tr>\n",
       "  </tbody>\n",
       "</table>\n",
       "</div>"
      ],
      "text/plain": [
       "       Country  Year  Migration\n",
       "0  Afghanistan  1960       2606\n",
       "1  Afghanistan  1961       6109\n",
       "2  Afghanistan  1962       7016\n",
       "3  Afghanistan  1963       6681\n",
       "4  Afghanistan  1964       7079"
      ]
     },
     "execution_count": 105,
     "metadata": {},
     "output_type": "execute_result"
    }
   ],
   "source": [
    "migration.head()"
   ]
  },
  {
   "cell_type": "code",
   "execution_count": 106,
   "id": "e52ed5bb-db6d-4da0-8777-5b43888bac60",
   "metadata": {},
   "outputs": [],
   "source": [
    "migration = migration[migration['Year'].isin([2015, 2017, 2021])]"
   ]
  },
  {
   "cell_type": "code",
   "execution_count": 107,
   "id": "05d644d9-fc10-4fd8-9490-1ba17caaee66",
   "metadata": {},
   "outputs": [],
   "source": [
    "common_migration_slavery = set(slavery['Country']).intersection(migration['Country'])"
   ]
  },
  {
   "cell_type": "code",
   "execution_count": 108,
   "id": "dbba1b50-ed98-4bb6-8621-df50a32e0317",
   "metadata": {},
   "outputs": [
    {
     "name": "stdout",
     "output_type": "stream",
     "text": [
      "Countries in set1 but not in set2: set()\n",
      "Countries in set2 but not in set1: {'Kosovo'}\n"
     ]
    }
   ],
   "source": [
    "diff_set1 = common_lfpr_slavery - common_migration_slavery\n",
    "diff_set2 = common_migration_slavery - common_lfpr_slavery\n",
    "print(\"Countries in set1 but not in set2:\", diff_set1)\n",
    "print(\"Countries in set2 but not in set1:\", diff_set2)"
   ]
  },
  {
   "cell_type": "code",
   "execution_count": 109,
   "id": "fbb0bf89-c048-4441-8fff-44044fea014d",
   "metadata": {},
   "outputs": [],
   "source": [
    "# Filter the DataFrames to keep only rows with common entries\n",
    "slavery_filtered = slavery[slavery['Country'].isin(common_migration_slavery)]\n",
    "\n",
    "migration_filtered = migration[migration['Country'].isin(common_migration_slavery)]"
   ]
  },
  {
   "cell_type": "code",
   "execution_count": 110,
   "id": "39977cc8-e945-4a54-af5f-71f37b6bf8c0",
   "metadata": {},
   "outputs": [],
   "source": [
    "# Pivot the DataFrame\n",
    "migration_pivot = migration_filtered.pivot(index='Country', columns='Year', values='Migration').reset_index()"
   ]
  },
  {
   "cell_type": "code",
   "execution_count": 111,
   "id": "2038f92a-8a31-48fe-8c94-a34d27f83f6d",
   "metadata": {},
   "outputs": [],
   "source": [
    "slavery_reduced = slavery_filtered[[\"Country\", \"2015\", \"2017\", \"2021\"]]\n",
    "\n",
    "slavery_reduced.columns = [\"Country\", 2015, 2017, 2021]\n",
    "migration_pivot.columns = [\"Country\", 2015, 2017, 2021]\n",
    "\n",
    "slavery_reduced = slavery_reduced.sort_values(by='Country')\n",
    "migration_pivot = migration_pivot.sort_values(by='Country')"
   ]
  },
  {
   "cell_type": "code",
   "execution_count": 112,
   "id": "6f052b7f-ac7c-4c16-9c9f-e581ede994f3",
   "metadata": {},
   "outputs": [
    {
     "data": {
      "text/html": [
       "<div>\n",
       "<style scoped>\n",
       "    .dataframe tbody tr th:only-of-type {\n",
       "        vertical-align: middle;\n",
       "    }\n",
       "\n",
       "    .dataframe tbody tr th {\n",
       "        vertical-align: top;\n",
       "    }\n",
       "\n",
       "    .dataframe thead th {\n",
       "        text-align: right;\n",
       "    }\n",
       "</style>\n",
       "<table border=\"1\" class=\"dataframe\">\n",
       "  <thead>\n",
       "    <tr style=\"text-align: right;\">\n",
       "      <th></th>\n",
       "      <th>2015</th>\n",
       "      <th>2017</th>\n",
       "      <th>2021</th>\n",
       "    </tr>\n",
       "  </thead>\n",
       "  <tbody>\n",
       "    <tr>\n",
       "      <th>count</th>\n",
       "      <td>1.390000e+02</td>\n",
       "      <td>1.390000e+02</td>\n",
       "      <td>139.000000</td>\n",
       "    </tr>\n",
       "    <tr>\n",
       "      <th>mean</th>\n",
       "      <td>-1.332591e+04</td>\n",
       "      <td>-2.414331e+03</td>\n",
       "      <td>-2181.748201</td>\n",
       "    </tr>\n",
       "    <tr>\n",
       "      <th>std</th>\n",
       "      <td>2.184219e+05</td>\n",
       "      <td>1.725047e+05</td>\n",
       "      <td>83431.971912</td>\n",
       "    </tr>\n",
       "    <tr>\n",
       "      <th>min</th>\n",
       "      <td>-2.172159e+06</td>\n",
       "      <td>-1.574581e+06</td>\n",
       "      <td>-471395.000000</td>\n",
       "    </tr>\n",
       "    <tr>\n",
       "      <th>25%</th>\n",
       "      <td>-2.532800e+04</td>\n",
       "      <td>-2.120850e+04</td>\n",
       "      <td>-14977.000000</td>\n",
       "    </tr>\n",
       "    <tr>\n",
       "      <th>50%</th>\n",
       "      <td>-3.018000e+03</td>\n",
       "      <td>-1.398000e+03</td>\n",
       "      <td>-1775.000000</td>\n",
       "    </tr>\n",
       "    <tr>\n",
       "      <th>75%</th>\n",
       "      <td>1.551150e+04</td>\n",
       "      <td>2.238600e+04</td>\n",
       "      <td>9810.000000</td>\n",
       "    </tr>\n",
       "    <tr>\n",
       "      <th>max</th>\n",
       "      <td>6.449960e+05</td>\n",
       "      <td>4.308030e+05</td>\n",
       "      <td>312735.000000</td>\n",
       "    </tr>\n",
       "  </tbody>\n",
       "</table>\n",
       "</div>"
      ],
      "text/plain": [
       "               2015          2017           2021\n",
       "count  1.390000e+02  1.390000e+02     139.000000\n",
       "mean  -1.332591e+04 -2.414331e+03   -2181.748201\n",
       "std    2.184219e+05  1.725047e+05   83431.971912\n",
       "min   -2.172159e+06 -1.574581e+06 -471395.000000\n",
       "25%   -2.532800e+04 -2.120850e+04  -14977.000000\n",
       "50%   -3.018000e+03 -1.398000e+03   -1775.000000\n",
       "75%    1.551150e+04  2.238600e+04    9810.000000\n",
       "max    6.449960e+05  4.308030e+05  312735.000000"
      ]
     },
     "execution_count": 112,
     "metadata": {},
     "output_type": "execute_result"
    }
   ],
   "source": [
    "migration_pivot.describe()"
   ]
  },
  {
   "cell_type": "code",
   "execution_count": 113,
   "id": "8f1d0e56-9f9d-4bad-9c06-70b80a7ff935",
   "metadata": {},
   "outputs": [
    {
     "name": "stderr",
     "output_type": "stream",
     "text": [
      "C:\\Users\\msepr\\AppData\\Local\\Temp\\ipykernel_37484\\1926311467.py:5: FutureWarning: Setting an item of incompatible dtype is deprecated and will raise in a future error of pandas. Value '[-1.23331874e+00  4.98958074e-03 -1.05888820e-01  4.02030838e-01\n",
      "  8.66033617e-02 -6.41307946e-02  1.02369608e+00  5.90213047e-01\n",
      "  6.62114036e-02  1.95630036e-01 -1.25524997e+00  6.09319173e-02\n",
      "  1.24092768e-01  3.23173969e-01  7.66968584e-02 -9.48841464e-02\n",
      "  7.10865427e-02  8.31204630e-02 -9.32798155e-03 -2.95361455e-02\n",
      " -1.02520865e+00 -1.78951579e-01  2.54246577e-01  1.13062751e+00\n",
      " -2.29223867e-01 -1.63540442e-01  3.17205255e-01 -6.52713098e-01\n",
      " -1.27452465e-01  7.99086607e-02 -3.77207689e-04 -4.80664609e-03\n",
      "  8.26196240e-02  1.64008257e-01  6.91475147e-02 -7.80394149e-02\n",
      "  1.28958718e-01 -1.74402674e-01  1.42531914e-01 -1.82521780e-01\n",
      "  8.10252100e-02  3.49713840e-01  1.18358392e-01  1.47645985e-01\n",
      "  1.16557209e-01  4.09239435e-05  1.88961913e+00  8.22776215e-05\n",
      " -7.34675361e-02 -1.60066733e-01 -8.27576018e-03  5.48299524e-02\n",
      "  3.12537611e-02 -8.90119242e-02  3.13088994e-02  1.26321272e-01\n",
      "  6.80171808e-02 -2.12175656e+00 -1.13332482e-01 -2.83231043e-02\n",
      "  1.21561004e-01  1.16593968e-01  2.17598029e-01  9.17549192e-03\n",
      "  7.51446443e-01  2.31658666e+00  4.92984765e-03 -3.79788013e-01\n",
      " -6.86054543e-03  1.25182135e+00  9.93823754e-03 -9.66739145e-01\n",
      "  4.22584343e-02 -8.58821020e-03  2.60340080e-02 -2.56672792e-02\n",
      "  1.13487847e-01  6.34590866e-02  3.15983751e-02  4.31589528e-01\n",
      " -1.63673692e-01  4.73633161e-02  4.86085213e-02 -3.16342282e-01\n",
      "  7.92975452e-02  5.23027832e-02 -3.11880679e-01  2.00978445e-01\n",
      " -3.71273751e-01  2.17332255e-02 -9.54503051e-01  3.26247926e-01\n",
      "  2.77946830e-01 -5.06954441e-02  1.39577423e-01 -6.09236598e-01\n",
      "  2.00587883e-01  6.78135561e-01 -9.91952095e+00  1.00966872e-01\n",
      "  2.01745786e-01 -1.61145796e-02  7.25431112e-02  9.31831913e-02\n",
      " -5.55981524e-02  1.47122899e-02  8.79725552e-01 -1.66729270e-01\n",
      " -5.28910566e-03  3.38470235e-01 -8.12374327e-02  9.50854605e-02\n",
      "  5.95948151e-02  2.49426576e-01  9.76861474e-02 -1.76998039e-02\n",
      "  3.02489246e+00 -6.74446754e-01  5.72284657e-02 -3.91812744e-01\n",
      "  2.86745973e-01  5.67460062e-02  4.19569392e-01  3.89707442e-01\n",
      " -2.59981086e-02  2.10999820e-01  3.58256400e-02  5.21097994e-02\n",
      "  5.85517834e-02 -5.46975611e-02  1.70648547e-02 -2.25382570e-01\n",
      " -3.95667099e-02 -3.80496811e-03  1.22932495e+00  4.21343733e-02\n",
      " -3.24125236e-02  1.36048576e-01 -2.14083826e-01]' has dtype incompatible with int64, please explicitly cast to a compatible dtype first.\n",
      "  migration_pivot.loc[:, value_columns] = scaler.fit_transform(migration_pivot[value_columns])\n",
      "C:\\Users\\msepr\\AppData\\Local\\Temp\\ipykernel_37484\\1926311467.py:5: FutureWarning: Setting an item of incompatible dtype is deprecated and will raise in a future error of pandas. Value '[-2.59918987e-01 -4.27829790e-02 -1.98004797e-01  4.66289895e-01\n",
      "  4.27053790e-02 -1.39115920e-01  1.43870688e+00  2.79185935e-01\n",
      "  2.09347627e-02  1.82905355e-01 -1.00848028e+00  1.36681941e-02\n",
      "  1.06766377e-01  3.41292116e-01  3.56657088e-02 -1.64383099e-01\n",
      "  3.59275147e-02  3.41955357e-01 -6.48444907e-02 -7.20645161e-02\n",
      " -3.84189527e-01 -2.51948451e-01 -2.06510580e-01  2.11590569e+00\n",
      " -3.27662722e-01  1.12462110e-01  1.26313401e+00 -1.03662150e+00\n",
      "  2.43207415e+00  3.84583052e-02 -6.53913742e-02 -7.03016896e-02\n",
      "  4.32173550e-02  1.48952037e-01  2.29768488e-02 -1.60810903e-01\n",
      "  3.01212539e-01 -2.80432935e-01  1.09430980e-01 -2.10734382e-01\n",
      "  4.50499964e-02  4.31591885e-01  9.14652761e-02  9.06973121e-02\n",
      "  3.74285353e-02 -3.18336739e-02  2.52041910e+00 -1.45428477e-02\n",
      " -1.31756265e-01 -2.65498362e-01 -6.58102637e-02  5.91292111e-03\n",
      " -2.15010671e-02 -1.88219074e-01 -2.54107021e-02  1.19024712e-01\n",
      "  6.24280912e-02 -1.26389231e+00 -2.14492752e-01 -4.35451251e-02\n",
      "  1.83929307e-01  9.85107641e-02  4.24063510e-01 -5.18647353e-02\n",
      "  9.68590723e-01  2.58142557e-01 -7.84758520e-02 -3.85667276e-01\n",
      " -1.80824511e-01  8.32538916e-01 -4.12121435e-02 -1.32958232e+00\n",
      " -5.30982576e-03 -1.30412328e-01  6.76176662e-02 -7.86736609e-02\n",
      "  6.96830240e-02  1.68680442e-02 -1.38505165e-02  4.69338479e-01\n",
      " -1.83733466e-01 -3.41318736e-03  1.93916355e-04 -5.83167966e-02\n",
      "  7.68914135e-02  2.52689795e-03 -4.03720249e-01  1.00174686e-01\n",
      " -5.99382353e-01 -3.59702073e-02 -4.40111271e-01  3.66524388e-01\n",
      "  2.98047596e-01 -1.13022597e-01 -2.56725080e-02  1.01408083e-01\n",
      "  1.39620111e-01  4.76564197e-02 -9.14672295e+00  7.83866162e-02\n",
      "  1.68308221e-01 -8.26938362e-02  6.20516850e-01  2.24136878e-01\n",
      "  2.50944422e-03  4.45554741e-02  2.86906300e-01 -3.27668539e-01\n",
      " -1.60264145e-02  1.66020632e+00 -1.05662942e-01  4.00233228e-02\n",
      "  2.12256582e-02  2.20285422e-01  5.74479609e-02  2.35516708e-01\n",
      " -4.80947301e-02 -3.89964372e+00  9.88400704e-01 -5.59587854e-01\n",
      "  1.11652270e+00  8.53098026e-03  4.83929796e-01  2.77062398e-01\n",
      " -6.20635301e-02  2.70400892e-01 -1.74401665e-02  2.42799349e-03\n",
      "  2.24590549e-02 -1.16088635e-01 -4.18986568e-02  5.54390494e-01\n",
      " -2.79449708e-01 -6.09755811e-02  1.40460811e+00 -3.93098128e-03\n",
      " -2.68477131e-01  1.31963742e-01 -3.34551126e-01]' has dtype incompatible with int64, please explicitly cast to a compatible dtype first.\n",
      "  migration_pivot.loc[:, value_columns] = scaler.fit_transform(migration_pivot[value_columns])\n",
      "C:\\Users\\msepr\\AppData\\Local\\Temp\\ipykernel_37484\\1926311467.py:5: FutureWarning: Setting an item of incompatible dtype is deprecated and will raise in a future error of pandas. Value '[-2.18317551e+00 -1.01408859e-01 -1.99867544e-01  3.76160874e-01\n",
      "  5.44409552e-02 -1.28029393e-01  1.44483156e+00  2.70604984e-01\n",
      "  3.92842119e-02 -8.38222249e-02 -2.07284405e+00  2.59077845e-02\n",
      "  1.82154561e-01  6.56043370e-01  4.70791084e-02 -2.84889656e-01\n",
      "  4.80895580e-02  2.71350792e-01 -7.86015689e-02 -1.31301325e-01\n",
      " -1.47155759e-01 -2.65606911e-01 -9.27117751e-02  2.37410833e+00\n",
      " -1.00657919e+00  1.34699519e-01  1.39406850e+00 -2.38192132e+00\n",
      "  2.57616216e+00  5.13133732e-02 -9.88827349e-02 -5.87775111e-02\n",
      "  5.02427779e-02  2.99859904e-01  3.51702387e-02 -1.53783827e-01\n",
      "  4.58019317e-01 -3.02668757e-01  1.04265741e-01 -1.54048469e-01\n",
      "  6.22719392e-02  9.51203767e-03  2.05815921e-01  2.74213732e-01\n",
      "  4.44808096e-02 -6.64312597e-03  3.78818436e+00 -1.09119551e-01\n",
      " -1.51859161e-01 -3.24020518e-01 -2.62867464e-02  9.46392102e-03\n",
      " -2.56732592e-02 -3.70441051e-01 -4.32719221e-02  2.65264036e-01\n",
      "  3.37267394e-02 -3.60620124e+00 -1.54096585e-01 -6.96671906e-01\n",
      "  2.10531352e-01  2.29008144e-01  3.63313730e-01 -4.18885686e-02\n",
      "  1.07980667e+00  1.99151766e-01 -2.01311043e-01 -6.05875796e-01\n",
      " -1.54794277e-01 -4.16945789e-01 -5.57341333e-02 -1.35857651e+00\n",
      "  8.32115070e-03 -1.16445310e-01  1.78723048e-02 -1.16337048e-01\n",
      "  1.09835243e-01  1.73189634e-02  4.89283973e-03  5.81570833e-01\n",
      " -2.41235830e-01  8.27303405e-03  2.04946619e-02 -6.07078713e-01\n",
      "  2.62446010e-02  2.50296558e-02 -5.30007876e-01 -8.82128688e-02\n",
      " -3.99371184e-01 -2.54928217e-02  3.59338412e+00  7.17187597e-01\n",
      "  4.85999146e-01 -9.86662100e-02 -2.67438545e-02 -8.92350273e-01\n",
      "  1.53801828e-01 -2.22325988e-01 -5.64424189e+00  9.20802009e-02\n",
      "  1.54896481e-01 -7.27553965e-02  8.44371920e-01 -9.37591949e-01\n",
      " -9.45794971e-03  3.54580559e-01 -3.44265596e-01 -1.26814447e-01\n",
      " -4.72776329e-02 -1.82483883e+00 -9.51416657e-02  2.91676872e-02\n",
      "  7.67157599e-03  2.58660027e-01  8.11938099e-02 -1.79105212e-01\n",
      "  1.57771451e-01 -3.57305207e-01  3.33452860e+00 -1.08524990e+00\n",
      " -1.56875322e-01  2.03262537e-02  9.89744334e-01  3.13404740e-01\n",
      " -1.66273299e-02  3.98736408e-02  2.22236592e-03  1.42755855e-02\n",
      "  5.79053536e-02 -8.42913622e-02 -2.79227123e-02  5.49092097e-01\n",
      "  3.62408341e-02 -6.97994248e-03  2.45645997e+00  8.36926734e-03\n",
      " -4.45310551e-01  1.34687490e-01 -2.74544577e-01]' has dtype incompatible with int64, please explicitly cast to a compatible dtype first.\n",
      "  migration_pivot.loc[:, value_columns] = scaler.fit_transform(migration_pivot[value_columns])\n"
     ]
    }
   ],
   "source": [
    "value_columns = [2015, 2017, 2021]\n",
    "scaler = StandardScaler()\n",
    "\n",
    "# Z-score normalization\n",
    "migration_pivot.loc[:, value_columns] = scaler.fit_transform(migration_pivot[value_columns])\n",
    "slavery_reduced.loc[:, value_columns] = scaler.fit_transform(slavery_reduced[value_columns])"
   ]
  },
  {
   "cell_type": "markdown",
   "id": "f0073958-a36f-45c4-ad04-108228161cdd",
   "metadata": {},
   "source": [
    "### Finding correlation between migration and slavery"
   ]
  },
  {
   "cell_type": "code",
   "execution_count": 114,
   "id": "5ebb7ff7-7725-4215-95fc-92d60110763f",
   "metadata": {},
   "outputs": [
    {
     "name": "stdout",
     "output_type": "stream",
     "text": [
      "slavMigration_2015_corr:  -0.04227350699987872\n",
      "slavMigration_2017_corr:  0.0043265376303777275\n",
      "slavMigration_2021_corr:  -0.04038406787972066\n"
     ]
    }
   ],
   "source": [
    "slavMigration_2015_corr = slavery_reduced[2015].corr(migration_pivot[2015])\n",
    "slavMigration_2017_corr = slavery_reduced[2017].corr(migration_pivot[2017])\n",
    "slavMigration_2021_corr = slavery_reduced[2021].corr(migration_pivot[2021])\n",
    "\n",
    "print(\"slavMigration_2015_corr: \", slavMigration_2015_corr)\n",
    "print(\"slavMigration_2017_corr: \", slavMigration_2017_corr)\n",
    "print(\"slavMigration_2021_corr: \", slavMigration_2021_corr)"
   ]
  },
  {
   "cell_type": "markdown",
   "id": "c897cc3b-6d22-4e21-ae6e-9b703256e7d1",
   "metadata": {},
   "source": [
    "### corruption and slavery preprocess"
   ]
  },
  {
   "cell_type": "code",
   "execution_count": 115,
   "id": "f2117399-66c6-435b-b93f-3ffc406d896e",
   "metadata": {},
   "outputs": [],
   "source": [
    "corruption = pd.read_csv(\"../Datasets/corruption.csv\")"
   ]
  },
  {
   "cell_type": "code",
   "execution_count": 116,
   "id": "a6d29b95-b8ae-41ce-8745-c37caa8d61e0",
   "metadata": {},
   "outputs": [
    {
     "data": {
      "text/html": [
       "<div>\n",
       "<style scoped>\n",
       "    .dataframe tbody tr th:only-of-type {\n",
       "        vertical-align: middle;\n",
       "    }\n",
       "\n",
       "    .dataframe tbody tr th {\n",
       "        vertical-align: top;\n",
       "    }\n",
       "\n",
       "    .dataframe thead th {\n",
       "        text-align: right;\n",
       "    }\n",
       "</style>\n",
       "<table border=\"1\" class=\"dataframe\">\n",
       "  <thead>\n",
       "    <tr style=\"text-align: right;\">\n",
       "      <th></th>\n",
       "      <th>Country</th>\n",
       "      <th>Year</th>\n",
       "      <th>Corruption</th>\n",
       "    </tr>\n",
       "  </thead>\n",
       "  <tbody>\n",
       "    <tr>\n",
       "      <th>0</th>\n",
       "      <td>Afghanistan</td>\n",
       "      <td>2012</td>\n",
       "      <td>8.0</td>\n",
       "    </tr>\n",
       "    <tr>\n",
       "      <th>1</th>\n",
       "      <td>Afghanistan</td>\n",
       "      <td>2013</td>\n",
       "      <td>8.0</td>\n",
       "    </tr>\n",
       "    <tr>\n",
       "      <th>2</th>\n",
       "      <td>Afghanistan</td>\n",
       "      <td>2014</td>\n",
       "      <td>12.0</td>\n",
       "    </tr>\n",
       "    <tr>\n",
       "      <th>3</th>\n",
       "      <td>Afghanistan</td>\n",
       "      <td>2015</td>\n",
       "      <td>11.0</td>\n",
       "    </tr>\n",
       "    <tr>\n",
       "      <th>4</th>\n",
       "      <td>Afghanistan</td>\n",
       "      <td>2016</td>\n",
       "      <td>15.0</td>\n",
       "    </tr>\n",
       "  </tbody>\n",
       "</table>\n",
       "</div>"
      ],
      "text/plain": [
       "       Country  Year  Corruption\n",
       "0  Afghanistan  2012         8.0\n",
       "1  Afghanistan  2013         8.0\n",
       "2  Afghanistan  2014        12.0\n",
       "3  Afghanistan  2015        11.0\n",
       "4  Afghanistan  2016        15.0"
      ]
     },
     "execution_count": 116,
     "metadata": {},
     "output_type": "execute_result"
    }
   ],
   "source": [
    "corruption.head()"
   ]
  },
  {
   "cell_type": "code",
   "execution_count": 117,
   "id": "0a4eb61f-5731-4106-b95b-dbe992f33432",
   "metadata": {},
   "outputs": [],
   "source": [
    "corruption = corruption[corruption['Year'].isin([2015, 2017, 2021])]"
   ]
  },
  {
   "cell_type": "code",
   "execution_count": 118,
   "id": "c4282139-1330-4286-a09f-5c08eaf7e8e3",
   "metadata": {},
   "outputs": [],
   "source": [
    "common_corruption_slavery = set(slavery['Country']).intersection(corruption['Country'])"
   ]
  },
  {
   "cell_type": "code",
   "execution_count": 119,
   "id": "76694e41-753e-4637-917f-724f456d6f26",
   "metadata": {},
   "outputs": [
    {
     "name": "stdout",
     "output_type": "stream",
     "text": [
      "Countries in set1 but not in set2: set()\n",
      "Countries in set2 but not in set1: {'Kyrgyzstan', 'Kosovo', 'Gambia', 'Yemen', 'Egypt'}\n"
     ]
    }
   ],
   "source": [
    "diff_set1 = common_lfpr_slavery - common_corruption_slavery\n",
    "diff_set2 = common_corruption_slavery - common_lfpr_slavery\n",
    "print(\"Countries in set1 but not in set2:\", diff_set1)\n",
    "print(\"Countries in set2 but not in set1:\", diff_set2)"
   ]
  },
  {
   "cell_type": "code",
   "execution_count": 120,
   "id": "05045c1b-38b2-477e-abdc-c95a375c1e3e",
   "metadata": {},
   "outputs": [],
   "source": [
    "# Equatorial Guinea has Nan values\n",
    "common_corruption_slavery.remove(\"Equatorial Guinea\")"
   ]
  },
  {
   "cell_type": "code",
   "execution_count": 121,
   "id": "87e58c5d-be71-47df-957c-74988dd40023",
   "metadata": {},
   "outputs": [],
   "source": [
    "# Filter the DataFrames to keep only rows with common entries\n",
    "slavery_filtered = slavery[slavery['Country'].isin(common_corruption_slavery)]\n",
    "\n",
    "corruption_filtered = corruption[corruption['Country'].isin(common_corruption_slavery)]"
   ]
  },
  {
   "cell_type": "code",
   "execution_count": 122,
   "id": "561ad337-28c1-40dd-9113-c73ce868f334",
   "metadata": {},
   "outputs": [],
   "source": [
    "# Pivot the DataFrame\n",
    "corruption_pivot = corruption_filtered.pivot(index='Country', columns='Year', values='Corruption').reset_index()"
   ]
  },
  {
   "cell_type": "code",
   "execution_count": 123,
   "id": "b0ed78b8-aec0-442e-ae9a-c5a21d103297",
   "metadata": {},
   "outputs": [],
   "source": [
    "slavery_reduced = slavery_filtered[[\"Country\", \"2015\", \"2017\", \"2021\"]]\n",
    "\n",
    "slavery_reduced.columns = [\"Country\", 2015, 2017, 2021]\n",
    "corruption_pivot.columns = [\"Country\", 2015, 2017, 2021]\n",
    "\n",
    "slavery_reduced = slavery_reduced.sort_values(by='Country')\n",
    "corruption_pivot = corruption_pivot.sort_values(by='Country')"
   ]
  },
  {
   "cell_type": "code",
   "execution_count": 124,
   "id": "91bca53e-18a3-4483-83d0-5ef5f826a343",
   "metadata": {},
   "outputs": [],
   "source": [
    "# Providing new rankings\n",
    "\n",
    "# Replace the values with ranks (1 for the lowest, etc.)\n",
    "slavery_ranked = slavery_reduced.copy()\n",
    "slavery_ranked.iloc[:, 1:] = slavery_reduced.iloc[:, 1:].rank(axis=0, method='min')\n",
    "\n",
    "corruption_ranked = corruption_pivot.copy()\n",
    "corruption_ranked.iloc[:, 1:] = corruption_pivot.iloc[:, 1:].rank(axis=0, method='min')"
   ]
  },
  {
   "cell_type": "code",
   "execution_count": 125,
   "id": "591457d5-d197-4871-a013-ca3f456a1d0a",
   "metadata": {},
   "outputs": [
    {
     "data": {
      "text/html": [
       "<div>\n",
       "<style scoped>\n",
       "    .dataframe tbody tr th:only-of-type {\n",
       "        vertical-align: middle;\n",
       "    }\n",
       "\n",
       "    .dataframe tbody tr th {\n",
       "        vertical-align: top;\n",
       "    }\n",
       "\n",
       "    .dataframe thead th {\n",
       "        text-align: right;\n",
       "    }\n",
       "</style>\n",
       "<table border=\"1\" class=\"dataframe\">\n",
       "  <thead>\n",
       "    <tr style=\"text-align: right;\">\n",
       "      <th></th>\n",
       "      <th>2015</th>\n",
       "      <th>2017</th>\n",
       "      <th>2021</th>\n",
       "    </tr>\n",
       "  </thead>\n",
       "  <tbody>\n",
       "    <tr>\n",
       "      <th>count</th>\n",
       "      <td>141.000000</td>\n",
       "      <td>142.000000</td>\n",
       "      <td>142.000000</td>\n",
       "    </tr>\n",
       "    <tr>\n",
       "      <th>mean</th>\n",
       "      <td>69.787234</td>\n",
       "      <td>70.380282</td>\n",
       "      <td>70.352113</td>\n",
       "    </tr>\n",
       "    <tr>\n",
       "      <th>std</th>\n",
       "      <td>41.152644</td>\n",
       "      <td>41.389301</td>\n",
       "      <td>41.275273</td>\n",
       "    </tr>\n",
       "    <tr>\n",
       "      <th>min</th>\n",
       "      <td>1.000000</td>\n",
       "      <td>1.000000</td>\n",
       "      <td>1.000000</td>\n",
       "    </tr>\n",
       "    <tr>\n",
       "      <th>25%</th>\n",
       "      <td>32.000000</td>\n",
       "      <td>32.000000</td>\n",
       "      <td>34.750000</td>\n",
       "    </tr>\n",
       "    <tr>\n",
       "      <th>50%</th>\n",
       "      <td>68.000000</td>\n",
       "      <td>69.000000</td>\n",
       "      <td>71.000000</td>\n",
       "    </tr>\n",
       "    <tr>\n",
       "      <th>75%</th>\n",
       "      <td>104.000000</td>\n",
       "      <td>106.750000</td>\n",
       "      <td>106.750000</td>\n",
       "    </tr>\n",
       "    <tr>\n",
       "      <th>max</th>\n",
       "      <td>140.000000</td>\n",
       "      <td>142.000000</td>\n",
       "      <td>140.000000</td>\n",
       "    </tr>\n",
       "  </tbody>\n",
       "</table>\n",
       "</div>"
      ],
      "text/plain": [
       "             2015        2017        2021\n",
       "count  141.000000  142.000000  142.000000\n",
       "mean    69.787234   70.380282   70.352113\n",
       "std     41.152644   41.389301   41.275273\n",
       "min      1.000000    1.000000    1.000000\n",
       "25%     32.000000   32.000000   34.750000\n",
       "50%     68.000000   69.000000   71.000000\n",
       "75%    104.000000  106.750000  106.750000\n",
       "max    140.000000  142.000000  140.000000"
      ]
     },
     "execution_count": 125,
     "metadata": {},
     "output_type": "execute_result"
    }
   ],
   "source": [
    "corruption_ranked.describe()"
   ]
  },
  {
   "cell_type": "code",
   "execution_count": 126,
   "id": "a3b04035-996a-451d-aef4-9e0505c22815",
   "metadata": {},
   "outputs": [
    {
     "data": {
      "text/html": [
       "<div>\n",
       "<style scoped>\n",
       "    .dataframe tbody tr th:only-of-type {\n",
       "        vertical-align: middle;\n",
       "    }\n",
       "\n",
       "    .dataframe tbody tr th {\n",
       "        vertical-align: top;\n",
       "    }\n",
       "\n",
       "    .dataframe thead th {\n",
       "        text-align: right;\n",
       "    }\n",
       "</style>\n",
       "<table border=\"1\" class=\"dataframe\">\n",
       "  <thead>\n",
       "    <tr style=\"text-align: right;\">\n",
       "      <th></th>\n",
       "      <th>2015</th>\n",
       "      <th>2017</th>\n",
       "      <th>2021</th>\n",
       "    </tr>\n",
       "  </thead>\n",
       "  <tbody>\n",
       "    <tr>\n",
       "      <th>count</th>\n",
       "      <td>142.000000</td>\n",
       "      <td>142.000000</td>\n",
       "      <td>137.000000</td>\n",
       "    </tr>\n",
       "    <tr>\n",
       "      <th>mean</th>\n",
       "      <td>71.500000</td>\n",
       "      <td>70.704225</td>\n",
       "      <td>68.357664</td>\n",
       "    </tr>\n",
       "    <tr>\n",
       "      <th>std</th>\n",
       "      <td>41.135953</td>\n",
       "      <td>41.426135</td>\n",
       "      <td>39.805360</td>\n",
       "    </tr>\n",
       "    <tr>\n",
       "      <th>min</th>\n",
       "      <td>1.000000</td>\n",
       "      <td>1.000000</td>\n",
       "      <td>1.000000</td>\n",
       "    </tr>\n",
       "    <tr>\n",
       "      <th>25%</th>\n",
       "      <td>36.250000</td>\n",
       "      <td>36.000000</td>\n",
       "      <td>35.000000</td>\n",
       "    </tr>\n",
       "    <tr>\n",
       "      <th>50%</th>\n",
       "      <td>71.500000</td>\n",
       "      <td>71.000000</td>\n",
       "      <td>69.000000</td>\n",
       "    </tr>\n",
       "    <tr>\n",
       "      <th>75%</th>\n",
       "      <td>106.750000</td>\n",
       "      <td>106.500000</td>\n",
       "      <td>103.000000</td>\n",
       "    </tr>\n",
       "    <tr>\n",
       "      <th>max</th>\n",
       "      <td>142.000000</td>\n",
       "      <td>142.000000</td>\n",
       "      <td>137.000000</td>\n",
       "    </tr>\n",
       "  </tbody>\n",
       "</table>\n",
       "</div>"
      ],
      "text/plain": [
       "             2015        2017        2021\n",
       "count  142.000000  142.000000  137.000000\n",
       "mean    71.500000   70.704225   68.357664\n",
       "std     41.135953   41.426135   39.805360\n",
       "min      1.000000    1.000000    1.000000\n",
       "25%     36.250000   36.000000   35.000000\n",
       "50%     71.500000   71.000000   69.000000\n",
       "75%    106.750000  106.500000  103.000000\n",
       "max    142.000000  142.000000  137.000000"
      ]
     },
     "execution_count": 126,
     "metadata": {},
     "output_type": "execute_result"
    }
   ],
   "source": [
    "slavery_ranked.describe()"
   ]
  },
  {
   "cell_type": "markdown",
   "id": "e03d83dc-2c67-459b-b0ed-a26779752ae9",
   "metadata": {},
   "source": [
    "### Finding correlation between migration and slavery"
   ]
  },
  {
   "cell_type": "code",
   "execution_count": 127,
   "id": "d564aeae-94a8-4e6c-a696-02947575bfef",
   "metadata": {},
   "outputs": [
    {
     "name": "stdout",
     "output_type": "stream",
     "text": [
      "slavCorruption_2015_corr:  -0.16137567476901077\n",
      "slavCorruption_2017_corr:  -0.022211976676156927\n",
      "slavCorruption_2021_corr:  -0.08214036927882974\n"
     ]
    }
   ],
   "source": [
    "slavCorruption_2015_corr = slavery_ranked[2015].corr(corruption_ranked[2015])\n",
    "slavCorruption_2017_corr = slavery_ranked[2017].corr(corruption_ranked[2017])\n",
    "slavCorruption_2021_corr = slavery_ranked[2021].corr(corruption_ranked[2021])\n",
    "\n",
    "print(\"slavCorruption_2015_corr: \", slavCorruption_2015_corr)\n",
    "print(\"slavCorruption_2017_corr: \", slavCorruption_2017_corr)\n",
    "print(\"slavCorruption_2021_corr: \", slavCorruption_2021_corr)"
   ]
  },
  {
   "cell_type": "markdown",
   "id": "e841777d-60a6-447a-9763-9951ccf37e49",
   "metadata": {},
   "source": [
    "### Democracy and slavery preprocess"
   ]
  },
  {
   "cell_type": "code",
   "execution_count": 128,
   "id": "956177b1-8e46-470c-a3ee-2b970e70fd07",
   "metadata": {},
   "outputs": [],
   "source": [
    "democracy = pd.read_csv(\"../Datasets/democracy.csv\")"
   ]
  },
  {
   "cell_type": "code",
   "execution_count": 129,
   "id": "29544b78-26eb-4748-b0b1-c063962a6bdc",
   "metadata": {},
   "outputs": [
    {
     "data": {
      "text/html": [
       "<div>\n",
       "<style scoped>\n",
       "    .dataframe tbody tr th:only-of-type {\n",
       "        vertical-align: middle;\n",
       "    }\n",
       "\n",
       "    .dataframe tbody tr th {\n",
       "        vertical-align: top;\n",
       "    }\n",
       "\n",
       "    .dataframe thead th {\n",
       "        text-align: right;\n",
       "    }\n",
       "</style>\n",
       "<table border=\"1\" class=\"dataframe\">\n",
       "  <thead>\n",
       "    <tr style=\"text-align: right;\">\n",
       "      <th></th>\n",
       "      <th>Country</th>\n",
       "      <th>Year</th>\n",
       "      <th>Democracy score</th>\n",
       "    </tr>\n",
       "  </thead>\n",
       "  <tbody>\n",
       "    <tr>\n",
       "      <th>0</th>\n",
       "      <td>Afghanistan</td>\n",
       "      <td>2006</td>\n",
       "      <td>3.06</td>\n",
       "    </tr>\n",
       "    <tr>\n",
       "      <th>1</th>\n",
       "      <td>Afghanistan</td>\n",
       "      <td>2008</td>\n",
       "      <td>3.02</td>\n",
       "    </tr>\n",
       "    <tr>\n",
       "      <th>2</th>\n",
       "      <td>Afghanistan</td>\n",
       "      <td>2010</td>\n",
       "      <td>2.48</td>\n",
       "    </tr>\n",
       "    <tr>\n",
       "      <th>3</th>\n",
       "      <td>Afghanistan</td>\n",
       "      <td>2011</td>\n",
       "      <td>2.48</td>\n",
       "    </tr>\n",
       "    <tr>\n",
       "      <th>4</th>\n",
       "      <td>Afghanistan</td>\n",
       "      <td>2012</td>\n",
       "      <td>2.48</td>\n",
       "    </tr>\n",
       "  </tbody>\n",
       "</table>\n",
       "</div>"
      ],
      "text/plain": [
       "       Country  Year  Democracy score\n",
       "0  Afghanistan  2006             3.06\n",
       "1  Afghanistan  2008             3.02\n",
       "2  Afghanistan  2010             2.48\n",
       "3  Afghanistan  2011             2.48\n",
       "4  Afghanistan  2012             2.48"
      ]
     },
     "execution_count": 129,
     "metadata": {},
     "output_type": "execute_result"
    }
   ],
   "source": [
    "democracy.head()"
   ]
  },
  {
   "cell_type": "code",
   "execution_count": 130,
   "id": "195548df-3b97-4923-a383-bb6a8c746f1f",
   "metadata": {},
   "outputs": [],
   "source": [
    "democracy = democracy[democracy['Year'].isin([2015, 2017, 2021])]"
   ]
  },
  {
   "cell_type": "code",
   "execution_count": 131,
   "id": "7d15f386-22cf-44b8-a0d8-5edd1aa64e6c",
   "metadata": {},
   "outputs": [],
   "source": [
    "common_democracy_slavery = set(slavery['Country']).intersection(democracy['Country'])"
   ]
  },
  {
   "cell_type": "code",
   "execution_count": 132,
   "id": "bbf8d359-b161-471c-a695-ab7d058301ce",
   "metadata": {},
   "outputs": [
    {
     "name": "stdout",
     "output_type": "stream",
     "text": [
      "Countries in set1 but not in set2: {'Timor-Leste', 'South Sudan', 'Somalia', 'Barbados'}\n",
      "Countries in set2 but not in set1: {'Slovakia', 'Kyrgyzstan', 'Cape Verde', 'Gambia', 'Yemen', 'Egypt'}\n"
     ]
    }
   ],
   "source": [
    "diff_set1 = common_lfpr_slavery - common_democracy_slavery\n",
    "diff_set2 = common_democracy_slavery - common_lfpr_slavery\n",
    "print(\"Countries in set1 but not in set2:\", diff_set1)\n",
    "print(\"Countries in set2 but not in set1:\", diff_set2)"
   ]
  },
  {
   "cell_type": "code",
   "execution_count": 133,
   "id": "1eebf4a5-35ea-4b6f-841d-699c6ec2d087",
   "metadata": {},
   "outputs": [],
   "source": [
    "# Filter the DataFrames to keep only rows with common entries\n",
    "slavery_filtered = slavery[slavery['Country'].isin(common_democracy_slavery)]\n",
    "\n",
    "democracy_filtered = democracy[democracy['Country'].isin(common_democracy_slavery)]"
   ]
  },
  {
   "cell_type": "code",
   "execution_count": 134,
   "id": "d136edff-29c3-4556-8660-97243dc1d400",
   "metadata": {},
   "outputs": [],
   "source": [
    "# Pivot the DataFrame\n",
    "democracy_pivot = democracy_filtered.pivot(index='Country', columns='Year', values='Democracy score').reset_index()\n",
    "\n",
    "democracy_final = democracy_pivot.dropna()"
   ]
  },
  {
   "cell_type": "code",
   "execution_count": 135,
   "id": "0ea7a07a-2667-4537-89a3-7dce1b65d218",
   "metadata": {},
   "outputs": [],
   "source": [
    "slavery_reduced = slavery_filtered[[\"Country\", \"2015\", \"2017\", \"2021\"]]\n",
    "\n",
    "slavery_reduced.columns = [\"Country\", 2015, 2017, 2021]\n",
    "democracy_final.columns = [\"Country\", 2015, 2017, 2021]\n",
    "\n",
    "slavery_reduced = slavery_reduced.sort_values(by='Country')\n",
    "democracy_final = democracy_final.sort_values(by='Country')"
   ]
  },
  {
   "cell_type": "code",
   "execution_count": 136,
   "id": "831d951e-70fb-46d5-aab4-721430dc7409",
   "metadata": {},
   "outputs": [
    {
     "data": {
      "text/html": [
       "<div>\n",
       "<style scoped>\n",
       "    .dataframe tbody tr th:only-of-type {\n",
       "        vertical-align: middle;\n",
       "    }\n",
       "\n",
       "    .dataframe tbody tr th {\n",
       "        vertical-align: top;\n",
       "    }\n",
       "\n",
       "    .dataframe thead th {\n",
       "        text-align: right;\n",
       "    }\n",
       "</style>\n",
       "<table border=\"1\" class=\"dataframe\">\n",
       "  <thead>\n",
       "    <tr style=\"text-align: right;\">\n",
       "      <th></th>\n",
       "      <th>2015</th>\n",
       "      <th>2017</th>\n",
       "      <th>2021</th>\n",
       "    </tr>\n",
       "  </thead>\n",
       "  <tbody>\n",
       "    <tr>\n",
       "      <th>count</th>\n",
       "      <td>140.000000</td>\n",
       "      <td>140.000000</td>\n",
       "      <td>140.000000</td>\n",
       "    </tr>\n",
       "    <tr>\n",
       "      <th>mean</th>\n",
       "      <td>5.682643</td>\n",
       "      <td>5.612143</td>\n",
       "      <td>5.416571</td>\n",
       "    </tr>\n",
       "    <tr>\n",
       "      <th>std</th>\n",
       "      <td>2.174846</td>\n",
       "      <td>2.175687</td>\n",
       "      <td>2.293766</td>\n",
       "    </tr>\n",
       "    <tr>\n",
       "      <th>min</th>\n",
       "      <td>1.500000</td>\n",
       "      <td>1.500000</td>\n",
       "      <td>0.320000</td>\n",
       "    </tr>\n",
       "    <tr>\n",
       "      <th>25%</th>\n",
       "      <td>3.850000</td>\n",
       "      <td>3.727500</td>\n",
       "      <td>3.392500</td>\n",
       "    </tr>\n",
       "    <tr>\n",
       "      <th>50%</th>\n",
       "      <td>5.965000</td>\n",
       "      <td>5.955000</td>\n",
       "      <td>5.730000</td>\n",
       "    </tr>\n",
       "    <tr>\n",
       "      <th>75%</th>\n",
       "      <td>7.405000</td>\n",
       "      <td>7.242500</td>\n",
       "      <td>7.165000</td>\n",
       "    </tr>\n",
       "    <tr>\n",
       "      <th>max</th>\n",
       "      <td>9.930000</td>\n",
       "      <td>9.870000</td>\n",
       "      <td>9.750000</td>\n",
       "    </tr>\n",
       "  </tbody>\n",
       "</table>\n",
       "</div>"
      ],
      "text/plain": [
       "             2015        2017        2021\n",
       "count  140.000000  140.000000  140.000000\n",
       "mean     5.682643    5.612143    5.416571\n",
       "std      2.174846    2.175687    2.293766\n",
       "min      1.500000    1.500000    0.320000\n",
       "25%      3.850000    3.727500    3.392500\n",
       "50%      5.965000    5.955000    5.730000\n",
       "75%      7.405000    7.242500    7.165000\n",
       "max      9.930000    9.870000    9.750000"
      ]
     },
     "execution_count": 136,
     "metadata": {},
     "output_type": "execute_result"
    }
   ],
   "source": [
    "democracy_final.describe()"
   ]
  },
  {
   "cell_type": "code",
   "execution_count": 137,
   "id": "d08c19d7-2675-4df0-a537-771c756d8594",
   "metadata": {},
   "outputs": [],
   "source": [
    "value_columns = [2015, 2017, 2021]\n",
    "scaler = StandardScaler()\n",
    "\n",
    "# Z-score normalization\n",
    "democracy_final.loc[:, value_columns] = scaler.fit_transform(democracy_final[value_columns])\n",
    "slavery_reduced.loc[:, value_columns] = scaler.fit_transform(slavery_reduced[value_columns])"
   ]
  },
  {
   "cell_type": "markdown",
   "id": "ce8f7023-d6cd-4e2b-9143-ca18aad73c7f",
   "metadata": {},
   "source": [
    "### Finding correlation between democracy and slavery"
   ]
  },
  {
   "cell_type": "code",
   "execution_count": 138,
   "id": "5709a87c-f8d4-48d4-84ed-5e13c2f3340d",
   "metadata": {},
   "outputs": [
    {
     "name": "stdout",
     "output_type": "stream",
     "text": [
      "slavDemocracy_2015_corr:  -0.03053967081589\n",
      "slavDemocracy_2017_corr:  0.04275064921316011\n",
      "slavDemocracy_2021_corr:  0.012178865613448513\n"
     ]
    }
   ],
   "source": [
    "slavDemocracy_2015_corr = slavery_reduced[2015].corr(democracy_final[2015])\n",
    "slavDemocracy_2017_corr = slavery_reduced[2017].corr(democracy_final[2017])\n",
    "slavDemocracy_2021_corr = slavery_reduced[2021].corr(democracy_final[2021])\n",
    "\n",
    "print(\"slavDemocracy_2015_corr: \", slavDemocracy_2015_corr)\n",
    "print(\"slavDemocracy_2017_corr: \", slavDemocracy_2017_corr)\n",
    "print(\"slavDemocracy_2021_corr: \", slavDemocracy_2021_corr)"
   ]
  },
  {
   "cell_type": "code",
   "execution_count": null,
   "id": "0cd54689-97a5-43d2-af9c-2d7fc1039ca4",
   "metadata": {},
   "outputs": [],
   "source": []
  },
  {
   "cell_type": "code",
   "execution_count": null,
   "id": "520a2b6a-1493-4d06-ab98-effe43796c15",
   "metadata": {},
   "outputs": [],
   "source": []
  },
  {
   "cell_type": "code",
   "execution_count": null,
   "id": "f32d6d11-0639-4e97-a206-65d396aa6ed3",
   "metadata": {},
   "outputs": [],
   "source": []
  },
  {
   "cell_type": "code",
   "execution_count": null,
   "id": "c2dd294a-7e84-45e0-9530-91ccbcda3862",
   "metadata": {},
   "outputs": [],
   "source": []
  }
 ],
 "metadata": {
  "kernelspec": {
   "display_name": "venv",
   "language": "python",
   "name": "python3"
  },
  "language_info": {
   "codemirror_mode": {
    "name": "ipython",
    "version": 3
   },
   "file_extension": ".py",
   "mimetype": "text/x-python",
   "name": "python",
   "nbconvert_exporter": "python",
   "pygments_lexer": "ipython3",
   "version": "3.13.0"
  }
 },
 "nbformat": 4,
 "nbformat_minor": 5
}
