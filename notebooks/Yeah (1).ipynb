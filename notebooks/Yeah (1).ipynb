{
 "cells": [
  {
   "cell_type": "code",
   "execution_count": 1,
   "id": "a263a247-32a5-4a9c-8cbf-760ac1b6e7ee",
   "metadata": {},
   "outputs": [],
   "source": [
    "import pandas as pd\n",
    "import os"
   ]
  },
  {
   "cell_type": "markdown",
   "id": "dd298b3f-2833-499c-887b-f051ab7d3ef4",
   "metadata": {},
   "source": [
    "### Slavery data PreProcessing"
   ]
  },
  {
   "cell_type": "code",
   "execution_count": 2,
   "id": "b4b5b940-c641-4f2b-8acd-10461cf5bf09",
   "metadata": {},
   "outputs": [],
   "source": [
    "slavery_2016 = pd.read_csv(\"../Datasets/slavery_2016.csv\")[[\"Country\", \"POPULATION\", \"ESTIMATED NUMBER IN MODERN SLAVERY\"]]\n",
    "slavery_2018 = pd.read_csv(\"../Datasets/slavery_2018.csv\")[[\"Country \", \"Est. prevalence of population in modern slavery (victims per 1,000 population)\"]]\n",
    "slavery_2023 = pd.read_csv(\"../Datasets/slavery_2023.csv\")[[\"Country\", \"Estimated prevalence of modern slavery per 1,000 population\"]]"
   ]
  },
  {
   "cell_type": "code",
   "execution_count": 3,
   "id": "05abff8e-f4f1-441b-ae32-8ed3f1d45f4b",
   "metadata": {},
   "outputs": [],
   "source": [
    "slavery_2016[\"Estimated prevalence of modern slavery per 1,000 population\"] = (slavery_2016[\"ESTIMATED NUMBER IN MODERN SLAVERY\"]/slavery_2016[\"POPULATION\"])*1000\n",
    "slavery_2016 = slavery_2016[[\"Country\", \"Estimated prevalence of modern slavery per 1,000 population\"]]"
   ]
  },
  {
   "cell_type": "code",
   "execution_count": 4,
   "id": "2357c2e4-e3df-4ac1-a023-c6bcf5fee71e",
   "metadata": {},
   "outputs": [],
   "source": [
    "slavery_2016.columns = [\"Country\", \"2016\"]\n",
    "slavery_2018.columns = [\"Country\", \"2018\"]\n",
    "slavery_2023.columns = [\"Country\", \"2023\"]"
   ]
  },
  {
   "cell_type": "code",
   "execution_count": 5,
   "id": "ded3ad70-93bc-4c86-b3ca-00321aa47cb5",
   "metadata": {},
   "outputs": [],
   "source": [
    "# Find common entries in the common column  \n",
    "# NOTE: I HAVE GIVEN MORE IMPORTANCE TO COUNTRIES IN THE SALVERY DATASET. (Since slavery data is the main comparing data here)\n",
    "common_entries = set(slavery_2016['Country']).intersection(slavery_2018['Country']).intersection(slavery_2023['Country'])"
   ]
  },
  {
   "cell_type": "code",
   "execution_count": 6,
   "id": "45dd64ad-3ec9-4d6a-b270-07599869d858",
   "metadata": {},
   "outputs": [],
   "source": [
    "# Filter the DataFrames to keep only rows with common entries\n",
    "slavery_2016_filtered = slavery_2016[slavery_2016['Country'].isin(common_entries)]\n",
    "slavery_2018_filtered = slavery_2018[slavery_2018['Country'].isin(common_entries)]\n",
    "slavery_2023_filtered = slavery_2023[slavery_2023['Country'].isin(common_entries)]"
   ]
  },
  {
   "cell_type": "code",
   "execution_count": 7,
   "id": "45c0e59a-5a82-4255-a297-f6df9e8229e1",
   "metadata": {},
   "outputs": [],
   "source": [
    "# Merge the filtered DataFrames on the common column\n",
    "temp1 = pd.merge(slavery_2016_filtered, slavery_2018_filtered, on='Country', how='inner')\n",
    "slavery = pd.merge(temp1, slavery_2023_filtered, on='Country', how='inner')"
   ]
  },
  {
   "cell_type": "code",
   "execution_count": 8,
   "id": "6be2deab-8822-4bfa-8ba5-28f6834d190d",
   "metadata": {},
   "outputs": [
    {
     "data": {
      "text/html": [
       "<div>\n",
       "<style scoped>\n",
       "    .dataframe tbody tr th:only-of-type {\n",
       "        vertical-align: middle;\n",
       "    }\n",
       "\n",
       "    .dataframe tbody tr th {\n",
       "        vertical-align: top;\n",
       "    }\n",
       "\n",
       "    .dataframe thead th {\n",
       "        text-align: right;\n",
       "    }\n",
       "</style>\n",
       "<table border=\"1\" class=\"dataframe\">\n",
       "  <thead>\n",
       "    <tr style=\"text-align: right;\">\n",
       "      <th></th>\n",
       "      <th>Country</th>\n",
       "      <th>2016</th>\n",
       "      <th>2018</th>\n",
       "      <th>2023</th>\n",
       "    </tr>\n",
       "  </thead>\n",
       "  <tbody>\n",
       "    <tr>\n",
       "      <th>0</th>\n",
       "      <td>Afghanistan</td>\n",
       "      <td>11.301380</td>\n",
       "      <td>22.2</td>\n",
       "      <td>13.0</td>\n",
       "    </tr>\n",
       "    <tr>\n",
       "      <th>1</th>\n",
       "      <td>Albania</td>\n",
       "      <td>2.959394</td>\n",
       "      <td>6.9</td>\n",
       "      <td>11.8</td>\n",
       "    </tr>\n",
       "    <tr>\n",
       "      <th>2</th>\n",
       "      <td>Algeria</td>\n",
       "      <td>6.259611</td>\n",
       "      <td>2.7</td>\n",
       "      <td>1.9</td>\n",
       "    </tr>\n",
       "    <tr>\n",
       "      <th>3</th>\n",
       "      <td>Angola</td>\n",
       "      <td>6.382384</td>\n",
       "      <td>7.2</td>\n",
       "      <td>4.1</td>\n",
       "    </tr>\n",
       "    <tr>\n",
       "      <th>4</th>\n",
       "      <td>Armenia</td>\n",
       "      <td>4.671968</td>\n",
       "      <td>5.3</td>\n",
       "      <td>8.9</td>\n",
       "    </tr>\n",
       "  </tbody>\n",
       "</table>\n",
       "</div>"
      ],
      "text/plain": [
       "       Country       2016  2018  2023\n",
       "0  Afghanistan  11.301380  22.2  13.0\n",
       "1      Albania   2.959394   6.9  11.8\n",
       "2      Algeria   6.259611   2.7   1.9\n",
       "3       Angola   6.382384   7.2   4.1\n",
       "4      Armenia   4.671968   5.3   8.9"
      ]
     },
     "execution_count": 8,
     "metadata": {},
     "output_type": "execute_result"
    }
   ],
   "source": [
    "slavery.head()"
   ]
  },
  {
   "cell_type": "code",
   "execution_count": 9,
   "id": "675dc138-9b6e-41b2-b1a7-7e9e78243dfe",
   "metadata": {},
   "outputs": [
    {
     "name": "stdout",
     "output_type": "stream",
     "text": [
      "<class 'pandas.core.frame.DataFrame'>\n",
      "RangeIndex: 145 entries, 0 to 144\n",
      "Data columns (total 4 columns):\n",
      " #   Column   Non-Null Count  Dtype  \n",
      "---  ------   --------------  -----  \n",
      " 0   Country  145 non-null    object \n",
      " 1   2016     145 non-null    float64\n",
      " 2   2018     145 non-null    float64\n",
      " 3   2023     139 non-null    float64\n",
      "dtypes: float64(3), object(1)\n",
      "memory usage: 4.7+ KB\n"
     ]
    }
   ],
   "source": [
    "slavery.info()"
   ]
  },
  {
   "cell_type": "code",
   "execution_count": 10,
   "id": "01eb88e8-6bad-4140-82d9-1755d716afd1",
   "metadata": {},
   "outputs": [
    {
     "data": {
      "text/html": [
       "<div>\n",
       "<style scoped>\n",
       "    .dataframe tbody tr th:only-of-type {\n",
       "        vertical-align: middle;\n",
       "    }\n",
       "\n",
       "    .dataframe tbody tr th {\n",
       "        vertical-align: top;\n",
       "    }\n",
       "\n",
       "    .dataframe thead th {\n",
       "        text-align: right;\n",
       "    }\n",
       "</style>\n",
       "<table border=\"1\" class=\"dataframe\">\n",
       "  <thead>\n",
       "    <tr style=\"text-align: right;\">\n",
       "      <th></th>\n",
       "      <th>Country</th>\n",
       "      <th>2016</th>\n",
       "      <th>2018</th>\n",
       "      <th>2023</th>\n",
       "    </tr>\n",
       "  </thead>\n",
       "  <tbody>\n",
       "    <tr>\n",
       "      <th>20</th>\n",
       "      <td>Cape Verde</td>\n",
       "      <td>4.606526</td>\n",
       "      <td>4.1</td>\n",
       "      <td>NaN</td>\n",
       "    </tr>\n",
       "    <tr>\n",
       "      <th>44</th>\n",
       "      <td>Iceland</td>\n",
       "      <td>1.208459</td>\n",
       "      <td>2.1</td>\n",
       "      <td>NaN</td>\n",
       "    </tr>\n",
       "    <tr>\n",
       "      <th>64</th>\n",
       "      <td>Luxembourg</td>\n",
       "      <td>0.177936</td>\n",
       "      <td>1.5</td>\n",
       "      <td>NaN</td>\n",
       "    </tr>\n",
       "    <tr>\n",
       "      <th>72</th>\n",
       "      <td>Montenegro</td>\n",
       "      <td>4.019293</td>\n",
       "      <td>5.9</td>\n",
       "      <td>NaN</td>\n",
       "    </tr>\n",
       "    <tr>\n",
       "      <th>122</th>\n",
       "      <td>Barbados</td>\n",
       "      <td>2.112676</td>\n",
       "      <td>2.7</td>\n",
       "      <td>NaN</td>\n",
       "    </tr>\n",
       "    <tr>\n",
       "      <th>142</th>\n",
       "      <td>Suriname</td>\n",
       "      <td>4.604052</td>\n",
       "      <td>2.3</td>\n",
       "      <td>NaN</td>\n",
       "    </tr>\n",
       "  </tbody>\n",
       "</table>\n",
       "</div>"
      ],
      "text/plain": [
       "        Country      2016  2018  2023\n",
       "20   Cape Verde  4.606526   4.1   NaN\n",
       "44      Iceland  1.208459   2.1   NaN\n",
       "64   Luxembourg  0.177936   1.5   NaN\n",
       "72   Montenegro  4.019293   5.9   NaN\n",
       "122    Barbados  2.112676   2.7   NaN\n",
       "142    Suriname  4.604052   2.3   NaN"
      ]
     },
     "execution_count": 10,
     "metadata": {},
     "output_type": "execute_result"
    }
   ],
   "source": [
    "slavery[slavery.isnull().any(axis=1)]"
   ]
  },
  {
   "cell_type": "markdown",
   "id": "6542e9dd-7847-46ef-b86d-674f6fbe3dcb",
   "metadata": {
    "jp-MarkdownHeadingCollapsed": true
   },
   "source": [
    "### Other parameters data preprocessing"
   ]
  },
  {
   "cell_type": "code",
   "execution_count": 11,
   "id": "cf84572b-0837-4906-8744-d39689c9d348",
   "metadata": {},
   "outputs": [],
   "source": [
    "corruption = pd.read_csv(\"../Datasets/corruption.csv\")\n",
    "democracy = pd.read_csv(\"../Datasets/democracy.csv\")\n",
    "gdppercapita = pd.read_csv(\"../Datasets/gdppercapita.csv\")\n",
    "lfpr = pd.read_csv(\"../Datasets/lfpr.csv\")\n",
    "migration = pd.read_csv(\"../Datasets/migration.csv\")"
   ]
  },
  {
   "cell_type": "code",
   "execution_count": 12,
   "id": "53fd7d8d-5303-4c98-b6ea-1aef863d27a3",
   "metadata": {},
   "outputs": [],
   "source": [
    "lfpr = lfpr[lfpr['Type_LFPR'].isin(['Total'])]  # removing male, female entries\n",
    "lfpr = lfpr[[\"Country\", \"Year\", \"LFPR\"]]"
   ]
  },
  {
   "cell_type": "code",
   "execution_count": 13,
   "id": "f7187cd2-fac5-4a77-aa37-d0b447a6d764",
   "metadata": {},
   "outputs": [
    {
     "name": "stdout",
     "output_type": "stream",
     "text": [
      "<class 'pandas.core.frame.DataFrame'>\n",
      "Index: 6079 entries, 2 to 18172\n",
      "Data columns (total 3 columns):\n",
      " #   Column   Non-Null Count  Dtype  \n",
      "---  ------   --------------  -----  \n",
      " 0   Country  6079 non-null   object \n",
      " 1   Year     6079 non-null   int64  \n",
      " 2   LFPR     6079 non-null   float64\n",
      "dtypes: float64(1), int64(1), object(1)\n",
      "memory usage: 190.0+ KB\n"
     ]
    }
   ],
   "source": [
    "lfpr.info()"
   ]
  },
  {
   "cell_type": "code",
   "execution_count": 14,
   "id": "e39067c6-ff13-44dc-b2e0-38949438d975",
   "metadata": {},
   "outputs": [],
   "source": [
    "years = [2016, 2018, 2023]"
   ]
  },
  {
   "cell_type": "code",
   "execution_count": 15,
   "id": "0a6efb4f-bd34-4d94-a85d-b3ea31ec11d7",
   "metadata": {},
   "outputs": [],
   "source": [
    "corruption = corruption[corruption['Year'].isin(years)]\n",
    "democracy = democracy[democracy['Year'].isin(years)]\n",
    "gdppercapita = gdppercapita[gdppercapita['Year'].isin(years)]\n",
    "lfpr = lfpr[lfpr['Year'].isin(years)]\n",
    "migration = migration[migration['Year'].isin(years)]"
   ]
  },
  {
   "cell_type": "code",
   "execution_count": 16,
   "id": "4933686d-1862-447b-98b0-498f608e1c0f",
   "metadata": {},
   "outputs": [],
   "source": [
    "# Find common entries in the common column\n",
    "# common_entries = set(corruption['Country']).intersection(democracy['Country']).intersection(gdppercapita['Country']).intersection(lfpr['Country']).intersection(migration['Country'])"
   ]
  },
  {
   "cell_type": "code",
   "execution_count": 17,
   "id": "e4065d8b-0f3c-4163-9894-31542540568a",
   "metadata": {},
   "outputs": [],
   "source": [
    "# Filter the DataFrames to keep only rows with common countries\n",
    "corruption_filtered = corruption[corruption['Country'].isin(common_entries)]\n",
    "democracy_filtered = democracy[democracy['Country'].isin(common_entries)]\n",
    "gdppercapita_filtered = gdppercapita[gdppercapita['Country'].isin(common_entries)]\n",
    "lfpr_filtered = lfpr[lfpr['Country'].isin(common_entries)]\n",
    "migration_filtered = migration[migration['Country'].isin(common_entries)]"
   ]
  },
  {
   "cell_type": "code",
   "execution_count": 18,
   "id": "a1099286-5cbb-4246-adf6-db4595c1fa2d",
   "metadata": {},
   "outputs": [],
   "source": [
    "# Create a complete DataFrame with all combinations of Country and Year\n",
    "all_combinations = pd.DataFrame([(country, year) for country in common_entries for year in years], columns=['Country', 'Year'])"
   ]
  },
  {
   "cell_type": "code",
   "execution_count": 19,
   "id": "960d190d-69e4-4849-b032-757ef21ec43c",
   "metadata": {},
   "outputs": [
    {
     "name": "stdout",
     "output_type": "stream",
     "text": [
      "<class 'pandas.core.frame.DataFrame'>\n",
      "RangeIndex: 435 entries, 0 to 434\n",
      "Data columns (total 2 columns):\n",
      " #   Column   Non-Null Count  Dtype \n",
      "---  ------   --------------  ----- \n",
      " 0   Country  435 non-null    object\n",
      " 1   Year     435 non-null    int64 \n",
      "dtypes: int64(1), object(1)\n",
      "memory usage: 6.9+ KB\n"
     ]
    }
   ],
   "source": [
    "all_combinations.info()"
   ]
  },
  {
   "cell_type": "code",
   "execution_count": 20,
   "id": "4f569d80-95ac-49a4-bcec-3b1a9319b181",
   "metadata": {},
   "outputs": [],
   "source": [
    "# Merge each DataFrame with the complete combinations to fill missing rows with NaN\n",
    "corruption_complete = pd.merge(all_combinations, corruption_filtered, on=['Country', 'Year'], how='left')\n",
    "democracy_complete = pd.merge(all_combinations, democracy_filtered, on=['Country', 'Year'], how='left')\n",
    "gdppercapita_complete = pd.merge(all_combinations, gdppercapita_filtered, on=['Country', 'Year'], how='left')\n",
    "lfpr_complete = pd.merge(all_combinations, lfpr_filtered, on=['Country', 'Year'], how='left')\n",
    "migration_complete = pd.merge(all_combinations, migration_filtered, on=['Country', 'Year'], how='left')"
   ]
  },
  {
   "cell_type": "code",
   "execution_count": 21,
   "id": "e6349f3e-104c-43e4-a594-ab9d16b7bfe3",
   "metadata": {},
   "outputs": [],
   "source": [
    "# Merge the filtered DataFrames on the common column\n",
    "temp2 = pd.merge(corruption_complete, democracy_complete, on=['Country', 'Year'], how='inner')\n",
    "temp3 = pd.merge(temp2, gdppercapita_complete, on=['Country', 'Year'], how='inner')\n",
    "temp4 = pd.merge(temp3, lfpr_complete, on=['Country', 'Year'], how='inner')\n",
    "comparing_data = pd.merge(temp4, migration_complete, on=['Country', 'Year'], how='inner')"
   ]
  },
  {
   "cell_type": "code",
   "execution_count": 22,
   "id": "11dd5dff-80bd-45f0-a281-756403ba1be9",
   "metadata": {},
   "outputs": [
    {
     "data": {
      "text/html": [
       "<div>\n",
       "<style scoped>\n",
       "    .dataframe tbody tr th:only-of-type {\n",
       "        vertical-align: middle;\n",
       "    }\n",
       "\n",
       "    .dataframe tbody tr th {\n",
       "        vertical-align: top;\n",
       "    }\n",
       "\n",
       "    .dataframe thead th {\n",
       "        text-align: right;\n",
       "    }\n",
       "</style>\n",
       "<table border=\"1\" class=\"dataframe\">\n",
       "  <thead>\n",
       "    <tr style=\"text-align: right;\">\n",
       "      <th></th>\n",
       "      <th>Country</th>\n",
       "      <th>Year</th>\n",
       "      <th>Corruption</th>\n",
       "      <th>Democracy score</th>\n",
       "      <th>GDP per capita</th>\n",
       "      <th>LFPR</th>\n",
       "      <th>Migration</th>\n",
       "    </tr>\n",
       "  </thead>\n",
       "  <tbody>\n",
       "    <tr>\n",
       "      <th>0</th>\n",
       "      <td>United Arab Emirates</td>\n",
       "      <td>2016</td>\n",
       "      <td>66.0</td>\n",
       "      <td>2.75</td>\n",
       "      <td>71244.5860</td>\n",
       "      <td>81.627</td>\n",
       "      <td>-13520.0</td>\n",
       "    </tr>\n",
       "    <tr>\n",
       "      <th>1</th>\n",
       "      <td>United Arab Emirates</td>\n",
       "      <td>2018</td>\n",
       "      <td>70.0</td>\n",
       "      <td>2.76</td>\n",
       "      <td>71550.5550</td>\n",
       "      <td>82.864</td>\n",
       "      <td>-8582.0</td>\n",
       "    </tr>\n",
       "    <tr>\n",
       "      <th>2</th>\n",
       "      <td>United Arab Emirates</td>\n",
       "      <td>2023</td>\n",
       "      <td>68.0</td>\n",
       "      <td>3.01</td>\n",
       "      <td>NaN</td>\n",
       "      <td>NaN</td>\n",
       "      <td>0.0</td>\n",
       "    </tr>\n",
       "    <tr>\n",
       "      <th>3</th>\n",
       "      <td>South Africa</td>\n",
       "      <td>2016</td>\n",
       "      <td>45.0</td>\n",
       "      <td>7.41</td>\n",
       "      <td>13844.2760</td>\n",
       "      <td>61.764</td>\n",
       "      <td>-866101.0</td>\n",
       "    </tr>\n",
       "    <tr>\n",
       "      <th>4</th>\n",
       "      <td>South Africa</td>\n",
       "      <td>2018</td>\n",
       "      <td>43.0</td>\n",
       "      <td>7.24</td>\n",
       "      <td>13995.0625</td>\n",
       "      <td>62.202</td>\n",
       "      <td>27265.0</td>\n",
       "    </tr>\n",
       "  </tbody>\n",
       "</table>\n",
       "</div>"
      ],
      "text/plain": [
       "                Country  Year  Corruption  Democracy score  GDP per capita  \\\n",
       "0  United Arab Emirates  2016        66.0             2.75      71244.5860   \n",
       "1  United Arab Emirates  2018        70.0             2.76      71550.5550   \n",
       "2  United Arab Emirates  2023        68.0             3.01             NaN   \n",
       "3          South Africa  2016        45.0             7.41      13844.2760   \n",
       "4          South Africa  2018        43.0             7.24      13995.0625   \n",
       "\n",
       "     LFPR  Migration  \n",
       "0  81.627   -13520.0  \n",
       "1  82.864    -8582.0  \n",
       "2     NaN        0.0  \n",
       "3  61.764  -866101.0  \n",
       "4  62.202    27265.0  "
      ]
     },
     "execution_count": 22,
     "metadata": {},
     "output_type": "execute_result"
    }
   ],
   "source": [
    "comparing_data.head()"
   ]
  },
  {
   "cell_type": "code",
   "execution_count": 23,
   "id": "9c214f60-dd2f-44ba-aa1a-dba48d9b3efc",
   "metadata": {},
   "outputs": [
    {
     "data": {
      "text/html": [
       "<div>\n",
       "<style scoped>\n",
       "    .dataframe tbody tr th:only-of-type {\n",
       "        vertical-align: middle;\n",
       "    }\n",
       "\n",
       "    .dataframe tbody tr th {\n",
       "        vertical-align: top;\n",
       "    }\n",
       "\n",
       "    .dataframe thead th {\n",
       "        text-align: right;\n",
       "    }\n",
       "</style>\n",
       "<table border=\"1\" class=\"dataframe\">\n",
       "  <thead>\n",
       "    <tr style=\"text-align: right;\">\n",
       "      <th></th>\n",
       "      <th>Country</th>\n",
       "      <th>Year</th>\n",
       "      <th>Corruption</th>\n",
       "      <th>Democracy score</th>\n",
       "      <th>GDP per capita</th>\n",
       "      <th>LFPR</th>\n",
       "      <th>Migration</th>\n",
       "    </tr>\n",
       "  </thead>\n",
       "  <tbody>\n",
       "    <tr>\n",
       "      <th>0</th>\n",
       "      <td>United Arab Emirates</td>\n",
       "      <td>2016</td>\n",
       "      <td>66.0</td>\n",
       "      <td>2.75</td>\n",
       "      <td>71244.5860</td>\n",
       "      <td>81.627</td>\n",
       "      <td>-13520.0</td>\n",
       "    </tr>\n",
       "    <tr>\n",
       "      <th>1</th>\n",
       "      <td>United Arab Emirates</td>\n",
       "      <td>2018</td>\n",
       "      <td>70.0</td>\n",
       "      <td>2.76</td>\n",
       "      <td>71550.5550</td>\n",
       "      <td>82.864</td>\n",
       "      <td>-8582.0</td>\n",
       "    </tr>\n",
       "    <tr>\n",
       "      <th>2</th>\n",
       "      <td>United Arab Emirates</td>\n",
       "      <td>2023</td>\n",
       "      <td>68.0</td>\n",
       "      <td>3.01</td>\n",
       "      <td>NaN</td>\n",
       "      <td>NaN</td>\n",
       "      <td>0.0</td>\n",
       "    </tr>\n",
       "    <tr>\n",
       "      <th>3</th>\n",
       "      <td>South Africa</td>\n",
       "      <td>2016</td>\n",
       "      <td>45.0</td>\n",
       "      <td>7.41</td>\n",
       "      <td>13844.2760</td>\n",
       "      <td>61.764</td>\n",
       "      <td>-866101.0</td>\n",
       "    </tr>\n",
       "    <tr>\n",
       "      <th>4</th>\n",
       "      <td>South Africa</td>\n",
       "      <td>2018</td>\n",
       "      <td>43.0</td>\n",
       "      <td>7.24</td>\n",
       "      <td>13995.0625</td>\n",
       "      <td>62.202</td>\n",
       "      <td>27265.0</td>\n",
       "    </tr>\n",
       "  </tbody>\n",
       "</table>\n",
       "</div>"
      ],
      "text/plain": [
       "                Country  Year  Corruption  Democracy score  GDP per capita  \\\n",
       "0  United Arab Emirates  2016        66.0             2.75      71244.5860   \n",
       "1  United Arab Emirates  2018        70.0             2.76      71550.5550   \n",
       "2  United Arab Emirates  2023        68.0             3.01             NaN   \n",
       "3          South Africa  2016        45.0             7.41      13844.2760   \n",
       "4          South Africa  2018        43.0             7.24      13995.0625   \n",
       "\n",
       "     LFPR  Migration  \n",
       "0  81.627   -13520.0  \n",
       "1  82.864    -8582.0  \n",
       "2     NaN        0.0  \n",
       "3  61.764  -866101.0  \n",
       "4  62.202    27265.0  "
      ]
     },
     "execution_count": 23,
     "metadata": {},
     "output_type": "execute_result"
    }
   ],
   "source": [
    "comparing_data.head()"
   ]
  },
  {
   "cell_type": "code",
   "execution_count": 24,
   "id": "aff92c7b-60ea-4829-a153-dbb4feee11e9",
   "metadata": {},
   "outputs": [
    {
     "data": {
      "text/html": [
       "<div>\n",
       "<style scoped>\n",
       "    .dataframe tbody tr th:only-of-type {\n",
       "        vertical-align: middle;\n",
       "    }\n",
       "\n",
       "    .dataframe tbody tr th {\n",
       "        vertical-align: top;\n",
       "    }\n",
       "\n",
       "    .dataframe thead th {\n",
       "        text-align: right;\n",
       "    }\n",
       "</style>\n",
       "<table border=\"1\" class=\"dataframe\">\n",
       "  <thead>\n",
       "    <tr style=\"text-align: right;\">\n",
       "      <th></th>\n",
       "      <th>Country</th>\n",
       "      <th>Year</th>\n",
       "      <th>Corruption</th>\n",
       "      <th>Democracy score</th>\n",
       "      <th>GDP per capita</th>\n",
       "      <th>LFPR</th>\n",
       "      <th>Migration</th>\n",
       "    </tr>\n",
       "  </thead>\n",
       "  <tbody>\n",
       "    <tr>\n",
       "      <th>2</th>\n",
       "      <td>United Arab Emirates</td>\n",
       "      <td>2023</td>\n",
       "      <td>68.0</td>\n",
       "      <td>3.01</td>\n",
       "      <td>NaN</td>\n",
       "      <td>NaN</td>\n",
       "      <td>0.0</td>\n",
       "    </tr>\n",
       "    <tr>\n",
       "      <th>5</th>\n",
       "      <td>South Africa</td>\n",
       "      <td>2023</td>\n",
       "      <td>41.0</td>\n",
       "      <td>7.05</td>\n",
       "      <td>NaN</td>\n",
       "      <td>NaN</td>\n",
       "      <td>58496.0</td>\n",
       "    </tr>\n",
       "    <tr>\n",
       "      <th>8</th>\n",
       "      <td>Japan</td>\n",
       "      <td>2023</td>\n",
       "      <td>73.0</td>\n",
       "      <td>8.40</td>\n",
       "      <td>NaN</td>\n",
       "      <td>NaN</td>\n",
       "      <td>99994.0</td>\n",
       "    </tr>\n",
       "    <tr>\n",
       "      <th>11</th>\n",
       "      <td>France</td>\n",
       "      <td>2023</td>\n",
       "      <td>71.0</td>\n",
       "      <td>8.07</td>\n",
       "      <td>NaN</td>\n",
       "      <td>NaN</td>\n",
       "      <td>67761.0</td>\n",
       "    </tr>\n",
       "    <tr>\n",
       "      <th>12</th>\n",
       "      <td>Kosovo</td>\n",
       "      <td>2016</td>\n",
       "      <td>36.0</td>\n",
       "      <td>NaN</td>\n",
       "      <td>10031.048</td>\n",
       "      <td>NaN</td>\n",
       "      <td>-31383.0</td>\n",
       "    </tr>\n",
       "    <tr>\n",
       "      <th>...</th>\n",
       "      <td>...</td>\n",
       "      <td>...</td>\n",
       "      <td>...</td>\n",
       "      <td>...</td>\n",
       "      <td>...</td>\n",
       "      <td>...</td>\n",
       "      <td>...</td>\n",
       "    </tr>\n",
       "    <tr>\n",
       "      <th>422</th>\n",
       "      <td>Togo</td>\n",
       "      <td>2023</td>\n",
       "      <td>31.0</td>\n",
       "      <td>2.99</td>\n",
       "      <td>NaN</td>\n",
       "      <td>NaN</td>\n",
       "      <td>-2000.0</td>\n",
       "    </tr>\n",
       "    <tr>\n",
       "      <th>425</th>\n",
       "      <td>Libya</td>\n",
       "      <td>2023</td>\n",
       "      <td>18.0</td>\n",
       "      <td>NaN</td>\n",
       "      <td>NaN</td>\n",
       "      <td>NaN</td>\n",
       "      <td>-2000.0</td>\n",
       "    </tr>\n",
       "    <tr>\n",
       "      <th>428</th>\n",
       "      <td>Nigeria</td>\n",
       "      <td>2023</td>\n",
       "      <td>25.0</td>\n",
       "      <td>4.23</td>\n",
       "      <td>NaN</td>\n",
       "      <td>NaN</td>\n",
       "      <td>-59996.0</td>\n",
       "    </tr>\n",
       "    <tr>\n",
       "      <th>431</th>\n",
       "      <td>Poland</td>\n",
       "      <td>2023</td>\n",
       "      <td>54.0</td>\n",
       "      <td>7.18</td>\n",
       "      <td>NaN</td>\n",
       "      <td>NaN</td>\n",
       "      <td>-910475.0</td>\n",
       "    </tr>\n",
       "    <tr>\n",
       "      <th>434</th>\n",
       "      <td>Liberia</td>\n",
       "      <td>2023</td>\n",
       "      <td>25.0</td>\n",
       "      <td>5.57</td>\n",
       "      <td>NaN</td>\n",
       "      <td>NaN</td>\n",
       "      <td>-5000.0</td>\n",
       "    </tr>\n",
       "  </tbody>\n",
       "</table>\n",
       "<p>172 rows × 7 columns</p>\n",
       "</div>"
      ],
      "text/plain": [
       "                  Country  Year  Corruption  Democracy score  GDP per capita  \\\n",
       "2    United Arab Emirates  2023        68.0             3.01             NaN   \n",
       "5            South Africa  2023        41.0             7.05             NaN   \n",
       "8                   Japan  2023        73.0             8.40             NaN   \n",
       "11                 France  2023        71.0             8.07             NaN   \n",
       "12                 Kosovo  2016        36.0              NaN       10031.048   \n",
       "..                    ...   ...         ...              ...             ...   \n",
       "422                  Togo  2023        31.0             2.99             NaN   \n",
       "425                 Libya  2023        18.0              NaN             NaN   \n",
       "428               Nigeria  2023        25.0             4.23             NaN   \n",
       "431                Poland  2023        54.0             7.18             NaN   \n",
       "434               Liberia  2023        25.0             5.57             NaN   \n",
       "\n",
       "     LFPR  Migration  \n",
       "2     NaN        0.0  \n",
       "5     NaN    58496.0  \n",
       "8     NaN    99994.0  \n",
       "11    NaN    67761.0  \n",
       "12    NaN   -31383.0  \n",
       "..    ...        ...  \n",
       "422   NaN    -2000.0  \n",
       "425   NaN    -2000.0  \n",
       "428   NaN   -59996.0  \n",
       "431   NaN  -910475.0  \n",
       "434   NaN    -5000.0  \n",
       "\n",
       "[172 rows x 7 columns]"
      ]
     },
     "execution_count": 24,
     "metadata": {},
     "output_type": "execute_result"
    }
   ],
   "source": [
    "comparing_data[comparing_data.isnull().any(axis=1)]"
   ]
  },
  {
   "cell_type": "markdown",
   "id": "0175fa39-74a5-4d3f-b84d-02ecf96ed3a4",
   "metadata": {},
   "source": [
    "### lfpr (male, female, both) and slavery preprocess"
   ]
  },
  {
   "cell_type": "code",
   "execution_count": 25,
   "id": "c576ade5-8880-4701-a3b1-c44b58dbc3f7",
   "metadata": {},
   "outputs": [],
   "source": [
    "lfpr = pd.read_csv(\"../Datasets/lfpr.csv\")"
   ]
  },
  {
   "cell_type": "code",
   "execution_count": 26,
   "id": "75a9976e-3ab8-48f9-8476-971716d4dac5",
   "metadata": {},
   "outputs": [
    {
     "data": {
      "text/html": [
       "<div>\n",
       "<style scoped>\n",
       "    .dataframe tbody tr th:only-of-type {\n",
       "        vertical-align: middle;\n",
       "    }\n",
       "\n",
       "    .dataframe tbody tr th {\n",
       "        vertical-align: top;\n",
       "    }\n",
       "\n",
       "    .dataframe thead th {\n",
       "        text-align: right;\n",
       "    }\n",
       "</style>\n",
       "<table border=\"1\" class=\"dataframe\">\n",
       "  <thead>\n",
       "    <tr style=\"text-align: right;\">\n",
       "      <th></th>\n",
       "      <th>Country</th>\n",
       "      <th>Year</th>\n",
       "      <th>LFPR</th>\n",
       "      <th>Type_LFPR</th>\n",
       "    </tr>\n",
       "  </thead>\n",
       "  <tbody>\n",
       "    <tr>\n",
       "      <th>0</th>\n",
       "      <td>Afghanistan</td>\n",
       "      <td>1991</td>\n",
       "      <td>16.101</td>\n",
       "      <td>Female</td>\n",
       "    </tr>\n",
       "    <tr>\n",
       "      <th>1</th>\n",
       "      <td>Afghanistan</td>\n",
       "      <td>1991</td>\n",
       "      <td>80.990</td>\n",
       "      <td>Male</td>\n",
       "    </tr>\n",
       "    <tr>\n",
       "      <th>2</th>\n",
       "      <td>Afghanistan</td>\n",
       "      <td>1991</td>\n",
       "      <td>48.039</td>\n",
       "      <td>Total</td>\n",
       "    </tr>\n",
       "    <tr>\n",
       "      <th>3</th>\n",
       "      <td>Afghanistan</td>\n",
       "      <td>1992</td>\n",
       "      <td>16.170</td>\n",
       "      <td>Female</td>\n",
       "    </tr>\n",
       "    <tr>\n",
       "      <th>4</th>\n",
       "      <td>Afghanistan</td>\n",
       "      <td>1992</td>\n",
       "      <td>80.940</td>\n",
       "      <td>Male</td>\n",
       "    </tr>\n",
       "  </tbody>\n",
       "</table>\n",
       "</div>"
      ],
      "text/plain": [
       "       Country  Year    LFPR Type_LFPR\n",
       "0  Afghanistan  1991  16.101    Female\n",
       "1  Afghanistan  1991  80.990      Male\n",
       "2  Afghanistan  1991  48.039     Total\n",
       "3  Afghanistan  1992  16.170    Female\n",
       "4  Afghanistan  1992  80.940      Male"
      ]
     },
     "execution_count": 26,
     "metadata": {},
     "output_type": "execute_result"
    }
   ],
   "source": [
    "lfpr.head()"
   ]
  },
  {
   "cell_type": "code",
   "execution_count": 27,
   "id": "d66de24f-0e85-47b2-b027-f5ce5598909f",
   "metadata": {},
   "outputs": [],
   "source": [
    "lfpr_total = lfpr[lfpr['Type_LFPR'].isin(['Total'])]  # removing male, female entries\n",
    "lfpr_male = lfpr[lfpr['Type_LFPR'].isin(['Male'])]\n",
    "lfpr_female = lfpr[lfpr['Type_LFPR'].isin(['Female'])]"
   ]
  },
  {
   "cell_type": "code",
   "execution_count": 28,
   "id": "0f4ca19f-e41d-46e1-9c07-64137ada6258",
   "metadata": {},
   "outputs": [],
   "source": [
    "lfpr_total = lfpr_total[[\"Country\", \"Year\", \"LFPR\"]]\n",
    "lfpr_male = lfpr_male[[\"Country\", \"Year\", \"LFPR\"]]\n",
    "lfpr_female = lfpr_female[[\"Country\", \"Year\", \"LFPR\"]]"
   ]
  },
  {
   "cell_type": "code",
   "execution_count": 29,
   "id": "505f8bed-cf59-4892-826f-afd1f51e255a",
   "metadata": {},
   "outputs": [],
   "source": [
    "lfpr_total = lfpr_total[lfpr_total['Year'].isin([2016, 2018])]\n",
    "lfpr_male = lfpr_male[lfpr_male['Year'].isin([2016, 2018])]\n",
    "lfpr_female = lfpr_female[lfpr_female['Year'].isin([2016, 2018])]"
   ]
  },
  {
   "cell_type": "code",
   "execution_count": 30,
   "id": "024411c0-745a-4451-ae9a-2913682ff5a1",
   "metadata": {},
   "outputs": [],
   "source": [
    "common_lfpr_slavery = set(slavery['Country']).intersection(lfpr_total['Country'])"
   ]
  },
  {
   "cell_type": "code",
   "execution_count": 31,
   "id": "32cd00e7-ffa6-4af0-b15d-88c74701b8ce",
   "metadata": {},
   "outputs": [],
   "source": [
    "# Filter the DataFrames to keep only rows with common entries\n",
    "slavery_filtered = slavery[slavery['Country'].isin(common_lfpr_slavery)]\n",
    "\n",
    "lfpr_total_filtered = lfpr_total[lfpr_total['Country'].isin(common_lfpr_slavery)]\n",
    "lfpr_male_filtered = lfpr_male[lfpr_male['Country'].isin(common_lfpr_slavery)]\n",
    "lfpr_female_filtered = lfpr_female[lfpr_female['Country'].isin(common_lfpr_slavery)]"
   ]
  },
  {
   "cell_type": "code",
   "execution_count": 32,
   "id": "a13bd1ba-bdca-4e29-86e6-71d1e73f0d2d",
   "metadata": {},
   "outputs": [],
   "source": [
    "# Pivot the DataFrame\n",
    "lfpr_total_pivot = lfpr_total_filtered.pivot(index='Country', columns='Year', values='LFPR').reset_index()\n",
    "lfpr_male_pivot = lfpr_male_filtered.pivot(index='Country', columns='Year', values='LFPR').reset_index()\n",
    "lfpr_female_pivot = lfpr_female_filtered.pivot(index='Country', columns='Year', values='LFPR').reset_index()\n",
    "\n",
    "# Rename the columns for clarity\n",
    "lfpr_total_pivot.columns.name = None\n",
    "lfpr_total_pivot.columns = ['Country', 2016, 2018]\n",
    "\n",
    "lfpr_male_pivot.columns.name = None\n",
    "lfpr_male_pivot.columns = ['Country', 2016, 2018]\n",
    "\n",
    "lfpr_female_pivot.columns.name = None\n",
    "lfpr_female_pivot.columns = ['Country', 2016, 2018]"
   ]
  },
  {
   "cell_type": "code",
   "execution_count": 33,
   "id": "b21773c2-cb2d-432a-a5e3-40d6cd3c3637",
   "metadata": {},
   "outputs": [],
   "source": [
    "slavery_reduced = slavery_filtered[[\"Country\", \"2016\", \"2018\"]]\n",
    "slavery_reduced.columns = [\"Country\", 2016, 2018]"
   ]
  },
  {
   "cell_type": "code",
   "execution_count": 34,
   "id": "a29fba2c-5ad6-48f5-a561-06dcd5d1f15f",
   "metadata": {},
   "outputs": [],
   "source": [
    "slavery_reduced = slavery_reduced.sort_values(by='Country')\n",
    "\n",
    "lfpr_total_pivot = lfpr_total_pivot.sort_values(by='Country')\n",
    "lfpr_male_pivot = lfpr_male_pivot.sort_values(by='Country')\n",
    "lfpr_female_pivot = lfpr_female_pivot.sort_values(by='Country')"
   ]
  },
  {
   "cell_type": "code",
   "execution_count": 35,
   "id": "0edc3d64-c293-4ca1-94ce-2ca3197ddf32",
   "metadata": {},
   "outputs": [
    {
     "name": "stdout",
     "output_type": "stream",
     "text": [
      "<class 'pandas.core.frame.DataFrame'>\n",
      "Index: 138 entries, 0 to 120\n",
      "Data columns (total 3 columns):\n",
      " #   Column   Non-Null Count  Dtype  \n",
      "---  ------   --------------  -----  \n",
      " 0   Country  138 non-null    object \n",
      " 1   2016     138 non-null    float64\n",
      " 2   2018     138 non-null    float64\n",
      "dtypes: float64(2), object(1)\n",
      "memory usage: 4.3+ KB\n"
     ]
    }
   ],
   "source": [
    "slavery_reduced.info()"
   ]
  },
  {
   "cell_type": "code",
   "execution_count": 36,
   "id": "045482c8-4612-4cfc-826d-0c20eb0d1258",
   "metadata": {},
   "outputs": [
    {
     "name": "stdout",
     "output_type": "stream",
     "text": [
      "<class 'pandas.core.frame.DataFrame'>\n",
      "RangeIndex: 138 entries, 0 to 137\n",
      "Data columns (total 3 columns):\n",
      " #   Column   Non-Null Count  Dtype  \n",
      "---  ------   --------------  -----  \n",
      " 0   Country  138 non-null    object \n",
      " 1   2016     138 non-null    float64\n",
      " 2   2018     138 non-null    float64\n",
      "dtypes: float64(2), object(1)\n",
      "memory usage: 3.4+ KB\n"
     ]
    }
   ],
   "source": [
    "lfpr_total_pivot.info()"
   ]
  },
  {
   "cell_type": "code",
   "execution_count": 37,
   "id": "65c0d913-b421-4ed2-89aa-07577dfd72b6",
   "metadata": {},
   "outputs": [
    {
     "name": "stdout",
     "output_type": "stream",
     "text": [
      "<class 'pandas.core.frame.DataFrame'>\n",
      "RangeIndex: 138 entries, 0 to 137\n",
      "Data columns (total 3 columns):\n",
      " #   Column   Non-Null Count  Dtype  \n",
      "---  ------   --------------  -----  \n",
      " 0   Country  138 non-null    object \n",
      " 1   2016     138 non-null    float64\n",
      " 2   2018     138 non-null    float64\n",
      "dtypes: float64(2), object(1)\n",
      "memory usage: 3.4+ KB\n"
     ]
    }
   ],
   "source": [
    "lfpr_male_pivot.info()"
   ]
  },
  {
   "cell_type": "code",
   "execution_count": 38,
   "id": "ea9b206b-4a98-4e25-99d3-a919fce9dae7",
   "metadata": {},
   "outputs": [
    {
     "name": "stdout",
     "output_type": "stream",
     "text": [
      "<class 'pandas.core.frame.DataFrame'>\n",
      "RangeIndex: 138 entries, 0 to 137\n",
      "Data columns (total 3 columns):\n",
      " #   Column   Non-Null Count  Dtype  \n",
      "---  ------   --------------  -----  \n",
      " 0   Country  138 non-null    object \n",
      " 1   2016     138 non-null    float64\n",
      " 2   2018     138 non-null    float64\n",
      "dtypes: float64(2), object(1)\n",
      "memory usage: 3.4+ KB\n"
     ]
    }
   ],
   "source": [
    "lfpr_female_pivot.info()"
   ]
  },
  {
   "cell_type": "code",
   "execution_count": 39,
   "id": "84933211-18a1-4024-9b8a-483efc6ad051",
   "metadata": {},
   "outputs": [],
   "source": [
    "# Standardize Data\n",
    "from sklearn.preprocessing import StandardScaler, MinMaxScaler"
   ]
  },
  {
   "cell_type": "code",
   "execution_count": 40,
   "id": "8a0ac3d1-efb5-4bc9-92ba-75f8cd386fc4",
   "metadata": {},
   "outputs": [],
   "source": [
    "value_columns = [2016, 2018]\n",
    "scaler = StandardScaler()\n",
    "\n",
    "# Z-score normalization\n",
    "lfpr_total_pivot.loc[:, value_columns] = scaler.fit_transform(lfpr_total_pivot[value_columns])\n",
    "lfpr_male_pivot.loc[:, value_columns] = scaler.fit_transform(lfpr_male_pivot[value_columns])\n",
    "lfpr_female_pivot.loc[:, value_columns] = scaler.fit_transform(lfpr_female_pivot[value_columns])\n",
    "\n",
    "slavery_reduced.loc[:, value_columns] = scaler.fit_transform(slavery_reduced[value_columns])"
   ]
  },
  {
   "cell_type": "code",
   "execution_count": 41,
   "id": "cbc9c07c-bc9b-4223-9a38-c070157900c3",
   "metadata": {},
   "outputs": [
    {
     "data": {
      "text/html": [
       "<div>\n",
       "<style scoped>\n",
       "    .dataframe tbody tr th:only-of-type {\n",
       "        vertical-align: middle;\n",
       "    }\n",
       "\n",
       "    .dataframe tbody tr th {\n",
       "        vertical-align: top;\n",
       "    }\n",
       "\n",
       "    .dataframe thead th {\n",
       "        text-align: right;\n",
       "    }\n",
       "</style>\n",
       "<table border=\"1\" class=\"dataframe\">\n",
       "  <thead>\n",
       "    <tr style=\"text-align: right;\">\n",
       "      <th></th>\n",
       "      <th>Country</th>\n",
       "      <th>2016</th>\n",
       "      <th>2018</th>\n",
       "    </tr>\n",
       "  </thead>\n",
       "  <tbody>\n",
       "    <tr>\n",
       "      <th>0</th>\n",
       "      <td>Afghanistan</td>\n",
       "      <td>1.425598</td>\n",
       "      <td>1.786060</td>\n",
       "    </tr>\n",
       "    <tr>\n",
       "      <th>1</th>\n",
       "      <td>Albania</td>\n",
       "      <td>-0.479608</td>\n",
       "      <td>0.101637</td>\n",
       "    </tr>\n",
       "    <tr>\n",
       "      <th>2</th>\n",
       "      <td>Algeria</td>\n",
       "      <td>0.274121</td>\n",
       "      <td>-0.360754</td>\n",
       "    </tr>\n",
       "    <tr>\n",
       "      <th>3</th>\n",
       "      <td>Angola</td>\n",
       "      <td>0.302161</td>\n",
       "      <td>0.134665</td>\n",
       "    </tr>\n",
       "    <tr>\n",
       "      <th>121</th>\n",
       "      <td>Argentina</td>\n",
       "      <td>-0.232309</td>\n",
       "      <td>-0.514885</td>\n",
       "    </tr>\n",
       "  </tbody>\n",
       "</table>\n",
       "</div>"
      ],
      "text/plain": [
       "         Country      2016      2018\n",
       "0    Afghanistan  1.425598  1.786060\n",
       "1        Albania -0.479608  0.101637\n",
       "2        Algeria  0.274121 -0.360754\n",
       "3         Angola  0.302161  0.134665\n",
       "121    Argentina -0.232309 -0.514885"
      ]
     },
     "execution_count": 41,
     "metadata": {},
     "output_type": "execute_result"
    }
   ],
   "source": [
    "slavery_reduced.head()"
   ]
  },
  {
   "cell_type": "code",
   "execution_count": 42,
   "id": "4aabc2b9-e497-41ae-9fcb-3c9b351fccd1",
   "metadata": {},
   "outputs": [
    {
     "data": {
      "text/html": [
       "<div>\n",
       "<style scoped>\n",
       "    .dataframe tbody tr th:only-of-type {\n",
       "        vertical-align: middle;\n",
       "    }\n",
       "\n",
       "    .dataframe tbody tr th {\n",
       "        vertical-align: top;\n",
       "    }\n",
       "\n",
       "    .dataframe thead th {\n",
       "        text-align: right;\n",
       "    }\n",
       "</style>\n",
       "<table border=\"1\" class=\"dataframe\">\n",
       "  <thead>\n",
       "    <tr style=\"text-align: right;\">\n",
       "      <th></th>\n",
       "      <th>Country</th>\n",
       "      <th>2016</th>\n",
       "      <th>2018</th>\n",
       "    </tr>\n",
       "  </thead>\n",
       "  <tbody>\n",
       "    <tr>\n",
       "      <th>0</th>\n",
       "      <td>Afghanistan</td>\n",
       "      <td>-1.692985</td>\n",
       "      <td>-1.829335</td>\n",
       "    </tr>\n",
       "    <tr>\n",
       "      <th>1</th>\n",
       "      <td>Albania</td>\n",
       "      <td>0.005041</td>\n",
       "      <td>0.172467</td>\n",
       "    </tr>\n",
       "    <tr>\n",
       "      <th>2</th>\n",
       "      <td>Algeria</td>\n",
       "      <td>-2.010203</td>\n",
       "      <td>-1.972802</td>\n",
       "    </tr>\n",
       "    <tr>\n",
       "      <th>3</th>\n",
       "      <td>Angola</td>\n",
       "      <td>0.899857</td>\n",
       "      <td>0.811514</td>\n",
       "    </tr>\n",
       "    <tr>\n",
       "      <th>4</th>\n",
       "      <td>Argentina</td>\n",
       "      <td>-0.021815</td>\n",
       "      <td>0.024332</td>\n",
       "    </tr>\n",
       "  </tbody>\n",
       "</table>\n",
       "</div>"
      ],
      "text/plain": [
       "       Country      2016      2018\n",
       "0  Afghanistan -1.692985 -1.829335\n",
       "1      Albania  0.005041  0.172467\n",
       "2      Algeria -2.010203 -1.972802\n",
       "3       Angola  0.899857  0.811514\n",
       "4    Argentina -0.021815  0.024332"
      ]
     },
     "execution_count": 42,
     "metadata": {},
     "output_type": "execute_result"
    }
   ],
   "source": [
    "lfpr_total_pivot.head()"
   ]
  },
  {
   "cell_type": "code",
   "execution_count": 43,
   "id": "9dac22c0-4cb2-4520-b12d-377646674807",
   "metadata": {},
   "outputs": [
    {
     "data": {
      "text/html": [
       "<div>\n",
       "<style scoped>\n",
       "    .dataframe tbody tr th:only-of-type {\n",
       "        vertical-align: middle;\n",
       "    }\n",
       "\n",
       "    .dataframe tbody tr th {\n",
       "        vertical-align: top;\n",
       "    }\n",
       "\n",
       "    .dataframe thead th {\n",
       "        text-align: right;\n",
       "    }\n",
       "</style>\n",
       "<table border=\"1\" class=\"dataframe\">\n",
       "  <thead>\n",
       "    <tr style=\"text-align: right;\">\n",
       "      <th></th>\n",
       "      <th>2016</th>\n",
       "      <th>2018</th>\n",
       "    </tr>\n",
       "  </thead>\n",
       "  <tbody>\n",
       "    <tr>\n",
       "      <th>count</th>\n",
       "      <td>1.380000e+02</td>\n",
       "      <td>1.380000e+02</td>\n",
       "    </tr>\n",
       "    <tr>\n",
       "      <th>mean</th>\n",
       "      <td>-1.415937e-16</td>\n",
       "      <td>5.792468e-17</td>\n",
       "    </tr>\n",
       "    <tr>\n",
       "      <th>std</th>\n",
       "      <td>1.003643e+00</td>\n",
       "      <td>1.003643e+00</td>\n",
       "    </tr>\n",
       "    <tr>\n",
       "      <th>min</th>\n",
       "      <td>-1.116280e+00</td>\n",
       "      <td>-6.249776e-01</td>\n",
       "    </tr>\n",
       "    <tr>\n",
       "      <th>25%</th>\n",
       "      <td>-4.992309e-01</td>\n",
       "      <td>-4.240577e-01</td>\n",
       "    </tr>\n",
       "    <tr>\n",
       "      <th>50%</th>\n",
       "      <td>-1.537790e-01</td>\n",
       "      <td>-2.341472e-01</td>\n",
       "    </tr>\n",
       "    <tr>\n",
       "      <th>75%</th>\n",
       "      <td>3.023753e-01</td>\n",
       "      <td>9.888431e-02</td>\n",
       "    </tr>\n",
       "    <tr>\n",
       "      <th>max</th>\n",
       "      <td>7.918369e+00</td>\n",
       "      <td>9.580649e+00</td>\n",
       "    </tr>\n",
       "  </tbody>\n",
       "</table>\n",
       "</div>"
      ],
      "text/plain": [
       "               2016          2018\n",
       "count  1.380000e+02  1.380000e+02\n",
       "mean  -1.415937e-16  5.792468e-17\n",
       "std    1.003643e+00  1.003643e+00\n",
       "min   -1.116280e+00 -6.249776e-01\n",
       "25%   -4.992309e-01 -4.240577e-01\n",
       "50%   -1.537790e-01 -2.341472e-01\n",
       "75%    3.023753e-01  9.888431e-02\n",
       "max    7.918369e+00  9.580649e+00"
      ]
     },
     "execution_count": 43,
     "metadata": {},
     "output_type": "execute_result"
    }
   ],
   "source": [
    "slavery_reduced.describe()"
   ]
  },
  {
   "cell_type": "code",
   "execution_count": 44,
   "id": "1403c576-b20b-4694-be13-bb9beee8a28b",
   "metadata": {},
   "outputs": [
    {
     "data": {
      "text/html": [
       "<div>\n",
       "<style scoped>\n",
       "    .dataframe tbody tr th:only-of-type {\n",
       "        vertical-align: middle;\n",
       "    }\n",
       "\n",
       "    .dataframe tbody tr th {\n",
       "        vertical-align: top;\n",
       "    }\n",
       "\n",
       "    .dataframe thead th {\n",
       "        text-align: right;\n",
       "    }\n",
       "</style>\n",
       "<table border=\"1\" class=\"dataframe\">\n",
       "  <thead>\n",
       "    <tr style=\"text-align: right;\">\n",
       "      <th></th>\n",
       "      <th>2016</th>\n",
       "      <th>2018</th>\n",
       "    </tr>\n",
       "  </thead>\n",
       "  <tbody>\n",
       "    <tr>\n",
       "      <th>count</th>\n",
       "      <td>1.380000e+02</td>\n",
       "      <td>1.380000e+02</td>\n",
       "    </tr>\n",
       "    <tr>\n",
       "      <th>mean</th>\n",
       "      <td>-1.016900e-15</td>\n",
       "      <td>6.307354e-16</td>\n",
       "    </tr>\n",
       "    <tr>\n",
       "      <th>std</th>\n",
       "      <td>1.003643e+00</td>\n",
       "      <td>1.003643e+00</td>\n",
       "    </tr>\n",
       "    <tr>\n",
       "      <th>min</th>\n",
       "      <td>-3.049879e+00</td>\n",
       "      <td>-3.019356e+00</td>\n",
       "    </tr>\n",
       "    <tr>\n",
       "      <th>25%</th>\n",
       "      <td>-5.025409e-01</td>\n",
       "      <td>-5.712169e-01</td>\n",
       "    </tr>\n",
       "    <tr>\n",
       "      <th>50%</th>\n",
       "      <td>8.579451e-02</td>\n",
       "      <td>1.581477e-01</td>\n",
       "    </tr>\n",
       "    <tr>\n",
       "      <th>75%</th>\n",
       "      <td>7.554580e-01</td>\n",
       "      <td>7.120841e-01</td>\n",
       "    </tr>\n",
       "    <tr>\n",
       "      <th>max</th>\n",
       "      <td>2.055512e+00</td>\n",
       "      <td>1.895326e+00</td>\n",
       "    </tr>\n",
       "  </tbody>\n",
       "</table>\n",
       "</div>"
      ],
      "text/plain": [
       "               2016          2018\n",
       "count  1.380000e+02  1.380000e+02\n",
       "mean  -1.016900e-15  6.307354e-16\n",
       "std    1.003643e+00  1.003643e+00\n",
       "min   -3.049879e+00 -3.019356e+00\n",
       "25%   -5.025409e-01 -5.712169e-01\n",
       "50%    8.579451e-02  1.581477e-01\n",
       "75%    7.554580e-01  7.120841e-01\n",
       "max    2.055512e+00  1.895326e+00"
      ]
     },
     "execution_count": 44,
     "metadata": {},
     "output_type": "execute_result"
    }
   ],
   "source": [
    "lfpr_total_pivot.describe()"
   ]
  },
  {
   "cell_type": "markdown",
   "id": "73ca834d-a064-4b78-88de-5bb7a2a117fe",
   "metadata": {},
   "source": [
    "### Finding correlation between lfpr and slavery"
   ]
  },
  {
   "cell_type": "code",
   "execution_count": 45,
   "id": "6dc6bdf0-8c3f-42cd-85c5-267e489f87f9",
   "metadata": {},
   "outputs": [],
   "source": [
    "slavLfpr_total_2016_corr = slavery_reduced[2016].corr(lfpr_total_pivot[2016])\n",
    "slavLfpr_male_2016_corr = slavery_reduced[2016].corr(lfpr_male_pivot[2016])\n",
    "slavLfpr_female_2016_corr = slavery_reduced[2016].corr(lfpr_female_pivot[2016])"
   ]
  },
  {
   "cell_type": "code",
   "execution_count": 46,
   "id": "891780d4-b5e8-42d5-806a-5f8886acf31d",
   "metadata": {},
   "outputs": [
    {
     "name": "stdout",
     "output_type": "stream",
     "text": [
      "slavLfpr_total_2016_corr:  0.01981696460095905\n",
      "slavLfpr_male_2016_corr:  -0.022584362727162906\n",
      "slavLfpr_female_2016_corr:  0.046248767279351725\n"
     ]
    }
   ],
   "source": [
    "print(\"slavLfpr_total_2016_corr: \", slavLfpr_total_2016_corr)\n",
    "print(\"slavLfpr_male_2016_corr: \", slavLfpr_male_2016_corr)\n",
    "print(\"slavLfpr_female_2016_corr: \", slavLfpr_female_2016_corr)"
   ]
  },
  {
   "cell_type": "code",
   "execution_count": 47,
   "id": "9f524726-d650-4a86-9b8c-09f2358657ae",
   "metadata": {},
   "outputs": [],
   "source": [
    "slavLfpr_total_2018_corr = slavery_reduced[2018].corr(lfpr_total_pivot[2018])\n",
    "slavLfpr_male_2018_corr = slavery_reduced[2018].corr(lfpr_male_pivot[2018])\n",
    "slavLfpr_female_2018_corr = slavery_reduced[2018].corr(lfpr_female_pivot[2018])"
   ]
  },
  {
   "cell_type": "code",
   "execution_count": 48,
   "id": "22a5e883-891e-46a3-8e71-0966b2ece408",
   "metadata": {},
   "outputs": [
    {
     "name": "stdout",
     "output_type": "stream",
     "text": [
      "slavLfpr_total_2016_corr:  0.037305512020338306\n",
      "slavLfpr_male_2016_corr:  0.005393190619142592\n",
      "slavLfpr_female_2016_corr:  0.05980669007914195\n"
     ]
    }
   ],
   "source": [
    "print(\"slavLfpr_total_2016_corr: \", slavLfpr_total_2018_corr)\n",
    "print(\"slavLfpr_male_2016_corr: \", slavLfpr_male_2018_corr)\n",
    "print(\"slavLfpr_female_2016_corr: \", slavLfpr_female_2018_corr)"
   ]
  },
  {
   "cell_type": "markdown",
   "id": "b41e1c85-da7f-4ba1-94f8-8633e4348765",
   "metadata": {},
   "source": [
    "### gdppercapita and slavery preprocess"
   ]
  },
  {
   "cell_type": "code",
   "execution_count": 49,
   "id": "efe4341e-74e2-47fb-bcee-6bf0dbf42db2",
   "metadata": {},
   "outputs": [],
   "source": [
    "gdppercapita = pd.read_csv(\"Datasets/gdppercapita.csv\")"
   ]
  },
  {
   "cell_type": "code",
   "execution_count": 50,
   "id": "8e8a22ed-8fff-41c5-900b-010732f6dd9e",
   "metadata": {},
   "outputs": [
    {
     "data": {
      "text/html": [
       "<div>\n",
       "<style scoped>\n",
       "    .dataframe tbody tr th:only-of-type {\n",
       "        vertical-align: middle;\n",
       "    }\n",
       "\n",
       "    .dataframe tbody tr th {\n",
       "        vertical-align: top;\n",
       "    }\n",
       "\n",
       "    .dataframe thead th {\n",
       "        text-align: right;\n",
       "    }\n",
       "</style>\n",
       "<table border=\"1\" class=\"dataframe\">\n",
       "  <thead>\n",
       "    <tr style=\"text-align: right;\">\n",
       "      <th></th>\n",
       "      <th>Country</th>\n",
       "      <th>Year</th>\n",
       "      <th>GDP per capita</th>\n",
       "    </tr>\n",
       "  </thead>\n",
       "  <tbody>\n",
       "    <tr>\n",
       "      <th>0</th>\n",
       "      <td>Afghanistan</td>\n",
       "      <td>2002.0</td>\n",
       "      <td>1280.4631</td>\n",
       "    </tr>\n",
       "    <tr>\n",
       "      <th>1</th>\n",
       "      <td>Afghanistan</td>\n",
       "      <td>2003.0</td>\n",
       "      <td>1292.3335</td>\n",
       "    </tr>\n",
       "    <tr>\n",
       "      <th>2</th>\n",
       "      <td>Afghanistan</td>\n",
       "      <td>2004.0</td>\n",
       "      <td>1260.0605</td>\n",
       "    </tr>\n",
       "    <tr>\n",
       "      <th>3</th>\n",
       "      <td>Afghanistan</td>\n",
       "      <td>2005.0</td>\n",
       "      <td>1352.3207</td>\n",
       "    </tr>\n",
       "    <tr>\n",
       "      <th>4</th>\n",
       "      <td>Afghanistan</td>\n",
       "      <td>2006.0</td>\n",
       "      <td>1366.9932</td>\n",
       "    </tr>\n",
       "  </tbody>\n",
       "</table>\n",
       "</div>"
      ],
      "text/plain": [
       "       Country    Year  GDP per capita\n",
       "0  Afghanistan  2002.0       1280.4631\n",
       "1  Afghanistan  2003.0       1292.3335\n",
       "2  Afghanistan  2004.0       1260.0605\n",
       "3  Afghanistan  2005.0       1352.3207\n",
       "4  Afghanistan  2006.0       1366.9932"
      ]
     },
     "execution_count": 50,
     "metadata": {},
     "output_type": "execute_result"
    }
   ],
   "source": [
    "gdppercapita.head()"
   ]
  },
  {
   "cell_type": "code",
   "execution_count": 51,
   "id": "8ebfb652-76eb-4253-bee4-c1dcf9b6e3c5",
   "metadata": {},
   "outputs": [],
   "source": [
    "gdppercapita = gdppercapita[gdppercapita['Year'].isin([2016, 2018])]"
   ]
  },
  {
   "cell_type": "code",
   "execution_count": 52,
   "id": "c1afa6a5-7ae2-40a3-b593-fef20caa46f7",
   "metadata": {},
   "outputs": [],
   "source": [
    "common_gdppercapita_slavery = set(slavery['Country']).intersection(gdppercapita['Country'])"
   ]
  },
  {
   "cell_type": "code",
   "execution_count": 53,
   "id": "fc28a6b3-c737-40d6-90b0-fcdbaf7be79f",
   "metadata": {},
   "outputs": [
    {
     "name": "stdout",
     "output_type": "stream",
     "text": [
      "Countries in set1 but not in set2: {'South Sudan', 'Timor-Leste', 'Eritrea', 'Cuba'}\n",
      "Countries in set2 but not in set1: {'Kyrgyzstan', 'Gambia', 'Slovakia', 'Egypt', 'Kosovo', 'Cape Verde'}\n"
     ]
    }
   ],
   "source": [
    "diff_set1 = common_lfpr_slavery - common_gdppercapita_slavery\n",
    "diff_set2 = common_gdppercapita_slavery - common_lfpr_slavery\n",
    "print(\"Countries in set1 but not in set2:\", diff_set1)\n",
    "print(\"Countries in set2 but not in set1:\", diff_set2)"
   ]
  },
  {
   "cell_type": "code",
   "execution_count": 54,
   "id": "1273a960-d863-4ec1-a840-f39b2debbe8d",
   "metadata": {},
   "outputs": [],
   "source": [
    "# Filter the DataFrames to keep only rows with common entries\n",
    "slavery_filtered = slavery[slavery['Country'].isin(common_gdppercapita_slavery)]\n",
    "\n",
    "gdppercapita_filtered = gdppercapita[gdppercapita['Country'].isin(common_gdppercapita_slavery)]"
   ]
  },
  {
   "cell_type": "code",
   "execution_count": 55,
   "id": "05a520e6-8903-496e-85cd-16cbb3cbdcfe",
   "metadata": {},
   "outputs": [],
   "source": [
    "# Pivot the DataFrame\n",
    "gdppercapita_pivot = gdppercapita_filtered.pivot(index='Country', columns='Year', values='GDP per capita').reset_index()"
   ]
  },
  {
   "cell_type": "code",
   "execution_count": 56,
   "id": "47159b61-6d8a-4f6d-be7f-d8e1d8c569b5",
   "metadata": {},
   "outputs": [],
   "source": [
    "slavery_reduced = slavery_filtered[[\"Country\", \"2016\", \"2018\"]]\n",
    "\n",
    "slavery_reduced.columns = [\"Country\", 2016, 2018]\n",
    "gdppercapita_pivot.columns = [\"Country\", 2016, 2018]\n",
    "\n",
    "slavery_reduced = slavery_reduced.sort_values(by='Country')\n",
    "gdppercapita_pivot = gdppercapita_pivot.sort_values(by='Country')"
   ]
  },
  {
   "cell_type": "code",
   "execution_count": 57,
   "id": "4ad90cfa-a1f9-455b-a169-67ea5b2d3ab8",
   "metadata": {},
   "outputs": [
    {
     "data": {
      "text/html": [
       "<div>\n",
       "<style scoped>\n",
       "    .dataframe tbody tr th:only-of-type {\n",
       "        vertical-align: middle;\n",
       "    }\n",
       "\n",
       "    .dataframe tbody tr th {\n",
       "        vertical-align: top;\n",
       "    }\n",
       "\n",
       "    .dataframe thead th {\n",
       "        text-align: right;\n",
       "    }\n",
       "</style>\n",
       "<table border=\"1\" class=\"dataframe\">\n",
       "  <thead>\n",
       "    <tr style=\"text-align: right;\">\n",
       "      <th></th>\n",
       "      <th>2016</th>\n",
       "      <th>2018</th>\n",
       "    </tr>\n",
       "  </thead>\n",
       "  <tbody>\n",
       "    <tr>\n",
       "      <th>count</th>\n",
       "      <td>140.000000</td>\n",
       "      <td>140.000000</td>\n",
       "    </tr>\n",
       "    <tr>\n",
       "      <th>mean</th>\n",
       "      <td>20634.994686</td>\n",
       "      <td>21413.408378</td>\n",
       "    </tr>\n",
       "    <tr>\n",
       "      <th>std</th>\n",
       "      <td>21319.948995</td>\n",
       "      <td>21759.560787</td>\n",
       "    </tr>\n",
       "    <tr>\n",
       "      <th>min</th>\n",
       "      <td>764.336600</td>\n",
       "      <td>740.448240</td>\n",
       "    </tr>\n",
       "    <tr>\n",
       "      <th>25%</th>\n",
       "      <td>4643.781700</td>\n",
       "      <td>5049.146600</td>\n",
       "    </tr>\n",
       "    <tr>\n",
       "      <th>50%</th>\n",
       "      <td>13043.354500</td>\n",
       "      <td>14102.327750</td>\n",
       "    </tr>\n",
       "    <tr>\n",
       "      <th>75%</th>\n",
       "      <td>28704.707000</td>\n",
       "      <td>31420.179500</td>\n",
       "    </tr>\n",
       "    <tr>\n",
       "      <th>max</th>\n",
       "      <td>116283.700000</td>\n",
       "      <td>114164.470000</td>\n",
       "    </tr>\n",
       "  </tbody>\n",
       "</table>\n",
       "</div>"
      ],
      "text/plain": [
       "                2016           2018\n",
       "count     140.000000     140.000000\n",
       "mean    20634.994686   21413.408378\n",
       "std     21319.948995   21759.560787\n",
       "min       764.336600     740.448240\n",
       "25%      4643.781700    5049.146600\n",
       "50%     13043.354500   14102.327750\n",
       "75%     28704.707000   31420.179500\n",
       "max    116283.700000  114164.470000"
      ]
     },
     "execution_count": 57,
     "metadata": {},
     "output_type": "execute_result"
    }
   ],
   "source": [
    "gdppercapita_pivot.describe()"
   ]
  },
  {
   "cell_type": "code",
   "execution_count": 58,
   "id": "a610eef7-eb22-4f23-b90f-e1e45402aac5",
   "metadata": {},
   "outputs": [
    {
     "data": {
      "text/html": [
       "<div>\n",
       "<style scoped>\n",
       "    .dataframe tbody tr th:only-of-type {\n",
       "        vertical-align: middle;\n",
       "    }\n",
       "\n",
       "    .dataframe tbody tr th {\n",
       "        vertical-align: top;\n",
       "    }\n",
       "\n",
       "    .dataframe thead th {\n",
       "        text-align: right;\n",
       "    }\n",
       "</style>\n",
       "<table border=\"1\" class=\"dataframe\">\n",
       "  <thead>\n",
       "    <tr style=\"text-align: right;\">\n",
       "      <th></th>\n",
       "      <th>2016</th>\n",
       "      <th>2018</th>\n",
       "    </tr>\n",
       "  </thead>\n",
       "  <tbody>\n",
       "    <tr>\n",
       "      <th>count</th>\n",
       "      <td>140.000000</td>\n",
       "      <td>140.000000</td>\n",
       "    </tr>\n",
       "    <tr>\n",
       "      <th>mean</th>\n",
       "      <td>5.025200</td>\n",
       "      <td>5.187143</td>\n",
       "    </tr>\n",
       "    <tr>\n",
       "      <th>std</th>\n",
       "      <td>4.344604</td>\n",
       "      <td>5.037555</td>\n",
       "    </tr>\n",
       "    <tr>\n",
       "      <th>min</th>\n",
       "      <td>0.171711</td>\n",
       "      <td>0.300000</td>\n",
       "    </tr>\n",
       "    <tr>\n",
       "      <th>25%</th>\n",
       "      <td>2.904559</td>\n",
       "      <td>2.175000</td>\n",
       "    </tr>\n",
       "    <tr>\n",
       "      <th>50%</th>\n",
       "      <td>4.542213</td>\n",
       "      <td>3.900000</td>\n",
       "    </tr>\n",
       "    <tr>\n",
       "      <th>75%</th>\n",
       "      <td>6.382604</td>\n",
       "      <td>6.475000</td>\n",
       "    </tr>\n",
       "    <tr>\n",
       "      <th>max</th>\n",
       "      <td>39.730120</td>\n",
       "      <td>40.000000</td>\n",
       "    </tr>\n",
       "  </tbody>\n",
       "</table>\n",
       "</div>"
      ],
      "text/plain": [
       "             2016        2018\n",
       "count  140.000000  140.000000\n",
       "mean     5.025200    5.187143\n",
       "std      4.344604    5.037555\n",
       "min      0.171711    0.300000\n",
       "25%      2.904559    2.175000\n",
       "50%      4.542213    3.900000\n",
       "75%      6.382604    6.475000\n",
       "max     39.730120   40.000000"
      ]
     },
     "execution_count": 58,
     "metadata": {},
     "output_type": "execute_result"
    }
   ],
   "source": [
    "slavery_reduced.describe()"
   ]
  },
  {
   "cell_type": "code",
   "execution_count": 59,
   "id": "d2484e48-099b-40be-a61f-db151dc488ca",
   "metadata": {},
   "outputs": [],
   "source": [
    "value_columns = [2016, 2018]\n",
    "scaler = StandardScaler()\n",
    "\n",
    "# Z-score normalization\n",
    "gdppercapita_pivot.loc[:, value_columns] = scaler.fit_transform(gdppercapita_pivot[value_columns])\n",
    "slavery_reduced.loc[:, value_columns] = scaler.fit_transform(slavery_reduced[value_columns])"
   ]
  },
  {
   "cell_type": "markdown",
   "id": "59018e22-f6a6-4e50-90dd-2cdca13fa14f",
   "metadata": {},
   "source": [
    "### Finding correlation between gdppercapita and slavery"
   ]
  },
  {
   "cell_type": "code",
   "execution_count": 60,
   "id": "dfcdd1d1-ec58-413a-8384-0cf48e58c43c",
   "metadata": {},
   "outputs": [
    {
     "name": "stdout",
     "output_type": "stream",
     "text": [
      "slavGdp_2016_corr:  0.02820868460160493\n",
      "slavGdp_2018_corr:  -0.09580752609885806\n"
     ]
    }
   ],
   "source": [
    "slavGdp_2016_corr = slavery_reduced[2016].corr(gdppercapita_pivot[2016])\n",
    "slavGdp_2018_corr = slavery_reduced[2018].corr(gdppercapita_pivot[2018])\n",
    "\n",
    "print(\"slavGdp_2016_corr: \", slavGdp_2016_corr)\n",
    "print(\"slavGdp_2018_corr: \", slavGdp_2018_corr)"
   ]
  },
  {
   "cell_type": "markdown",
   "id": "aafbd391-64e8-4dd8-9f54-844bd9b99feb",
   "metadata": {},
   "source": [
    "### migration and slavery preprocess"
   ]
  },
  {
   "cell_type": "code",
   "execution_count": 61,
   "id": "326ac1fb-1e31-4e4d-a3c0-e29f2aa4bc88",
   "metadata": {},
   "outputs": [],
   "source": [
    "migration = pd.read_csv(\"Datasets/migration.csv\")"
   ]
  },
  {
   "cell_type": "code",
   "execution_count": 62,
   "id": "f76a43f1-54de-4a51-85bf-1f41716f21a9",
   "metadata": {},
   "outputs": [
    {
     "data": {
      "text/html": [
       "<div>\n",
       "<style scoped>\n",
       "    .dataframe tbody tr th:only-of-type {\n",
       "        vertical-align: middle;\n",
       "    }\n",
       "\n",
       "    .dataframe tbody tr th {\n",
       "        vertical-align: top;\n",
       "    }\n",
       "\n",
       "    .dataframe thead th {\n",
       "        text-align: right;\n",
       "    }\n",
       "</style>\n",
       "<table border=\"1\" class=\"dataframe\">\n",
       "  <thead>\n",
       "    <tr style=\"text-align: right;\">\n",
       "      <th></th>\n",
       "      <th>Country</th>\n",
       "      <th>Year</th>\n",
       "      <th>Migration</th>\n",
       "    </tr>\n",
       "  </thead>\n",
       "  <tbody>\n",
       "    <tr>\n",
       "      <th>0</th>\n",
       "      <td>Afghanistan</td>\n",
       "      <td>1960</td>\n",
       "      <td>2606</td>\n",
       "    </tr>\n",
       "    <tr>\n",
       "      <th>1</th>\n",
       "      <td>Afghanistan</td>\n",
       "      <td>1961</td>\n",
       "      <td>6109</td>\n",
       "    </tr>\n",
       "    <tr>\n",
       "      <th>2</th>\n",
       "      <td>Afghanistan</td>\n",
       "      <td>1962</td>\n",
       "      <td>7016</td>\n",
       "    </tr>\n",
       "    <tr>\n",
       "      <th>3</th>\n",
       "      <td>Afghanistan</td>\n",
       "      <td>1963</td>\n",
       "      <td>6681</td>\n",
       "    </tr>\n",
       "    <tr>\n",
       "      <th>4</th>\n",
       "      <td>Afghanistan</td>\n",
       "      <td>1964</td>\n",
       "      <td>7079</td>\n",
       "    </tr>\n",
       "  </tbody>\n",
       "</table>\n",
       "</div>"
      ],
      "text/plain": [
       "       Country  Year  Migration\n",
       "0  Afghanistan  1960       2606\n",
       "1  Afghanistan  1961       6109\n",
       "2  Afghanistan  1962       7016\n",
       "3  Afghanistan  1963       6681\n",
       "4  Afghanistan  1964       7079"
      ]
     },
     "execution_count": 62,
     "metadata": {},
     "output_type": "execute_result"
    }
   ],
   "source": [
    "migration.head()"
   ]
  },
  {
   "cell_type": "code",
   "execution_count": 63,
   "id": "e52ed5bb-db6d-4da0-8777-5b43888bac60",
   "metadata": {},
   "outputs": [],
   "source": [
    "migration = migration[migration['Year'].isin([2016, 2018, 2023])]"
   ]
  },
  {
   "cell_type": "code",
   "execution_count": 64,
   "id": "05d644d9-fc10-4fd8-9490-1ba17caaee66",
   "metadata": {},
   "outputs": [],
   "source": [
    "common_migration_slavery = set(slavery['Country']).intersection(migration['Country'])"
   ]
  },
  {
   "cell_type": "code",
   "execution_count": 65,
   "id": "dbba1b50-ed98-4bb6-8621-df50a32e0317",
   "metadata": {},
   "outputs": [
    {
     "name": "stdout",
     "output_type": "stream",
     "text": [
      "Countries in set1 but not in set2: set()\n",
      "Countries in set2 but not in set1: {'Kosovo'}\n"
     ]
    }
   ],
   "source": [
    "diff_set1 = common_lfpr_slavery - common_migration_slavery\n",
    "diff_set2 = common_migration_slavery - common_lfpr_slavery\n",
    "print(\"Countries in set1 but not in set2:\", diff_set1)\n",
    "print(\"Countries in set2 but not in set1:\", diff_set2)"
   ]
  },
  {
   "cell_type": "code",
   "execution_count": 66,
   "id": "fbb0bf89-c048-4441-8fff-44044fea014d",
   "metadata": {},
   "outputs": [],
   "source": [
    "# Filter the DataFrames to keep only rows with common entries\n",
    "slavery_filtered = slavery[slavery['Country'].isin(common_migration_slavery)]\n",
    "\n",
    "migration_filtered = migration[migration['Country'].isin(common_migration_slavery)]"
   ]
  },
  {
   "cell_type": "code",
   "execution_count": 67,
   "id": "39977cc8-e945-4a54-af5f-71f37b6bf8c0",
   "metadata": {},
   "outputs": [],
   "source": [
    "# Pivot the DataFrame\n",
    "migration_pivot = migration_filtered.pivot(index='Country', columns='Year', values='Migration').reset_index()"
   ]
  },
  {
   "cell_type": "code",
   "execution_count": 68,
   "id": "2038f92a-8a31-48fe-8c94-a34d27f83f6d",
   "metadata": {},
   "outputs": [],
   "source": [
    "slavery_reduced = slavery_filtered[[\"Country\", \"2016\", \"2018\", \"2023\"]]\n",
    "\n",
    "slavery_reduced.columns = [\"Country\", 2016, 2018, 2023]\n",
    "migration_pivot.columns = [\"Country\", 2016, 2018, 2023]\n",
    "\n",
    "slavery_reduced = slavery_reduced.sort_values(by='Country')\n",
    "migration_pivot = migration_pivot.sort_values(by='Country')"
   ]
  },
  {
   "cell_type": "code",
   "execution_count": 69,
   "id": "6f052b7f-ac7c-4c16-9c9f-e581ede994f3",
   "metadata": {},
   "outputs": [
    {
     "data": {
      "text/html": [
       "<div>\n",
       "<style scoped>\n",
       "    .dataframe tbody tr th:only-of-type {\n",
       "        vertical-align: middle;\n",
       "    }\n",
       "\n",
       "    .dataframe tbody tr th {\n",
       "        vertical-align: top;\n",
       "    }\n",
       "\n",
       "    .dataframe thead th {\n",
       "        text-align: right;\n",
       "    }\n",
       "</style>\n",
       "<table border=\"1\" class=\"dataframe\">\n",
       "  <thead>\n",
       "    <tr style=\"text-align: right;\">\n",
       "      <th></th>\n",
       "      <th>2016</th>\n",
       "      <th>2018</th>\n",
       "      <th>2023</th>\n",
       "    </tr>\n",
       "  </thead>\n",
       "  <tbody>\n",
       "    <tr>\n",
       "      <th>count</th>\n",
       "      <td>1.390000e+02</td>\n",
       "      <td>1.390000e+02</td>\n",
       "      <td>1.390000e+02</td>\n",
       "    </tr>\n",
       "    <tr>\n",
       "      <th>mean</th>\n",
       "      <td>-1.407324e+04</td>\n",
       "      <td>-9.391439e+02</td>\n",
       "      <td>-8.797396e+03</td>\n",
       "    </tr>\n",
       "    <tr>\n",
       "      <th>std</th>\n",
       "      <td>2.293148e+05</td>\n",
       "      <td>1.624201e+05</td>\n",
       "      <td>1.878706e+05</td>\n",
       "    </tr>\n",
       "    <tr>\n",
       "      <th>min</th>\n",
       "      <td>-2.290411e+06</td>\n",
       "      <td>-1.309609e+06</td>\n",
       "      <td>-9.104750e+05</td>\n",
       "    </tr>\n",
       "    <tr>\n",
       "      <th>25%</th>\n",
       "      <td>-2.576200e+04</td>\n",
       "      <td>-2.233050e+04</td>\n",
       "      <td>-1.500650e+04</td>\n",
       "    </tr>\n",
       "    <tr>\n",
       "      <th>50%</th>\n",
       "      <td>-9.820000e+02</td>\n",
       "      <td>-2.024000e+03</td>\n",
       "      <td>-4.000000e+03</td>\n",
       "    </tr>\n",
       "    <tr>\n",
       "      <th>75%</th>\n",
       "      <td>2.776850e+04</td>\n",
       "      <td>2.401250e+04</td>\n",
       "      <td>3.359000e+03</td>\n",
       "    </tr>\n",
       "    <tr>\n",
       "      <th>max</th>\n",
       "      <td>4.320170e+05</td>\n",
       "      <td>4.943640e+05</td>\n",
       "      <td>1.784718e+06</td>\n",
       "    </tr>\n",
       "  </tbody>\n",
       "</table>\n",
       "</div>"
      ],
      "text/plain": [
       "               2016          2018          2023\n",
       "count  1.390000e+02  1.390000e+02  1.390000e+02\n",
       "mean  -1.407324e+04 -9.391439e+02 -8.797396e+03\n",
       "std    2.293148e+05  1.624201e+05  1.878706e+05\n",
       "min   -2.290411e+06 -1.309609e+06 -9.104750e+05\n",
       "25%   -2.576200e+04 -2.233050e+04 -1.500650e+04\n",
       "50%   -9.820000e+02 -2.024000e+03 -4.000000e+03\n",
       "75%    2.776850e+04  2.401250e+04  3.359000e+03\n",
       "max    4.320170e+05  4.943640e+05  1.784718e+06"
      ]
     },
     "execution_count": 69,
     "metadata": {},
     "output_type": "execute_result"
    }
   ],
   "source": [
    "migration_pivot.describe()"
   ]
  },
  {
   "cell_type": "code",
   "execution_count": 70,
   "id": "8f1d0e56-9f9d-4bad-9c06-70b80a7ff935",
   "metadata": {},
   "outputs": [],
   "source": [
    "value_columns = [2016, 2018, 2023]\n",
    "scaler = StandardScaler()\n",
    "\n",
    "# Z-score normalization\n",
    "migration_pivot.loc[:, value_columns] = scaler.fit_transform(migration_pivot[value_columns])\n",
    "slavery_reduced.loc[:, value_columns] = scaler.fit_transform(slavery_reduced[value_columns])"
   ]
  },
  {
   "cell_type": "markdown",
   "id": "f0073958-a36f-45c4-ad04-108228161cdd",
   "metadata": {},
   "source": [
    "### Finding correlation between migration and slavery"
   ]
  },
  {
   "cell_type": "code",
   "execution_count": 71,
   "id": "5ebb7ff7-7725-4215-95fc-92d60110763f",
   "metadata": {},
   "outputs": [
    {
     "name": "stdout",
     "output_type": "stream",
     "text": [
      "slavMigration_2016_corr:  -0.1345895732639958\n",
      "slavMigration_2018_corr:  -0.008146733551690358\n",
      "slavMigration_2023_corr:  0.0040715348807804945\n"
     ]
    }
   ],
   "source": [
    "slavMigration_2016_corr = slavery_reduced[2016].corr(migration_pivot[2016])\n",
    "slavMigration_2018_corr = slavery_reduced[2018].corr(migration_pivot[2018])\n",
    "slavMigration_2023_corr = slavery_reduced[2023].corr(migration_pivot[2023])\n",
    "\n",
    "print(\"slavMigration_2016_corr: \", slavMigration_2016_corr)\n",
    "print(\"slavMigration_2018_corr: \", slavMigration_2018_corr)\n",
    "print(\"slavMigration_2023_corr: \", slavMigration_2023_corr)"
   ]
  },
  {
   "cell_type": "code",
   "execution_count": null,
   "id": "52a049f9-1d6f-445d-a735-8c6852eae139",
   "metadata": {},
   "outputs": [],
   "source": []
  }
 ],
 "metadata": {
  "kernelspec": {
   "display_name": "Python 3 (ipykernel)",
   "language": "python",
   "name": "python3"
  },
  "language_info": {
   "codemirror_mode": {
    "name": "ipython",
    "version": 3
   },
   "file_extension": ".py",
   "mimetype": "text/x-python",
   "name": "python",
   "nbconvert_exporter": "python",
   "pygments_lexer": "ipython3",
   "version": "3.10.13"
  }
 },
 "nbformat": 4,
 "nbformat_minor": 5
}
